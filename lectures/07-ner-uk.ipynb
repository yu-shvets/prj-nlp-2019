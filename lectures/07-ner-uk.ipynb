{
 "cells": [
  {
   "cell_type": "markdown",
   "metadata": {},
   "source": [
    "# NER for Ukrainian\n",
    "\n",
    "The task is to implement the recognition of four entity types: person (\"ПЕРС\"), location (\"ЛОК\"), organization (\"ОРГ\"), and other (\"РІЗН\"). The non-entity words will be labeled with \"--\"."
   ]
  },
  {
   "cell_type": "markdown",
   "metadata": {},
   "source": [
    "## 1. Process the data"
   ]
  },
  {
   "cell_type": "code",
   "execution_count": 1,
   "metadata": {},
   "outputs": [],
   "source": [
    "PATH = \"ner-uk/\""
   ]
  },
  {
   "cell_type": "code",
   "execution_count": 2,
   "metadata": {},
   "outputs": [],
   "source": [
    "def position(idx, range_len):\n",
    "    if idx == 0:\n",
    "        return \"start\"\n",
    "    elif idx == range_len - 1:\n",
    "        return \"end\"\n",
    "    else:\n",
    "        return \"middle\"\n",
    "\n",
    "def read_tokens(filename):\n",
    "    \"\"\"Read tokens and positions of tokens from a *.tok.txt file\"\"\"\n",
    "    tokens = []\n",
    "    pos = 0\n",
    "    with open(filename, \"r\") as f:\n",
    "        text = f.read().split(\"\\n\")\n",
    "        for line in text:\n",
    "            if len(line) == 0:\n",
    "                pos += 1\n",
    "            else:\n",
    "                line = line.split(\" \")\n",
    "                for i in range(len(line)):\n",
    "                    token = line[i]\n",
    "                    tokens.append((token, pos, pos + len(token), position(i, len(line))))\n",
    "                    pos += len(token) + 1\n",
    "    return tokens"
   ]
  },
  {
   "cell_type": "code",
   "execution_count": 3,
   "metadata": {},
   "outputs": [],
   "source": [
    "def read_annotations(filename):\n",
    "    \"\"\"Read annotations and positions of annotations from a *.tok.ann file\"\"\"\n",
    "    anno = []\n",
    "    with open(filename, \"r\") as f:\n",
    "        for line in f.readlines():\n",
    "            annotations = line.split()\n",
    "            anno.append((annotations[1], int(annotations[2]), int(annotations[3])))\n",
    "    return anno"
   ]
  },
  {
   "cell_type": "code",
   "execution_count": 4,
   "metadata": {},
   "outputs": [
    {
     "name": "stdout",
     "output_type": "stream",
     "text": [
      "('Історія', 0, 7, 'start')\n",
      "('змін', 8, 12, 'middle')\n",
      "('.', 13, 14, 'end')\n",
      "('Спільними', 16, 25, 'start')\n",
      "('зусиллями', 26, 35, 'middle')\n",
      "('влада', 36, 41, 'middle')\n",
      "('та', 42, 44, 'middle')\n",
      "('громадськість', 45, 58, 'middle')\n",
      "('врятували', 59, 68, 'middle')\n",
      "('й', 69, 70, 'middle')\n",
      "('повертають', 71, 81, 'middle')\n",
      "('до', 82, 84, 'middle')\n",
      "('життя', 85, 90, 'middle')\n",
      "('Київський', 91, 100, 'middle')\n",
      "('велотрек', 101, 109, 'end')\n",
      "('Київський', 110, 119, 'start')\n",
      "('велотрек', 120, 128, 'middle')\n",
      "('«', 129, 130, 'middle')\n",
      "('Авангард', 131, 139, 'middle')\n",
      "('»', 140, 141, 'middle')\n",
      "('по', 142, 144, 'middle')\n",
      "('вул', 145, 148, 'middle')\n",
      "('.', 149, 150, 'middle')\n",
      "('Богдана', 151, 158, 'middle')\n",
      "('Хмельницького', 159, 172, 'middle')\n",
      "(',', 173, 174, 'middle')\n",
      "('58-А', 175, 179, 'middle')\n",
      "(',', 180, 181, 'middle')\n",
      "('що', 182, 184, 'middle')\n",
      "('збудований', 185, 195, 'middle')\n",
      "\n",
      "('ОРГ', 91, 109)\n",
      "('ОРГ', 110, 141)\n",
      "('ЛОК', 145, 179)\n",
      "('ОРГ', 513, 548)\n",
      "('ПЕРС', 549, 560)\n"
     ]
    }
   ],
   "source": [
    "tokens = read_tokens(PATH + \"data/A_alumni.krok.edu.ua_Prokopenko_Vidrodzhennia_velotreku(5).tok.txt\")\n",
    "anno = read_annotations(PATH + \"data/A_alumni.krok.edu.ua_Prokopenko_Vidrodzhennia_velotreku(5).tok.ann\")\n",
    "\n",
    "for token in tokens[:30]:\n",
    "    print(token)\n",
    "\n",
    "print(\"\")\n",
    "for ann in anno[:5]:\n",
    "    print(ann)"
   ]
  },
  {
   "cell_type": "code",
   "execution_count": 5,
   "metadata": {},
   "outputs": [],
   "source": [
    "def extract_labels(anno, tokens):\n",
    "    \"\"\"Extract labels for tokens\"\"\"\n",
    "    labels = []\n",
    "    ann_id = 0\n",
    "    for token in tokens:\n",
    "        if ann_id < len(anno):\n",
    "            label, beg, end = anno[ann_id]\n",
    "            if token[1] < beg:\n",
    "                labels.append(\"--\")\n",
    "            else:\n",
    "                if token[1] == beg:\n",
    "                    labels.append(\"B-\" + label)\n",
    "                else:\n",
    "                    labels.append(\"I-\" + label)\n",
    "                if token[2] == end:\n",
    "                    ann_id += 1\n",
    "        else:\n",
    "            labels.append(\"--\")    \n",
    "    return labels\n",
    "\n",
    "labels = extract_labels(anno, tokens)"
   ]
  },
  {
   "cell_type": "code",
   "execution_count": 6,
   "metadata": {},
   "outputs": [
    {
     "name": "stdout",
     "output_type": "stream",
     "text": [
      "Історія --\n",
      "змін --\n",
      ". --\n",
      "Спільними --\n",
      "зусиллями --\n",
      "влада --\n",
      "та --\n",
      "громадськість --\n",
      "врятували --\n",
      "й --\n",
      "повертають --\n",
      "до --\n",
      "життя --\n",
      "Київський B-ОРГ\n",
      "велотрек I-ОРГ\n",
      "Київський B-ОРГ\n",
      "велотрек I-ОРГ\n",
      "« I-ОРГ\n",
      "Авангард I-ОРГ\n",
      "» I-ОРГ\n",
      "по --\n",
      "вул B-ЛОК\n",
      ". I-ЛОК\n",
      "Богдана I-ЛОК\n",
      "Хмельницького I-ЛОК\n",
      ", I-ЛОК\n",
      "58-А I-ЛОК\n",
      ", --\n",
      "що --\n",
      "збудований --\n",
      "у --\n",
      "1913 --\n",
      "році --\n",
      "за --\n",
      "ініціативи --\n",
      "та --\n",
      "кошти --\n",
      "киян --\n",
      ", --\n",
      "відновлюється --\n",
      "так --\n",
      "само --\n",
      "— --\n",
      "силами --\n",
      "громади --\n",
      "і --\n",
      "без --\n",
      "фінансування --\n",
      "з --\n",
      "бюджету --\n",
      ". --\n",
      "А --\n",
      "за --\n",
      "відчутної --\n",
      "підтримки --\n",
      "влади --\n",
      "реконструкція --\n",
      "набирає --\n",
      "обертів --\n",
      ". --\n",
      "« --\n",
      "Ще --\n",
      "недавно --\n",
      "велотрек --\n",
      "існував --\n",
      "тільки --\n",
      "у --\n",
      "мріях --\n",
      "ентузіастів --\n",
      "велоруху --\n",
      ", --\n",
      "а --\n",
      "вже --\n",
      "зараз --\n",
      "він --\n",
      "стрімко --\n",
      "набирає --\n",
      "реалістичних --\n",
      "контурів --\n",
      ", --\n",
      "— --\n",
      "радіє --\n",
      "голова --\n",
      "Шевченківської B-ОРГ\n",
      "райдержадміністрації I-ОРГ\n",
      "Олег B-ПЕРС\n",
      "Гаряга I-ПЕРС\n",
      ". --\n",
      "— --\n",
      "Ми --\n",
      "сподіваємося --\n",
      ", --\n",
      "що --\n",
      "вже --\n",
      "за --\n",
      "півтора-два --\n",
      "місяці --\n",
      "на --\n",
      "велотреку --\n",
      "зможуть --\n",
      "тренуватися --\n",
      "спортсмени --\n",
      ", --\n",
      "а --\n",
      "проводити --\n",
      "змагання --\n",
      "тут --\n",
      "можна --\n",
      "буде --\n",
      "вже --\n",
      "з --\n",
      "наступної --\n",
      "весни --\n",
      ". --\n",
      "Роботи --\n",
      "на --\n",
      "самому --\n",
      "велотреку --\n",
      "виконуються --\n",
      "за --\n",
      "кошти --\n",
      "меценатів --\n",
      ", --\n",
      "і --\n",
      "я --\n",
      "вдячний --\n",
      "усім --\n",
      "небайдужим --\n",
      ", --\n",
      "хто --\n",
      "сприяє --\n",
      "розвитку --\n",
      "цього --\n",
      "проекту --\n",
      "і --\n",
      "своїми --\n",
      "діями --\n",
      ", --\n",
      "щоденною --\n",
      "працею --\n",
      ", --\n",
      "а --\n",
      "не --\n",
      "галасуванням --\n",
      ", --\n",
      "наближає --\n",
      "його --\n",
      "втілення --\n",
      "» --\n",
      ". --\n",
      "БУЛО --\n",
      "І --\n",
      "Є --\n",
      "У --\n",
      "1991-му --\n",
      "цей --\n",
      "об’єкт --\n",
      "був --\n",
      "реконструйований --\n",
      "і --\n",
      "в --\n",
      "1998 --\n",
      "році --\n",
      "внесений --\n",
      "до --\n",
      "переліку --\n",
      "пам’яток --\n",
      "історії --\n",
      ". --\n",
      "А --\n",
      "у --\n",
      "2006-му --\n",
      "цей --\n",
      "майданчик --\n",
      "продали --\n",
      ", --\n",
      "незважаючи --\n",
      "на --\n",
      "протести --\n",
      "громадськості --\n",
      ". --\n",
      "Захищати --\n",
      "велотрек --\n",
      "виходили --\n",
      "сотні --\n",
      "киян --\n",
      ", --\n",
      "і --\n",
      "це --\n",
      "були --\n",
      "фактично --\n",
      "перші --\n",
      "масові --\n",
      "протести --\n",
      "городян --\n",
      "проти --\n",
      "свавілля --\n",
      "забудовників --\n",
      "у --\n",
      "столиці --\n",
      ". --\n",
      "Поряд --\n",
      "побудували --\n",
      "висотку --\n",
      ", --\n",
      "яку --\n",
      "досі --\n",
      "не --\n",
      "можуть --\n",
      "ввести --\n",
      "в --\n",
      "експлуатацію --\n",
      ", --\n",
      "а --\n",
      "на --\n",
      "місці --\n",
      "чаші --\n",
      "велотреку --\n",
      "забудовник --\n",
      "планував --\n",
      "звести --\n",
      "офісний --\n",
      "центр --\n",
      "із --\n",
      "підземним --\n",
      "паркінгом --\n",
      ". --\n",
      "Питання --\n",
      "повернення --\n",
      "міського B-ОРГ\n",
      "велотреку I-ОРГ\n",
      "для --\n",
      "киян --\n",
      ", --\n",
      "і --\n",
      "особливо --\n",
      "шевченківців --\n",
      ", --\n",
      "було --\n",
      "принциповим --\n",
      ". --\n",
      "У --\n",
      "листопаді --\n",
      "минулого --\n",
      "року --\n",
      "столична --\n",
      "влада --\n",
      "повернула --\n",
      "Київський B-ОРГ\n",
      "велотрек I-ОРГ\n",
      "у --\n",
      "власність --\n",
      "громади --\n",
      "міста --\n",
      "— --\n",
      "депутати --\n",
      "Київради B-ОРГ\n",
      "проголосували --\n",
      "за --\n",
      "розірвання --\n",
      "договору --\n",
      "оренди --\n",
      "земельної --\n",
      "ділянки --\n",
      ", --\n",
      "укладеного --\n",
      "між --\n",
      "Київрадою B-ОРГ\n",
      "та --\n",
      "підприємством --\n",
      "« --\n",
      "Велотрек B-ОРГ\n",
      "Авангард I-ОРГ\n",
      "» --\n",
      ", --\n",
      "на --\n",
      "якій --\n",
      "розташовується --\n",
      "велотрек --\n",
      ". --\n"
     ]
    }
   ],
   "source": [
    "for i, j in zip(tokens, labels):\n",
    "    print(i[0], j)"
   ]
  },
  {
   "cell_type": "markdown",
   "metadata": {},
   "source": [
    "## 2. Prepare the dev/test data"
   ]
  },
  {
   "cell_type": "code",
   "execution_count": 7,
   "metadata": {},
   "outputs": [
    {
     "name": "stdout",
     "output_type": "stream",
     "text": [
      "156 73\n"
     ]
    }
   ],
   "source": [
    "dev_test = {\"dev\": [], \"test\": []}\n",
    "category = \"\"\n",
    "with open(PATH + \"doc/dev-test-split.txt\", \"r\") as f:\n",
    "    for line in f.readlines():\n",
    "        line = line.strip()\n",
    "        if line in [\"DEV\", \"TEST\"]:\n",
    "            category = line.lower()\n",
    "        elif len(line) == 0:\n",
    "            continue\n",
    "        else:\n",
    "            dev_test[category].append(line)\n",
    "\n",
    "print(len(dev_test[\"dev\"]), len(dev_test[\"test\"]))"
   ]
  },
  {
   "cell_type": "code",
   "execution_count": 8,
   "metadata": {},
   "outputs": [
    {
     "name": "stdout",
     "output_type": "stream",
     "text": [
      "A_Kiyanovska_2_Ya_ne_poet_2014(4).tok\n",
      "A_MOU_Pratsivnyk_ZS_Ukrayiny_Oleh_Vernyayev_zdobuvaye_2015(4).tok\n",
      "A_Prokopenko_Vidrodzhennia_velotreku(5).tok\n",
      "A_prokovel_Kovelchanka_Tetiana_Kob_vyborola_Kubok_Ukrainy_z_boksu_2015(4).tok\n",
      "A_gukr_5_finansovykh_variantiv_yaki_mozhut_buty_korysni_dla_pensioneriv_1_2013(5).tok\n",
      "A_Kiyanovska_1_Ya_ne_poet_2014(4).tok\n"
     ]
    }
   ],
   "source": [
    "train_tokens, test_tokens, train_labels, test_labels = [], [], [], []\n",
    "\n",
    "for filename in dev_test[\"dev\"]:\n",
    "    try:\n",
    "        tokens = read_tokens(PATH + \"data/\" + filename + \".txt\")\n",
    "        train_tokens += [(token[0], token[3]) for token in tokens]\n",
    "        train_labels += extract_labels(read_annotations(PATH + \"data/\" + filename + \".ann\"), tokens)\n",
    "    except:\n",
    "        print(filename)\n",
    "\n",
    "for filename in dev_test[\"test\"]:\n",
    "    try:\n",
    "        tokens = read_tokens(PATH + \"data/\" + filename + \".txt\")\n",
    "        test_tokens += [(token[0], token[3]) for token in tokens]\n",
    "        test_labels += extract_labels(read_annotations(PATH + \"data/\" + filename + \".ann\"), tokens)\n",
    "    except:\n",
    "        print(filename)"
   ]
  },
  {
   "cell_type": "code",
   "execution_count": 9,
   "metadata": {
    "scrolled": true
   },
   "outputs": [
    {
     "name": "stdout",
     "output_type": "stream",
     "text": [
      "143939 70063 143939 70063\n"
     ]
    }
   ],
   "source": [
    "print(len(train_tokens), len(test_tokens), len(train_labels), len(test_labels))"
   ]
  },
  {
   "cell_type": "code",
   "execution_count": 10,
   "metadata": {},
   "outputs": [
    {
     "name": "stdout",
     "output_type": "stream",
     "text": [
      "('На', 'start') --\n",
      "('довірливих', 'middle') --\n",
      "('кіровоградців', 'middle') --\n",
      "('полюють', 'middle') --\n",
      "('шахраї', 'middle') --\n",
      "('та', 'middle') --\n",
      "('фірми-посередники', 'middle') --\n",
      "(',', 'middle') --\n",
      "('які', 'middle') --\n",
      "('за', 'middle') --\n",
      "('1000', 'middle') --\n",
      "('грн', 'middle') --\n",
      "('.', 'middle') --\n",
      "('готові', 'middle') --\n",
      "('«', 'middle') --\n",
      "('виготовити', 'middle') --\n",
      "('»', 'middle') --\n",
      "('біометричний', 'middle') --\n",
      "('паспорт', 'middle') --\n",
      "(',', 'middle') --\n",
      "('який', 'middle') --\n",
      "('коштує', 'middle') --\n",
      "('518', 'middle') --\n",
      "('грн', 'middle') --\n",
      "('.', 'end') --\n",
      "('Із', 'start') --\n",
      "('запровадженням', 'middle') --\n",
      "('біометричних', 'middle') --\n",
      "('паспортів', 'middle') --\n",
      "('активізувалися', 'middle') --\n",
      "('шахраї', 'middle') --\n",
      "('та', 'middle') --\n",
      "('фірми-посередники', 'middle') --\n",
      "(',', 'middle') --\n",
      "('які', 'middle') --\n",
      "('пропонують', 'middle') --\n",
      "('«', 'middle') --\n",
      "('прискорити', 'middle') --\n",
      "('»', 'middle') --\n",
      "('оформлення', 'middle') --\n",
      "('біометричного', 'middle') --\n",
      "('паспорта', 'middle') --\n",
      "('або', 'middle') --\n",
      "('просто', 'middle') --\n",
      "('оформити', 'middle') --\n",
      "('цей', 'middle') --\n",
      "('документ', 'middle') --\n",
      "('–', 'middle') --\n",
      "('повідомляють', 'middle') --\n",
      "('Першій', 'middle') B-ОРГ\n",
      "('електронній', 'middle') I-ОРГ\n",
      "('в', 'middle') --\n",
      "('прес-службі', 'middle') --\n",
      "('УДМС', 'middle') B-ОРГ\n",
      "('України', 'middle') I-ОРГ\n",
      "('в', 'middle') I-ОРГ\n",
      "('Кіровоградській', 'middle') I-ОРГ\n",
      "('області', 'middle') I-ОРГ\n",
      "('.', 'end') --\n",
      "('Розцінки', 'start') --\n",
      "('на', 'middle') --\n",
      "('послуги', 'middle') --\n",
      "('таких', 'middle') --\n",
      "('посередників', 'middle') --\n",
      "('починаються', 'middle') --\n",
      "('від', 'middle') --\n",
      "('1000', 'middle') --\n",
      "('грн', 'middle') --\n",
      "('.', 'end') --\n",
      "('Закінчується', 'start') --\n",
      "('«', 'middle') --\n",
      "('біометрична', 'middle') --\n",
      "('афера', 'middle') --\n",
      "('»', 'middle') --\n",
      "('в', 'middle') --\n",
      "('кращому', 'middle') --\n",
      "('випадку', 'middle') --\n",
      "('звичайним', 'middle') --\n",
      "('оформленням', 'middle') --\n",
      "('документа', 'middle') --\n",
      "('у', 'middle') --\n",
      "('міграційній', 'middle') B-ОРГ\n",
      "('службі', 'middle') I-ОРГ\n",
      "('у', 'middle') --\n",
      "('встановлений', 'middle') --\n",
      "('законодавством', 'middle') --\n",
      "('строк', 'middle') --\n",
      "(',', 'middle') --\n",
      "('у', 'middle') --\n",
      "('гіршому', 'middle') --\n",
      "('–', 'middle') --\n",
      "('втратою', 'middle') --\n",
      "('коштів', 'middle') --\n",
      "('і', 'middle') --\n",
      "('неотриманням', 'middle') --\n",
      "('документа', 'middle') --\n",
      "('.', 'end') --\n",
      "('Інформація', 'start') --\n",
      "('про', 'middle') --\n",
      "('вже', 'middle') --\n"
     ]
    }
   ],
   "source": [
    "for i, j in zip(train_tokens[:100], train_labels[:100]):\n",
    "    print(i, j),"
   ]
  },
  {
   "cell_type": "markdown",
   "metadata": {},
   "source": [
    "### TODO\n",
    "\n",
    "1. Build a baseline solution\n",
    "2. Extract features and train Logistic Regression; check top features for each class\n",
    "3. Try smarter features: POS, sentence boundaries, lemmas, etc.\n"
   ]
  },
  {
   "cell_type": "markdown",
   "metadata": {},
   "source": [
    "## Baseline solution"
   ]
  },
  {
   "cell_type": "code",
   "execution_count": 11,
   "metadata": {},
   "outputs": [],
   "source": [
    "from sklearn.feature_extraction import DictVectorizer\n",
    "from sklearn.linear_model import LogisticRegression\n",
    "from sklearn.metrics import classification_report"
   ]
  },
  {
   "cell_type": "code",
   "execution_count": 12,
   "metadata": {},
   "outputs": [
    {
     "name": "stderr",
     "output_type": "stream",
     "text": [
      "/usr/local/Cellar/python3/3.6.0/Frameworks/Python.framework/Versions/3.6/lib/python3.6/site-packages/sklearn/metrics/classification.py:1143: UndefinedMetricWarning: Precision and F-score are ill-defined and being set to 0.0 in labels with no predicted samples.\n",
      "  'precision', 'predicted', average, warn_for)\n"
     ]
    },
    {
     "name": "stdout",
     "output_type": "stream",
     "text": [
      "              precision    recall  f1-score   support\n",
      "\n",
      "          --       0.91      0.99      0.95     61837\n",
      "       B-ЛОК       0.00      0.00      0.00       414\n",
      "       B-ОРГ       0.00      0.00      0.00       230\n",
      "      B-ПЕРС       0.41      0.76      0.53      1190\n",
      "      B-РІЗН       0.00      0.00      0.00       178\n",
      "       I-ЛОК       0.00      0.00      0.00      1071\n",
      "       I-ОРГ       0.00      0.00      0.00      1958\n",
      "      I-ПЕРС       0.50      0.11      0.18      2808\n",
      "      I-РІЗН       0.00      0.00      0.00       377\n",
      "\n",
      "   micro avg       0.90      0.90      0.90     70063\n",
      "   macro avg       0.20      0.21      0.18     70063\n",
      "weighted avg       0.83      0.90      0.86     70063\n",
      "\n"
     ]
    }
   ],
   "source": [
    "def majority_class(tokens):\n",
    "    labels = []\n",
    "    for i in range(len(tokens)):\n",
    "        word = tokens[i]\n",
    "        if word[0].istitle() and not word[1] == \"start\":\n",
    "            if i > 0 and tokens[i-1][0].istitle():\n",
    "                labels.append(\"I-ПЕРС\")\n",
    "            else:\n",
    "                labels.append(\"B-ПЕРС\")\n",
    "        else:\n",
    "            labels.append(\"--\")\n",
    "    return labels\n",
    "\n",
    "predicted = majority_class(test_tokens)\n",
    "print(classification_report(test_labels, predicted))"
   ]
  },
  {
   "cell_type": "markdown",
   "metadata": {},
   "source": [
    "## Better solution"
   ]
  },
  {
   "cell_type": "code",
   "execution_count": 13,
   "metadata": {},
   "outputs": [],
   "source": [
    "import pymorphy2\n",
    "morph = pymorphy2.MorphAnalyzer(lang='uk')"
   ]
  },
  {
   "cell_type": "code",
   "execution_count": 14,
   "metadata": {},
   "outputs": [
    {
     "name": "stdout",
     "output_type": "stream",
     "text": [
      "ADJF\n",
      "київський\n"
     ]
    }
   ],
   "source": [
    "print(morph.parse(\"Київського\")[0].tag.POS)\n",
    "print(morph.parse(\"Київського\")[0].normal_form)"
   ]
  },
  {
   "cell_type": "code",
   "execution_count": 15,
   "metadata": {},
   "outputs": [],
   "source": [
    "# Feature extraction\n",
    "\n",
    "def get_shape(word):\n",
    "    if word.istitle():\n",
    "        return \"title\"\n",
    "    elif word.isupper():\n",
    "        return \"upper\"\n",
    "    elif word.isdigit():\n",
    "        return \"digit\"\n",
    "    elif word.islower():\n",
    "        return \"lower\"\n",
    "    else:\n",
    "        return \"other\"\n",
    "\n",
    "def feature_extractor(tokens, ind):\n",
    "    \"\"\"\n",
    "    Collect features for the INDth token in SENTENCE.\n",
    "    \"\"\"\n",
    "    token = tokens[ind]\n",
    "    features = dict()\n",
    "    features[\"shape\"] = get_shape(token[0])\n",
    "    features[\"is_not_punct\"] = token[0].isalnum()\n",
    "    features[\"pos\"] = str(morph.parse(token[0])[0].tag.POS)\n",
    "    features[\"lemma\"] = morph.parse(token[0])[0].normal_form\n",
    "    features[\"position\"] = token[1]\n",
    "    features[\"word-1\"] = morph.parse(tokens[ind-1][0])[0].normal_form if token[1] != \"start\" else \"<S>\"\n",
    "    features[\"word-2\"] = morph.parse(tokens[ind-2][0])[0].normal_form if ind > 1 and tokens[ind-1][1] != \"start\" else \"<S>\"\n",
    "    if token[1] != \"start\":\n",
    "        features[\"word-1-shape\"] = get_shape(tokens[ind-1][0])\n",
    "        features[\"word-1-not_punct\"] = tokens[ind-1][0].isalnum()\n",
    "    features[\"word+1\"] = morph.parse(tokens[ind+1][0])[0].normal_form if token[1] != \"end\" else \"</S>\"\n",
    "    features[\"word+2\"] = morph.parse(tokens[ind+2][0])[0].normal_form if ind < (len(tokens) - 2) and tokens[ind+1][1] != \"end\" else \"</S>\"\n",
    "    if token[1] != \"end\":\n",
    "        features[\"word+1-shape\"] = get_shape(tokens[ind+1][0])\n",
    "        features[\"word+1-not_punct\"] = tokens[ind+1][0].isalnum()\n",
    "    return features"
   ]
  },
  {
   "cell_type": "code",
   "execution_count": 16,
   "metadata": {},
   "outputs": [
    {
     "name": "stdout",
     "output_type": "stream",
     "text": [
      "143939\n"
     ]
    }
   ],
   "source": [
    "train_features = []\n",
    "\n",
    "for i in range(len(train_tokens)):\n",
    "    train_features.append(feature_extractor(train_tokens, i))\n",
    "\n",
    "print(len(train_features))"
   ]
  },
  {
   "cell_type": "code",
   "execution_count": 17,
   "metadata": {},
   "outputs": [
    {
     "name": "stdout",
     "output_type": "stream",
     "text": [
      "('ДМС', 'middle')\n",
      "{'shape': 'upper', 'is_not_punct': True, 'pos': 'None', 'lemma': 'дмс', 'position': 'middle', 'word-1': 'підрозділ', 'word-2': 'у', 'word-1-shape': 'lower', 'word-1-not_punct': True, 'word+1': 'цей', 'word+2': 'процедура', 'word+1-shape': 'lower', 'word+1-not_punct': True}\n"
     ]
    }
   ],
   "source": [
    "print(train_tokens[152])\n",
    "print(train_features[152])"
   ]
  },
  {
   "cell_type": "code",
   "execution_count": 18,
   "metadata": {},
   "outputs": [
    {
     "name": "stdout",
     "output_type": "stream",
     "text": [
      "\n",
      "Total number of features:  92955\n"
     ]
    }
   ],
   "source": [
    "vectorizer = DictVectorizer()\n",
    "vec = vectorizer.fit(train_features)\n",
    "print(\"\\nTotal number of features: \", len(vec.get_feature_names()))"
   ]
  },
  {
   "cell_type": "code",
   "execution_count": 19,
   "metadata": {},
   "outputs": [
    {
     "name": "stdout",
     "output_type": "stream",
     "text": [
      "143939\n"
     ]
    }
   ],
   "source": [
    "train_features_vectorized = vec.transform(train_features)\n",
    "\n",
    "print(len(train_features_vectorized.toarray()))"
   ]
  },
  {
   "cell_type": "code",
   "execution_count": 20,
   "metadata": {},
   "outputs": [
    {
     "name": "stderr",
     "output_type": "stream",
     "text": [
      "[Parallel(n_jobs=1)]: Using backend SequentialBackend with 1 concurrent workers.\n"
     ]
    },
    {
     "name": "stdout",
     "output_type": "stream",
     "text": [
      "convergence after 1201 epochs took 343 seconds\n"
     ]
    },
    {
     "name": "stderr",
     "output_type": "stream",
     "text": [
      "[Parallel(n_jobs=1)]: Done   1 out of   1 | elapsed:  5.7min finished\n"
     ]
    },
    {
     "data": {
      "text/plain": [
       "LogisticRegression(C=1.0, class_weight=None, dual=False, fit_intercept=True,\n",
       "          intercept_scaling=1, max_iter=1300, multi_class='multinomial',\n",
       "          n_jobs=None, penalty='l2', random_state=42, solver='sag',\n",
       "          tol=0.0001, verbose=1, warm_start=False)"
      ]
     },
     "execution_count": 20,
     "metadata": {},
     "output_type": "execute_result"
    }
   ],
   "source": [
    "lrc = LogisticRegression(random_state=42, solver=\"sag\", multi_class=\"multinomial\", max_iter=1300, verbose=1)\n",
    "lrc.fit(train_features_vectorized, train_labels)"
   ]
  },
  {
   "cell_type": "code",
   "execution_count": 21,
   "metadata": {},
   "outputs": [
    {
     "name": "stdout",
     "output_type": "stream",
     "text": [
      "              precision    recall  f1-score   support\n",
      "\n",
      "          --       0.92      1.00      0.95     61837\n",
      "       B-ЛОК       0.66      0.61      0.63       414\n",
      "       B-ОРГ       0.63      0.27      0.38       230\n",
      "      B-ПЕРС       0.70      0.77      0.73      1190\n",
      "      B-РІЗН       0.43      0.43      0.43       178\n",
      "       I-ЛОК       0.51      0.03      0.05      1071\n",
      "       I-ОРГ       0.81      0.05      0.10      1958\n",
      "      I-ПЕРС       0.57      0.09      0.16      2808\n",
      "      I-РІЗН       0.49      0.09      0.15       377\n",
      "\n",
      "   micro avg       0.90      0.90      0.90     70063\n",
      "   macro avg       0.63      0.37      0.40     70063\n",
      "weighted avg       0.88      0.90      0.87     70063\n",
      "\n"
     ]
    }
   ],
   "source": [
    "test_features = []\n",
    "\n",
    "for i in range(len(test_tokens)):\n",
    "    test_features.append(feature_extractor(test_tokens, i))\n",
    "\n",
    "predicted = lrc.predict(vec.transform(test_features))\n",
    "print(classification_report(test_labels, predicted))"
   ]
  },
  {
   "cell_type": "code",
   "execution_count": 22,
   "metadata": {},
   "outputs": [],
   "source": [
    "import numpy as np\n",
    "\n",
    "def top_features(vectorizer, clf, n):\n",
    "    \"\"\"Prints features with the highest coefficient values, per class\"\"\"\n",
    "    feature_names = vec.get_feature_names()\n",
    "    for i, class_label in enumerate(clf.classes_):\n",
    "        top = np.argsort(clf.coef_[i])\n",
    "        reversed_top = top[::-1]\n",
    "        print(\"%s: %s\\n\" % (class_label,\n",
    "              \" \".join(feature_names[j] for j in reversed_top[:n])))\n"
   ]
  },
  {
   "cell_type": "code",
   "execution_count": 23,
   "metadata": {},
   "outputs": [
    {
     "name": "stdout",
     "output_type": "stream",
     "text": [
      "--: shape=lower lemma=- lemma=війна lemma=, lemma=– word-1=- lemma=« word-1=… word-1=... lemma=— lemma=йога lemma=скарб lemma=інтернет lemma=петрів lemma=: word-2=... word+1=ст word-1=дора lemma=.. word+1=бог\n",
      "\n",
      "B-ЛОК: lemma=вул lemma=вулиця lemma=рондо lemma=кий lemma=польща lemma=парка lemma=україна word+1=район word-1=на lemma=америка word-1=у pos=NOUN word-1=під lemma=росія pos=ADJF lemma=львов word-1=в lemma=київ word-1=, lemma=оперний\n",
      "\n",
      "B-ОРГ: lemma=академія shape=upper lemma=міністерство word-1=голова word+1=служба lemma=рад lemma=східside lemma=церква lemma=інститут lemma=адміністрація lemma=обласний word+1=рад lemma=евромайдан lemma=облрада lemma=міграційний word-2=клуб word-1=представник lemma=океан lemma=міськрада word-1=“\n",
      "\n",
      "B-ПЕРС: lemma=яся shape=title lemma=дора lemma=данка lemma=ілія lemma=вероніка lemma=ярок word-1=, lemma=роман lemma=зіркий lemma=мішель word+1=макарій lemma=інга lemma=божий pos=NOUN lemma=наталочка lemma=гоголь lemma=мирон lemma=бог word-2=<S>\n",
      "\n",
      "B-РІЗН: word-1=« lemma=євангеліє lemma=різдво lemma=словник lemma=великдень lemma=день lemma=ньюкасл lemma=буття lemma=біблія word-1=( lemma=сповідь lemma=реформація word+1=слово lemma=батьківщина word+2=сумлінний word+1=свято shape=title lemma=c pos=None word+1=київ\n",
      "\n",
      "I-ЛОК: lemma=район lemma=ірма word-1=медовий word-2=команда word-1=вулиця word-1=вул word+1=колір word-2=баскетболіст lemma=область word-2=медовий word-2=ірма word+1=мама word-1=колір word-2=мама word-2=колір lemma=мама word+2=ірмин lemma=колір lemma=медовий word+2=мама\n",
      "\n",
      "I-ОРГ: word-1=ім word-2=міністерство word-1-shape=upper word-2=тов word-1=обласний word-2=ім lemma=україна lemma=б word-1=б lemma=служба word-1=міністерство word-1=міграційний word-1=ім'я word-2=обласний word-2=центр word-1=інститут lemma=ім word-2=асоціація word-2=бьолля word-1=грімальді\n",
      "\n",
      "I-ПЕРС: lemma=степанка lemma=щедрик word+2=степанка word-2=щедрик lemma=толь word+2=щедрик lemma=майка word-2=степанка word+1=спасіння word-2=толь lemma=крук word+1=степанка word-1=пеньок word-1=крук lemma=свирид word-2=горішок word-1=щедрик word+1=щедрик word+2=толь word-2=крук\n",
      "\n",
      "I-РІЗН: word-1=гачок lemma=гачок word-2=гачок word+1=» word-2=іра word+2=гачок word+1=рибалка word+1=гачок word+2=» word-2=ой word+2=рибалка word-2=№ lemma=рибалка word-1=світовий shape=lower word-1=іра lemma=україна word+2=риба word-2=зайнятий word-1=зайнятий\n",
      "\n"
     ]
    }
   ],
   "source": [
    "top_features(vec, lrc, 20)"
   ]
  },
  {
   "cell_type": "code",
   "execution_count": null,
   "metadata": {},
   "outputs": [],
   "source": []
  }
 ],
 "metadata": {
  "kernelspec": {
   "display_name": "Python 3",
   "language": "python",
   "name": "python3"
  },
  "language_info": {
   "codemirror_mode": {
    "name": "ipython",
    "version": 3
   },
   "file_extension": ".py",
   "mimetype": "text/x-python",
   "name": "python",
   "nbconvert_exporter": "python",
   "pygments_lexer": "ipython3",
   "version": "3.6.0"
  }
 },
 "nbformat": 4,
 "nbformat_minor": 2
}
