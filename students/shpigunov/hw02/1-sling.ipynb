{
 "cells": [
  {
   "cell_type": "markdown",
   "metadata": {},
   "source": [
    "## Структурна лінгвістика\n",
    "\n",
    "#### 1. Побудуйте ланцюжок походження слів за зразком:\n",
    "\n",
    "```\n",
    "оженитися: (о + (женити + ся))\n",
    "```\n",
    "\n",
    "1. атиповий\n",
    "2. мореплавання\n",
    "3. оподаткувати\n",
    "4. перевтілитися\n",
    "5. схилившись\n",
    "6. підсніжник"
   ]
  },
  {
   "cell_type": "markdown",
   "metadata": {},
   "source": [
    "1. (а + (тип + ов + ий))\n",
    "2. (((море) + плав) + анн + я)\n",
    "3. ((о + (податк + ува)) + ти) - тут трохи складний випадок. є слово \"подат+ок з похідними \"податк+ов+ий\". слова \"податкувати\" немає, воно вживаєтсья лише із префіксом о-.\n",
    "4. (пере + (втіл + итися))\n",
    "5. ((с + (хил + ив)) + шись)\n",
    "6. (під + сніж + ник) - корінь \"сні(г|ж)\" - самостійне слово. префік під- і суфікс -ник додаються одночасно, оскільки ні слова \"підсніг\", ані \"сніжник\" не існує."
   ]
  },
  {
   "cell_type": "markdown",
   "metadata": {},
   "source": [
    "#### 2. Перевірте роботу [SnowballStem](http://snowballstem.org/) для спільнокореневих слів. Напишіть ваші спостереження.\n",
    "\n",
    "1. truth, truthful, truthfulness, countertruth, untruthful, truthology\n",
    "2. flaw, flaws, flawed, flawless, flawlessness, flawlessly, \n",
    "3. лес, лесной, лесник, лесничий, лесничество, пролесье\n",
    "4. окно, окошко, подоконник, оконный, окнище\n"
   ]
  },
  {
   "cell_type": "code",
   "execution_count": 10,
   "metadata": {},
   "outputs": [
    {
     "name": "stdout",
     "output_type": "stream",
     "text": [
      "truth truth truth countertruth untruth trutholog \n",
      "flaw flaw flaw flawless flawless flawless \n",
      "лес лесн лесник леснич лесничеств пролес \n",
      "окн окошк подоконник окон окнищ \n",
      "беззащитн беспристрастн беспристрастн разнима недописа перекличк \n"
     ]
    }
   ],
   "source": [
    "from nltk.stem.snowball import SnowballStemmer as stemmer\n",
    "\n",
    "d = ', ' # shorthand for delimiter\n",
    "\n",
    "w1 = 'truth, truthful, truthfulness, countertruth, untruthful, truthology'.split(d)\n",
    "w2 = 'flaw, flaws, flawed, flawless, flawlessness, flawlessly'.split(d)\n",
    "w3 = 'лес, лесной, лесник, лесничий, лесничество, пролесье'.split(d)\n",
    "w4 = 'окно, окошко, подоконник, оконный, окнище'.split(d)\n",
    "\n",
    "def stem_words(word_list, stemmer):\n",
    "    for word in word_list:\n",
    "        print(stemmer.stem(word), end=' ')\n",
    "    print() # new line\n",
    "\n",
    "stemmer_en = stemmer('english')\n",
    "stem_words(w1, stemmer_en)\n",
    "stem_words(w2, stemmer_en)\n",
    "\n",
    "stemmer_ru = stemmer('russian')\n",
    "stem_words(w3, stemmer_ru)\n",
    "stem_words(w4, stemmer_ru)\n",
    "\n",
    "w5 = 'беззащитный, беспристрастный, беспристрастность, разнимать, недописанный, перекличка'.split(d)\n",
    "stem_words(w5, stemmer_ru)"
   ]
  },
  {
   "cell_type": "markdown",
   "metadata": {},
   "source": [
    "##### 2 - Спостереження\n",
    "\n",
    "З прикладів 1 і 2 бачимо, що стеммер впорався із суфіксами (-ful, -ness), але проігнорував деякі суфікси (-ology, -less) і геть усі префікси (un-, counter-, etc.). З побаченого можемо зробити припущення, що у стеммера є жорстко прописаний (hardcoded) перелік суфіксів, які він відсікає. \n",
    "\n",
    "І дійсно, при вивченні [вихідного коду](https://github.com/nltk/nltk/blob/15a181c5c043e5a9de709c63a58d2949d747b300/nltk/stem/snowball.py#L1266) англійського стеммера бачимо, що у нього прямо в коді є перелік суфіксів, які відсікаються на кожному кроці, а перелік префіксів відсутній.\n",
    "\n",
    "На прикладах 3 і 4 спістерігаємо, що стеммер для російської мови добре відпрацьовує морфологічні закінчення, але некоректно відсікає деякі суфікси і (принаймні, у розглянутих прикладах) префікси. \n",
    "\n",
    "На додатковому прикладі 5 підтверджуємо, що стеммер Snowball для російської мови не бачить навіть найрозповсюдженіших префіксів. [Вихідний код](https://github.com/nltk/nltk/blob/15a181c5c043e5a9de709c63a58d2949d747b300/nltk/stem/snowball.py#L4520) підтверджує це припущення. \n",
    "\n",
    "На прикладі 4 також бачимо, що стеммер некоректно відпрацьовує випадки чергування голосних і приголосних.\n",
    "\n",
    "* Також цікаво, що російський стеммер перед обробкою слова транслітерує його в кирилицю, а після обробки — назад :)"
   ]
  },
  {
   "cell_type": "markdown",
   "metadata": {},
   "source": [
    "#### 3. Визначте частину мови виділеного слова і зв'язок до його батька (за зразком):\n",
    "\n",
    "```\n",
    "{I} like turtles.: pronoun, nsubj(like, I)  \n",
    "I {like} turtles.: verb, root(ROOT, like)  \n",
    "I like {turtles}.: noun, dobj(like, turtles)\n",
    "```\n",
    "\n",
    "1. We can {but} hope that everything will be fine.\n",
    "2. It's sad {but} true.\n",
    "3. Jack brings nothing {but} trouble.\n",
    "4. {As} we were talking, I realised how to solve the issue.\n",
    "5. This hot dog isn't {as} big as usual.\n",
    "6. This hot dog isn't as big {as} usual.\n",
    "7. This hot dog isn't as big {as} I expected.\n",
    "8. I work {as} a teacher.\n",
    "9. Let's do it this {way}!\n",
    "10. This is {way} too much!\n",
    "11. The prices are going {down}.\n",
    "12. Someone pushed him and he fell {down} the stairs.\n",
    "13. I’ve been feeling rather {down} lately.\n",
    "14. It's not easy to {down} a cup of coffee in one gulp.\n",
    "15. Bring a {down} jacket and a pair of gloves, and you'll be fine.\n",
    "\n"
   ]
  },
  {
   "cell_type": "code",
   "execution_count": 54,
   "metadata": {},
   "outputs": [
    {
     "name": "stdout",
     "output_type": "stream",
     "text": [
      "1. We can {but} hope that everything will be fine.: CCONJ cc(can, but)\n",
      "2. It's sad {but} true.: CCONJ cc(sad, but)\n",
      "3. Jack brings nothing {but} trouble.: CCONJ cc(nothing, but)\n",
      "4. {As} we were talking, I realised how to solve the issue.: ADP prep(talking, As)\n",
      "5. This hot dog isn't {as} big as usual.: ADV prep(is, as)\n",
      "6. This hot dog isn't as big {as} usual.: ADP prep(big, as)\n",
      "7. This hot dog isn't as big {as} I expected.: ADP prep(is, as)\n",
      "8. I work {as} a teacher.: ADP prep(work, as)\n",
      "9. Let's do it this {way}!: NOUN npadvmod(do, way)\n",
      "10. This is {way} too much!: NOUN attr(is, way)\n",
      "11. The prices are going {down}.: PUNCT dobj(going, down}.)\n",
      "12. Someone pushed him and he fell {down} the stairs.: ADP advmod(fell, down)\n",
      "13. I’ve been feeling rather {down} lately.: ADV advmod(feeling, down)\n",
      "14. It's not easy to {down} a cup of coffee in one gulp.: ADV xcomp('s, down)\n",
      "15. Bring a {down} jacket and a pair of gloves, and you'll be fine.: NOUN nmod(jacket, down)\n"
     ]
    }
   ],
   "source": [
    "import spacy\n",
    "\n",
    "sentences = {\n",
    "    1: \"We can {but} hope that everything will be fine.\",\n",
    "    2: \"It's sad {but} true.\",\n",
    "    3: \"Jack brings nothing {but} trouble.\",\n",
    "    4: \"{As} we were talking, I realised how to solve the issue.\",\n",
    "    5: \"This hot dog isn't {as} big as usual.\",\n",
    "    6: \"This hot dog isn't as big {as} usual.\",\n",
    "    7: \"This hot dog isn't as big {as} I expected.\",\n",
    "    8: \"I work {as} a teacher.\",\n",
    "    9: \"Let's do it this {way}!\",\n",
    "    10: \"This is {way} too much!\",\n",
    "    11: \"The prices are going {down}.\",\n",
    "    12: \"Someone pushed him and he fell {down} the stairs.\",\n",
    "    13: \"I’ve been feeling rather {down} lately.\",\n",
    "    14: \"It's not easy to {down} a cup of coffee in one gulp.\",\n",
    "    15: \"Bring a {down} jacket and a pair of gloves, and you'll be fine.\"\n",
    "}\n",
    "\n",
    "nlp = spacy.load('en_core_web_md')\n",
    "\n",
    "for i in sentences.keys():\n",
    "    doc = nlp(sentences[i])\n",
    "    for token in doc:\n",
    "        if token.text == \"{\":\n",
    "            target_word = token.nbor(1)\n",
    "            \n",
    "            print(str(i) + \". \"+ sentences[i]+\":\", end=' ')\n",
    "            print(target_word.pos_, end=' ')\n",
    "            print(target_word.dep_, end='(')\n",
    "            print(target_word.head, end=', ')\n",
    "            print(target_word.text, end=')\\n')\n"
   ]
  },
  {
   "cell_type": "markdown",
   "metadata": {},
   "source": [
    "##### 3 - Спостереження №1\n",
    "\n",
    "При вивченні видачі цього аналізу ми бачимо низку помилок — у р. 1, 3, 7, 8, 11, 14 — навіть на середній моделі. Можливо, круглі дужки певним чином впливають на розпізнавання? Спробуємо прибрати їх з аналізу і перевірити, чи зміниться точність розпізнавання моделі."
   ]
  },
  {
   "cell_type": "code",
   "execution_count": 52,
   "metadata": {},
   "outputs": [
    {
     "name": "stdout",
     "output_type": "stream",
     "text": [
      "1. We can {but} hope that everything will be fine.: CCONJ cc(can, but)\n",
      "2. It's sad {but} true.: CCONJ cc(sad, but)\n",
      "3. Jack brings nothing {except} trouble.: ADP prep(nothing, except)\n",
      "4. {As} we were talking, I realised how to solve the issue.: ADP mark(talking, As)\n",
      "5. This hot dog isn't {as} big as usual.: ADV advmod(big, as)\n",
      "6. This hot dog isn't as big {as} usual.: ADV advmod(big, as)\n",
      "7. This hot dog isn't as big {as} I expected.: ADV advmod(big, as)\n",
      "8. I work {as} a teacher.: ADP prep(work, as)\n",
      "9. Let's do it this {way}!: NOUN npadvmod(do, way)\n",
      "10. This is {way} too much!: ADV advmod(much, way)\n",
      "12. Someone pushed him and he fell {down} the stairs.: ADP prep(fell, down)\n",
      "13. I’ve been feeling rather {down} lately.: ADV advmod(feeling, down)\n",
      "14. It's not easy to {down} a cup of coffee in one gulp.: ADV xcomp('s, down)\n",
      "15. Bring a {down} jacket and a pair of gloves, and you'll be fine.: PART amod(jacket, down)\n"
     ]
    }
   ],
   "source": [
    "nlp = spacy.load('en_core_web_md')\n",
    "\n",
    "for i in sentences.keys():\n",
    "    doc = nlp(sentences[i])\n",
    "    for token in doc:\n",
    "        if token.text == \"{\":\n",
    "            target_word = token.nbor(1).text\n",
    "            # The `cont` flag will prevent processing  \n",
    "            # multiple similar words in the same sentence\n",
    "            cont = True\n",
    "            break\n",
    "            \n",
    "    if target_word != '':\n",
    "        debracketized_sentence = sentences[i].replace('{', '').replace('}', '')\n",
    "        doc = nlp(debracketized_sentence)\n",
    "        for token in doc:\n",
    "            if token.text == target_word and cont:\n",
    "                print(str(i) + \". \"+ sentences[i]+\":\", end=' ')\n",
    "                print(token.pos_, end=' ')\n",
    "                print(token.dep_, end='(')\n",
    "                print(token.head, end=', ')\n",
    "                print(token.text, end=')\\n')   \n",
    "                cont = False\n",
    "            \n",
    "    else:\n",
    "        raise \"No word tagged for analysis.\"\n"
   ]
  },
  {
   "cell_type": "markdown",
   "metadata": {},
   "source": [
    "##### 3 - Спостереження №2 і результати\n",
    "\n",
    "Припущення, що дужки вплинули на розпізнавання частин мови та синтаксичних зв’язків, виявилося вірним. Однак, незважаючи на дещо кращі результати, у видачі залишилися помилки.\n",
    "\n",
    "Після ручного аналізу приходимо до таких висновків:\n",
    "\n",
    "1. : ADV advmod(can, but)\n",
    "2. : CCONJ cc(sad, but)\n",
    "3. : ADP prep(nothing, but)\n",
    "4. : CCONJ cc(talking, As)\n",
    "5. : ADV prep(is, as)\n",
    "6. : ADP prep(big, as)\n",
    "7. : ADP prep(big, as)\n",
    "8. : ADP prep(work, as)\n",
    "9. : NOUN npadvmod(do, way)\n",
    "10. : NOUN attr(is, way)\n",
    "11. : ADV dobj(going, down}.)\n",
    "12. : ADP advmod(fell, down)\n",
    "13. : ADV advmod(feeling, down)\n",
    "14. : ADV xcomp('s, down)\n",
    "15. : NOUN nmod(jacket, down)\n"
   ]
  },
  {
   "cell_type": "markdown",
   "metadata": {},
   "source": [
    "#### 4. Визначте частину мови виділеного слова і зв'язок до його батька (за зразком):\n",
    "\n",
    "```\n",
    "{Я} люблю черепашок.: займенник, nsubj(люблю, Я)  \n",
    "Я {люблю} черепашок.: дієслово, root(ROOT, люблю)  \n",
    "Я люблю {черепашок}.: іменник, dobj(люблю, черепашок)  \n",
    "```\n",
    "\n",
    "1. Рада міністрів Європейського союзу затвердила угоду про спрощений порядок видачі {віз} для України.: іменник, dobj(видачі, віз)\n",
    "2. Батько Себастьяна {віз} на санях їх театральний гурт до Львова.: дієслово, root(віз, ROOT)\n",
    "3. А ще дивний елемент інтер’єру – {віз} із продукцією одного з херсонських виробників. noun, nsubj(віз, ROOT)\n",
    "4. У цю мить {повз} Євгена пролетів останній вагон товарняка. прийменник, prep(Євгена, повз)\n",
    "5. Кліпнув очима і побачив малого песика, який саме пробігав {повз} у бік села. прийменник, prep(пробігав, повз\n",
    "6. Степанко перестав кричати, тільки ламкий стогін {повз} йому із грудей. дієслово, conj(повз, стогін). тут ’повз’ - граматичний присудок другого підрядного речення.\n",
    "7. Часу не {гай} – декларацію подай! дієслово, root(гай, ROOT)\n",
    "8. І коляд заспівали, і {гай} врятували. іменник, dobj(врятували, гай)\n",
    "9. {Гай}, чи ви забулися, братове? вигук, intj(гай, гай)\n",
    "10. Ось присіла на {край} ліжка. прийменник, pobj (ліжка, край)\n",
    "11. Поставив ту кузню не {край} дороги, як було заведено, а на Красній горі, біля Прадуба. прийменник, pobj (дороги, край)\n",
    "12. Розповідаючи про передній {край} лінґвістики, фон Лібіх, як завжди, мислив широко і глобально. прийменник, pobj(про, край)\n",
    "13. Не {край} мені серце. дієслово, root(ROOT, край)\n",
    "14. І {щойно} тоді додаємо до борщу смажену цибулю., прислівник, advmod(тоді, щойно)\n",
    "15. Бо {щойно} я задрімав, віддавши тіло подушці з периною, як мене розбудив поштовх у бік. підрядний сполучник часу sconj(задрімав, щойно)"
   ]
  },
  {
   "cell_type": "markdown",
   "metadata": {},
   "source": []
  },
  {
   "cell_type": "markdown",
   "metadata": {},
   "source": [
    "#### 5. Виберіть одне речення зі списку та побудуйте для нього дерево залежностей та дерево складників:\n",
    "\n",
    "(Можна намалювати дерева в графічному редакторі або на папері і докріпити картинку до домашнього завдання. Назви складників, частин мови та залежностей можна не писати. Головне - це структура.)\n",
    "\n",
    "1. Пригадую, уже згодом, коли я відбував свій термін у таборі № 36 у Кучино Пермської області, я отримав від Михасі листівку з жартівливим описом того, як Київ готується до святкування свого 1500-ліття.\n",
    "2. 6C приземляється на плече, перекочуючись, пролітає метрів п’ятдесят і витягується на снігу за кілька кроків від забризканої палаючими уламками посадкової смуги.\n",
    "3. Дівчина стояла там, де й була, і намагалася привести до ладу скуйовджене волосся, вкрай розлючена тим, що це побачили водії, які чекали на переїзді.\n"
   ]
  },
  {
   "cell_type": "markdown",
   "metadata": {},
   "source": [
    "![1.5.1](1-5-1.png)\n",
    "![1.5.2](1-5-2.png)"
   ]
  },
  {
   "cell_type": "markdown",
   "metadata": {},
   "source": [
    "#### 6. Виберіть одне cлово зі списку та побудуйте лексико-семантичні зв'язки до трьох різних значень цього слова. Фактично, потрібно побудувати WordNet-подібні вузли. Значення слів можна перевірити у [СУМі](http://sum.in.ua/) та [Словниках України](http://lcorp.ulif.org.ua/dictua/).\n",
    "\n",
    "Слова на вибір: вік, стіна, добро, серце, центр, куля, міст, ланцюг, бік, дух.\n",
    "\n",
    "**Стіна**\n",
    "_іменник;_\n",
    "\n",
    "1. Вертикальна частина будови, яка служить для підтримання перекрить і для розділення приміщення на частини і т. ін. \n",
    "\n",
    "**Приклад:** Головою стіни не проб'єш\n",
    "\n",
    "**Синоніми:** мур\n",
    "\n",
    "**Гіпоніми:** перегородка, пристінок\n",
    "\n",
    "2. чого і з означ. Прямовисна бічна поверхня чого-небудь. \n",
    "\n",
    "**Приклад:** Прямовисні стіни айсбергів підносяться над водою на 20—30 м, іноді і на 100 м\n",
    "\n",
    "**Синоніми:** край\n",
    "\n",
    "**Гіпоніми:** відкіс\n",
    "\n",
    "3. чого і в означ. Висока кам'яна або цегляна огорожа; мур. \n",
    "\n",
    "**Приклад:** Перед вечором заманячіли в степу Лубни, вирнули з туману стіни твердині\n",
    "\n",
    "**Синоніми:** вал, мур, огорожа, загорода, паркан\n",
    "\n",
    "**Гіпоніми:** паркан, тин\n",
    "\n",
    "4. чого і з означ., перен. Те, що відокремлює, роз'єднує кого-, що-небудь, перешкода у здійсненні чогось. \n",
    "\n",
    "**Приклад:** Ксеня почувала, що між нею та Олегом зростає невидима стіна відчуження...\n",
    "\n",
    "**Синоніми:** перешкода, перепона, завада, загата\n",
    "\n",
    "5. чого і з означ., перен. Щільний ряд чи суцільна маса чого-небудь, що утворює перепону, перешкоду, завісу і т. ін. \n",
    "\n",
    "**Приклад:** Усе лякало нас: трава, що тихо майоріла, і гаю дальнього стіна\n",
    "\n",
    "**Синоніми:** завіса, заслона (рідк.)\n",
    "\n",
    "\n",
    "6. Щільно зімкнений стрій бійців у кулачному, рукопашному бою або бійці. \n",
    "\n",
    "**Приклад:** Хоч і вгнулася спочатку стіна руських воїнів під натиском угорських сотень, але ніхто не побіг назад\n",
    "\n",
    "**Синоніми:** шеренга, стрій, лава, ряд\n"
   ]
  },
  {
   "cell_type": "code",
   "execution_count": null,
   "metadata": {},
   "outputs": [],
   "source": []
  }
 ],
 "metadata": {
  "kernelspec": {
   "display_name": "Python 3",
   "language": "python",
   "name": "python3"
  },
  "language_info": {
   "codemirror_mode": {
    "name": "ipython",
    "version": 3
   },
   "file_extension": ".py",
   "mimetype": "text/x-python",
   "name": "python",
   "nbconvert_exporter": "python",
   "pygments_lexer": "ipython3",
   "version": "3.6.5"
  }
 },
 "nbformat": 4,
 "nbformat_minor": 2
}
