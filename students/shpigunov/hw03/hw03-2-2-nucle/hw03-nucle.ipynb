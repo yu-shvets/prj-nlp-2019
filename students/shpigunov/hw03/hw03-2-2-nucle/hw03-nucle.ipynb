{
 "cells": [
  {
   "cell_type": "code",
   "execution_count": 46,
   "metadata": {},
   "outputs": [
    {
     "name": "stdout",
     "output_type": "stream",
     "text": [
      "0.7519972091401207\n"
     ]
    }
   ],
   "source": [
    "from pprint import pprint as pp\n",
    "\n",
    "FILENAME = \"official-2014.combined-withalt.m2\"\n",
    "NUM_ANNOTATORS = 5\n",
    "\n",
    "\n",
    "def agreement(row):\n",
    "    \"\"\"Custom function to calculate agreement between annotators\n",
    "    Basically, it returns the % of annotators that made the same decision,\n",
    "    regardless if it's 0 or 1.\n",
    "    \n",
    "    This function is only intended to work with rows of 0s and 1s.\"\"\"\n",
    "    \n",
    "    return max(sum(row), abs(sum(row) - len(row))) / len(row)\n",
    "\n",
    "\n",
    "def calc_iaa_from_input(filename, ignore_type=False):\n",
    "    \"\"\"\n",
    "    Since we are only calculating agreement, we don't essentially care\n",
    "    about the actual content of the sentences, but rather – how many \n",
    "    annotators made a certain revision and how many didn't. \n",
    "        \n",
    "    Thus, we propose to build an alignment matrix using which we can later \n",
    "    calculate inter-annotator alignment.\n",
    "        \n",
    "    The matrix would be formatted as follows:\n",
    "        \n",
    "        Num | A1 | A2 | An\n",
    "        1   | 0  | 1  | 0\n",
    "        2   | 1  | 1  | 1\n",
    "        3   | 0  | 1  | 0\n",
    "                                                    \n",
    "    Where: \n",
    "        \n",
    "    Num  – number of annotation\n",
    "    A1...An - annotators\n",
    "    0 or 1 - whether annotator Ax made annotation #y\n",
    "    \n",
    "    To build this matrix, we shall keep a dict where the annotation is key and a\n",
    "    row of annotators is the value like so:\n",
    "    \n",
    "    [1, 1, 0, 0, 1] - this means that annotators 1, 2 and 5 made the same annotation.\n",
    "    \n",
    "    \"\"\"\n",
    "    \n",
    "    f = open(FILENAME, 'r')\n",
    "    annotations = {}\n",
    "    n = 0\n",
    "    \n",
    "    for line in f:\n",
    "        \n",
    "        line = line.strip()\n",
    "        \n",
    "        # Start processing a new sentence\n",
    "        if len(line) > 0 and line[0] == 'S':\n",
    "            pass\n",
    "        # Process annotation\n",
    "        elif len(line) > 0 and line[0] == 'A':\n",
    "            annotation_parts = line.split('|||')\n",
    "            \n",
    "            annotator_number = int(annotation_parts[-1])\n",
    "            annotation_start, annotation_end = annotation_parts[0][2:].split()\n",
    "            annotation_span = (int(annotation_start), int(annotation_end))\n",
    "            \n",
    "            # If `ignore_type is set`, annotations with the same span and word \n",
    "            # will be considered as one, regardless of their type\n",
    "            if not ignore_type:\n",
    "                annotation_type = annotation_parts[1]\n",
    "            else:\n",
    "                annotation_type = 'ignore'\n",
    "            \n",
    "            annotation_word = annotation_parts[2]\n",
    "            \n",
    "            annotation_content = (n, annotation_span, annotation_type, annotation_word)\n",
    "            if not annotation_content in annotations.keys():\n",
    "                annotations[annotation_content] = [0 for x in range(NUM_ANNOTATORS)]\n",
    "                annotations[annotation_content][annotator_number] = 1\n",
    "            else:\n",
    "                annotations[annotation_content][annotator_number] = 1\n",
    "        # Next sentence\n",
    "        else:\n",
    "            n += 1\n",
    "    \n",
    "    # Calculate agreement\n",
    "    agreement_list = []\n",
    "    for ann in annotations.values():\n",
    "        agreement_list.append(agreement(ann))\n",
    "    \n",
    "    # pp(annotations)\n",
    "    # print(agreement_list)\n",
    "    \n",
    "    return sum(agreement_list) / len(agreement_list)\n",
    "        \n",
    "        \n",
    "print(calc_iaa_from_input(FILENAME, ignore_type=False))"
   ]
  },
  {
   "cell_type": "code",
   "execution_count": 16,
   "metadata": {},
   "outputs": [
    {
     "data": {
      "text/plain": [
       "0.75"
      ]
     },
     "execution_count": 16,
     "metadata": {},
     "output_type": "execute_result"
    }
   ],
   "source": [
    "r1 = [0, 0, 0, 1] # 3 = .75\n",
    "r2 = [1, 1, 1, 1] # 4 = 1\n",
    "r3 = [1, 1, 0, 0] # 2 = .5\n",
    "r4 = [0, 0, 0, 0]\n",
    "r5 = [0, 1, 1, 1]\n",
    "    \n",
    "agreement(r5)"
   ]
  },
  {
   "cell_type": "code",
   "execution_count": null,
   "metadata": {},
   "outputs": [],
   "source": []
  }
 ],
 "metadata": {
  "kernelspec": {
   "display_name": "Python 3",
   "language": "python",
   "name": "python3"
  },
  "language_info": {
   "codemirror_mode": {
    "name": "ipython",
    "version": 3
   },
   "file_extension": ".py",
   "mimetype": "text/x-python",
   "name": "python",
   "nbconvert_exporter": "python",
   "pygments_lexer": "ipython3",
   "version": "3.6.5"
  }
 },
 "nbformat": 4,
 "nbformat_minor": 2
}
