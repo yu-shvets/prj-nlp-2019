{
 "cells": [
  {
   "cell_type": "code",
   "execution_count": 1,
   "metadata": {},
   "outputs": [],
   "source": [
    "from shmificator import EngLang, UkrLang, Shmificator"
   ]
  },
  {
   "cell_type": "code",
   "execution_count": 4,
   "metadata": {},
   "outputs": [
    {
     "name": "stdout",
     "output_type": "stream",
     "text": [
      "Tests for Eng passed\n"
     ]
    }
   ],
   "source": [
    "shm = Shmificator(lang=EngLang)\n",
    "\n",
    "assert shm('table')     == 'table-shmable'\n",
    "assert shm('breakfast') == 'breakfast-shmeakfast'\n",
    "assert shm('apple')     == 'apple-shmapple'\n",
    "assert shm('shmutter')  == 'shmutter-shmutter'\n",
    "assert shm('ashmont')   == 'ashmont-smashmont'\n",
    "assert shm('Apple')     == 'Apple-Shmapple' \n",
    "assert shm('data science') == 'data science-data shmience'\n",
    "assert shm('Jimmy Hendriks') == 'Jimmy Hendriks-Jimmy Shmendriks'\n",
    "\n",
    "print('Tests for Eng passed')"
   ]
  },
  {
   "cell_type": "code",
   "execution_count": 5,
   "metadata": {},
   "outputs": [
    {
     "name": "stdout",
     "output_type": "stream",
     "text": [
      "Tests for Ukr passed\n"
     ]
    }
   ],
   "source": [
    "shm = Shmificator(lang=UkrLang)\n",
    "\n",
    "assert shm('совеня')   == 'совеня-шмовеня'\n",
    "assert shm('авокадо')  == 'авокадо-шмавокадо'\n",
    "assert shm('Вишгород') == 'Вишгород-Смишгород'\n",
    "assert shm('круглий')  == 'круглий-шмуглий'\n",
    "\n",
    "print('Tests for Ukr passed')"
   ]
  }
 ],
 "metadata": {
  "kernelspec": {
   "display_name": "prj-nlp-2019",
   "language": "python",
   "name": "prj-nlp-2019"
  },
  "language_info": {
   "codemirror_mode": {
    "name": "ipython",
    "version": 3
   },
   "file_extension": ".py",
   "mimetype": "text/x-python",
   "name": "python",
   "nbconvert_exporter": "python",
   "pygments_lexer": "ipython3",
   "version": "3.7.2"
  }
 },
 "nbformat": 4,
 "nbformat_minor": 2
}
