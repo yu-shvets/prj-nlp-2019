{
 "cells": [
  {
   "cell_type": "code",
   "execution_count": 1,
   "metadata": {},
   "outputs": [],
   "source": [
    "import re\n",
    "from tqdm import tqdm\n",
    "from utils import line_reader\n",
    "\n",
    "import spacy\n",
    "from spacy.matcher import Matcher\n",
    "from spacy.tokens import Doc, Token\n",
    "\n",
    "from nltk.corpus import sentiwordnet as swn"
   ]
  },
  {
   "cell_type": "code",
   "execution_count": 2,
   "metadata": {},
   "outputs": [],
   "source": [
    "import warnings\n",
    "warnings.filterwarnings('ignore')"
   ]
  },
  {
   "cell_type": "code",
   "execution_count": 3,
   "metadata": {},
   "outputs": [],
   "source": [
    "HEADLINES_FILE = '../../../tasks/02-structural-linguistics/examiner-headlines.txt'\n",
    "n_lines = sum(1 for _ in line_reader(HEADLINES_FILE))"
   ]
  },
  {
   "cell_type": "code",
   "execution_count": 4,
   "metadata": {},
   "outputs": [],
   "source": [
    "nlp = spacy.load('en_core_web_md')"
   ]
  },
  {
   "cell_type": "markdown",
   "metadata": {},
   "source": [
    "### Завдання\n",
    "\n",
    "1. Напишіть програму, яка аналізує заголовок за першими трьома ознаками (у спрощеній формі)\n",
    "    * Чи є в заголовку іменовані стуності?\n",
    "    * Чи є заголовок позитивно чи негативно забарвлений?\n",
    "    * Чи є в заголовку прикметники та прислівники вищого і найвищого ступенів порівняння?\n",
    "2. Проженіть вашу програму на корпусі заголовків з The Examiner. Для кожної з трьох ознак, визначте відсоток заголовків у корпусі, які її мають.\n",
    "3. Збережіть програму та пораховану статистику в директорії з вашим іменем.\n",
    "\n",
    "Додаткова інформація:\n",
    "* Типи сутностей, які впливають на \"вірусність\" заголовка, виберіть самостійно.\n",
    "* Для визначення емоційного забарвлення, використайте SentiWordNet. Наприклад, можна перевірити, що середнє значення позитивності/негативності слова у заголовку перевищує 0.5. Для визначення середнього значення можна брати до п'яти перших значень слова з такою частиною мови. Будьте креативними та експериментуйте."
   ]
  },
  {
   "cell_type": "code",
   "execution_count": 5,
   "metadata": {},
   "outputs": [],
   "source": [
    "pos_to_santi = {'NOUN': 'n', 'VERB': 'v', 'ADJ' : 'a', 'ADV' : 'r'}\n",
    "N_SENTI_WORDS = 5\n",
    "\n",
    "def get_senti_tag(token):\n",
    "    try:\n",
    "        return pos_to_santi[token.pos_]\n",
    "    except KeyError:\n",
    "        return None\n",
    "    \n",
    "def get_senti_score(token):\n",
    "    if token._.senti_tag:\n",
    "        senti_words = list(swn.senti_synsets(token.lower_, pos=token._.senti_tag))[:N_SENTI_WORDS]\n",
    "        senti_score = sum(max(sw.pos_score(), sw.neg_score()) for sw in senti_words)\n",
    "        senti_score /= N_SENTI_WORDS\n",
    "    else:\n",
    "        senti_score = 0\n",
    "    return senti_score\n",
    "\n",
    "Token.set_extension('senti_tag', getter=get_senti_tag, force=True)\n",
    "Token.set_extension('senti_score', getter=get_senti_score, force=True)"
   ]
  },
  {
   "cell_type": "code",
   "execution_count": 6,
   "metadata": {},
   "outputs": [],
   "source": [
    "VIRAL_ENTS = ('PERSON', 'NORP', 'EVENT', 'MONEY', 'ORG')\n",
    "\n",
    "matcher = Matcher(nlp.vocab)\n",
    "matcher.add('SUPERLATIVE', None, [{'TAG': 'JJR'}], [{'TAG': 'JJS'}], \n",
    " [{'TAG': 'RBS'}, {'TAG': 'JJ'}], [{'TAG': 'RBR'}, {'TAG': 'JJ'}],\n",
    " [{'TAG': 'RBS'}, {'TAG': 'RB'}], [{'TAG': 'RBR'}, {'TAG': 'RB'}])\n",
    "\n",
    "\n",
    "def is_viral_ent(doc):\n",
    "    for ent in doc.ents:\n",
    "        if ent.label_ in VIRAL_ENTS:\n",
    "            return True\n",
    "    return False\n",
    "\n",
    "\n",
    "def is_emotional(doc):\n",
    "    for t in doc:\n",
    "        if t._.senti_score > 0.5:\n",
    "            return True\n",
    "    return False\n",
    "\n",
    "\n",
    "def is_superlative(doc):\n",
    "    return True if matcher(doc) else False\n",
    "\n",
    "\n",
    "Doc.set_extension('is_viral_ent', getter=is_viral_ent, force=True)\n",
    "Doc.set_extension('is_emotional', getter=is_emotional, force=True)\n",
    "Doc.set_extension('is_superlative', getter=is_superlative, force=True)\n"
   ]
  },
  {
   "cell_type": "code",
   "execution_count": 7,
   "metadata": {},
   "outputs": [
    {
     "name": "stderr",
     "output_type": "stream",
     "text": [
      "100%|██████████| 5000/5000 [00:27<00:00, 180.35it/s]\n"
     ]
    }
   ],
   "source": [
    "headlines = line_reader(HEADLINES_FILE)\n",
    "\n",
    "stats = {\n",
    "    'n_viral_ents': 0,\n",
    "    'n_emotional' : 0,\n",
    "    'n_superlative': 0\n",
    "    }\n",
    "\n",
    "for doc in tqdm(nlp.pipe(headlines), total=n_lines):\n",
    "    stats['n_viral_ents'] += int(doc._.is_viral_ent)\n",
    "    stats['n_emotional'] += int(doc._.is_emotional)\n",
    "    stats['n_superlative'] += int(doc._.is_superlative)"
   ]
  },
  {
   "cell_type": "code",
   "execution_count": 9,
   "metadata": {},
   "outputs": [
    {
     "name": "stdout",
     "output_type": "stream",
     "text": [
      "   n_viral_ents 59.3%\n",
      "    n_emotional 3.5 %\n",
      "  n_superlative 4.3 %\n"
     ]
    }
   ],
   "source": [
    "for stat, count in stats.items():\n",
    "    print('{:>15} {:<4.1f}%'.format(stat, 100 * count/n_lines))"
   ]
  },
  {
   "cell_type": "code",
   "execution_count": null,
   "metadata": {},
   "outputs": [],
   "source": []
  },
  {
   "cell_type": "code",
   "execution_count": null,
   "metadata": {},
   "outputs": [],
   "source": []
  },
  {
   "cell_type": "code",
   "execution_count": null,
   "metadata": {},
   "outputs": [],
   "source": []
  },
  {
   "cell_type": "code",
   "execution_count": null,
   "metadata": {},
   "outputs": [],
   "source": []
  }
 ],
 "metadata": {
  "kernelspec": {
   "display_name": "prj-nlp-2019",
   "language": "python",
   "name": "prj-nlp-2019"
  },
  "language_info": {
   "codemirror_mode": {
    "name": "ipython",
    "version": 3
   },
   "file_extension": ".py",
   "mimetype": "text/x-python",
   "name": "python",
   "nbconvert_exporter": "python",
   "pygments_lexer": "ipython3",
   "version": "3.7.2"
  }
 },
 "nbformat": 4,
 "nbformat_minor": 2
}
