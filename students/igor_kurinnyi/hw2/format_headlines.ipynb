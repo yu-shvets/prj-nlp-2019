{
 "cells": [
  {
   "cell_type": "code",
   "execution_count": 1,
   "metadata": {},
   "outputs": [],
   "source": [
    "import re\n",
    "from tqdm import tqdm\n",
    "from utils import line_reader, write_line_to_file\n",
    "\n",
    "import spacy\n",
    "from spacy.tokens import Doc, Token"
   ]
  },
  {
   "cell_type": "code",
   "execution_count": 2,
   "metadata": {},
   "outputs": [],
   "source": [
    "import warnings\n",
    "warnings.filterwarnings('ignore')"
   ]
  },
  {
   "cell_type": "code",
   "execution_count": 3,
   "metadata": {},
   "outputs": [],
   "source": [
    "nlp = spacy.load('en_core_web_md', disable=['ner'])"
   ]
  },
  {
   "cell_type": "code",
   "execution_count": 4,
   "metadata": {},
   "outputs": [],
   "source": [
    "HYPHEN_PATTERN = re.compile(r'[a-zA-Z]+(-[a-zA-Z]+)+')\n",
    "\n",
    "def merge_hyphen_tokens(doc):\n",
    "    inds = [m.span() for m in re.finditer(HYPHEN_PATTERN, doc.text)]\n",
    "    for start, end in inds:\n",
    "        doc.merge(start_idx=start, end_idx=end)\n",
    "    return doc\n",
    "\n",
    "nlp.add_pipe(merge_hyphen_tokens)"
   ]
  },
  {
   "cell_type": "code",
   "execution_count": 5,
   "metadata": {},
   "outputs": [],
   "source": [
    "def custom_is_alpha(t):\n",
    "    return t.is_alpha or re.match(HYPHEN_PATTERN, t.text)\n",
    "\n",
    "def find_first_word_index(doc):\n",
    "    i = 0\n",
    "    found = doc[i]._.is_alpha\n",
    "    while not found:\n",
    "        i += 1\n",
    "        found = doc[i]._.is_alpha\n",
    "    return i\n",
    "\n",
    "def find_last_word_index(doc):\n",
    "    i = len(doc)-1\n",
    "    found = doc[i]._.is_alpha\n",
    "    while not found:\n",
    "        i -= 1\n",
    "        found = doc[i]._.is_alpha\n",
    "    return i\n",
    "\n",
    "def is_first_word(t):\n",
    "    return True if t.i == t.doc._.first_word_ind else False\n",
    "\n",
    "def is_last_word(t):\n",
    "    return True if t.i == t.doc._.last_word_ind else False\n",
    "        \n",
    "\n",
    "Token.set_extension('is_alpha', getter=custom_is_alpha, force=True)\n",
    "Token.set_extension('is_first_word', getter=is_first_word, force=True)\n",
    "Token.set_extension('is_last_word', getter=is_last_word, force=True)\n",
    "Doc.set_extension('first_word_ind', getter=find_first_word_index, force=True)\n",
    "Doc.set_extension('last_word_ind', getter=find_last_word_index, force=True)"
   ]
  },
  {
   "cell_type": "code",
   "execution_count": 6,
   "metadata": {},
   "outputs": [],
   "source": [
    "def format_headline(doc):\n",
    "    headline = [t.text_with_ws.title() if upper_rules(t) else t.text_with_ws.lower() for t in doc]\n",
    "    return ''.join(headline)\n",
    "\n",
    "\n",
    "def upper_rules(token):\n",
    "    first_last_word  = token._.is_first_word or token._.is_last_word\n",
    "    subordinate_conj = (token.pos_ == 'ADP') and (token.dep_ == 'mark')\n",
    "    upper_pos        = token.pos_ in ['NOUN', 'PROPN', 'ADV', 'VERB', 'ADJ', 'PRON']\n",
    "    return first_last_word or subordinate_conj or upper_pos"
   ]
  },
  {
   "cell_type": "code",
   "execution_count": 7,
   "metadata": {},
   "outputs": [],
   "source": [
    "HEADLINES_FILE = '../../../tasks/02-structural-linguistics/examiner-headlines.txt'\n",
    "OUT_FILE = 'formatted_headlines.txt'\n",
    "\n",
    "n_lines = sum(1 for _ in line_reader(HEADLINES_FILE))"
   ]
  },
  {
   "cell_type": "code",
   "execution_count": 8,
   "metadata": {},
   "outputs": [
    {
     "name": "stderr",
     "output_type": "stream",
     "text": [
      "100%|██████████| 5000/5000 [00:15<00:00, 317.99it/s]\n"
     ]
    }
   ],
   "source": [
    "headlines = line_reader(HEADLINES_FILE)\n",
    "n_formatted = 0\n",
    "\n",
    "for doc in tqdm(nlp.pipe(headlines), total=n_lines):\n",
    "    headline = format_headline(doc)\n",
    "    write_line_to_file(OUT_FILE, headline)\n",
    "    \n",
    "    if doc.text != headline:\n",
    "        n_formatted += 1"
   ]
  },
  {
   "cell_type": "code",
   "execution_count": 9,
   "metadata": {},
   "outputs": [
    {
     "name": "stdout",
     "output_type": "stream",
     "text": [
      "Tests passed\n"
     ]
    }
   ],
   "source": [
    "assert format_headline(nlp('Do as you want')) == 'Do As You Want'\n",
    "assert format_headline(nlp('How to use a Macbook as a table')) == 'How to Use a Macbook as a Table'\n",
    "print('Tests passed')"
   ]
  },
  {
   "cell_type": "code",
   "execution_count": 10,
   "metadata": {},
   "outputs": [
    {
     "data": {
      "text/plain": [
       "\"'This' Headline Is about Self-Reflection Boy!\""
      ]
     },
     "execution_count": 10,
     "metadata": {},
     "output_type": "execute_result"
    }
   ],
   "source": [
    "doc = nlp('\\'This\\' headline is about self-reflection boy!')\n",
    "format_headline(doc)"
   ]
  },
  {
   "cell_type": "code",
   "execution_count": 11,
   "metadata": {},
   "outputs": [
    {
     "data": {
      "text/plain": [
       "'Number of headlines that were formatted: 4504'"
      ]
     },
     "execution_count": 11,
     "metadata": {},
     "output_type": "execute_result"
    }
   ],
   "source": [
    "'Number of headlines that were formatted: {}'.format(n_formatted)"
   ]
  }
 ],
 "metadata": {
  "kernelspec": {
   "display_name": "prj-nlp-2019",
   "language": "python",
   "name": "prj-nlp-2019"
  },
  "language_info": {
   "codemirror_mode": {
    "name": "ipython",
    "version": 3
   },
   "file_extension": ".py",
   "mimetype": "text/x-python",
   "name": "python",
   "nbconvert_exporter": "python",
   "pygments_lexer": "ipython3",
   "version": "3.7.2"
  }
 },
 "nbformat": 4,
 "nbformat_minor": 2
}
