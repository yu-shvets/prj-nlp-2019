{
 "cells": [
  {
   "cell_type": "markdown",
   "metadata": {},
   "source": [
    "### 1. Побудуйте ланцюжок походження слів за зразком:"
   ]
  },
  {
   "cell_type": "markdown",
   "metadata": {},
   "source": [
    "* атиповий: (а + (тип + овий))\n",
    "* мореплавання: (море + (плав + ання))\n",
    "* оподаткувати: подать - податок - податковий - оподаткувати\n",
    "* перевтілитися: ((пере + (втілити)) + ся)\n",
    "* схилившись: ((с + хилив) + шись)\n",
    "* підсніжник: ((під + сніж) + ник)"
   ]
  },
  {
   "cell_type": "markdown",
   "metadata": {},
   "source": [
    "### 2. Перевірте роботу SnowballStem для спільнокореневих слів. Напишіть ваші спостереження."
   ]
  },
  {
   "cell_type": "code",
   "execution_count": 1,
   "metadata": {},
   "outputs": [],
   "source": [
    "from nltk.stem.snowball import SnowballStemmer"
   ]
  },
  {
   "cell_type": "code",
   "execution_count": 11,
   "metadata": {},
   "outputs": [],
   "source": [
    "eng_stemmer = SnowballStemmer('english')\n",
    "ru_stemmer = SnowballStemmer('russian')"
   ]
  },
  {
   "cell_type": "code",
   "execution_count": 3,
   "metadata": {},
   "outputs": [],
   "source": [
    "word_series = [\n",
    "        ['truth', 'truthful', 'truthfulness', 'countertruth', 'untruthful', 'truthology'],\n",
    "        ['flaw', 'flaws', 'flawed', 'flawless', 'flawlessness', 'flawlessly'],\n",
    "        ['лес', 'лесной', 'лесник', 'лесничий', 'лесничество', 'пролесье'],\n",
    "        ['окно', 'окошко', 'подоконник', 'оконный', 'окнище'],\n",
    "]"
   ]
  },
  {
   "cell_type": "code",
   "execution_count": 18,
   "metadata": {},
   "outputs": [],
   "source": [
    "def stem_series(stemmer, series):\n",
    "    for word in series:\n",
    "        st = stemmer.stem(word)\n",
    "        print('{:>15} <= {:<10}'.format(st, word)) \n",
    "    print('\\n')"
   ]
  },
  {
   "cell_type": "code",
   "execution_count": 19,
   "metadata": {},
   "outputs": [
    {
     "name": "stdout",
     "output_type": "stream",
     "text": [
      "          truth <= truth     \n",
      "          truth <= truthful  \n",
      "          truth <= truthfulness\n",
      "   countertruth <= countertruth\n",
      "        untruth <= untruthful\n",
      "      trutholog <= truthology\n",
      "\n",
      "\n",
      "           flaw <= flaw      \n",
      "           flaw <= flaws     \n",
      "           flaw <= flawed    \n",
      "       flawless <= flawless  \n",
      "       flawless <= flawlessness\n",
      "       flawless <= flawlessly\n",
      "\n",
      "\n"
     ]
    }
   ],
   "source": [
    "stem_series(eng_stemmer, word_series[0])\n",
    "stem_series(eng_stemmer, word_series[1])"
   ]
  },
  {
   "cell_type": "code",
   "execution_count": 20,
   "metadata": {},
   "outputs": [
    {
     "name": "stdout",
     "output_type": "stream",
     "text": [
      "            лес <= лес       \n",
      "           лесн <= лесной    \n",
      "         лесник <= лесник    \n",
      "         леснич <= лесничий  \n",
      "     лесничеств <= лесничество\n",
      "         пролес <= пролесье  \n",
      "\n",
      "\n",
      "            окн <= окно      \n",
      "          окошк <= окошко    \n",
      "     подоконник <= подоконник\n",
      "           окон <= оконный   \n",
      "          окнищ <= окнище    \n",
      "\n",
      "\n"
     ]
    }
   ],
   "source": [
    "stem_series(ru_stemmer, word_series[2])\n",
    "stem_series(ru_stemmer, word_series[3])"
   ]
  },
  {
   "cell_type": "markdown",
   "metadata": {},
   "source": [
    "**Висновок**: У приведених прикладах стеммер, частково обрізає суфікси та не обробляє префікси"
   ]
  },
  {
   "cell_type": "markdown",
   "metadata": {},
   "source": [
    "### 3. Визначте частину мови виділеного слова і зв'язок до його батька"
   ]
  },
  {
   "cell_type": "markdown",
   "metadata": {},
   "source": [
    "1. We can **{but}** hope that everything will be fine. **==>** cconj, cc(can, but)\n",
    "2. It's sad **{but}** true. **==>** cconj, cc(sad, but)\n",
    "3. Jack brings nothing **{but}** trouble. **==>** adp, cc(nothing, but)\n",
    "4. **{As}** we were talking, I realised how to solve the issue. **==>** adp, mark(talking, as)\n",
    "5. This hot dog isn't **{as}** big as usual. **==>** adv, advmod(big, as)\n",
    "6. This hot dog isn't as big **{as}** usual. **==>** adp, prep(big, as)\n",
    "7. This hot dog isn't as big **{as}** I expected. **==>** adp, advcl(expected, as)\n",
    "8. I work **{as}** a teacher. **==>** adp, prep(work, as)\n",
    "9. Let's do it this **{way}**! **==>** noun, npadvmod(do, way)\n",
    "10. This is **{way}** too much! **==>** adv, attr(much, way)\n",
    "11. The prices are going **{down}**. **==>** adv, prt(going, down)\n",
    "12. Someone pushed him and he fell **{down}** the stairs. **==>** adp, prep(fell, down)\n",
    "13. I’ve been feeling rather **{down}** lately. **==>** adv, advmod(rather, down)\n",
    "14. It's not easy to **{down}** a cup of coffee in one gulp. **==>** adv, xcomp(is, down)\n",
    "15. Bring a **{down}** jacket and a pair of gloves, and you'll be fine. **==>** adj, amod(jacket, down)"
   ]
  },
  {
   "cell_type": "markdown",
   "metadata": {},
   "source": [
    "### 4. Визначте частину мови виділеного слова і зв'язок до його батька "
   ]
  },
  {
   "cell_type": "markdown",
   "metadata": {},
   "source": [
    "1. Рада міністрів Європейського союзу затвердила угоду про спрощений порядок видачі **{віз}** для України. **==>** \n",
    "2. Батько Себастьяна **{віз}** на санях їх театральний гурт до Львова. **==>** дієслово, root(root, віз)\n",
    "3. А ще дивний елемент інтер’єру – **{віз}** із продукцією одного з херсонських виробників. **==>** іменник, appos(інтер'єру, віз)\n",
    "4. У цю мить **{повз}** Євгена пролетів останній вагон товарняка. **==>** прийменник, prep(пролетів, повз)\n",
    "5. Кліпнув очима і побачив малого песика, який саме пробігав **{повз}** у бік села. **==>** прийменник, prep(пробігав, повз)\n",
    "6. Степанко перестав кричати, тільки ламкий стогін **{повз}** йому із грудей. **==>** дієслово (кричати, повз)\n",
    "7. Часу не **{гай}** – декларацію подай! **==>** дієслово, root(ROOT, гай)\n",
    "8. І коляд заспівали, і **{гай}** врятували. **==>** іменник, dobj(врятували, гай)\n",
    "9. **{Гай}**, чи ви забулися, братове? **==>** вигук, root(ROOT, гай)\n",
    "10. Ось присіла на **{край}** ліжка. **==>** ?\n",
    "11. Поставив ту кузню не **{край}** дороги, як було заведено, а на Красній горі, біля Прадуба. **==>** прислівник, advmod(поставив, край)\n",
    "12. Розповідаючи про передній **{край}** лінґвістики, фон Лібіх, як завжди, мислив широко і глобально. **==>** іменник, dobj(pозповідаючи, край)\n",
    "13. Не **{край}** мені серце. **==>** дієслово, root(ROOT, край)\n",
    "14. І **{щойно}** тоді додаємо до борщу смажену цибулю. **==>** прислівник, advmod(додаємо, щойно)\n",
    "15. Бо **{щойно}** я задрімав, віддавши тіло подушці з периною, як мене розбудив поштовх у бік **==>** сполучник, mark(задрімав, щойно)"
   ]
  },
  {
   "cell_type": "markdown",
   "metadata": {},
   "source": [
    "### 5. Виберіть одне речення зі списку та побудуйте для нього дерево залежностей та дерево складників"
   ]
  },
  {
   "cell_type": "code",
   "execution_count": null,
   "metadata": {},
   "outputs": [],
   "source": []
  },
  {
   "cell_type": "markdown",
   "metadata": {},
   "source": [
    "### 6. Виберіть одне cлово зі списку та побудуйте лексико-семантичні зв'язки до трьох різних значень цього слова. Фактично, потрібно побудувати WordNet-подібні вузли, тобто для кожного з трьох значень підібрати синоніми, антоніми, мероніми, голоніми, гіпоніми та гіпероніми, якщо такі є. Значення слів можна перевірити у СУМі чи Словниках України."
   ]
  },
  {
   "cell_type": "markdown",
   "metadata": {},
   "source": [
    "1. Міст - споруда для переїзду або переходу через річку, залізницю, автомагістраль, яр і т. ін.\n",
    "    * гіперонім - дорога\n",
    "    * гіпонім - міст імені Патона\n",
    "    * голоніми - буд. матеріали?\n",
    "\n",
    "\n",
    "2. Міст - положення тіла з вигнутою догори грудною кліткою і з упором на долоні й п'яти.\n",
    "    * гіперонім - акробатика\n",
    "    \n",
    "\n",
    "3. Міст - частина шасі автомашини, трактора.\n",
    "    * гіперонім - деталь\n",
    "    * меронім - автомобіль, трактор"
   ]
  },
  {
   "cell_type": "code",
   "execution_count": null,
   "metadata": {},
   "outputs": [],
   "source": []
  },
  {
   "cell_type": "code",
   "execution_count": null,
   "metadata": {},
   "outputs": [],
   "source": []
  },
  {
   "cell_type": "code",
   "execution_count": null,
   "metadata": {},
   "outputs": [],
   "source": []
  }
 ],
 "metadata": {
  "kernelspec": {
   "display_name": "prj-nlp-2019",
   "language": "python",
   "name": "prj-nlp-2019"
  },
  "language_info": {
   "codemirror_mode": {
    "name": "ipython",
    "version": 3
   },
   "file_extension": ".py",
   "mimetype": "text/x-python",
   "name": "python",
   "nbconvert_exporter": "python",
   "pygments_lexer": "ipython3",
   "version": "3.7.2"
  }
 },
 "nbformat": 4,
 "nbformat_minor": 2
}
