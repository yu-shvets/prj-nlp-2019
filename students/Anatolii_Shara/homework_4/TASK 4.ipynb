{
 "cells": [
  {
   "cell_type": "code",
   "execution_count": 1,
   "metadata": {},
   "outputs": [],
   "source": [
    "import re\n",
    "import json\n",
    "from tqdm import tqdm\n",
    "from itertools import groupby\n",
    "\n",
    "import wikipedia\n",
    "\n",
    "import spacy\n",
    "import pandas as pd\n",
    "\n",
    "# import nltk\n",
    "# from nltk.corpus import stopwords\n",
    "\n",
    "from SPARQLWrapper import SPARQLWrapper, JSON"
   ]
  },
  {
   "cell_type": "code",
   "execution_count": 2,
   "metadata": {},
   "outputs": [],
   "source": [
    "# stopwords = set(stopwords.words('english'))\n",
    "sparql = SPARQLWrapper(\"http://dbpedia.org/sparql\")"
   ]
  },
  {
   "cell_type": "code",
   "execution_count": 3,
   "metadata": {},
   "outputs": [],
   "source": [
    "nlp = spacy.load('en_core_web_sm')"
   ]
  },
  {
   "cell_type": "code",
   "execution_count": 3,
   "metadata": {},
   "outputs": [],
   "source": [
    "query = '''\n",
    "select distinct ?actor, ?actor_wiki_id, ?actor_wiki_link, ?movie_title, ?release_date\n",
    "where {\n",
    "   ?p a dbo:Actor .\n",
    "   ?p foaf:name ?actor .\n",
    "   FILTER(regex(?actor, '([a-zA-Z]+ )+', 'i'))\n",
    "\n",
    "   ?p dbo:wikiPageID ?actor_wiki_id .\n",
    "   ?p foaf:isPrimaryTopicOf ?actor_wiki_link .\n",
    "\n",
    "   ?movie dbo:starring ?p .\n",
    "   ?movie rdfs:label ?movie_title .\n",
    "   FILTER(lang(?movie_title) = 'en')\n",
    "\n",
    "   ?movie dct:subject ?release .\n",
    "   FILTER(regex(?release, '[0-9]{4}_films', 'i'))\n",
    "\n",
    "   ?release rdfs:label ?release_date .\n",
    "}\n",
    "group by ?actor_wiki_id ?movie_title ?release_date\n",
    "order by ?actor\n",
    "limit 100\n",
    "'''"
   ]
  },
  {
   "cell_type": "code",
   "execution_count": 5,
   "metadata": {},
   "outputs": [],
   "source": [
    "def query_dbpedia(query):\n",
    "    sparql.setQuery(query)\n",
    "    sparql.setReturnFormat(JSON)\n",
    "    return sparql.query().convert()"
   ]
  },
  {
   "cell_type": "code",
   "execution_count": 6,
   "metadata": {},
   "outputs": [],
   "source": [
    "def process_data(data):\n",
    "    results = list()\n",
    "    n_actors = len(set(x['actor']['value'] for x in data['results']['bindings']))\n",
    "    data = group_data(data)\n",
    "    \n",
    "    for (actor, pageid), rows in tqdm(data, total=n_actors):\n",
    "        wiki_page = get_wiki_page(int(pageid))\n",
    "        for row in rows:\n",
    "            results.append({ \n",
    "            'actor'          : actor,\n",
    "            'wiki_page'      : wiki_page,\n",
    "            'actor_wiki_id'  : int(pageid),\n",
    "            'actor_wiki_link': row['actor_wiki_link']['value'],\n",
    "            'movie_title'    : row['movie_title']['value'],\n",
    "            'release_date'   : row['release_date']['value'],\n",
    "            })\n",
    "    return results\n",
    "\n",
    "\n",
    "def group_data(data):\n",
    "    keyfunc = lambda x: (x['actor']['value'], x['actor_wiki_id']['value'])\n",
    "    return groupby(data['results']['bindings'], key=keyfunc)\n",
    "\n",
    "\n",
    "def get_wiki_page(pageid):\n",
    "    try:\n",
    "        page = wikipedia.page(pageid=pageid)\n",
    "        return page.content\n",
    "    except wikipedia.exceptions.PageError:\n",
    "        print(f'Cannot extract wiki page for {pageid}')\n",
    "        return None\n",
    "    \n",
    "\n",
    "def write_to_json(file_name, data):\n",
    "    with open(file_name, 'w') as f:\n",
    "        json.dump(data, f)\n",
    "        \n",
    "def load_json(file_name):\n",
    "    with open(file_name, 'r') as f:\n",
    "        data = json.load(f)\n",
    "    return data"
   ]
  },
  {
   "cell_type": "code",
   "execution_count": 7,
   "metadata": {},
   "outputs": [],
   "source": [
    "try:\n",
    "    data = load_json('actors.json')\n",
    "except FileNotFoundError:\n",
    "    data = query_dbpedia(query)\n",
    "    data = process_data(data)\n",
    "    write_to_json('actors.json', data)"
   ]
  },
  {
   "cell_type": "code",
   "execution_count": 8,
   "metadata": {},
   "outputs": [],
   "source": [
    "def clean_text(text):\n",
    "    text = re.sub(r'=+.*?=+', '', text)\n",
    "    text = re.sub(r'[\\s\\t\\n]+', ' ', text)\n",
    "    return text"
   ]
  },
  {
   "cell_type": "code",
   "execution_count": 10,
   "metadata": {},
   "outputs": [
    {
     "name": "stdout",
     "output_type": "stream",
     "text": [
      "(Elvis Tsui)\n"
     ]
    },
    {
     "ename": "ValueError",
     "evalue": "sentence boundary detection requires the dependency parse, which requires data to be installed. If you haven't done so, run: \npython -m spacy.en.download all\nto install the data",
     "output_type": "error",
     "traceback": [
      "\u001b[1;31m---------------------------------------------------------------------------\u001b[0m",
      "\u001b[1;31mValueError\u001b[0m                                Traceback (most recent call last)",
      "\u001b[1;32m<ipython-input-10-475393665a2c>\u001b[0m in \u001b[0;36m<module>\u001b[1;34m\u001b[0m\n\u001b[0;32m      3\u001b[0m     \u001b[0mwiki_page\u001b[0m \u001b[1;33m=\u001b[0m \u001b[0mclean_text\u001b[0m\u001b[1;33m(\u001b[0m\u001b[0mwiki_page\u001b[0m\u001b[1;33m)\u001b[0m\u001b[1;33m\u001b[0m\u001b[1;33m\u001b[0m\u001b[0m\n\u001b[0;32m      4\u001b[0m     \u001b[0mdoc\u001b[0m \u001b[1;33m=\u001b[0m \u001b[0mnlp\u001b[0m\u001b[1;33m(\u001b[0m\u001b[0mwiki_page\u001b[0m\u001b[1;33m)\u001b[0m\u001b[1;33m\u001b[0m\u001b[1;33m\u001b[0m\u001b[0m\n\u001b[1;32m----> 5\u001b[1;33m     \u001b[1;32mfor\u001b[0m \u001b[0msent\u001b[0m \u001b[1;32min\u001b[0m \u001b[0mdoc\u001b[0m\u001b[1;33m.\u001b[0m\u001b[0msents\u001b[0m\u001b[1;33m:\u001b[0m\u001b[1;33m\u001b[0m\u001b[1;33m\u001b[0m\u001b[0m\n\u001b[0m\u001b[0;32m      6\u001b[0m         \u001b[0mprint\u001b[0m\u001b[1;33m(\u001b[0m\u001b[0msent\u001b[0m\u001b[1;33m)\u001b[0m\u001b[1;33m\u001b[0m\u001b[1;33m\u001b[0m\u001b[0m\n\u001b[0;32m      7\u001b[0m     \u001b[1;32mbreak\u001b[0m\u001b[1;33m\u001b[0m\u001b[1;33m\u001b[0m\u001b[0m\n",
      "\u001b[1;32m~\\AppData\\Local\\Continuum\\anaconda3\\lib\\site-packages\\spacy\\tokens\\doc.pyx\u001b[0m in \u001b[0;36m__get__ (spacy/tokens/doc.cpp:9669)\u001b[1;34m()\u001b[0m\n",
      "\u001b[1;31mValueError\u001b[0m: sentence boundary detection requires the dependency parse, which requires data to be installed. If you haven't done so, run: \npython -m spacy.en.download all\nto install the data"
     ]
    }
   ],
   "source": [
    "for (actor, wiki_page), films in groupby(data, key=lambda x: (x['actor'], x['wiki_page'])):\n",
    "    print(actor)\n",
    "    wiki_page = clean_text(wiki_page)\n",
    "    doc = nlp(wiki_page)\n",
    "    for sent in doc.sents:\n",
    "        print(sent)\n",
    "    break"
   ]
  },
  {
   "cell_type": "code",
   "execution_count": 11,
   "metadata": {},
   "outputs": [],
   "source": [
    "import spacy\n",
    "import en_core_web_sm\n",
    "\n",
    "nlp = en_core_web_sm.load()"
   ]
  },
  {
   "cell_type": "code",
   "execution_count": null,
   "metadata": {},
   "outputs": [],
   "source": []
  },
  {
   "cell_type": "code",
   "execution_count": null,
   "metadata": {},
   "outputs": [],
   "source": []
  }
 ],
 "metadata": {
  "kernelspec": {
   "display_name": "Python 3",
   "language": "python",
   "name": "python3"
  },
  "language_info": {
   "codemirror_mode": {
    "name": "ipython",
    "version": 3
   },
   "file_extension": ".py",
   "mimetype": "text/x-python",
   "name": "python",
   "nbconvert_exporter": "python",
   "pygments_lexer": "ipython3",
   "version": "3.6.7"
  }
 },
 "nbformat": 4,
 "nbformat_minor": 2
}
