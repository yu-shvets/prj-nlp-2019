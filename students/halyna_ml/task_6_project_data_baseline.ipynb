{
 "cells": [
  {
   "cell_type": "code",
   "execution_count": 1,
   "metadata": {},
   "outputs": [],
   "source": [
    "import pandas as pd\n",
    "import numpy as np\n",
    "import pickle"
   ]
  },
  {
   "cell_type": "markdown",
   "metadata": {},
   "source": [
    "# Data Primary"
   ]
  },
  {
   "cell_type": "markdown",
   "metadata": {},
   "source": [
    "Task: classify the tweet as 'neutral or no emotion' or as one, or more, of eleven given emotions that best represent the mental state of the tweeter:\n",
    "\n",
    "- anger (also includes annoyance and rage) \n",
    "- anticipation (also includes interest and vigilance)\n",
    "- disgust (also includes disinterest, dislike and loathing)\n",
    "- fear (also includes apprehension, anxiety, concern, and terror)\n",
    "- joy (also includes serenity and ecstasy) \n",
    "- love (also includes affection)\n",
    "- optimism (also includes hopefulness and confidence) \n",
    "- pessimism (also includes cynicism and lack of confidence) \n",
    "- sadness (also includes pensiveness and grief) \n",
    "- suprise (also includes distraction and amazement) \n",
    "- trust (also includes acceptance, liking, and admiration) \n",
    "\n"
   ]
  },
  {
   "cell_type": "code",
   "execution_count": 2,
   "metadata": {},
   "outputs": [],
   "source": [
    "pd.set_option('display.max_colwidth', 500)"
   ]
  },
  {
   "cell_type": "code",
   "execution_count": 4,
   "metadata": {
    "scrolled": true
   },
   "outputs": [
    {
     "data": {
      "text/plain": [
       "886"
      ]
     },
     "execution_count": 4,
     "metadata": {},
     "output_type": "execute_result"
    }
   ],
   "source": [
    "folder_path = \"/Users/macpro/Desktop/data_nlp\"\n",
    "file_name = folder_path +  \"/data/primary_data/2018-E-c-En-dev.txt\"\n",
    "dev_data = pd.read_csv(file_name, sep='\\t',  header='infer')\n",
    "len(dev_data)"
   ]
  },
  {
   "cell_type": "code",
   "execution_count": 28,
   "metadata": {},
   "outputs": [],
   "source": [
    "# dev_data.head()"
   ]
  },
  {
   "cell_type": "code",
   "execution_count": 7,
   "metadata": {},
   "outputs": [],
   "source": [
    "label_list = list(dev_data.drop(['ID', 'Tweet'], axis=1).columns)"
   ]
  },
  {
   "cell_type": "code",
   "execution_count": 29,
   "metadata": {},
   "outputs": [],
   "source": [
    "# dev_data[dev_data['sadness']==1]"
   ]
  },
  {
   "cell_type": "code",
   "execution_count": 16,
   "metadata": {},
   "outputs": [
    {
     "data": {
      "text/plain": [
       "6838"
      ]
     },
     "execution_count": 16,
     "metadata": {},
     "output_type": "execute_result"
    }
   ],
   "source": [
    "file_name = folder_path + \"/data/primary_data/2018-E-c-En-train.txt\"\n",
    "train_data = pd.read_csv(file_name, sep='\\t',  header='infer')\n",
    "len(train_data)"
   ]
  },
  {
   "cell_type": "code",
   "execution_count": 17,
   "metadata": {},
   "outputs": [
    {
     "data": {
      "text/html": [
       "<div>\n",
       "<style scoped>\n",
       "    .dataframe tbody tr th:only-of-type {\n",
       "        vertical-align: middle;\n",
       "    }\n",
       "\n",
       "    .dataframe tbody tr th {\n",
       "        vertical-align: top;\n",
       "    }\n",
       "\n",
       "    .dataframe thead th {\n",
       "        text-align: right;\n",
       "    }\n",
       "</style>\n",
       "<table border=\"1\" class=\"dataframe\">\n",
       "  <thead>\n",
       "    <tr style=\"text-align: right;\">\n",
       "      <th></th>\n",
       "      <th>ID</th>\n",
       "      <th>Tweet</th>\n",
       "      <th>anger</th>\n",
       "      <th>anticipation</th>\n",
       "      <th>disgust</th>\n",
       "      <th>fear</th>\n",
       "      <th>joy</th>\n",
       "      <th>love</th>\n",
       "      <th>optimism</th>\n",
       "      <th>pessimism</th>\n",
       "      <th>sadness</th>\n",
       "      <th>surprise</th>\n",
       "      <th>trust</th>\n",
       "    </tr>\n",
       "  </thead>\n",
       "  <tbody>\n",
       "    <tr>\n",
       "      <th>0</th>\n",
       "      <td>2017-En-21441</td>\n",
       "      <td>“Worry is a down payment on a problem you may never have'.  Joyce Meyer.  #motivation #leadership #worry</td>\n",
       "      <td>0</td>\n",
       "      <td>1</td>\n",
       "      <td>0</td>\n",
       "      <td>0</td>\n",
       "      <td>0</td>\n",
       "      <td>0</td>\n",
       "      <td>1</td>\n",
       "      <td>0</td>\n",
       "      <td>0</td>\n",
       "      <td>0</td>\n",
       "      <td>1</td>\n",
       "    </tr>\n",
       "    <tr>\n",
       "      <th>1</th>\n",
       "      <td>2017-En-31535</td>\n",
       "      <td>Whatever you decide to do make sure it makes you #happy.</td>\n",
       "      <td>0</td>\n",
       "      <td>0</td>\n",
       "      <td>0</td>\n",
       "      <td>0</td>\n",
       "      <td>1</td>\n",
       "      <td>1</td>\n",
       "      <td>1</td>\n",
       "      <td>0</td>\n",
       "      <td>0</td>\n",
       "      <td>0</td>\n",
       "      <td>0</td>\n",
       "    </tr>\n",
       "    <tr>\n",
       "      <th>2</th>\n",
       "      <td>2017-En-21068</td>\n",
       "      <td>@Max_Kellerman  it also helps that the majority of NFL coaching is inept. Some of Bill O'Brien's play calling was wow, ! #GOPATS</td>\n",
       "      <td>1</td>\n",
       "      <td>0</td>\n",
       "      <td>1</td>\n",
       "      <td>0</td>\n",
       "      <td>1</td>\n",
       "      <td>0</td>\n",
       "      <td>1</td>\n",
       "      <td>0</td>\n",
       "      <td>0</td>\n",
       "      <td>0</td>\n",
       "      <td>0</td>\n",
       "    </tr>\n",
       "    <tr>\n",
       "      <th>3</th>\n",
       "      <td>2017-En-31436</td>\n",
       "      <td>Accept the challenges so that you can literally even feel the exhilaration of victory.' -- George S. Patton 🐶</td>\n",
       "      <td>0</td>\n",
       "      <td>0</td>\n",
       "      <td>0</td>\n",
       "      <td>0</td>\n",
       "      <td>1</td>\n",
       "      <td>0</td>\n",
       "      <td>1</td>\n",
       "      <td>0</td>\n",
       "      <td>0</td>\n",
       "      <td>0</td>\n",
       "      <td>0</td>\n",
       "    </tr>\n",
       "    <tr>\n",
       "      <th>4</th>\n",
       "      <td>2017-En-22195</td>\n",
       "      <td>My roommate: it's okay that we can't spell because we have autocorrect. #terrible #firstworldprobs</td>\n",
       "      <td>1</td>\n",
       "      <td>0</td>\n",
       "      <td>1</td>\n",
       "      <td>0</td>\n",
       "      <td>0</td>\n",
       "      <td>0</td>\n",
       "      <td>0</td>\n",
       "      <td>0</td>\n",
       "      <td>0</td>\n",
       "      <td>0</td>\n",
       "      <td>0</td>\n",
       "    </tr>\n",
       "  </tbody>\n",
       "</table>\n",
       "</div>"
      ],
      "text/plain": [
       "              ID  \\\n",
       "0  2017-En-21441   \n",
       "1  2017-En-31535   \n",
       "2  2017-En-21068   \n",
       "3  2017-En-31436   \n",
       "4  2017-En-22195   \n",
       "\n",
       "                                                                                                                              Tweet  \\\n",
       "0                          “Worry is a down payment on a problem you may never have'.  Joyce Meyer.  #motivation #leadership #worry   \n",
       "1                                                                          Whatever you decide to do make sure it makes you #happy.   \n",
       "2  @Max_Kellerman  it also helps that the majority of NFL coaching is inept. Some of Bill O'Brien's play calling was wow, ! #GOPATS   \n",
       "3                     Accept the challenges so that you can literally even feel the exhilaration of victory.' -- George S. Patton 🐶   \n",
       "4                                My roommate: it's okay that we can't spell because we have autocorrect. #terrible #firstworldprobs   \n",
       "\n",
       "   anger  anticipation  disgust  fear  joy  love  optimism  pessimism  \\\n",
       "0      0             1        0     0    0     0         1          0   \n",
       "1      0             0        0     0    1     1         1          0   \n",
       "2      1             0        1     0    1     0         1          0   \n",
       "3      0             0        0     0    1     0         1          0   \n",
       "4      1             0        1     0    0     0         0          0   \n",
       "\n",
       "   sadness  surprise  trust  \n",
       "0        0         0      1  \n",
       "1        0         0      0  \n",
       "2        0         0      0  \n",
       "3        0         0      0  \n",
       "4        0         0      0  "
      ]
     },
     "execution_count": 17,
     "metadata": {},
     "output_type": "execute_result"
    }
   ],
   "source": [
    "train_data.head()"
   ]
  },
  {
   "cell_type": "code",
   "execution_count": 91,
   "metadata": {},
   "outputs": [
    {
     "data": {
      "text/plain": [
       "3259"
      ]
     },
     "execution_count": 91,
     "metadata": {},
     "output_type": "execute_result"
    }
   ],
   "source": [
    "file_name = folder_path + \"/data/primary_data/2018-E-c-En-test-gold.txt\"\n",
    "test_data = pd.read_csv(file_name, sep='\\t',  header='infer')\n",
    "len(test_data)"
   ]
  },
  {
   "cell_type": "code",
   "execution_count": 92,
   "metadata": {},
   "outputs": [
    {
     "data": {
      "text/plain": [
       "10983"
      ]
     },
     "execution_count": 92,
     "metadata": {},
     "output_type": "execute_result"
    }
   ],
   "source": [
    "len(dev_data) + len(train_data) + len(test_data)"
   ]
  },
  {
   "cell_type": "markdown",
   "metadata": {},
   "source": [
    "**У початковому(головному) маємо 11 тис висловлювань**"
   ]
  },
  {
   "cell_type": "markdown",
   "metadata": {},
   "source": [
    "# Baseline"
   ]
  },
  {
   "cell_type": "code",
   "execution_count": 30,
   "metadata": {},
   "outputs": [],
   "source": [
    "from sklearn.feature_extraction.text import CountVectorizer\n",
    "from sklearn.feature_extraction.text import TfidfTransformer\n",
    "from sklearn.preprocessing import MultiLabelBinarizer\n",
    "from sklearn.model_selection import train_test_split\n",
    "from imblearn.over_sampling import RandomOverSampler\n",
    "from sklearn.naive_bayes import MultinomialNB\n",
    "from sklearn.linear_model import SGDClassifier\n",
    "from sklearn.linear_model import LogisticRegression\n",
    "from sklearn.multiclass import OneVsRestClassifier\n",
    "from sklearn.metrics import hamming_loss"
   ]
  },
  {
   "cell_type": "raw",
   "metadata": {},
   "source": [
    "Візьмемо для baseline частину даних"
   ]
  },
  {
   "cell_type": "code",
   "execution_count": 19,
   "metadata": {},
   "outputs": [],
   "source": [
    "df_dataset = train_data\n",
    "df_dataset['Tags'] = df_dataset[label_list].apply(lambda row: [col for col, b in zip(dev_data[label_list].columns, row) if b],\n",
    "                   axis=1)\n",
    "df_dataset['Text'] = df_dataset['Tweet']"
   ]
  },
  {
   "cell_type": "markdown",
   "metadata": {},
   "source": [
    "### Creating tf-idf feature\n",
    "1. encode labels\n",
    "\n",
    "2. конвертує колекцію документів(висловлювань у нашому випадку) до матриці з token counts\n",
    "результат - матриця, де рядок - документ, стовпчик - слово. Матриця заповнена числами - кількість вживання кожного слова з корпусу у кожному документі.\n",
    "\n",
    "3. обчислює tf-idf\n",
    "трансформує попередню матрицю, таким чином знаходить суттєві для документу слова\n",
    "\n",
    "4. виконуємо random over-sampling, компенсуючи незбалансування класів у вибірці\n",
    "\n",
    "5. Класифікатор One-vs-rest (or one-vs-all)\n",
    "Тренуємо бінарні класфікатори для кожного класу, обираємо те передбачення, що має найвижчий score\n",
    "\n",
    "6. Обчислюємо label-based метрики (Hamming score and loss)"
   ]
  },
  {
   "cell_type": "code",
   "execution_count": 20,
   "metadata": {},
   "outputs": [],
   "source": [
    "multilabel_binarizer = MultiLabelBinarizer()\n",
    "multilabel_binarizer.fit(df_dataset.Tags)\n",
    "Y = multilabel_binarizer.transform(df_dataset.Tags)\n",
    "\n",
    "count_vect = CountVectorizer()\n",
    "X_counts = count_vect.fit_transform(df_dataset.Text)\n",
    "\n",
    "tfidf_transformer = TfidfTransformer()\n",
    "X_tfidf = tfidf_transformer.fit_transform(X_counts)"
   ]
  },
  {
   "cell_type": "code",
   "execution_count": 21,
   "metadata": {},
   "outputs": [],
   "source": [
    "ros = RandomOverSampler(random_state=9000)\n",
    "X_tfidf_resampled, Y_tfidf_resampled = ros.fit_sample(X_tfidf, Y)"
   ]
  },
  {
   "cell_type": "code",
   "execution_count": 22,
   "metadata": {},
   "outputs": [],
   "source": [
    "x_train_tfidf, x_test_tfidf, y_train_tfidf, y_test_tfidf = train_test_split(X_tfidf_resampled, Y_tfidf_resampled, test_size=0.2, random_state=9000)"
   ]
  },
  {
   "cell_type": "markdown",
   "metadata": {},
   "source": [
    "### OneVsRest with different classifiers\n",
    "use OneVsRest strategy to have one classifier for each class/label"
   ]
  },
  {
   "cell_type": "code",
   "execution_count": 25,
   "metadata": {},
   "outputs": [],
   "source": [
    "def hamming_score(y_true, y_pred, normalize=True, sample_weight=None):\n",
    "    '''\n",
    "    Compute the Hamming score (a.k.a. label-based accuracy) for the multi-label case\n",
    "    '''\n",
    "    acc_list = []\n",
    "    for i in range(y_true.shape[0]):\n",
    "        set_true = set( np.where(y_true[i])[0] )\n",
    "        set_pred = set( np.where(y_pred[i])[0] )\n",
    "        tmp_a = None\n",
    "        if len(set_true) == 0 and len(set_pred) == 0:\n",
    "            tmp_a = 1\n",
    "        else:\n",
    "            tmp_a = len(set_true.intersection(set_pred))/float(len(set_true.union(set_pred)) )\n",
    "        acc_list.append(tmp_a)\n",
    "    return np.mean(acc_list)\n",
    "\n",
    "def print_score(y_pred, clf):\n",
    "    print(\"Clf: \", clf.__class__.__name__)\n",
    "    print(\"Hamming loss: {}\".format(hamming_loss(y_pred, y_test_tfidf)))\n",
    "    print(\"Hamming score: {}\".format(hamming_score(y_pred, y_test_tfidf)))\n",
    "    print(\"---\")   "
   ]
  },
  {
   "cell_type": "code",
   "execution_count": 26,
   "metadata": {},
   "outputs": [
    {
     "name": "stdout",
     "output_type": "stream",
     "text": [
      "Clf:  MultinomialNB\n",
      "Hamming loss: 0.05760553129548763\n",
      "Hamming score: 0.4586248873639704\n",
      "---\n",
      "Clf:  SGDClassifier\n",
      "Hamming loss: 0.07878457059679767\n",
      "Hamming score: 0.21397379912663755\n",
      "---\n"
     ]
    },
    {
     "name": "stderr",
     "output_type": "stream",
     "text": [
      "/anaconda3/lib/python3.7/site-packages/sklearn/linear_model/stochastic_gradient.py:183: FutureWarning: max_iter and tol parameters have been added in SGDClassifier in 0.19. If max_iter is set but tol is left unset, the default value for tol in 0.19 and 0.20 will be None (which is equivalent to -infinity, so it has no effect) but will change in 0.21 to 1e-3. Specify tol to silence this warning.\n",
      "  FutureWarning)\n",
      "/anaconda3/lib/python3.7/site-packages/sklearn/linear_model/logistic.py:433: FutureWarning: Default solver will be changed to 'lbfgs' in 0.22. Specify a solver to silence this warning.\n",
      "  FutureWarning)\n"
     ]
    },
    {
     "name": "stdout",
     "output_type": "stream",
     "text": [
      "Clf:  LogisticRegression\n",
      "Hamming loss: 0.04052037845705968\n",
      "Hamming score: 0.6135371179039302\n",
      "---\n",
      "Clf:  MultinomialNB\n",
      "Hamming loss: 0.05760553129548763\n",
      "Hamming score: 0.4586248873639704\n",
      "---\n"
     ]
    }
   ],
   "source": [
    "nb_clf = MultinomialNB()\n",
    "sgd = SGDClassifier(loss='hinge', penalty='l2', alpha=1e-3, random_state=42, max_iter=6, tol=None)\n",
    "lr = LogisticRegression()\n",
    "mn = MultinomialNB()\n",
    "\n",
    "for classifier in [nb_clf, sgd, lr, mn]:\n",
    "    clf = OneVsRestClassifier(classifier)\n",
    "    clf.fit(x_train_tfidf, y_train_tfidf)\n",
    "    y_pred = clf.predict(x_test_tfidf)\n",
    "    print_score(y_pred, classifier)"
   ]
  },
  {
   "cell_type": "code",
   "execution_count": null,
   "metadata": {},
   "outputs": [],
   "source": []
  },
  {
   "cell_type": "code",
   "execution_count": null,
   "metadata": {},
   "outputs": [],
   "source": []
  },
  {
   "cell_type": "code",
   "execution_count": null,
   "metadata": {},
   "outputs": [],
   "source": []
  },
  {
   "cell_type": "markdown",
   "metadata": {},
   "source": [
    "# Data additional\n",
    "Щоб збільшити вибірку знаходжу кілька наборів даних, які мають схожі класи і пробую поставити у відповідність новим класам наявні основні"
   ]
  },
  {
   "cell_type": "markdown",
   "metadata": {},
   "source": [
    "# 1 Data 18 classes"
   ]
  },
  {
   "cell_type": "code",
   "execution_count": 281,
   "metadata": {},
   "outputs": [
    {
     "data": {
      "text/plain": [
       "2492"
      ]
     },
     "execution_count": 281,
     "metadata": {},
     "output_type": "execute_result"
    }
   ],
   "source": [
    "file_name = folder_path + \"/data/18_emotions/primary-plutchik-wheel-DFE.csv\"\n",
    "ei_data = pd.read_csv(file_name, sep=',',  header='infer')\n",
    "ei_data = ei_data[ei_data['emotion'] != 'Awe']\n",
    "len(ei_data)"
   ]
  },
  {
   "cell_type": "code",
   "execution_count": 282,
   "metadata": {},
   "outputs": [
    {
     "data": {
      "text/html": [
       "<div>\n",
       "<style scoped>\n",
       "    .dataframe tbody tr th:only-of-type {\n",
       "        vertical-align: middle;\n",
       "    }\n",
       "\n",
       "    .dataframe tbody tr th {\n",
       "        vertical-align: top;\n",
       "    }\n",
       "\n",
       "    .dataframe thead th {\n",
       "        text-align: right;\n",
       "    }\n",
       "</style>\n",
       "<table border=\"1\" class=\"dataframe\">\n",
       "  <thead>\n",
       "    <tr style=\"text-align: right;\">\n",
       "      <th></th>\n",
       "      <th>_unit_id</th>\n",
       "      <th>_golden</th>\n",
       "      <th>_unit_state</th>\n",
       "      <th>_trusted_judgments</th>\n",
       "      <th>_last_judgment_at</th>\n",
       "      <th>emotion</th>\n",
       "      <th>emotion:confidence</th>\n",
       "      <th>emotion_gold</th>\n",
       "      <th>id</th>\n",
       "      <th>idiom_id</th>\n",
       "      <th>sentence</th>\n",
       "    </tr>\n",
       "  </thead>\n",
       "  <tbody>\n",
       "    <tr>\n",
       "      <th>0</th>\n",
       "      <td>731671736</td>\n",
       "      <td>False</td>\n",
       "      <td>finalized</td>\n",
       "      <td>5</td>\n",
       "      <td>6/8/15 16:10</td>\n",
       "      <td>Neutral</td>\n",
       "      <td>0.3333</td>\n",
       "      <td>NaN</td>\n",
       "      <td>1</td>\n",
       "      <td>1</td>\n",
       "      <td>How much of the forecast was genuine and how much was fixed, it is a moot point.</td>\n",
       "    </tr>\n",
       "    <tr>\n",
       "      <th>1</th>\n",
       "      <td>731671737</td>\n",
       "      <td>False</td>\n",
       "      <td>finalized</td>\n",
       "      <td>5</td>\n",
       "      <td>6/12/15 14:33</td>\n",
       "      <td>Neutral</td>\n",
       "      <td>0.3885</td>\n",
       "      <td>NaN</td>\n",
       "      <td>2</td>\n",
       "      <td>2</td>\n",
       "      <td>I did touch them one time you see but of course there was nothing doing, he wanted me.</td>\n",
       "    </tr>\n",
       "    <tr>\n",
       "      <th>2</th>\n",
       "      <td>731671738</td>\n",
       "      <td>False</td>\n",
       "      <td>finalized</td>\n",
       "      <td>5</td>\n",
       "      <td>6/8/15 16:10</td>\n",
       "      <td>Neutral</td>\n",
       "      <td>0.3333</td>\n",
       "      <td>NaN</td>\n",
       "      <td>3</td>\n",
       "      <td>3</td>\n",
       "      <td>We find that choice theorists admit that they introduce a style of moral paternalism at odds with liberal values.</td>\n",
       "    </tr>\n",
       "    <tr>\n",
       "      <th>3</th>\n",
       "      <td>731671739</td>\n",
       "      <td>False</td>\n",
       "      <td>finalized</td>\n",
       "      <td>5</td>\n",
       "      <td>6/8/15 16:30</td>\n",
       "      <td>Neutral</td>\n",
       "      <td>0.3690</td>\n",
       "      <td>NaN</td>\n",
       "      <td>4</td>\n",
       "      <td>4</td>\n",
       "      <td>Well, here I am with an olive branch.</td>\n",
       "    </tr>\n",
       "    <tr>\n",
       "      <th>4</th>\n",
       "      <td>731671740</td>\n",
       "      <td>False</td>\n",
       "      <td>finalized</td>\n",
       "      <td>5</td>\n",
       "      <td>6/8/15 16:30</td>\n",
       "      <td>Neutral</td>\n",
       "      <td>0.5572</td>\n",
       "      <td>NaN</td>\n",
       "      <td>5</td>\n",
       "      <td>5</td>\n",
       "      <td>Its rudder and fin were both knocked out, and a four-foot-long gash in the shell meant even repairs on the bank were out of the question.</td>\n",
       "    </tr>\n",
       "  </tbody>\n",
       "</table>\n",
       "</div>"
      ],
      "text/plain": [
       "    _unit_id  _golden _unit_state  _trusted_judgments _last_judgment_at  \\\n",
       "0  731671736    False   finalized                   5      6/8/15 16:10   \n",
       "1  731671737    False   finalized                   5     6/12/15 14:33   \n",
       "2  731671738    False   finalized                   5      6/8/15 16:10   \n",
       "3  731671739    False   finalized                   5      6/8/15 16:30   \n",
       "4  731671740    False   finalized                   5      6/8/15 16:30   \n",
       "\n",
       "   emotion  emotion:confidence emotion_gold  id  idiom_id  \\\n",
       "0  Neutral              0.3333          NaN   1         1   \n",
       "1  Neutral              0.3885          NaN   2         2   \n",
       "2  Neutral              0.3333          NaN   3         3   \n",
       "3  Neutral              0.3690          NaN   4         4   \n",
       "4  Neutral              0.5572          NaN   5         5   \n",
       "\n",
       "                                                                                                                                    sentence  \n",
       "0                                                           How much of the forecast was genuine and how much was fixed, it is a moot point.  \n",
       "1                                                     I did touch them one time you see but of course there was nothing doing, he wanted me.  \n",
       "2                          We find that choice theorists admit that they introduce a style of moral paternalism at odds with liberal values.  \n",
       "3                                                                                                      Well, here I am with an olive branch.  \n",
       "4  Its rudder and fin were both knocked out, and a four-foot-long gash in the shell meant even repairs on the bank were out of the question.  "
      ]
     },
     "execution_count": 282,
     "metadata": {},
     "output_type": "execute_result"
    }
   ],
   "source": [
    "ei_data.head()"
   ]
  },
  {
   "cell_type": "code",
   "execution_count": 283,
   "metadata": {},
   "outputs": [
    {
     "data": {
      "text/html": [
       "<div>\n",
       "<style scoped>\n",
       "    .dataframe tbody tr th:only-of-type {\n",
       "        vertical-align: middle;\n",
       "    }\n",
       "\n",
       "    .dataframe tbody tr th {\n",
       "        vertical-align: top;\n",
       "    }\n",
       "\n",
       "    .dataframe thead th {\n",
       "        text-align: right;\n",
       "    }\n",
       "</style>\n",
       "<table border=\"1\" class=\"dataframe\">\n",
       "  <thead>\n",
       "    <tr style=\"text-align: right;\">\n",
       "      <th></th>\n",
       "      <th>emotion</th>\n",
       "      <th>emotion_gold</th>\n",
       "      <th>sentence</th>\n",
       "    </tr>\n",
       "  </thead>\n",
       "  <tbody>\n",
       "    <tr>\n",
       "      <th>0</th>\n",
       "      <td>Neutral</td>\n",
       "      <td>NaN</td>\n",
       "      <td>How much of the forecast was genuine and how much was fixed, it is a moot point.</td>\n",
       "    </tr>\n",
       "    <tr>\n",
       "      <th>1</th>\n",
       "      <td>Neutral</td>\n",
       "      <td>NaN</td>\n",
       "      <td>I did touch them one time you see but of course there was nothing doing, he wanted me.</td>\n",
       "    </tr>\n",
       "    <tr>\n",
       "      <th>2</th>\n",
       "      <td>Neutral</td>\n",
       "      <td>NaN</td>\n",
       "      <td>We find that choice theorists admit that they introduce a style of moral paternalism at odds with liberal values.</td>\n",
       "    </tr>\n",
       "    <tr>\n",
       "      <th>3</th>\n",
       "      <td>Neutral</td>\n",
       "      <td>NaN</td>\n",
       "      <td>Well, here I am with an olive branch.</td>\n",
       "    </tr>\n",
       "    <tr>\n",
       "      <th>4</th>\n",
       "      <td>Neutral</td>\n",
       "      <td>NaN</td>\n",
       "      <td>Its rudder and fin were both knocked out, and a four-foot-long gash in the shell meant even repairs on the bank were out of the question.</td>\n",
       "    </tr>\n",
       "  </tbody>\n",
       "</table>\n",
       "</div>"
      ],
      "text/plain": [
       "   emotion emotion_gold  \\\n",
       "0  Neutral          NaN   \n",
       "1  Neutral          NaN   \n",
       "2  Neutral          NaN   \n",
       "3  Neutral          NaN   \n",
       "4  Neutral          NaN   \n",
       "\n",
       "                                                                                                                                    sentence  \n",
       "0                                                           How much of the forecast was genuine and how much was fixed, it is a moot point.  \n",
       "1                                                     I did touch them one time you see but of course there was nothing doing, he wanted me.  \n",
       "2                          We find that choice theorists admit that they introduce a style of moral paternalism at odds with liberal values.  \n",
       "3                                                                                                      Well, here I am with an olive branch.  \n",
       "4  Its rudder and fin were both knocked out, and a four-foot-long gash in the shell meant even repairs on the bank were out of the question.  "
      ]
     },
     "execution_count": 283,
     "metadata": {},
     "output_type": "execute_result"
    }
   ],
   "source": [
    "ei_data[['emotion', 'emotion_gold', 'sentence']].head()"
   ]
  },
  {
   "cell_type": "code",
   "execution_count": 284,
   "metadata": {},
   "outputs": [
    {
     "data": {
      "text/plain": [
       "18"
      ]
     },
     "execution_count": 284,
     "metadata": {},
     "output_type": "execute_result"
    }
   ],
   "source": [
    "dict_18_classes_lables_2 = {'Anger':['anger'],\n",
    "'Anticipation': ['anticipation'],\n",
    "'Disgust': ['disgust'],\n",
    "'Disapproval' : ['disgust'],\n",
    "'Fear' : ['fear'],\n",
    "'Joy' : ['joy'],\n",
    "'Love' : ['love'],    \n",
    "'Optimism' : ['optimism'],\n",
    "'Sadness' : ['sadness'],\n",
    "'Surprise' : ['surprise'],\n",
    "'Trust' : ['trust'],\n",
    "'Contempt': ['disgust'],\n",
    "'Neutral': ['neutral'],\n",
    "'Aggression': ['anger','disgust'],\n",
    "'Remorse':  ['sadness', 'pessimism'],\n",
    "'Submission': ['pessimism'],\n",
    "'Awe': [],\n",
    "'Ambiguous': ['neutral']}\n",
    "len(dict_18_classes_lables_2)"
   ]
  },
  {
   "cell_type": "code",
   "execution_count": 194,
   "metadata": {},
   "outputs": [],
   "source": [
    "# 18\n",
    "# ei_data[ei_data['emotion']== 'Submission']"
   ]
  },
  {
   "cell_type": "code",
   "execution_count": 285,
   "metadata": {
    "scrolled": true
   },
   "outputs": [],
   "source": [
    "ei_data['emotion_gold_list'] = ei_data[ei_data['emotion_gold'].notna()]['emotion_gold']\\\n",
    "    .map(lambda x: list(set(np.concatenate( [dict_18_classes_lables_2[i] for i in x.split('\\n')]))))\n"
   ]
  },
  {
   "cell_type": "code",
   "execution_count": 273,
   "metadata": {
    "scrolled": true
   },
   "outputs": [
    {
     "data": {
      "text/html": [
       "<div>\n",
       "<style scoped>\n",
       "    .dataframe tbody tr th:only-of-type {\n",
       "        vertical-align: middle;\n",
       "    }\n",
       "\n",
       "    .dataframe tbody tr th {\n",
       "        vertical-align: top;\n",
       "    }\n",
       "\n",
       "    .dataframe thead th {\n",
       "        text-align: right;\n",
       "    }\n",
       "</style>\n",
       "<table border=\"1\" class=\"dataframe\">\n",
       "  <thead>\n",
       "    <tr style=\"text-align: right;\">\n",
       "      <th></th>\n",
       "      <th>_unit_id</th>\n",
       "      <th>_golden</th>\n",
       "      <th>_unit_state</th>\n",
       "      <th>_trusted_judgments</th>\n",
       "      <th>_last_judgment_at</th>\n",
       "      <th>emotion</th>\n",
       "      <th>emotion:confidence</th>\n",
       "      <th>emotion_gold</th>\n",
       "      <th>id</th>\n",
       "      <th>idiom_id</th>\n",
       "      <th>sentence</th>\n",
       "      <th>emotion_gold_list</th>\n",
       "    </tr>\n",
       "  </thead>\n",
       "  <tbody>\n",
       "    <tr>\n",
       "      <th>23</th>\n",
       "      <td>731671759</td>\n",
       "      <td>True</td>\n",
       "      <td>golden</td>\n",
       "      <td>22</td>\n",
       "      <td>6/8/15 16:10</td>\n",
       "      <td>[neutral, disgust, love, anger]</td>\n",
       "      <td>0.6284</td>\n",
       "      <td>Aggression\\nAnger\\nAwe\\nContempt\\nDisapproval\\nDisgust\\nLove\\nNeutral</td>\n",
       "      <td>29</td>\n",
       "      <td>29</td>\n",
       "      <td>Here we are at loggerheads with the rival practice, and I've gone and fallen in love with Robert's assistant.</td>\n",
       "      <td>[neutral, disgust, love, anger]</td>\n",
       "    </tr>\n",
       "    <tr>\n",
       "      <th>33</th>\n",
       "      <td>731671769</td>\n",
       "      <td>True</td>\n",
       "      <td>golden</td>\n",
       "      <td>24</td>\n",
       "      <td>6/8/15 15:47</td>\n",
       "      <td>[disgust, anger]</td>\n",
       "      <td>0.5302</td>\n",
       "      <td>Aggression\\nAnger\\nContempt\\nDisapproval\\nDisgust</td>\n",
       "      <td>40</td>\n",
       "      <td>40</td>\n",
       "      <td>I've got a bone to pick with one club.</td>\n",
       "      <td>[disgust, anger]</td>\n",
       "    </tr>\n",
       "    <tr>\n",
       "      <th>43</th>\n",
       "      <td>731671779</td>\n",
       "      <td>True</td>\n",
       "      <td>golden</td>\n",
       "      <td>19</td>\n",
       "      <td>6/8/15 16:10</td>\n",
       "      <td>[disgust, sadness, anger, pessimism]</td>\n",
       "      <td>0.6148</td>\n",
       "      <td>Aggression\\nAnger\\nContempt\\nDisapproval\\nDisgust\\nRemorse\\nSadness</td>\n",
       "      <td>52</td>\n",
       "      <td>40</td>\n",
       "      <td>Dear Father Christmas, I have a bone to pick with you.</td>\n",
       "      <td>[disgust, sadness, anger, pessimism]</td>\n",
       "    </tr>\n",
       "    <tr>\n",
       "      <th>75</th>\n",
       "      <td>731671811</td>\n",
       "      <td>True</td>\n",
       "      <td>golden</td>\n",
       "      <td>19</td>\n",
       "      <td>6/8/15 16:16</td>\n",
       "      <td>[disgust, sadness, neutral, anger, love]</td>\n",
       "      <td>0.7671</td>\n",
       "      <td>Anger\\nDisapproval\\nLove\\nNeutral\\nSadness</td>\n",
       "      <td>107</td>\n",
       "      <td>107</td>\n",
       "      <td>Because I like you, Breeze, and it makes my blood boil to think of you slaving away as you do.</td>\n",
       "      <td>[disgust, sadness, neutral, anger, love]</td>\n",
       "    </tr>\n",
       "    <tr>\n",
       "      <th>137</th>\n",
       "      <td>731671873</td>\n",
       "      <td>True</td>\n",
       "      <td>golden</td>\n",
       "      <td>16</td>\n",
       "      <td>NaN</td>\n",
       "      <td>[optimism, joy, surprise]</td>\n",
       "      <td>0.8109</td>\n",
       "      <td>Joy\\nOptimism\\nSurprise</td>\n",
       "      <td>203</td>\n",
       "      <td>203</td>\n",
       "      <td>Yeah, pleased as punch.</td>\n",
       "      <td>[optimism, joy, surprise]</td>\n",
       "    </tr>\n",
       "  </tbody>\n",
       "</table>\n",
       "</div>"
      ],
      "text/plain": [
       "      _unit_id  _golden _unit_state  _trusted_judgments _last_judgment_at  \\\n",
       "23   731671759     True      golden                  22      6/8/15 16:10   \n",
       "33   731671769     True      golden                  24      6/8/15 15:47   \n",
       "43   731671779     True      golden                  19      6/8/15 16:10   \n",
       "75   731671811     True      golden                  19      6/8/15 16:16   \n",
       "137  731671873     True      golden                  16               NaN   \n",
       "\n",
       "                                      emotion  emotion:confidence  \\\n",
       "23            [neutral, disgust, love, anger]              0.6284   \n",
       "33                           [disgust, anger]              0.5302   \n",
       "43       [disgust, sadness, anger, pessimism]              0.6148   \n",
       "75   [disgust, sadness, neutral, anger, love]              0.7671   \n",
       "137                 [optimism, joy, surprise]              0.8109   \n",
       "\n",
       "                                                              emotion_gold  \\\n",
       "23   Aggression\\nAnger\\nAwe\\nContempt\\nDisapproval\\nDisgust\\nLove\\nNeutral   \n",
       "33                       Aggression\\nAnger\\nContempt\\nDisapproval\\nDisgust   \n",
       "43     Aggression\\nAnger\\nContempt\\nDisapproval\\nDisgust\\nRemorse\\nSadness   \n",
       "75                              Anger\\nDisapproval\\nLove\\nNeutral\\nSadness   \n",
       "137                                                Joy\\nOptimism\\nSurprise   \n",
       "\n",
       "      id  idiom_id  \\\n",
       "23    29        29   \n",
       "33    40        40   \n",
       "43    52        40   \n",
       "75   107       107   \n",
       "137  203       203   \n",
       "\n",
       "                                                                                                          sentence  \\\n",
       "23   Here we are at loggerheads with the rival practice, and I've gone and fallen in love with Robert's assistant.   \n",
       "33                                                                          I've got a bone to pick with one club.   \n",
       "43                                                          Dear Father Christmas, I have a bone to pick with you.   \n",
       "75                  Because I like you, Breeze, and it makes my blood boil to think of you slaving away as you do.   \n",
       "137                                                                                        Yeah, pleased as punch.   \n",
       "\n",
       "                            emotion_gold_list  \n",
       "23            [neutral, disgust, love, anger]  \n",
       "33                           [disgust, anger]  \n",
       "43       [disgust, sadness, anger, pessimism]  \n",
       "75   [disgust, sadness, neutral, anger, love]  \n",
       "137                 [optimism, joy, surprise]  "
      ]
     },
     "execution_count": 273,
     "metadata": {},
     "output_type": "execute_result"
    }
   ],
   "source": [
    "ei_data[ei_data['emotion_gold'].notna()].head()"
   ]
  },
  {
   "cell_type": "code",
   "execution_count": 290,
   "metadata": {},
   "outputs": [],
   "source": [
    "ei_data.loc[:, 'emotion'] = ei_data['emotion'].map(dict_18_classes_lables_2)"
   ]
  },
  {
   "cell_type": "code",
   "execution_count": 292,
   "metadata": {},
   "outputs": [],
   "source": [
    "ei_data.loc[ei_data['emotion_gold'].notna(), 'emotion'] = ei_data['emotion_gold_list']"
   ]
  },
  {
   "cell_type": "code",
   "execution_count": 293,
   "metadata": {},
   "outputs": [
    {
     "data": {
      "text/html": [
       "<div>\n",
       "<style scoped>\n",
       "    .dataframe tbody tr th:only-of-type {\n",
       "        vertical-align: middle;\n",
       "    }\n",
       "\n",
       "    .dataframe tbody tr th {\n",
       "        vertical-align: top;\n",
       "    }\n",
       "\n",
       "    .dataframe thead th {\n",
       "        text-align: right;\n",
       "    }\n",
       "</style>\n",
       "<table border=\"1\" class=\"dataframe\">\n",
       "  <thead>\n",
       "    <tr style=\"text-align: right;\">\n",
       "      <th></th>\n",
       "      <th>_unit_id</th>\n",
       "      <th>_golden</th>\n",
       "      <th>_unit_state</th>\n",
       "      <th>_trusted_judgments</th>\n",
       "      <th>_last_judgment_at</th>\n",
       "      <th>emotion</th>\n",
       "      <th>emotion:confidence</th>\n",
       "      <th>emotion_gold</th>\n",
       "      <th>id</th>\n",
       "      <th>idiom_id</th>\n",
       "      <th>sentence</th>\n",
       "      <th>emotion_gold_list</th>\n",
       "    </tr>\n",
       "  </thead>\n",
       "  <tbody>\n",
       "    <tr>\n",
       "      <th>23</th>\n",
       "      <td>731671759</td>\n",
       "      <td>True</td>\n",
       "      <td>golden</td>\n",
       "      <td>22</td>\n",
       "      <td>6/8/15 16:10</td>\n",
       "      <td>[neutral, disgust, love, anger]</td>\n",
       "      <td>0.6284</td>\n",
       "      <td>Aggression\\nAnger\\nAwe\\nContempt\\nDisapproval\\nDisgust\\nLove\\nNeutral</td>\n",
       "      <td>29</td>\n",
       "      <td>29</td>\n",
       "      <td>Here we are at loggerheads with the rival practice, and I've gone and fallen in love with Robert's assistant.</td>\n",
       "      <td>[neutral, disgust, love, anger]</td>\n",
       "    </tr>\n",
       "    <tr>\n",
       "      <th>33</th>\n",
       "      <td>731671769</td>\n",
       "      <td>True</td>\n",
       "      <td>golden</td>\n",
       "      <td>24</td>\n",
       "      <td>6/8/15 15:47</td>\n",
       "      <td>[disgust, anger]</td>\n",
       "      <td>0.5302</td>\n",
       "      <td>Aggression\\nAnger\\nContempt\\nDisapproval\\nDisgust</td>\n",
       "      <td>40</td>\n",
       "      <td>40</td>\n",
       "      <td>I've got a bone to pick with one club.</td>\n",
       "      <td>[disgust, anger]</td>\n",
       "    </tr>\n",
       "    <tr>\n",
       "      <th>43</th>\n",
       "      <td>731671779</td>\n",
       "      <td>True</td>\n",
       "      <td>golden</td>\n",
       "      <td>19</td>\n",
       "      <td>6/8/15 16:10</td>\n",
       "      <td>[disgust, sadness, anger, pessimism]</td>\n",
       "      <td>0.6148</td>\n",
       "      <td>Aggression\\nAnger\\nContempt\\nDisapproval\\nDisgust\\nRemorse\\nSadness</td>\n",
       "      <td>52</td>\n",
       "      <td>40</td>\n",
       "      <td>Dear Father Christmas, I have a bone to pick with you.</td>\n",
       "      <td>[disgust, sadness, anger, pessimism]</td>\n",
       "    </tr>\n",
       "    <tr>\n",
       "      <th>75</th>\n",
       "      <td>731671811</td>\n",
       "      <td>True</td>\n",
       "      <td>golden</td>\n",
       "      <td>19</td>\n",
       "      <td>6/8/15 16:16</td>\n",
       "      <td>[disgust, sadness, neutral, anger, love]</td>\n",
       "      <td>0.7671</td>\n",
       "      <td>Anger\\nDisapproval\\nLove\\nNeutral\\nSadness</td>\n",
       "      <td>107</td>\n",
       "      <td>107</td>\n",
       "      <td>Because I like you, Breeze, and it makes my blood boil to think of you slaving away as you do.</td>\n",
       "      <td>[disgust, sadness, neutral, anger, love]</td>\n",
       "    </tr>\n",
       "    <tr>\n",
       "      <th>137</th>\n",
       "      <td>731671873</td>\n",
       "      <td>True</td>\n",
       "      <td>golden</td>\n",
       "      <td>16</td>\n",
       "      <td>NaN</td>\n",
       "      <td>[optimism, joy, surprise]</td>\n",
       "      <td>0.8109</td>\n",
       "      <td>Joy\\nOptimism\\nSurprise</td>\n",
       "      <td>203</td>\n",
       "      <td>203</td>\n",
       "      <td>Yeah, pleased as punch.</td>\n",
       "      <td>[optimism, joy, surprise]</td>\n",
       "    </tr>\n",
       "  </tbody>\n",
       "</table>\n",
       "</div>"
      ],
      "text/plain": [
       "      _unit_id  _golden _unit_state  _trusted_judgments _last_judgment_at  \\\n",
       "23   731671759     True      golden                  22      6/8/15 16:10   \n",
       "33   731671769     True      golden                  24      6/8/15 15:47   \n",
       "43   731671779     True      golden                  19      6/8/15 16:10   \n",
       "75   731671811     True      golden                  19      6/8/15 16:16   \n",
       "137  731671873     True      golden                  16               NaN   \n",
       "\n",
       "                                      emotion  emotion:confidence  \\\n",
       "23            [neutral, disgust, love, anger]              0.6284   \n",
       "33                           [disgust, anger]              0.5302   \n",
       "43       [disgust, sadness, anger, pessimism]              0.6148   \n",
       "75   [disgust, sadness, neutral, anger, love]              0.7671   \n",
       "137                 [optimism, joy, surprise]              0.8109   \n",
       "\n",
       "                                                              emotion_gold  \\\n",
       "23   Aggression\\nAnger\\nAwe\\nContempt\\nDisapproval\\nDisgust\\nLove\\nNeutral   \n",
       "33                       Aggression\\nAnger\\nContempt\\nDisapproval\\nDisgust   \n",
       "43     Aggression\\nAnger\\nContempt\\nDisapproval\\nDisgust\\nRemorse\\nSadness   \n",
       "75                              Anger\\nDisapproval\\nLove\\nNeutral\\nSadness   \n",
       "137                                                Joy\\nOptimism\\nSurprise   \n",
       "\n",
       "      id  idiom_id  \\\n",
       "23    29        29   \n",
       "33    40        40   \n",
       "43    52        40   \n",
       "75   107       107   \n",
       "137  203       203   \n",
       "\n",
       "                                                                                                          sentence  \\\n",
       "23   Here we are at loggerheads with the rival practice, and I've gone and fallen in love with Robert's assistant.   \n",
       "33                                                                          I've got a bone to pick with one club.   \n",
       "43                                                          Dear Father Christmas, I have a bone to pick with you.   \n",
       "75                  Because I like you, Breeze, and it makes my blood boil to think of you slaving away as you do.   \n",
       "137                                                                                        Yeah, pleased as punch.   \n",
       "\n",
       "                            emotion_gold_list  \n",
       "23            [neutral, disgust, love, anger]  \n",
       "33                           [disgust, anger]  \n",
       "43       [disgust, sadness, anger, pessimism]  \n",
       "75   [disgust, sadness, neutral, anger, love]  \n",
       "137                 [optimism, joy, surprise]  "
      ]
     },
     "execution_count": 293,
     "metadata": {},
     "output_type": "execute_result"
    }
   ],
   "source": [
    "ei_data.loc[ei_data['emotion_gold'].notna()].head()"
   ]
  },
  {
   "cell_type": "code",
   "execution_count": 295,
   "metadata": {},
   "outputs": [],
   "source": [
    "ei_data_1 = ei_data['emotion'].str.join(sep='*').str.get_dummies(sep='*')"
   ]
  },
  {
   "cell_type": "code",
   "execution_count": 297,
   "metadata": {},
   "outputs": [],
   "source": [
    "ei_data_2 = addZeroLabels(ei_data_1, label_list)"
   ]
  },
  {
   "cell_type": "code",
   "execution_count": 298,
   "metadata": {
    "scrolled": true
   },
   "outputs": [
    {
     "data": {
      "text/plain": [
       "anger           1\n",
       "anticipation    0\n",
       "disgust         1\n",
       "fear            0\n",
       "joy             0\n",
       "love            1\n",
       "optimism        0\n",
       "pessimism       0\n",
       "sadness         0\n",
       "surprise        0\n",
       "trust           0\n",
       "Name: 23, dtype: int64"
      ]
     },
     "execution_count": 298,
     "metadata": {},
     "output_type": "execute_result"
    }
   ],
   "source": [
    "ei_data_2.iloc[23]"
   ]
  },
  {
   "cell_type": "code",
   "execution_count": 300,
   "metadata": {},
   "outputs": [],
   "source": [
    "ei_data_2['sentence'] = ei_data['sentence']"
   ]
  },
  {
   "cell_type": "code",
   "execution_count": 303,
   "metadata": {},
   "outputs": [],
   "source": [
    "class_18_df = ei_data_2"
   ]
  },
  {
   "cell_type": "markdown",
   "metadata": {},
   "source": [
    "**Результат:**"
   ]
  },
  {
   "cell_type": "code",
   "execution_count": 305,
   "metadata": {},
   "outputs": [
    {
     "data": {
      "text/html": [
       "<div>\n",
       "<style scoped>\n",
       "    .dataframe tbody tr th:only-of-type {\n",
       "        vertical-align: middle;\n",
       "    }\n",
       "\n",
       "    .dataframe tbody tr th {\n",
       "        vertical-align: top;\n",
       "    }\n",
       "\n",
       "    .dataframe thead th {\n",
       "        text-align: right;\n",
       "    }\n",
       "</style>\n",
       "<table border=\"1\" class=\"dataframe\">\n",
       "  <thead>\n",
       "    <tr style=\"text-align: right;\">\n",
       "      <th></th>\n",
       "      <th>anger</th>\n",
       "      <th>anticipation</th>\n",
       "      <th>disgust</th>\n",
       "      <th>fear</th>\n",
       "      <th>joy</th>\n",
       "      <th>love</th>\n",
       "      <th>optimism</th>\n",
       "      <th>pessimism</th>\n",
       "      <th>sadness</th>\n",
       "      <th>surprise</th>\n",
       "      <th>trust</th>\n",
       "      <th>sentence</th>\n",
       "    </tr>\n",
       "  </thead>\n",
       "  <tbody>\n",
       "    <tr>\n",
       "      <th>22</th>\n",
       "      <td>0</td>\n",
       "      <td>0</td>\n",
       "      <td>0</td>\n",
       "      <td>0</td>\n",
       "      <td>0</td>\n",
       "      <td>0</td>\n",
       "      <td>0</td>\n",
       "      <td>1</td>\n",
       "      <td>0</td>\n",
       "      <td>0</td>\n",
       "      <td>0</td>\n",
       "      <td>For Lisa's sake, for Celia's sake, perhaps it would be better to let sleeping dogs lie.</td>\n",
       "    </tr>\n",
       "    <tr>\n",
       "      <th>23</th>\n",
       "      <td>1</td>\n",
       "      <td>0</td>\n",
       "      <td>1</td>\n",
       "      <td>0</td>\n",
       "      <td>0</td>\n",
       "      <td>1</td>\n",
       "      <td>0</td>\n",
       "      <td>0</td>\n",
       "      <td>0</td>\n",
       "      <td>0</td>\n",
       "      <td>0</td>\n",
       "      <td>Here we are at loggerheads with the rival practice, and I've gone and fallen in love with Robert's assistant.</td>\n",
       "    </tr>\n",
       "    <tr>\n",
       "      <th>24</th>\n",
       "      <td>0</td>\n",
       "      <td>1</td>\n",
       "      <td>0</td>\n",
       "      <td>0</td>\n",
       "      <td>0</td>\n",
       "      <td>0</td>\n",
       "      <td>0</td>\n",
       "      <td>0</td>\n",
       "      <td>0</td>\n",
       "      <td>0</td>\n",
       "      <td>0</td>\n",
       "      <td>Rugby league's deadliest rivals lock horns in the season's big curtain-raiser at Gateshead tomorrow.</td>\n",
       "    </tr>\n",
       "    <tr>\n",
       "      <th>25</th>\n",
       "      <td>0</td>\n",
       "      <td>0</td>\n",
       "      <td>0</td>\n",
       "      <td>0</td>\n",
       "      <td>0</td>\n",
       "      <td>0</td>\n",
       "      <td>0</td>\n",
       "      <td>0</td>\n",
       "      <td>0</td>\n",
       "      <td>1</td>\n",
       "      <td>0</td>\n",
       "      <td>For a brother and sister act, there was certainly no love lost between them.</td>\n",
       "    </tr>\n",
       "    <tr>\n",
       "      <th>26</th>\n",
       "      <td>0</td>\n",
       "      <td>0</td>\n",
       "      <td>1</td>\n",
       "      <td>0</td>\n",
       "      <td>0</td>\n",
       "      <td>0</td>\n",
       "      <td>0</td>\n",
       "      <td>0</td>\n",
       "      <td>0</td>\n",
       "      <td>0</td>\n",
       "      <td>0</td>\n",
       "      <td>Trust a woman to make a mountain out of a molehill.</td>\n",
       "    </tr>\n",
       "    <tr>\n",
       "      <th>27</th>\n",
       "      <td>0</td>\n",
       "      <td>0</td>\n",
       "      <td>0</td>\n",
       "      <td>0</td>\n",
       "      <td>0</td>\n",
       "      <td>0</td>\n",
       "      <td>0</td>\n",
       "      <td>0</td>\n",
       "      <td>0</td>\n",
       "      <td>0</td>\n",
       "      <td>0</td>\n",
       "      <td>Is that much ado about nothing really?</td>\n",
       "    </tr>\n",
       "    <tr>\n",
       "      <th>28</th>\n",
       "      <td>0</td>\n",
       "      <td>0</td>\n",
       "      <td>0</td>\n",
       "      <td>0</td>\n",
       "      <td>0</td>\n",
       "      <td>0</td>\n",
       "      <td>0</td>\n",
       "      <td>0</td>\n",
       "      <td>0</td>\n",
       "      <td>0</td>\n",
       "      <td>0</td>\n",
       "      <td>Well, you weren't gonna argue the toss.</td>\n",
       "    </tr>\n",
       "    <tr>\n",
       "      <th>29</th>\n",
       "      <td>0</td>\n",
       "      <td>0</td>\n",
       "      <td>0</td>\n",
       "      <td>0</td>\n",
       "      <td>0</td>\n",
       "      <td>0</td>\n",
       "      <td>0</td>\n",
       "      <td>0</td>\n",
       "      <td>1</td>\n",
       "      <td>0</td>\n",
       "      <td>0</td>\n",
       "      <td>Then, in 1981, all hell broke loose in the Cambridge English Faculty.</td>\n",
       "    </tr>\n",
       "    <tr>\n",
       "      <th>30</th>\n",
       "      <td>1</td>\n",
       "      <td>0</td>\n",
       "      <td>1</td>\n",
       "      <td>0</td>\n",
       "      <td>0</td>\n",
       "      <td>0</td>\n",
       "      <td>0</td>\n",
       "      <td>0</td>\n",
       "      <td>0</td>\n",
       "      <td>0</td>\n",
       "      <td>0</td>\n",
       "      <td>Battle lines are drawn for control of the Norfolk Capital hotels group.</td>\n",
       "    </tr>\n",
       "    <tr>\n",
       "      <th>31</th>\n",
       "      <td>0</td>\n",
       "      <td>0</td>\n",
       "      <td>0</td>\n",
       "      <td>0</td>\n",
       "      <td>0</td>\n",
       "      <td>0</td>\n",
       "      <td>0</td>\n",
       "      <td>0</td>\n",
       "      <td>0</td>\n",
       "      <td>0</td>\n",
       "      <td>0</td>\n",
       "      <td>Chantal hissed, her eyes locked on his in a battle of wills.</td>\n",
       "    </tr>\n",
       "    <tr>\n",
       "      <th>32</th>\n",
       "      <td>0</td>\n",
       "      <td>0</td>\n",
       "      <td>1</td>\n",
       "      <td>0</td>\n",
       "      <td>0</td>\n",
       "      <td>0</td>\n",
       "      <td>0</td>\n",
       "      <td>0</td>\n",
       "      <td>0</td>\n",
       "      <td>0</td>\n",
       "      <td>0</td>\n",
       "      <td>Personal appearances always seemed to be a bone of contention.</td>\n",
       "    </tr>\n",
       "  </tbody>\n",
       "</table>\n",
       "</div>"
      ],
      "text/plain": [
       "    anger  anticipation  disgust  fear  joy  love  optimism  pessimism  \\\n",
       "22      0             0        0     0    0     0         0          1   \n",
       "23      1             0        1     0    0     1         0          0   \n",
       "24      0             1        0     0    0     0         0          0   \n",
       "25      0             0        0     0    0     0         0          0   \n",
       "26      0             0        1     0    0     0         0          0   \n",
       "27      0             0        0     0    0     0         0          0   \n",
       "28      0             0        0     0    0     0         0          0   \n",
       "29      0             0        0     0    0     0         0          0   \n",
       "30      1             0        1     0    0     0         0          0   \n",
       "31      0             0        0     0    0     0         0          0   \n",
       "32      0             0        1     0    0     0         0          0   \n",
       "\n",
       "    sadness  surprise  trust  \\\n",
       "22        0         0      0   \n",
       "23        0         0      0   \n",
       "24        0         0      0   \n",
       "25        0         1      0   \n",
       "26        0         0      0   \n",
       "27        0         0      0   \n",
       "28        0         0      0   \n",
       "29        1         0      0   \n",
       "30        0         0      0   \n",
       "31        0         0      0   \n",
       "32        0         0      0   \n",
       "\n",
       "                                                                                                         sentence  \n",
       "22                        For Lisa's sake, for Celia's sake, perhaps it would be better to let sleeping dogs lie.  \n",
       "23  Here we are at loggerheads with the rival practice, and I've gone and fallen in love with Robert's assistant.  \n",
       "24           Rugby league's deadliest rivals lock horns in the season's big curtain-raiser at Gateshead tomorrow.  \n",
       "25                                   For a brother and sister act, there was certainly no love lost between them.  \n",
       "26                                                            Trust a woman to make a mountain out of a molehill.  \n",
       "27                                                                         Is that much ado about nothing really?  \n",
       "28                                                                        Well, you weren't gonna argue the toss.  \n",
       "29                                          Then, in 1981, all hell broke loose in the Cambridge English Faculty.  \n",
       "30                                        Battle lines are drawn for control of the Norfolk Capital hotels group.  \n",
       "31                                                   Chantal hissed, her eyes locked on his in a battle of wills.  \n",
       "32                                                 Personal appearances always seemed to be a bone of contention.  "
      ]
     },
     "execution_count": 305,
     "metadata": {},
     "output_type": "execute_result"
    }
   ],
   "source": [
    "class_18_df[22:33]"
   ]
  },
  {
   "cell_type": "code",
   "execution_count": 307,
   "metadata": {},
   "outputs": [
    {
     "data": {
      "text/plain": [
       "2492"
      ]
     },
     "execution_count": 307,
     "metadata": {},
     "output_type": "execute_result"
    }
   ],
   "source": [
    "len(class_18_df)"
   ]
  },
  {
   "cell_type": "markdown",
   "metadata": {},
   "source": [
    "# 2 Data Twitter "
   ]
  },
  {
   "cell_type": "markdown",
   "metadata": {},
   "source": [
    "Twitter <br>\n",
    "twitter status id  - annotaion <br>\n",
    "вибірка з університету, може бути якісною, але треба \n",
    "- завантажити собі текст твітів за id (використати Twitter API?)\n",
    "- смайлам поставити у відповідність мітки, попереньо вирішити, які смайли цікаві(знайшла всі emojies з описом), частоково в ручну треба буде обробити "
   ]
  },
  {
   "cell_type": "code",
   "execution_count": 310,
   "metadata": {},
   "outputs": [],
   "source": [
    "file_name = 'full_train_plaintext.txt'\n",
    "data = pd.read_csv(file_name, sep='\\t',  header='infer')"
   ]
  },
  {
   "cell_type": "code",
   "execution_count": 311,
   "metadata": {
    "scrolled": true
   },
   "outputs": [
    {
     "data": {
      "text/html": [
       "<div>\n",
       "<style scoped>\n",
       "    .dataframe tbody tr th:only-of-type {\n",
       "        vertical-align: middle;\n",
       "    }\n",
       "\n",
       "    .dataframe tbody tr th {\n",
       "        vertical-align: top;\n",
       "    }\n",
       "\n",
       "    .dataframe thead th {\n",
       "        text-align: right;\n",
       "    }\n",
       "</style>\n",
       "<table border=\"1\" class=\"dataframe\">\n",
       "  <thead>\n",
       "    <tr style=\"text-align: right;\">\n",
       "      <th></th>\n",
       "      <th>id</th>\n",
       "      <th>annotations</th>\n",
       "    </tr>\n",
       "  </thead>\n",
       "  <tbody>\n",
       "    <tr>\n",
       "      <th>0</th>\n",
       "      <td>744014442837454848</td>\n",
       "      <td>47,883</td>\n",
       "    </tr>\n",
       "    <tr>\n",
       "      <th>1</th>\n",
       "      <td>742407819496919041</td>\n",
       "      <td>1381</td>\n",
       "    </tr>\n",
       "    <tr>\n",
       "      <th>2</th>\n",
       "      <td>744101567981359105</td>\n",
       "      <td>1421</td>\n",
       "    </tr>\n",
       "    <tr>\n",
       "      <th>3</th>\n",
       "      <td>744692442033577984</td>\n",
       "      <td>1056</td>\n",
       "    </tr>\n",
       "    <tr>\n",
       "      <th>4</th>\n",
       "      <td>746426733834944512</td>\n",
       "      <td>1056,1381</td>\n",
       "    </tr>\n",
       "  </tbody>\n",
       "</table>\n",
       "</div>"
      ],
      "text/plain": [
       "                   id annotations\n",
       "0  744014442837454848      47,883\n",
       "1  742407819496919041        1381\n",
       "2  744101567981359105        1421\n",
       "3  744692442033577984        1056\n",
       "4  746426733834944512   1056,1381"
      ]
     },
     "execution_count": 311,
     "metadata": {},
     "output_type": "execute_result"
    }
   ],
   "source": [
    "data.head()"
   ]
  },
  {
   "cell_type": "raw",
   "metadata": {},
   "source": [
    "https://twitter.com/anyuser/status/932586791953158144\n",
    "останнє число - id"
   ]
  },
  {
   "cell_type": "markdown",
   "metadata": {},
   "source": [
    "**12 997 219 висловлювань**"
   ]
  },
  {
   "cell_type": "code",
   "execution_count": 312,
   "metadata": {},
   "outputs": [
    {
     "data": {
      "text/plain": [
       "12997219"
      ]
     },
     "execution_count": 312,
     "metadata": {},
     "output_type": "execute_result"
    }
   ],
   "source": [
    "# 12 997 219\n",
    "len(data)"
   ]
  },
  {
   "cell_type": "code",
   "execution_count": 314,
   "metadata": {
    "scrolled": true
   },
   "outputs": [
    {
     "data": {
      "text/html": [
       "<div>\n",
       "<style scoped>\n",
       "    .dataframe tbody tr th:only-of-type {\n",
       "        vertical-align: middle;\n",
       "    }\n",
       "\n",
       "    .dataframe tbody tr th {\n",
       "        vertical-align: top;\n",
       "    }\n",
       "\n",
       "    .dataframe thead th {\n",
       "        text-align: right;\n",
       "    }\n",
       "</style>\n",
       "<table border=\"1\" class=\"dataframe\">\n",
       "  <thead>\n",
       "    <tr style=\"text-align: right;\">\n",
       "      <th></th>\n",
       "      <th>id</th>\n",
       "    </tr>\n",
       "    <tr>\n",
       "      <th>id</th>\n",
       "      <th></th>\n",
       "    </tr>\n",
       "  </thead>\n",
       "  <tbody>\n",
       "    <tr>\n",
       "      <th>False</th>\n",
       "      <td>12306695</td>\n",
       "    </tr>\n",
       "    <tr>\n",
       "      <th>True</th>\n",
       "      <td>690524</td>\n",
       "    </tr>\n",
       "  </tbody>\n",
       "</table>\n",
       "</div>"
      ],
      "text/plain": [
       "             id\n",
       "id             \n",
       "False  12306695\n",
       "True     690524"
      ]
     },
     "execution_count": 314,
     "metadata": {},
     "output_type": "execute_result"
    }
   ],
   "source": [
    "#  mentions \n",
    "data.groupby(data['id'].map(lambda s: s[-2:])=='_q').agg({'id':'count'})"
   ]
  },
  {
   "cell_type": "code",
   "execution_count": 315,
   "metadata": {},
   "outputs": [
    {
     "data": {
      "text/plain": [
       "94.68714037979971"
      ]
     },
     "execution_count": 315,
     "metadata": {},
     "output_type": "execute_result"
    }
   ],
   "source": [
    "100*12306695/(12306695 + 690524)\n",
    "# 94% записів без mentions"
   ]
  },
  {
   "cell_type": "raw",
   "metadata": {},
   "source": [
    "Для цих же даних за annotation -> emoji"
   ]
  },
  {
   "cell_type": "code",
   "execution_count": 317,
   "metadata": {},
   "outputs": [],
   "source": [
    "file_name = 'emoji_map_1791.csv'\n",
    "emoji_data = pd.read_csv(file_name, sep=',',  header='infer')"
   ]
  },
  {
   "cell_type": "code",
   "execution_count": 318,
   "metadata": {},
   "outputs": [],
   "source": [
    "emoji_data = emoji_data.reset_index().rename(columns={'index':'id'})"
   ]
  },
  {
   "cell_type": "code",
   "execution_count": 323,
   "metadata": {},
   "outputs": [
    {
     "data": {
      "text/html": [
       "<div>\n",
       "<style scoped>\n",
       "    .dataframe tbody tr th:only-of-type {\n",
       "        vertical-align: middle;\n",
       "    }\n",
       "\n",
       "    .dataframe tbody tr th {\n",
       "        vertical-align: top;\n",
       "    }\n",
       "\n",
       "    .dataframe thead th {\n",
       "        text-align: right;\n",
       "    }\n",
       "</style>\n",
       "<table border=\"1\" class=\"dataframe\">\n",
       "  <thead>\n",
       "    <tr style=\"text-align: right;\">\n",
       "      <th></th>\n",
       "      <th>id</th>\n",
       "      <th>Unnamed: 0</th>\n",
       "      <th>category</th>\n",
       "      <th>title</th>\n",
       "      <th>shorts</th>\n",
       "      <th>unicode_alternates</th>\n",
       "      <th>keywords</th>\n",
       "      <th>ucode_short</th>\n",
       "      <th>ucode</th>\n",
       "      <th>aliases</th>\n",
       "      <th>alt_title</th>\n",
       "      <th>aliases_ascii</th>\n",
       "    </tr>\n",
       "  </thead>\n",
       "  <tbody>\n",
       "    <tr>\n",
       "      <th>1397</th>\n",
       "      <td>1397</td>\n",
       "      <td>😒</td>\n",
       "      <td>people</td>\n",
       "      <td>unamused face</td>\n",
       "      <td>[unamused]</td>\n",
       "      <td>NaN</td>\n",
       "      <td>[emotion, unamused, tired, smiley, unhappy, sad, mad, face]</td>\n",
       "      <td>1f612</td>\n",
       "      <td>😒</td>\n",
       "      <td>NaN</td>\n",
       "      <td>NaN</td>\n",
       "      <td>NaN</td>\n",
       "    </tr>\n",
       "    <tr>\n",
       "      <th>1398</th>\n",
       "      <td>1398</td>\n",
       "      <td>😓</td>\n",
       "      <td>people</td>\n",
       "      <td>face with cold sweat</td>\n",
       "      <td>[sweat]</td>\n",
       "      <td>NaN</td>\n",
       "      <td>[emotion, smiley, sad, sweat, stressed, cold, face]</td>\n",
       "      <td>1f613</td>\n",
       "      <td>😓</td>\n",
       "      <td>NaN</td>\n",
       "      <td>NaN</td>\n",
       "      <td>[':(, ':-(, '=(]</td>\n",
       "    </tr>\n",
       "    <tr>\n",
       "      <th>1399</th>\n",
       "      <td>1399</td>\n",
       "      <td>😔</td>\n",
       "      <td>people</td>\n",
       "      <td>pensive face</td>\n",
       "      <td>[pensive]</td>\n",
       "      <td>NaN</td>\n",
       "      <td>[emotion, pensive, smiley, dejected, rip, sad, face]</td>\n",
       "      <td>1f614</td>\n",
       "      <td>😔</td>\n",
       "      <td>NaN</td>\n",
       "      <td>NaN</td>\n",
       "      <td>NaN</td>\n",
       "    </tr>\n",
       "    <tr>\n",
       "      <th>1400</th>\n",
       "      <td>1400</td>\n",
       "      <td>😕</td>\n",
       "      <td>people</td>\n",
       "      <td>confused face</td>\n",
       "      <td>[confused]</td>\n",
       "      <td>NaN</td>\n",
       "      <td>[emotion, smiley, confused, surprised, face]</td>\n",
       "      <td>1f615</td>\n",
       "      <td>😕</td>\n",
       "      <td>NaN</td>\n",
       "      <td>NaN</td>\n",
       "      <td>[&gt;:\\, &gt;:/, :-/, :-., :/, :\\, =/, =\\, :L, =L]</td>\n",
       "    </tr>\n",
       "    <tr>\n",
       "      <th>1401</th>\n",
       "      <td>1401</td>\n",
       "      <td>😖</td>\n",
       "      <td>people</td>\n",
       "      <td>confounded face</td>\n",
       "      <td>[confounded]</td>\n",
       "      <td>NaN</td>\n",
       "      <td>[emotion, confounded, angry, smiley, sad, face]</td>\n",
       "      <td>1f616</td>\n",
       "      <td>😖</td>\n",
       "      <td>NaN</td>\n",
       "      <td>NaN</td>\n",
       "      <td>NaN</td>\n",
       "    </tr>\n",
       "  </tbody>\n",
       "</table>\n",
       "</div>"
      ],
      "text/plain": [
       "        id Unnamed: 0 category                 title        shorts  \\\n",
       "1397  1397          😒   people         unamused face    [unamused]   \n",
       "1398  1398          😓   people  face with cold sweat       [sweat]   \n",
       "1399  1399          😔   people          pensive face     [pensive]   \n",
       "1400  1400          😕   people         confused face    [confused]   \n",
       "1401  1401          😖   people       confounded face  [confounded]   \n",
       "\n",
       "     unicode_alternates  \\\n",
       "1397                NaN   \n",
       "1398                NaN   \n",
       "1399                NaN   \n",
       "1400                NaN   \n",
       "1401                NaN   \n",
       "\n",
       "                                                         keywords ucode_short  \\\n",
       "1397  [emotion, unamused, tired, smiley, unhappy, sad, mad, face]       1f612   \n",
       "1398          [emotion, smiley, sad, sweat, stressed, cold, face]       1f613   \n",
       "1399         [emotion, pensive, smiley, dejected, rip, sad, face]       1f614   \n",
       "1400                 [emotion, smiley, confused, surprised, face]       1f615   \n",
       "1401              [emotion, confounded, angry, smiley, sad, face]       1f616   \n",
       "\n",
       "     ucode aliases alt_title                                 aliases_ascii  \n",
       "1397     😒     NaN       NaN                                           NaN  \n",
       "1398     😓     NaN       NaN                              [':(, ':-(, '=(]  \n",
       "1399     😔     NaN       NaN                                           NaN  \n",
       "1400     😕     NaN       NaN  [>:\\, >:/, :-/, :-., :/, :\\, =/, =\\, :L, =L]  \n",
       "1401     😖     NaN       NaN                                           NaN  "
      ]
     },
     "execution_count": 323,
     "metadata": {},
     "output_type": "execute_result"
    }
   ],
   "source": [
    "emoji_data[1397:1407].head()"
   ]
  },
  {
   "cell_type": "code",
   "execution_count": 327,
   "metadata": {
    "scrolled": false
   },
   "outputs": [
    {
     "data": {
      "text/plain": [
       "category                                                         people\n",
       "title                                                     unamused face\n",
       "keywords    [emotion, unamused, tired, smiley, unhappy, sad, mad, face]\n",
       "ucode                                                                 😒\n",
       "Name: 1397, dtype: object"
      ]
     },
     "execution_count": 327,
     "metadata": {},
     "output_type": "execute_result"
    }
   ],
   "source": [
    "emoji_data.iloc[1397,:][['category', 'title', 'keywords', 'ucode']]"
   ]
  },
  {
   "cell_type": "code",
   "execution_count": 328,
   "metadata": {},
   "outputs": [],
   "source": [
    "emoji_dict = pd.Series(emoji_data['ucode'].values, index=emoji_data['id']).to_dict()"
   ]
  },
  {
   "cell_type": "code",
   "execution_count": 329,
   "metadata": {},
   "outputs": [],
   "source": [
    "data['tags'] = data['annotations'].map(lambda x: x.split(','))"
   ]
  },
  {
   "cell_type": "code",
   "execution_count": 330,
   "metadata": {
    "scrolled": true
   },
   "outputs": [
    {
     "data": {
      "text/html": [
       "<div>\n",
       "<style scoped>\n",
       "    .dataframe tbody tr th:only-of-type {\n",
       "        vertical-align: middle;\n",
       "    }\n",
       "\n",
       "    .dataframe tbody tr th {\n",
       "        vertical-align: top;\n",
       "    }\n",
       "\n",
       "    .dataframe thead th {\n",
       "        text-align: right;\n",
       "    }\n",
       "</style>\n",
       "<table border=\"1\" class=\"dataframe\">\n",
       "  <thead>\n",
       "    <tr style=\"text-align: right;\">\n",
       "      <th></th>\n",
       "      <th>id</th>\n",
       "      <th>annotations</th>\n",
       "      <th>tags</th>\n",
       "    </tr>\n",
       "  </thead>\n",
       "  <tbody>\n",
       "    <tr>\n",
       "      <th>0</th>\n",
       "      <td>744014442837454848</td>\n",
       "      <td>47,883</td>\n",
       "      <td>[47, 883]</td>\n",
       "    </tr>\n",
       "    <tr>\n",
       "      <th>1</th>\n",
       "      <td>742407819496919041</td>\n",
       "      <td>1381</td>\n",
       "      <td>[1381]</td>\n",
       "    </tr>\n",
       "    <tr>\n",
       "      <th>2</th>\n",
       "      <td>744101567981359105</td>\n",
       "      <td>1421</td>\n",
       "      <td>[1421]</td>\n",
       "    </tr>\n",
       "    <tr>\n",
       "      <th>3</th>\n",
       "      <td>744692442033577984</td>\n",
       "      <td>1056</td>\n",
       "      <td>[1056]</td>\n",
       "    </tr>\n",
       "    <tr>\n",
       "      <th>4</th>\n",
       "      <td>746426733834944512</td>\n",
       "      <td>1056,1381</td>\n",
       "      <td>[1056, 1381]</td>\n",
       "    </tr>\n",
       "  </tbody>\n",
       "</table>\n",
       "</div>"
      ],
      "text/plain": [
       "                   id annotations          tags\n",
       "0  744014442837454848      47,883     [47, 883]\n",
       "1  742407819496919041        1381        [1381]\n",
       "2  744101567981359105        1421        [1421]\n",
       "3  744692442033577984        1056        [1056]\n",
       "4  746426733834944512   1056,1381  [1056, 1381]"
      ]
     },
     "execution_count": 330,
     "metadata": {},
     "output_type": "execute_result"
    }
   ],
   "source": [
    "data.head()"
   ]
  },
  {
   "cell_type": "code",
   "execution_count": 331,
   "metadata": {},
   "outputs": [],
   "source": [
    "data_top_tags =  data.groupby('annotations').agg({'id':'count'}).sort_values('id', ascending=False).reset_index()\n",
    "# data_top_tags['annotations'].map(emoji_dict)"
   ]
  },
  {
   "cell_type": "code",
   "execution_count": 332,
   "metadata": {},
   "outputs": [],
   "source": [
    "data_top_tags['em'] = data_top_tags['annotations'].map(lambda x: int(x) if (','not in x) else x).map(emoji_dict)"
   ]
  },
  {
   "cell_type": "markdown",
   "metadata": {},
   "source": [
    "Топ 10 emojies в даних"
   ]
  },
  {
   "cell_type": "code",
   "execution_count": 333,
   "metadata": {},
   "outputs": [
    {
     "data": {
      "text/html": [
       "<div>\n",
       "<style scoped>\n",
       "    .dataframe tbody tr th:only-of-type {\n",
       "        vertical-align: middle;\n",
       "    }\n",
       "\n",
       "    .dataframe tbody tr th {\n",
       "        vertical-align: top;\n",
       "    }\n",
       "\n",
       "    .dataframe thead th {\n",
       "        text-align: right;\n",
       "    }\n",
       "</style>\n",
       "<table border=\"1\" class=\"dataframe\">\n",
       "  <thead>\n",
       "    <tr style=\"text-align: right;\">\n",
       "      <th></th>\n",
       "      <th>annotations</th>\n",
       "      <th>id</th>\n",
       "      <th>em</th>\n",
       "    </tr>\n",
       "  </thead>\n",
       "  <tbody>\n",
       "    <tr>\n",
       "      <th>0</th>\n",
       "      <td>1381</td>\n",
       "      <td>1046494</td>\n",
       "      <td>😂</td>\n",
       "    </tr>\n",
       "    <tr>\n",
       "      <th>1</th>\n",
       "      <td>1447</td>\n",
       "      <td>393323</td>\n",
       "      <td>🙄</td>\n",
       "    </tr>\n",
       "    <tr>\n",
       "      <th>2</th>\n",
       "      <td>1392</td>\n",
       "      <td>379555</td>\n",
       "      <td>😍</td>\n",
       "    </tr>\n",
       "    <tr>\n",
       "      <th>3</th>\n",
       "      <td>1424</td>\n",
       "      <td>375040</td>\n",
       "      <td>😭</td>\n",
       "    </tr>\n",
       "    <tr>\n",
       "      <th>4</th>\n",
       "      <td>186</td>\n",
       "      <td>310493</td>\n",
       "      <td>❤</td>\n",
       "    </tr>\n",
       "    <tr>\n",
       "      <th>5</th>\n",
       "      <td>1389</td>\n",
       "      <td>297798</td>\n",
       "      <td>😊</td>\n",
       "    </tr>\n",
       "    <tr>\n",
       "      <th>6</th>\n",
       "      <td>1620</td>\n",
       "      <td>296932</td>\n",
       "      <td>🤔</td>\n",
       "    </tr>\n",
       "    <tr>\n",
       "      <th>7</th>\n",
       "      <td>1420</td>\n",
       "      <td>282446</td>\n",
       "      <td>😩</td>\n",
       "    </tr>\n",
       "    <tr>\n",
       "      <th>8</th>\n",
       "      <td>1446</td>\n",
       "      <td>203802</td>\n",
       "      <td>🙃</td>\n",
       "    </tr>\n",
       "    <tr>\n",
       "      <th>9</th>\n",
       "      <td>1403</td>\n",
       "      <td>182672</td>\n",
       "      <td>😘</td>\n",
       "    </tr>\n",
       "  </tbody>\n",
       "</table>\n",
       "</div>"
      ],
      "text/plain": [
       "  annotations       id em\n",
       "0        1381  1046494  😂\n",
       "1        1447   393323  🙄\n",
       "2        1392   379555  😍\n",
       "3        1424   375040  😭\n",
       "4         186   310493  ❤\n",
       "5        1389   297798  😊\n",
       "6        1620   296932  🤔\n",
       "7        1420   282446  😩\n",
       "8        1446   203802  🙃\n",
       "9        1403   182672  😘"
      ]
     },
     "execution_count": 333,
     "metadata": {},
     "output_type": "execute_result"
    }
   ],
   "source": [
    "data_top_tags.head(10)"
   ]
  },
  {
   "cell_type": "markdown",
   "metadata": {},
   "source": [
    "# 3 Twitter raw data"
   ]
  },
  {
   "cell_type": "raw",
   "metadata": {},
   "source": [
    "Twitter raw data with emojis\n",
    "https://github.com/ajinkyachavan/Emoticon-Based-Sentiment-Analysis-Python\n",
    "текст з emojis\n",
    "добре те, що є текст є з наявними в ньому смайлами\n",
    "погано те, що якісь для моєї задачі на перший погляд погана та потрібно буде ще витягти смайли, не велика вибірка"
   ]
  },
  {
   "cell_type": "code",
   "execution_count": 211,
   "metadata": {},
   "outputs": [],
   "source": [
    "file_name = 'twitter_raw_data.txt'"
   ]
  },
  {
   "cell_type": "markdown",
   "metadata": {},
   "source": [
    "# 4 Emotions dataset "
   ]
  },
  {
   "cell_type": "raw",
   "metadata": {},
   "source": [
    "Emotions  dataset\n",
    "Emotions  dataset raw pickle (a lot) https://github.com/bfelbo/DeepMoji/tree/master/data\n",
    "\n",
    "Містить кілька сетів:\n",
    "PsychExp(7): joy, fear, anger, sadness, disgust, shame, guilt\n",
    "SE0714(3): fear, joy, sadness (can have multiple labels) "
   ]
  },
  {
   "cell_type": "markdown",
   "metadata": {},
   "source": [
    "1. PsychExp"
   ]
  },
  {
   "cell_type": "code",
   "execution_count": 32,
   "metadata": {},
   "outputs": [],
   "source": [
    "map_PsychExp = {'joy':  'joy',\n",
    "                'fear': 'fear',\n",
    "                'anger': 'anger', \n",
    "                'sadness': 'sadness', \n",
    "                'disgust': 'disgust', \n",
    "                'shame': ['pessimism', 'sadness'], \n",
    "                'guilt': ['pessimism', 'sadness']}"
   ]
  },
  {
   "cell_type": "code",
   "execution_count": 33,
   "metadata": {},
   "outputs": [],
   "source": [
    "file_name = folder_path + '/data/DeepMoji_project/data/PsychExp/raw.pickle'\n",
    "em_data = pd.read_pickle(file_name)"
   ]
  },
  {
   "cell_type": "code",
   "execution_count": 94,
   "metadata": {},
   "outputs": [
    {
     "name": "stdout",
     "output_type": "stream",
     "text": [
      "7480\n"
     ]
    }
   ],
   "source": [
    "lst =[dict['label'] for dict in em_data['info']]\n",
    "values= np.array(lst).reshape(len(lst), 7)\n",
    "em_df = pd.DataFrame(values, columns= ['joy', 'fear', 'anger', 'sadness', 'disgust', 'shame', 'guilt'])\n",
    "em_df['text'] = em_data['texts']\n",
    "print(len(em_df))\n",
    "em_df[['joy', 'fear', 'anger', 'sadness', 'disgust', 'shame', 'guilt']]\\\n",
    "    = em_df[['joy', 'fear', 'anger', 'sadness', 'disgust', 'shame', 'guilt']].astype(int)"
   ]
  },
  {
   "cell_type": "code",
   "execution_count": 100,
   "metadata": {},
   "outputs": [],
   "source": [
    "em_df_1 = em_df.copy()"
   ]
  },
  {
   "cell_type": "code",
   "execution_count": 127,
   "metadata": {},
   "outputs": [],
   "source": [
    "em_df_1['sadness'] = (em_df['guilt'] | em_df['sadness'] | em_df['shame'])\n",
    "em_df_1['pessimism'] = (em_df['guilt'] | em_df['sadness'] | em_df['shame'])"
   ]
  },
  {
   "cell_type": "code",
   "execution_count": 129,
   "metadata": {},
   "outputs": [
    {
     "data": {
      "text/html": [
       "<div>\n",
       "<style scoped>\n",
       "    .dataframe tbody tr th:only-of-type {\n",
       "        vertical-align: middle;\n",
       "    }\n",
       "\n",
       "    .dataframe tbody tr th {\n",
       "        vertical-align: top;\n",
       "    }\n",
       "\n",
       "    .dataframe thead th {\n",
       "        text-align: right;\n",
       "    }\n",
       "</style>\n",
       "<table border=\"1\" class=\"dataframe\">\n",
       "  <thead>\n",
       "    <tr style=\"text-align: right;\">\n",
       "      <th></th>\n",
       "      <th>joy</th>\n",
       "      <th>fear</th>\n",
       "      <th>anger</th>\n",
       "      <th>sadness</th>\n",
       "      <th>disgust</th>\n",
       "      <th>text</th>\n",
       "      <th>pessimism</th>\n",
       "      <th>anticipation</th>\n",
       "      <th>love</th>\n",
       "      <th>optimism</th>\n",
       "      <th>surprise</th>\n",
       "      <th>trust</th>\n",
       "    </tr>\n",
       "  </thead>\n",
       "  <tbody>\n",
       "    <tr>\n",
       "      <th>0</th>\n",
       "      <td>1</td>\n",
       "      <td>0</td>\n",
       "      <td>0</td>\n",
       "      <td>0</td>\n",
       "      <td>0</td>\n",
       "      <td>During the period of falling in love, each time that we met and especially when we had not met for a long time.</td>\n",
       "      <td>0</td>\n",
       "      <td>0</td>\n",
       "      <td>0</td>\n",
       "      <td>0</td>\n",
       "      <td>0</td>\n",
       "      <td>0</td>\n",
       "    </tr>\n",
       "    <tr>\n",
       "      <th>1</th>\n",
       "      <td>0</td>\n",
       "      <td>1</td>\n",
       "      <td>0</td>\n",
       "      <td>0</td>\n",
       "      <td>0</td>\n",
       "      <td>When I was involved in a traffic accident.</td>\n",
       "      <td>0</td>\n",
       "      <td>0</td>\n",
       "      <td>0</td>\n",
       "      <td>0</td>\n",
       "      <td>0</td>\n",
       "      <td>0</td>\n",
       "    </tr>\n",
       "    <tr>\n",
       "      <th>2</th>\n",
       "      <td>0</td>\n",
       "      <td>0</td>\n",
       "      <td>1</td>\n",
       "      <td>0</td>\n",
       "      <td>0</td>\n",
       "      <td>When I was driving home after  several days of hard work, there was a motorist ahead of me who was driving at 50 km/hour and refused, despite his low speeed to let me overtake.</td>\n",
       "      <td>0</td>\n",
       "      <td>0</td>\n",
       "      <td>0</td>\n",
       "      <td>0</td>\n",
       "      <td>0</td>\n",
       "      <td>0</td>\n",
       "    </tr>\n",
       "    <tr>\n",
       "      <th>3</th>\n",
       "      <td>0</td>\n",
       "      <td>0</td>\n",
       "      <td>0</td>\n",
       "      <td>1</td>\n",
       "      <td>0</td>\n",
       "      <td>When I lost the person who meant the most to me.</td>\n",
       "      <td>1</td>\n",
       "      <td>0</td>\n",
       "      <td>0</td>\n",
       "      <td>0</td>\n",
       "      <td>0</td>\n",
       "      <td>0</td>\n",
       "    </tr>\n",
       "    <tr>\n",
       "      <th>4</th>\n",
       "      <td>0</td>\n",
       "      <td>0</td>\n",
       "      <td>0</td>\n",
       "      <td>0</td>\n",
       "      <td>1</td>\n",
       "      <td>The time I knocked a deer down - the sight of the animal's injuries and helplessness.  The realization that the animal was so badly hurt that it had to be put down, and when the animal screamed at the moment of death.</td>\n",
       "      <td>0</td>\n",
       "      <td>0</td>\n",
       "      <td>0</td>\n",
       "      <td>0</td>\n",
       "      <td>0</td>\n",
       "      <td>0</td>\n",
       "    </tr>\n",
       "  </tbody>\n",
       "</table>\n",
       "</div>"
      ],
      "text/plain": [
       "   joy  fear  anger  sadness  disgust  \\\n",
       "0    1     0      0        0        0   \n",
       "1    0     1      0        0        0   \n",
       "2    0     0      1        0        0   \n",
       "3    0     0      0        1        0   \n",
       "4    0     0      0        0        1   \n",
       "\n",
       "                                                                                                                                                                                                                        text  \\\n",
       "0                                                                                                            During the period of falling in love, each time that we met and especially when we had not met for a long time.   \n",
       "1                                                                                                                                                                                 When I was involved in a traffic accident.   \n",
       "2                                           When I was driving home after  several days of hard work, there was a motorist ahead of me who was driving at 50 km/hour and refused, despite his low speeed to let me overtake.   \n",
       "3                                                                                                                                                                          When I lost the person who meant the most to me.    \n",
       "4  The time I knocked a deer down - the sight of the animal's injuries and helplessness.  The realization that the animal was so badly hurt that it had to be put down, and when the animal screamed at the moment of death.   \n",
       "\n",
       "   pessimism  anticipation  love  optimism  surprise  trust  \n",
       "0          0             0     0         0         0      0  \n",
       "1          0             0     0         0         0      0  \n",
       "2          0             0     0         0         0      0  \n",
       "3          1             0     0         0         0      0  \n",
       "4          0             0     0         0         0      0  "
      ]
     },
     "execution_count": 129,
     "metadata": {},
     "output_type": "execute_result"
    }
   ],
   "source": [
    "class_7_df = addZeroLabels(em_df_1, label_list)\n",
    "class_7_df.head()"
   ]
  },
  {
   "cell_type": "markdown",
   "metadata": {},
   "source": [
    "2. SE0714"
   ]
  },
  {
   "cell_type": "code",
   "execution_count": 107,
   "metadata": {},
   "outputs": [],
   "source": [
    "file_name = folder_path + '/data/DeepMoji_project/data/SE0714/raw.pickle'\n",
    "em_sf_data = pd.read_pickle(file_name)"
   ]
  },
  {
   "cell_type": "code",
   "execution_count": 108,
   "metadata": {
    "scrolled": true
   },
   "outputs": [
    {
     "name": "stdout",
     "output_type": "stream",
     "text": [
      "1250\n"
     ]
    },
    {
     "data": {
      "text/html": [
       "<div>\n",
       "<style scoped>\n",
       "    .dataframe tbody tr th:only-of-type {\n",
       "        vertical-align: middle;\n",
       "    }\n",
       "\n",
       "    .dataframe tbody tr th {\n",
       "        vertical-align: top;\n",
       "    }\n",
       "\n",
       "    .dataframe thead th {\n",
       "        text-align: right;\n",
       "    }\n",
       "</style>\n",
       "<table border=\"1\" class=\"dataframe\">\n",
       "  <thead>\n",
       "    <tr style=\"text-align: right;\">\n",
       "      <th></th>\n",
       "      <th>fear</th>\n",
       "      <th>joy</th>\n",
       "      <th>sadness</th>\n",
       "      <th>text</th>\n",
       "    </tr>\n",
       "  </thead>\n",
       "  <tbody>\n",
       "    <tr>\n",
       "      <th>0</th>\n",
       "      <td>1</td>\n",
       "      <td>0</td>\n",
       "      <td>1</td>\n",
       "      <td>Mortar assault leaves at least 18 dead</td>\n",
       "    </tr>\n",
       "    <tr>\n",
       "      <th>1</th>\n",
       "      <td>0</td>\n",
       "      <td>1</td>\n",
       "      <td>0</td>\n",
       "      <td>Goal delight for Sheva</td>\n",
       "    </tr>\n",
       "    <tr>\n",
       "      <th>2</th>\n",
       "      <td>1</td>\n",
       "      <td>1</td>\n",
       "      <td>0</td>\n",
       "      <td>Nigeria hostage feared dead is freed</td>\n",
       "    </tr>\n",
       "    <tr>\n",
       "      <th>3</th>\n",
       "      <td>1</td>\n",
       "      <td>0</td>\n",
       "      <td>1</td>\n",
       "      <td>Bombers kill shoppers</td>\n",
       "    </tr>\n",
       "    <tr>\n",
       "      <th>4</th>\n",
       "      <td>0</td>\n",
       "      <td>0</td>\n",
       "      <td>0</td>\n",
       "      <td>Vegetables, not fruit, slow brain decline</td>\n",
       "    </tr>\n",
       "  </tbody>\n",
       "</table>\n",
       "</div>"
      ],
      "text/plain": [
       "   fear  joy  sadness                                       text\n",
       "0     1    0        1     Mortar assault leaves at least 18 dead\n",
       "1     0    1        0                     Goal delight for Sheva\n",
       "2     1    1        0       Nigeria hostage feared dead is freed\n",
       "3     1    0        1                      Bombers kill shoppers\n",
       "4     0    0        0  Vegetables, not fruit, slow brain decline"
      ]
     },
     "execution_count": 108,
     "metadata": {},
     "output_type": "execute_result"
    }
   ],
   "source": [
    "lst =[dict['label'] for dict in em_sf_data['info']]\n",
    "values= np.array(lst).reshape(len(lst), 3)\n",
    "em_sf_df = pd.DataFrame(values, columns= [ 'fear', 'joy', 'sadness'])\n",
    "em_sf_df['text'] = em_sf_data['texts']\n",
    "print(len(em_sf_df))\n",
    "em_sf_df[[ 'fear', 'joy', 'sadness']]\\\n",
    "    = em_sf_df[[ 'fear', 'joy', 'sadness']].astype(int)\n",
    "em_sf_df.head()"
   ]
  },
  {
   "cell_type": "code",
   "execution_count": 123,
   "metadata": {},
   "outputs": [],
   "source": [
    "def addZeroLabels(df, label_list):\n",
    "    for label in label_list:\n",
    "        if label not in list(df.columns):\n",
    "            df[label] = 0\n",
    "    columns_to_drop = list(set(df.columns) -  set(label_list + ['text']))   \n",
    "    df = df.drop(columns_to_drop, axis=1)\n",
    "    return df        \n",
    "    "
   ]
  },
  {
   "cell_type": "code",
   "execution_count": 124,
   "metadata": {},
   "outputs": [],
   "source": [
    "class_3_df = addZeroLabels(em_sf_df, label_list)"
   ]
  },
  {
   "cell_type": "code",
   "execution_count": 306,
   "metadata": {
    "scrolled": true
   },
   "outputs": [
    {
     "data": {
      "text/html": [
       "<div>\n",
       "<style scoped>\n",
       "    .dataframe tbody tr th:only-of-type {\n",
       "        vertical-align: middle;\n",
       "    }\n",
       "\n",
       "    .dataframe tbody tr th {\n",
       "        vertical-align: top;\n",
       "    }\n",
       "\n",
       "    .dataframe thead th {\n",
       "        text-align: right;\n",
       "    }\n",
       "</style>\n",
       "<table border=\"1\" class=\"dataframe\">\n",
       "  <thead>\n",
       "    <tr style=\"text-align: right;\">\n",
       "      <th></th>\n",
       "      <th>fear</th>\n",
       "      <th>joy</th>\n",
       "      <th>sadness</th>\n",
       "      <th>text</th>\n",
       "      <th>anger</th>\n",
       "      <th>anticipation</th>\n",
       "      <th>disgust</th>\n",
       "      <th>love</th>\n",
       "      <th>optimism</th>\n",
       "      <th>pessimism</th>\n",
       "      <th>surprise</th>\n",
       "      <th>trust</th>\n",
       "    </tr>\n",
       "  </thead>\n",
       "  <tbody>\n",
       "    <tr>\n",
       "      <th>0</th>\n",
       "      <td>1</td>\n",
       "      <td>0</td>\n",
       "      <td>1</td>\n",
       "      <td>Mortar assault leaves at least 18 dead</td>\n",
       "      <td>0</td>\n",
       "      <td>0</td>\n",
       "      <td>0</td>\n",
       "      <td>0</td>\n",
       "      <td>0</td>\n",
       "      <td>0</td>\n",
       "      <td>0</td>\n",
       "      <td>0</td>\n",
       "    </tr>\n",
       "    <tr>\n",
       "      <th>1</th>\n",
       "      <td>0</td>\n",
       "      <td>1</td>\n",
       "      <td>0</td>\n",
       "      <td>Goal delight for Sheva</td>\n",
       "      <td>0</td>\n",
       "      <td>0</td>\n",
       "      <td>0</td>\n",
       "      <td>0</td>\n",
       "      <td>0</td>\n",
       "      <td>0</td>\n",
       "      <td>0</td>\n",
       "      <td>0</td>\n",
       "    </tr>\n",
       "    <tr>\n",
       "      <th>2</th>\n",
       "      <td>1</td>\n",
       "      <td>1</td>\n",
       "      <td>0</td>\n",
       "      <td>Nigeria hostage feared dead is freed</td>\n",
       "      <td>0</td>\n",
       "      <td>0</td>\n",
       "      <td>0</td>\n",
       "      <td>0</td>\n",
       "      <td>0</td>\n",
       "      <td>0</td>\n",
       "      <td>0</td>\n",
       "      <td>0</td>\n",
       "    </tr>\n",
       "    <tr>\n",
       "      <th>3</th>\n",
       "      <td>1</td>\n",
       "      <td>0</td>\n",
       "      <td>1</td>\n",
       "      <td>Bombers kill shoppers</td>\n",
       "      <td>0</td>\n",
       "      <td>0</td>\n",
       "      <td>0</td>\n",
       "      <td>0</td>\n",
       "      <td>0</td>\n",
       "      <td>0</td>\n",
       "      <td>0</td>\n",
       "      <td>0</td>\n",
       "    </tr>\n",
       "    <tr>\n",
       "      <th>4</th>\n",
       "      <td>0</td>\n",
       "      <td>0</td>\n",
       "      <td>0</td>\n",
       "      <td>Vegetables, not fruit, slow brain decline</td>\n",
       "      <td>0</td>\n",
       "      <td>0</td>\n",
       "      <td>0</td>\n",
       "      <td>0</td>\n",
       "      <td>0</td>\n",
       "      <td>0</td>\n",
       "      <td>0</td>\n",
       "      <td>0</td>\n",
       "    </tr>\n",
       "  </tbody>\n",
       "</table>\n",
       "</div>"
      ],
      "text/plain": [
       "   fear  joy  sadness                                       text  anger  \\\n",
       "0     1    0        1     Mortar assault leaves at least 18 dead      0   \n",
       "1     0    1        0                     Goal delight for Sheva      0   \n",
       "2     1    1        0       Nigeria hostage feared dead is freed      0   \n",
       "3     1    0        1                      Bombers kill shoppers      0   \n",
       "4     0    0        0  Vegetables, not fruit, slow brain decline      0   \n",
       "\n",
       "   anticipation  disgust  love  optimism  pessimism  surprise  trust  \n",
       "0             0        0     0         0          0         0      0  \n",
       "1             0        0     0         0          0         0      0  \n",
       "2             0        0     0         0          0         0      0  \n",
       "3             0        0     0         0          0         0      0  \n",
       "4             0        0     0         0          0         0      0  "
      ]
     },
     "execution_count": 306,
     "metadata": {},
     "output_type": "execute_result"
    }
   ],
   "source": [
    "class_3_df.head()"
   ]
  },
  {
   "cell_type": "code",
   "execution_count": null,
   "metadata": {},
   "outputs": [],
   "source": []
  }
 ],
 "metadata": {
  "kernelspec": {
   "display_name": "Python 3",
   "language": "python",
   "name": "python3"
  },
  "language_info": {
   "codemirror_mode": {
    "name": "ipython",
    "version": 3
   },
   "file_extension": ".py",
   "mimetype": "text/x-python",
   "name": "python",
   "nbconvert_exporter": "python",
   "pygments_lexer": "ipython3",
   "version": "3.7.0"
  }
 },
 "nbformat": 4,
 "nbformat_minor": 2
}
