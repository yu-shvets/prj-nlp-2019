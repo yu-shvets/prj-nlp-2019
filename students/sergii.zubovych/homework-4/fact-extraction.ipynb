{
 "cells": [
  {
   "cell_type": "code",
   "execution_count": 1,
   "metadata": {},
   "outputs": [],
   "source": [
    "# Specific packages used in this notebook\n",
    "#!pip install SPARQLWrapper\n",
    "#!pip install Wikipedia-API"
   ]
  },
  {
   "cell_type": "markdown",
   "metadata": {},
   "source": [
    "### Еталонна база даних\n",
    "\n",
    "Будемо знаходити назви альбомів музичних гуртів на відповідних сторінках в Wikipedia. Почнемо з Queen в якості тестового зразка. Для цього формуємо базу даних, яку будемо використовувати для оцінки якості."
   ]
  },
  {
   "cell_type": "code",
   "execution_count": 2,
   "metadata": {},
   "outputs": [
    {
     "data": {
      "text/plain": [
       "[('Queen', 1973),\n",
       " ('Sheer Heart Attack', 1974),\n",
       " ('Queen II', 1974),\n",
       " ('A Night at the Opera', 1975),\n",
       " ('A Day at the Races', 1976),\n",
       " ('News of the World', 1977),\n",
       " ('Jazz', 1978),\n",
       " ('Live Killers', 1979),\n",
       " ('The Game', 1980),\n",
       " ('Flash Gordon', 1980),\n",
       " ('Flash Gordon', 1981),\n",
       " ('Greatest Hits', 1981),\n",
       " ('Hot Space', 1982),\n",
       " ('Live at Wembley Stadium', 1982),\n",
       " ('The Works', 1984),\n",
       " ('A Kind of Magic', 1986),\n",
       " ('Live Magic', 1986),\n",
       " ('At the Beeb', 1989),\n",
       " ('The Miracle', 1989),\n",
       " ('Innuendo', 1991),\n",
       " ('Greatest Hits II', 1991),\n",
       " ('Classic Queen', 1992),\n",
       " ('Five Live', 1993),\n",
       " ('Ultimate Queen', 1995),\n",
       " ('Queen Rocks', 1997),\n",
       " ('The Crown Jewels', 1998),\n",
       " ('Greatest Hits III', 1999),\n",
       " ('The Platinum Collection', 2000),\n",
       " ('Jewels', 2004),\n",
       " ('Queen on Fire – Live at the Bowl', 2004),\n",
       " ('Stone Cold Classics', 2006),\n",
       " ('The A–Z of Queen, Volume 1', 2007),\n",
       " ('The Singles Collection Volume 1', 2008),\n",
       " ('The Cosmos Rocks', 2008),\n",
       " ('Absolute Greatest', 2009),\n",
       " ('Greatest Hits II', 2011),\n",
       " ('Flash Gordon', 2011),\n",
       " ('Deep Cuts, Volume 3', 2011),\n",
       " ('Hungarian Rhapsody: Queen Live in Budapest', 2012),\n",
       " ('Icon', 2013),\n",
       " ('Queen Forever', 2014),\n",
       " ('On Air', 2016)]"
      ]
     },
     "execution_count": 2,
     "metadata": {},
     "output_type": "execute_result"
    }
   ],
   "source": [
    "from SPARQLWrapper import SPARQLWrapper, JSON\n",
    "import re\n",
    "\n",
    "def query_albums(artist):\n",
    "    \n",
    "    def cleanup(item):\n",
    "        return re.sub(r'\\s*\\([^)]+\\)', '', item)\n",
    "    \n",
    "    sparql = SPARQLWrapper(\"http://dbpedia.org/sparql\")\n",
    "    sparql.setQuery(\"\"\"\n",
    "        PREFIX dbo: <http://dbpedia.org/ontology/>\n",
    "        PREFIX res:  <http://dbpedia.org/resource/>\n",
    "        PREFIX rdfs: <http://www.w3.org/2000/01/rdf-schema#>\n",
    "\n",
    "        SELECT ?albumName, ?releaseDate WHERE\n",
    "        {\n",
    "            ?album dbo:artist <http://dbpedia.org/resource/$artist$> .\n",
    "            ?album dbp:type ?type .\n",
    "            ?album rdfs:label ?albumName .\n",
    "            ?album dbo:releaseDate ?releaseDate\n",
    "            FILTER (lang(?albumName) = 'en') . \n",
    "            #FILTER (regex(?type,'[Aa]lbum'))\n",
    "        } \n",
    "    \"\"\".replace('$artist$', artist))\n",
    "    \n",
    "    sparql.setReturnFormat(JSON)\n",
    "    results = sparql.query().convert()\n",
    "    \n",
    "    return {(cleanup(result['albumName']['value']), \\\n",
    "           int(re.sub(r'(\\d+)-\\d+-\\d+', '\\g<1>',result['releaseDate']['value']))) \\\n",
    "          for result in results['results']['bindings']}\n",
    "\n",
    "ALBUMS = sorted(query_albums('Queen_(band)').\\\n",
    "                union({('Live Killers', 1979),\\\n",
    "                       ('Live at Wembley Stadium', 1982),\\\n",
    "                       ('The Cosmos Rocks', 2008)}), key = lambda item: item[1])\n",
    "\n",
    "ALBUMS"
   ]
  },
  {
   "cell_type": "markdown",
   "metadata": {},
   "source": [
    "### Данні\n",
    "\n",
    "Завантажуємо сторінку і беремо чистий текст без списку дискографії."
   ]
  },
  {
   "cell_type": "code",
   "execution_count": 3,
   "metadata": {},
   "outputs": [],
   "source": [
    "import wikipediaapi\n",
    "\n",
    "wiki = wikipediaapi.Wikipedia('en')\n",
    "\n",
    "page = wiki.page('Queen_(band)')"
   ]
  },
  {
   "cell_type": "code",
   "execution_count": 4,
   "metadata": {},
   "outputs": [],
   "source": [
    "import spacy\n",
    "\n",
    "nlp = spacy.load('en_core_web_lg')"
   ]
  },
  {
   "cell_type": "code",
   "execution_count": 5,
   "metadata": {},
   "outputs": [],
   "source": [
    "#exclude discography list\n",
    "def page_text(page):\n",
    "    index = page.text.find('Discography') - 1\n",
    "    return page.text[:index]"
   ]
  },
  {
   "cell_type": "markdown",
   "metadata": {},
   "source": [
    "Алгоритм по екстракту необхідних данних базуємо на іменованих сутностях. Працюємо в контексті одного речення, для розрізнення назв альбомів використовуємо залежності.\n",
    "\n",
    "Оскільки текст статті не обов'язково включає інформацію по всім альбомам (для цього є окрема таблиця, а ми працюємо тільки з текстом) то для оцінки якості нам треба зкрозуміти які в тексті є альбоми взагалі."
   ]
  },
  {
   "cell_type": "code",
   "execution_count": 6,
   "metadata": {},
   "outputs": [],
   "source": [
    "doc = nlp(page_text(page))"
   ]
  },
  {
   "cell_type": "code",
   "execution_count": 7,
   "metadata": {},
   "outputs": [
    {
     "data": {
      "text/plain": [
       "[('Queen', 1973),\n",
       " ('Sheer Heart Attack', 1974),\n",
       " ('Queen II', 1974),\n",
       " ('A Night at the Opera', 1975),\n",
       " ('A Day at the Races', 1976),\n",
       " ('News of the World', 1977),\n",
       " ('Jazz', 1978),\n",
       " ('Live Killers', 1979),\n",
       " ('The Game', 1980),\n",
       " ('Flash Gordon', 1980),\n",
       " ('Flash Gordon', 1981),\n",
       " ('Greatest Hits', 1981),\n",
       " ('Hot Space', 1982),\n",
       " ('Live at Wembley Stadium', 1982),\n",
       " ('The Works', 1984),\n",
       " ('A Kind of Magic', 1986),\n",
       " ('The Miracle', 1989),\n",
       " ('Innuendo', 1991),\n",
       " ('Greatest Hits II', 1991),\n",
       " ('Classic Queen', 1992),\n",
       " ('Queen Rocks', 1997),\n",
       " ('Greatest Hits III', 1999),\n",
       " ('Queen on Fire – Live at the Bowl', 2004),\n",
       " ('The Cosmos Rocks', 2008),\n",
       " ('Absolute Greatest', 2009),\n",
       " ('Greatest Hits II', 2011),\n",
       " ('Flash Gordon', 2011),\n",
       " ('Icon', 2013),\n",
       " ('Queen Forever', 2014)]"
      ]
     },
     "execution_count": 7,
     "metadata": {},
     "output_type": "execute_result"
    }
   ],
   "source": [
    "sorted({album for sent in doc.sents for album in ALBUMS if album[0] in sent.text}, key = lambda a: a[1])"
   ]
  },
  {
   "cell_type": "markdown",
   "metadata": {},
   "source": [
    "Дивимся також на альбоми які ідентифікуються як сутності і бачимо що якість класифікатора Spacy не дуже гарна в плані визначення типу сутності, що подалі буде впливати на якість всього алгоритму."
   ]
  },
  {
   "cell_type": "code",
   "execution_count": 8,
   "metadata": {},
   "outputs": [
    {
     "data": {
      "text/plain": [
       "{('A Kind of Magic', 'WORK_OF_ART'),\n",
       " ('A Night at the Opera', 'WORK_OF_ART'),\n",
       " ('Absolute Greatest', 'PRODUCT'),\n",
       " ('Classic Queen', 'PRODUCT'),\n",
       " ('Greatest Hits', 'PERSON'),\n",
       " ('Greatest Hits', 'PRODUCT'),\n",
       " ('Greatest Hits', 'WORK_OF_ART'),\n",
       " ('Greatest Hits II', 'PERSON'),\n",
       " ('Greatest Hits II', 'PRODUCT'),\n",
       " ('Greatest Hits III', 'PRODUCT'),\n",
       " ('Hot Space', 'ORG'),\n",
       " ('Icon', 'WORK_OF_ART'),\n",
       " ('Jazz', 'GPE'),\n",
       " ('Jazz', 'ORG'),\n",
       " ('Live Killers', 'WORK_OF_ART'),\n",
       " ('Live at Wembley Stadium', 'WORK_OF_ART'),\n",
       " ('News of the World', 'ORG'),\n",
       " ('News of the World', 'WORK_OF_ART'),\n",
       " ('Queen', 'CARDINAL'),\n",
       " ('Queen', 'DATE'),\n",
       " ('Queen', 'EVENT'),\n",
       " ('Queen', 'FAC'),\n",
       " ('Queen', 'LOC'),\n",
       " ('Queen', 'ORG'),\n",
       " ('Queen', 'PERSON'),\n",
       " ('Queen', 'PRODUCT'),\n",
       " ('Queen', 'WORK_OF_ART'),\n",
       " ('Queen Forever', 'WORK_OF_ART'),\n",
       " ('Queen II', 'EVENT'),\n",
       " ('Queen II', 'PERSON'),\n",
       " ('Queen II', 'PRODUCT'),\n",
       " ('Queen II', 'WORK_OF_ART'),\n",
       " ('Queen on Fire – Live at the Bowl', 'WORK_OF_ART'),\n",
       " ('Sheer Heart Attack', 'ORG'),\n",
       " ('Sheer Heart Attack', 'WORK_OF_ART'),\n",
       " ('The Cosmos Rocks', 'WORK_OF_ART'),\n",
       " ('The Game', 'EVENT'),\n",
       " ('The Game', 'WORK_OF_ART'),\n",
       " ('The Miracle', 'WORK_OF_ART'),\n",
       " ('The Works', 'ORG'),\n",
       " ('The Works', 'WORK_OF_ART')}"
      ]
     },
     "execution_count": 8,
     "metadata": {},
     "output_type": "execute_result"
    }
   ],
   "source": [
    "{ (album[0], ent.label_) for ent in doc.ents for album in ALBUMS if album[0].lower() in ent.text.lower()}"
   ]
  },
  {
   "cell_type": "markdown",
   "metadata": {},
   "source": [
    "Оскільки ми не можемо брати всі сутності будь-якого типу підряд, бо буде багато false positives, то ми обмежимось типами WORK_OF_ART та PRODUCT які найбільше відповідають тому чим являється альбом. Для оцінки якості ми беремо  тільки альбоми з загального переліку які є у тесксті і які розпізнаються як сутність з типом WORK_OF_ART або PRODUCT. Тобто ми не міряємо якість загалом, а за виключенням якості класифікатора Spacy."
   ]
  },
  {
   "cell_type": "code",
   "execution_count": 9,
   "metadata": {},
   "outputs": [
    {
     "data": {
      "text/plain": [
       "{'A Kind of Magic',\n",
       " 'A Night at the Opera',\n",
       " 'Absolute Greatest',\n",
       " 'Classic Queen',\n",
       " 'Greatest Hits',\n",
       " 'Greatest Hits II',\n",
       " 'Greatest Hits III',\n",
       " 'Icon',\n",
       " 'Live Killers',\n",
       " 'Live at Wembley Stadium',\n",
       " 'News of the World',\n",
       " 'Queen',\n",
       " 'Queen Forever',\n",
       " 'Queen II',\n",
       " 'Queen on Fire – Live at the Bowl',\n",
       " 'Sheer Heart Attack',\n",
       " 'The Cosmos Rocks',\n",
       " 'The Game',\n",
       " 'The Miracle',\n",
       " 'The Works'}"
      ]
     },
     "execution_count": 9,
     "metadata": {},
     "output_type": "execute_result"
    }
   ],
   "source": [
    "def extract_ent_albums(albums, doc):\n",
    "    return { album[0] for ent in doc.ents for album in albums if album[0].lower() in ent.text.lower() and \\\n",
    "            (ent.label_ == 'WORK_OF_ART' or ent.label_ == 'PRODUCT')}\n",
    "    \n",
    "ent_albums = extract_ent_albums(ALBUMS, doc)\n",
    "\n",
    "ent_albums"
   ]
  },
  {
   "cell_type": "markdown",
   "metadata": {},
   "source": [
    "### Алгоритм\n",
    "\n",
    "Далі реалiзуємо алгоритм який знаходить іменовані сутності необхідного типу і намагається за допомогою простого аналізу залежностей розпізнати назву альбому."
   ]
  },
  {
   "cell_type": "code",
   "execution_count": 10,
   "metadata": {},
   "outputs": [],
   "source": [
    "def reach(token, word):\n",
    "    if token.head.lemma_ == word:\n",
    "        return token.head\n",
    "    elif token.dep_ == 'ROOT':\n",
    "        return None\n",
    "    \n",
    "    return reach(token.head, word)        \n",
    "\n",
    "def is_reachable(token, word):    \n",
    "    return not (reach(token, word) is None)\n",
    "\n",
    "def depends_on_album(token):\n",
    "    \n",
    "    def the_most_probably_album(token):\n",
    "        return not(is_reachable(token, 'single') or \\\n",
    "                   is_reachable(token, 'song') or \\\n",
    "                   is_reachable(token, 'game') or \\\n",
    "                   is_reachable(token, 'soundtrack') or \\\n",
    "                   is_reachable(token, 'track'))\n",
    "        \n",
    "    if is_reachable(token, 'album'):\n",
    "        return True\n",
    "    \n",
    "    release = reach(token, 'release')\n",
    "    if release:\n",
    "        return the_most_probably_album(release)\n",
    "    \n",
    "    record = reach(token, 'record')\n",
    "    if release:\n",
    "        return the_most_probably_album(release) \n",
    "    \n",
    "    return False\n",
    "        \n",
    "def depends_on_ent(token, ent):\n",
    "    for e_token in ent:\n",
    "        if is_reachable(token, e_token.lemma_) or is_reachable(e_token ,token.lemma_):\n",
    "            return True\n",
    "    return False    \n",
    "\n",
    "def is_album(ent, sent):\n",
    "    \n",
    "    def the_most_probably_not_album(token, ent):\n",
    "        return depends_on_ent(token, ent) or is_reachable(token, 'release') or is_reachable(token, 'record')\n",
    "    \n",
    "    proof = False\n",
    "    \n",
    "    if ent.label_ == \"WORK_OF_ART\" or ent.label_ == \"PRODUCT\":\n",
    "        for token in ent:\n",
    "            if depends_on_album(token):\n",
    "                proof = True\n",
    "                break\n",
    "        for token in sent:           \n",
    "            if (token.lemma_ == 'single' or \\\n",
    "                token.lemma_ == 'song' or \\\n",
    "                token.lemma_ == 'soundtrack' or \\\n",
    "                token.lemma_ == 'track' or \\\n",
    "                token.lemma_ == 'game') and the_most_probably_not_album(token, ent):\n",
    "                proof = False\n",
    "                break            \n",
    "                \n",
    "            if token.lemma_ == 'album' and depends_on_ent(token, ent):\n",
    "                proof = True\n",
    "                break\n",
    "                            \n",
    "    return proof\n",
    "\n",
    "def extract_albums_from_sent(sent):\n",
    "    \n",
    "    albums = set([])\n",
    "    \n",
    "    for ent in sent.ents:\n",
    "        \n",
    "        if 'albums' in ent.text.lower() or \\\n",
    "        'award' in ent.text.lower() or \\\n",
    "        'of all time' in ent.text.lower(): #exclude charts aka 'Greatest Albums' or '... of All Time Ever'\n",
    "            continue\n",
    "        \n",
    "        if is_album(ent, sent):\n",
    "            albums.add(ent.text.strip())\n",
    "            \n",
    "    return albums\n",
    "    \n",
    "\n",
    "def extract_albums(text):\n",
    "    doc = nlp(text)\n",
    "    \n",
    "    albums = set([])\n",
    "    \n",
    "    for sent in doc.sents:        \n",
    "        albums.update(extract_albums_from_sent(sent))\n",
    "    \n",
    "    return albums"
   ]
  },
  {
   "cell_type": "code",
   "execution_count": 11,
   "metadata": {},
   "outputs": [],
   "source": [
    "### True positives\n",
    "\n",
    "def singleton(text):\n",
    "    return set([text])\n",
    "\n",
    "assert extract_albums('Queen first charted in the UK with their second album, Queen II, in 1974.') ==\\\n",
    "     singleton('Queen II')\n",
    "\n",
    "assert extract_albums('Another One Bites the Dust\" (1980) became their best-selling single, while their 1981 compilation album Greatest Hits is the best-selling album in the UK and is certified eight times platinum in the US.')\\\n",
    "    == singleton('Greatest Hits')\n",
    "\n",
    "assert extract_albums('In late 1975, Queen recorded and released A Night at the Opera, taking its name from the popular Marx Brothers movie.')\\\n",
    "    == singleton('A Night at the Opera')\n",
    "\n",
    "#assert extract_albums('By 1976, Queen were back in the studio recording A Day at the Races, which is often regarded as a sequel album to A Night at the Opera.')\\\n",
    "#    == singleton('A Day at the Races') ##  'A Day at the Races' is not recornized as NER\n",
    "\n",
    "#Released in 1974, Sheer Heart Attack reached number two in the UK, sold well throughout Europe, and went gold in the US.\n",
    "# 'Sheer Heart Attack' is not recornized as NER\n",
    "\n",
    "#false negative\n",
    "assert extract_albums('They released their first live album, Live Killers, in 1979; it went platinum twice in the US.')\\\n",
    "    == singleton('Live Killers')\n",
    "\n",
    "assert extract_albums(\"In October that year, Queen released their first compilation album, titled Greatest Hits, which showcased the group's highlights from 1974 to 1981.\")\\\n",
    "    == singleton('Greatest Hits')\n",
    "\n",
    "#assert extract_albums('In February 1984, Queen released their eleventh studio album, The Works, which included the successful singles \"Radio Ga Ga\", \"Hammer to Fall\" and \"I Want to Break Free\".')\\\n",
    "#    == singleton('The Works') cannot distinguish between singles and album in one sentence\n",
    "\n",
    "assert extract_albums('The first Queen + Paul Rodgers album, titled The Cosmos Rocks, was released in Europe on 12 September 2008 and in the United States on 28 October 2008.')\\\n",
    "    == singleton('The Cosmos Rocks')\n",
    "\n",
    "assert extract_albums(\"A distinctive characteristic of Queen's music are the vocal harmonies which are usually composed of the voices of May, Mercury, and Taylor best heard on the studio albums A Night at the Opera and A Day at the Races.\")\\\n",
    "    == singleton('A Night at the')\n",
    "\n",
    "assert extract_albums('In May 2012, the choir performed \"We Are the Champions\" in the episode \"Nationals\", and the song features in The Graduation Album.')\\\n",
    "    == singleton('The Graduation Album')\n",
    "\n",
    "assert extract_albums(\"DVD releases of their 1986 Wembley concert (titled Live at Wembley Stadium), 1982 Milton Keynes concert (Queen on Fire – Live at the Bowl), and two Greatest Video Hits (Volumes 1 and 2, spanning the 1970s and 1980s) have seen the band's music remixed into 5.1 and DTS surround sound\")\\\n",
    "    == {'Live at Wembley Stadium', 'Queen on Fire – Live at the Bowl'}\n",
    "\n",
    "assert extract_albums(\"The band’s 1977 album News of the World contained \\\"We Will Rock You\\\" and \\\"We Are the Champions\\\", which have become anthems at sporting events.\")\\\n",
    "    == singleton('News of the World')\n",
    "\n",
    "assert extract_albums(\"In October that year, Queen released their first compilation album, titled Greatest Hits, which showcased the group's highlights from 1974 to 1981.\")\\\n",
    "    == singleton('Greatest Hits')"
   ]
  },
  {
   "cell_type": "code",
   "execution_count": 12,
   "metadata": {},
   "outputs": [],
   "source": [
    "#True negatives\n",
    "assert not extract_albums(\"Retrospectively, it is cited as the highlight of the album, and in 2008 Rolling Stone ranked it 31st in the \\\"100 Greatest Guitar Songs of All Time\\\", describing it as \\\"an entire album's worth of riffs crammed into a single song\\\"\")\n",
    "\n",
    "assert not extract_albums(\"\\\"The 50 Best British Albums Ever\\\" in 2004, and number 11 in Rolling Stone's \\\"The 100 Greatest Albums of All Time\\\" as featured in their Mexican edition in 2004.\")\n",
    "\n",
    "assert not extract_albums('Queen also released the very successful single \"Crazy Little Thing Called Love\", a rockabilly inspired song done in the style of Elvis Presley.')\n",
    "\n",
    "assert not extract_albums('After attending a Queen concert in Los Angeles, Michael Jackson suggested to Mercury backstage that \"Another One Bites the Dust\" be released as a single, and in October 1980 it spent three weeks at number one.')\n",
    "\n",
    "assert not extract_albums('In conjunction with Electronic Arts, Queen released the computer game Queen: The eYe in 1998')\n",
    "\n",
    "assert not extract_albums(\"Several of the guest singers recorded new versions of Queen's hits under the Queen + name, such as Robbie Williams providing vocals for \\\"We Are the Champions\\\" for the soundtrack of A Knight's Tale (2001)\")\n",
    "\n",
    "# fasle positive\n",
    "#extract_albums(\"In the United States, \\\"Bohemian Rhapsody\\\" was re-released as a single in 1992 after appearing in the comedy film Wayne's World.\")"
   ]
  },
  {
   "cell_type": "code",
   "execution_count": 13,
   "metadata": {},
   "outputs": [
    {
     "data": {
      "text/plain": [
       "{'A Kind of Magic',\n",
       " 'A Night at the',\n",
       " 'A Night at the Opera',\n",
       " 'Bohemian Rhapsody',\n",
       " 'Classic Queen',\n",
       " 'Greatest Hits',\n",
       " 'Greatest Hits III',\n",
       " 'Hammer to Fall',\n",
       " 'Live Killers',\n",
       " 'Live at Wembley Stadium',\n",
       " 'News of the World',\n",
       " 'Opera',\n",
       " 'Queen',\n",
       " 'Queen Forever',\n",
       " 'Queen II',\n",
       " 'Queen on Fire – Live at the Bowl',\n",
       " 'SingStar',\n",
       " 'The Cosmos Rocks',\n",
       " 'The Graduation Album',\n",
       " 'The Works',\n",
       " 'as Queen: Live in Rio',\n",
       " 'the Races to Live Killers\\nBy 1976'}"
      ]
     },
     "execution_count": 13,
     "metadata": {},
     "output_type": "execute_result"
    }
   ],
   "source": [
    "extracted_albums = extract_albums(doc.text)\n",
    "\n",
    "extracted_albums"
   ]
  },
  {
   "cell_type": "markdown",
   "metadata": {},
   "source": [
    "### Метрики\n",
    "\n",
    "Оскільки наш алгоритм по суті виконує класифікацію, то тут ми можемо застосвати F1 метрики. "
   ]
  },
  {
   "cell_type": "code",
   "execution_count": 14,
   "metadata": {},
   "outputs": [],
   "source": [
    "from collections import namedtuple\n",
    "\n",
    "Metrics = namedtuple('Metrics', 'accuracy precision recall f1')\n",
    "\n",
    "Results = namedtuple('Results', 'true_positives false_negatives false_positives true_negatives albums_baseline')\n",
    "\n",
    "def extract_and_measure(text, albums_db):    \n",
    "    doc = nlp(text)\n",
    "    \n",
    "    tp = 0\n",
    "    fp = 0\n",
    "    fn = 0\n",
    "    tn = 0\n",
    "    \n",
    "    true_positives = set([])\n",
    "    false_negatives = set([])\n",
    "    false_positives = set([])\n",
    "    true_negatives = set([])\n",
    "    albums_baseline = set([])\n",
    "    \n",
    "    for sent in doc.sents:\n",
    "        ent_albums = extract_ent_albums(albums_db, sent)\n",
    "        albums_baseline.update(ent_albums)\n",
    "        \n",
    "        extracted_albums = extract_albums_from_sent(sent)\n",
    "        \n",
    "        tps = ent_albums.intersection(extracted_albums)\n",
    "        true_positives.update(tps)        \n",
    "        tp += len(tps)\n",
    "        \n",
    "        fns = ent_albums.difference(extracted_albums)\n",
    "        false_negatives.update(fns)\n",
    "        fn += len(fns)\n",
    "        \n",
    "        fps = extracted_albums.difference(ent_albums)\n",
    "        false_positives.update(fps)\n",
    "        fp += len(fps)        \n",
    "        \n",
    "        tns = {ent.text.strip() for ent in sent.ents \\\n",
    "                   if ent.label_ == 'PRODUCT' or ent.label_ == \"WORK_OF_ART\"}\\\n",
    "                  .difference(ent_albums)\n",
    "        true_negatives.update(tns)\n",
    "        tn += len(tns)        \n",
    "        \n",
    "    pr = tp/(tp + fp)\n",
    "    rc = tp/(tp + fn)\n",
    "    f1 = 2 * (pr * rc)/(pr + rc)    \n",
    "    \n",
    "    results = Results(true_positives = true_positives,\\\n",
    "                     false_negatives = false_negatives,\\\n",
    "                     false_positives = false_positives,\\\n",
    "                     true_negatives = true_negatives,\\\n",
    "                     albums_baseline = albums_baseline)\n",
    "    \n",
    "    metrics = Metrics(accuracy = (tp + tn)/(tp+fp+fn+tn),\\\n",
    "                      precision = pr,\\\n",
    "                      recall = rc,\\\n",
    "                      f1 = f1)\n",
    "    \n",
    "    return (results, metrics)"
   ]
  },
  {
   "cell_type": "markdown",
   "metadata": {},
   "source": [
    "Рахуємо метрики для Queen."
   ]
  },
  {
   "cell_type": "code",
   "execution_count": 15,
   "metadata": {},
   "outputs": [],
   "source": [
    "results, metrics = extract_and_measure(doc.text, ALBUMS)"
   ]
  },
  {
   "cell_type": "code",
   "execution_count": 16,
   "metadata": {},
   "outputs": [
    {
     "data": {
      "text/plain": [
       "{'A Kind of Magic',\n",
       " 'A Night at the Opera',\n",
       " 'Classic Queen',\n",
       " 'Greatest Hits',\n",
       " 'Greatest Hits III',\n",
       " 'Live Killers',\n",
       " 'Live at Wembley Stadium',\n",
       " 'News of the World',\n",
       " 'Queen',\n",
       " 'Queen Forever',\n",
       " 'Queen II',\n",
       " 'Queen on Fire – Live at the Bowl',\n",
       " 'The Cosmos Rocks',\n",
       " 'The Works'}"
      ]
     },
     "execution_count": 16,
     "metadata": {},
     "output_type": "execute_result"
    }
   ],
   "source": [
    "results.true_positives"
   ]
  },
  {
   "cell_type": "code",
   "execution_count": 17,
   "metadata": {},
   "outputs": [
    {
     "data": {
      "text/plain": [
       "{'A Kind of Magic',\n",
       " 'A Night at the Opera',\n",
       " 'Absolute Greatest',\n",
       " 'Greatest Hits',\n",
       " 'Greatest Hits II',\n",
       " 'Icon',\n",
       " 'Live Killers',\n",
       " 'Queen',\n",
       " 'Queen Forever',\n",
       " 'Queen II',\n",
       " 'Sheer Heart Attack',\n",
       " 'The Game',\n",
       " 'The Miracle',\n",
       " 'The Works'}"
      ]
     },
     "execution_count": 17,
     "metadata": {},
     "output_type": "execute_result"
    }
   ],
   "source": [
    "results.false_negatives"
   ]
  },
  {
   "cell_type": "code",
   "execution_count": 18,
   "metadata": {},
   "outputs": [
    {
     "data": {
      "text/plain": [
       "{'A Night at the',\n",
       " 'Bohemian Rhapsody',\n",
       " 'Hammer to Fall',\n",
       " 'Opera',\n",
       " 'SingStar',\n",
       " 'The Graduation Album',\n",
       " 'as Queen: Live in Rio',\n",
       " 'the Races to Live Killers\\nBy 1976'}"
      ]
     },
     "execution_count": 18,
     "metadata": {},
     "output_type": "execute_result"
    }
   ],
   "source": [
    "results.false_positives"
   ]
  },
  {
   "cell_type": "code",
   "execution_count": 19,
   "metadata": {},
   "outputs": [
    {
     "data": {
      "text/plain": [
       "{'\"Bohemian Rhapsody\"',\n",
       " '\"Love of My Life\"',\n",
       " '\"Queen at the Ballet\"',\n",
       " '\"The Show Must Go',\n",
       " '\"The Show Must Go On',\n",
       " '\"The Show Must Go On\"',\n",
       " \"A Knight's Tale\",\n",
       " 'A Night',\n",
       " 'A Night at the',\n",
       " 'A Night at the Opera Tour',\n",
       " 'A Night at the Opera and The Game',\n",
       " 'A Trip',\n",
       " 'American Idol',\n",
       " 'Another One Bites the Dust',\n",
       " 'Battleship Potemkin',\n",
       " 'Bicycle Race',\n",
       " 'Birthday Tribute',\n",
       " 'Bohemian Rhapsody',\n",
       " 'Breakthru',\n",
       " 'Candle in the Wind 1997',\n",
       " 'Composers',\n",
       " 'Crazy Little Thing Called Love',\n",
       " 'Death on Two Legs',\n",
       " 'Disco',\n",
       " \"Do They Know It's Christmas\",\n",
       " \"Don't Stop Me Now\",\n",
       " 'Ericsson',\n",
       " 'Essential Hard Rock and Heavy Metal',\n",
       " 'Fat Bottomed Girls',\n",
       " 'Friends Will Be Friends',\n",
       " 'Fun in Space',\n",
       " 'Game',\n",
       " 'Gigwise',\n",
       " 'God Save the Queen',\n",
       " 'Grammy Award for Best Metal Performance',\n",
       " 'Grammy Lifetime Achievement Award',\n",
       " 'Grand Theft Auto IV',\n",
       " 'Guitar Hero',\n",
       " 'Guitar Hero 5',\n",
       " 'Guitar Hero World Tour',\n",
       " 'Guitar Hero:',\n",
       " 'Guitar Hero: Warriors of Rock',\n",
       " 'Guitar Songs of All Time',\n",
       " 'Hammer to Fall',\n",
       " 'Highlander',\n",
       " 'Hit Singles Book',\n",
       " \"I Love the '\",\n",
       " 'I Want It All',\n",
       " 'I Want to Break Free',\n",
       " 'Invincible Hope',\n",
       " \"Jane's Addiction\",\n",
       " 'Jesus',\n",
       " 'Jimmy',\n",
       " 'Journey to Regionals',\n",
       " 'Killer Queen',\n",
       " 'Killers',\n",
       " 'Liar',\n",
       " 'Love',\n",
       " 'Mercury',\n",
       " 'Mother Love',\n",
       " 'My Fairy King',\n",
       " 'Nationals',\n",
       " 'Night Live on',\n",
       " 'One Year of Love',\n",
       " 'Opera',\n",
       " 'Outstanding Song Collection',\n",
       " 'PlayStation 2',\n",
       " 'PlayStation 3',\n",
       " 'Pride',\n",
       " 'Queen + Paul Rodgers',\n",
       " 'Queen I Tour',\n",
       " 'Queen began The Works Tour',\n",
       " 'Queen medley',\n",
       " \"Queen's\",\n",
       " \"Queen's A Night\",\n",
       " 'Queen:',\n",
       " 'Queen: The Top 100',\n",
       " 'Radio Ga',\n",
       " 'Roses',\n",
       " 'Save Me',\n",
       " 'Sheer Heart Attack to',\n",
       " 'SingStar',\n",
       " 'SingStar Queen',\n",
       " 'Skyfall',\n",
       " 'Smashing Pumpkins',\n",
       " 'Somebody to Love',\n",
       " 'Stone Cold Crazy',\n",
       " 'Swan Song Records',\n",
       " 'Telegraph',\n",
       " 'The 100 Greatest Albums of All Time',\n",
       " 'The 100 Records That Changed the World',\n",
       " 'The 50 Best British Albums Ever',\n",
       " 'The Graduation Album',\n",
       " 'The Greatest Driving Song Ever',\n",
       " 'The Impossible Voyage',\n",
       " 'The Invisible Man',\n",
       " 'The March of the Black Queen',\n",
       " 'The Night Comes Down',\n",
       " 'The Note Heard Round the World',\n",
       " \"The Prophet's Song\",\n",
       " 'The Queen',\n",
       " 'The Rhodes Not Taken',\n",
       " 'The Show Must Go',\n",
       " 'The Works\\nQueen',\n",
       " 'The X Factor',\n",
       " 'There Must Be More To Life Than This',\n",
       " 'These Are the Days of Our Lives',\n",
       " 'Tie Your Mother Down',\n",
       " 'Timeline\\nAwards',\n",
       " 'Too Much Love',\n",
       " 'Too Much Love Will Kill You',\n",
       " 'Trident',\n",
       " 'Trivium',\n",
       " 'Under Pressure',\n",
       " 'Vox AC30',\n",
       " 'We Are The Champions',\n",
       " 'We Are the Champions',\n",
       " 'Who Wants to Live Forever',\n",
       " 'as Queen: Live in Rio',\n",
       " 'the Global Icon Award',\n",
       " 'the Golden Globe Award for Best Motion Picture – Drama',\n",
       " 'the Guinness Book of Records',\n",
       " 'the Guinness Book of World Records',\n",
       " 'the Queen',\n",
       " 'the Races to Live Killers\\nBy 1976'}"
      ]
     },
     "execution_count": 19,
     "metadata": {},
     "output_type": "execute_result"
    }
   ],
   "source": [
    "results.true_negatives"
   ]
  },
  {
   "cell_type": "code",
   "execution_count": 20,
   "metadata": {},
   "outputs": [
    {
     "data": {
      "text/plain": [
       "Metrics(accuracy=0.7516556291390728, precision=0.6428571428571429, recall=0.21686746987951808, f1=0.32432432432432434)"
      ]
     },
     "execution_count": 20,
     "metadata": {},
     "output_type": "execute_result"
    }
   ],
   "source": [
    "metrics"
   ]
  },
  {
   "cell_type": "markdown",
   "metadata": {},
   "source": [
    "Пробуємо заекстрактити інший рок-гурт."
   ]
  },
  {
   "cell_type": "code",
   "execution_count": 21,
   "metadata": {},
   "outputs": [],
   "source": [
    "aero_results, aero_metrics = extract_and_measure(page_text(wiki.page('Aerosmith')), query_albums('Aerosmith'))"
   ]
  },
  {
   "cell_type": "code",
   "execution_count": 22,
   "metadata": {},
   "outputs": [
    {
     "data": {
      "text/plain": [
       "Metrics(accuracy=0.8956043956043956, precision=0.1875, recall=0.3333333333333333, f1=0.24000000000000005)"
      ]
     },
     "execution_count": 22,
     "metadata": {},
     "output_type": "execute_result"
    }
   ],
   "source": [
    "aero_metrics"
   ]
  },
  {
   "cell_type": "code",
   "execution_count": 23,
   "metadata": {},
   "outputs": [
    {
     "data": {
      "text/plain": [
       "{'A Little South of Sanity',\n",
       " 'Aerosmith',\n",
       " 'Get Your Wings',\n",
       " 'Pump',\n",
       " 'You Gotta Move'}"
      ]
     },
     "execution_count": 23,
     "metadata": {},
     "output_type": "execute_result"
    }
   ],
   "source": [
    "aero_results.albums_baseline"
   ]
  },
  {
   "cell_type": "code",
   "execution_count": 24,
   "metadata": {},
   "outputs": [
    {
     "data": {
      "text/plain": [
       "{'A Little South of Sanity', 'Get Your Wings'}"
      ]
     },
     "execution_count": 24,
     "metadata": {},
     "output_type": "execute_result"
    }
   ],
   "source": [
    "aero_results.true_positives"
   ]
  },
  {
   "cell_type": "markdown",
   "metadata": {},
   "source": [
    "А також дует який створює електронну музику."
   ]
  },
  {
   "cell_type": "code",
   "execution_count": 25,
   "metadata": {},
   "outputs": [],
   "source": [
    "chemical_results, chemical_metrics = extract_and_measure(page_text(wiki.page('The_Chemical_Brothers')),\\\n",
    "                                                         query_albums('The_Chemical_Brothers'))"
   ]
  },
  {
   "cell_type": "code",
   "execution_count": 26,
   "metadata": {},
   "outputs": [
    {
     "data": {
      "text/plain": [
       "Metrics(accuracy=0.9206349206349206, precision=0.1, recall=0.5, f1=0.16666666666666669)"
      ]
     },
     "execution_count": 26,
     "metadata": {},
     "output_type": "execute_result"
    }
   ],
   "source": [
    "chemical_metrics"
   ]
  },
  {
   "cell_type": "code",
   "execution_count": 27,
   "metadata": {},
   "outputs": [
    {
     "data": {
      "text/plain": [
       "{'Exit Planet Dust', 'We Are the Night'}"
      ]
     },
     "execution_count": 27,
     "metadata": {},
     "output_type": "execute_result"
    }
   ],
   "source": [
    "chemical_results.albums_baseline"
   ]
  },
  {
   "cell_type": "code",
   "execution_count": 28,
   "metadata": {},
   "outputs": [
    {
     "data": {
      "text/plain": [
       "{'We Are the Night'}"
      ]
     },
     "execution_count": 28,
     "metadata": {},
     "output_type": "execute_result"
    }
   ],
   "source": [
    "chemical_results.true_positives"
   ]
  },
  {
   "cell_type": "markdown",
   "metadata": {},
   "source": [
    "Тестуємо алгоритм на більший вибірці."
   ]
  },
  {
   "cell_type": "code",
   "execution_count": 29,
   "metadata": {},
   "outputs": [],
   "source": [
    "all_results, all_metrics = extract_and_measure(page_text(wiki.page('Queen_(band)')) + '\\n' + \\\n",
    "                                               page_text(wiki.page('Aerosmith')) + '\\n' + \\\n",
    "                                               page_text(wiki.page('Pink_Floyd')) + '\\n' + \\\n",
    "                                               page_text(wiki.page('Iron_Maiden')) + '\\n' + \\\n",
    "                                               page_text(wiki.page('Scorpions_(band)')) + '\\n' + \\\n",
    "                                               page_text(wiki.page('Metallica')) + '\\n' + \\\n",
    "                                               page_text(wiki.page('The_Smashing_Pumpkins')) + '\\n' + \\\n",
    "                                               page_text(wiki.page('Nirvana_(band)')) + '\\n' + \\\n",
    "                                               page_text(wiki.page('The_Chemical_Brothers')) + '\\n' + \\\n",
    "                                               page_text(wiki.page('The_Prodigy')),\\\n",
    "                                               query_albums('Queen_(band)').\\\n",
    "                                               union(query_albums('Aerosmith')).\\\n",
    "                                               union(query_albums('Pink_Floyd')).\\\n",
    "                                               union(query_albums('Iron_Maiden')).\\\n",
    "                                               union(query_albums('Scorpions_(band)')).\\\n",
    "                                               union(query_albums('Metallica')).\\\n",
    "                                               union(query_albums('The_Smashing_Pumpkins')).\\\n",
    "                                               union(query_albums('Nirvana_(band)')).\\\n",
    "                                               union(query_albums('The_Chemical_Brothers')).\\\n",
    "                                               union(query_albums('The_Prodigy')))"
   ]
  },
  {
   "cell_type": "code",
   "execution_count": 30,
   "metadata": {},
   "outputs": [
    {
     "data": {
      "text/plain": [
       "Metrics(accuracy=0.7674586033117351, precision=0.3625, recall=0.2078853046594982, f1=0.26423690205011385)"
      ]
     },
     "execution_count": 30,
     "metadata": {},
     "output_type": "execute_result"
    }
   ],
   "source": [
    "all_metrics"
   ]
  },
  {
   "cell_type": "code",
   "execution_count": 31,
   "metadata": {},
   "outputs": [
    {
     "data": {
      "text/plain": [
       "{'A Kind of Magic',\n",
       " 'A Little South of Sanity',\n",
       " 'A Matter of Life and Death',\n",
       " 'A Momentary Lapse of Reason',\n",
       " 'A Night at the Opera',\n",
       " 'Acoustica',\n",
       " 'Beyond Magnetic',\n",
       " 'Blackout',\n",
       " 'Classic Queen',\n",
       " 'Dance of Death',\n",
       " 'Death Magnetic',\n",
       " 'Get Your Wings',\n",
       " 'Greatest Hits',\n",
       " 'Greatest Hits III',\n",
       " 'Iron Maiden',\n",
       " 'Live After Death',\n",
       " 'Lovedrive',\n",
       " 'Master of Puppets',\n",
       " 'Moment of Glory',\n",
       " 'Music for the Jilted Generation',\n",
       " 'News of the World',\n",
       " 'Powerslave',\n",
       " 'Queen',\n",
       " 'Queen Forever',\n",
       " 'Queen II',\n",
       " 'Queen on Fire – Live at the Bowl',\n",
       " 'Reload',\n",
       " 'Rotten Apples',\n",
       " 'Somewhere Back in Time',\n",
       " 'Somewhere in Time',\n",
       " 'St. Anger',\n",
       " 'The Book of Souls',\n",
       " 'The Fat of the Land',\n",
       " 'The Videos 1989–2004',\n",
       " 'The Works',\n",
       " 'Unbreakable',\n",
       " 'We Are the Night',\n",
       " 'World Wide Live'}"
      ]
     },
     "execution_count": 31,
     "metadata": {},
     "output_type": "execute_result"
    }
   ],
   "source": [
    "all_results.true_positives"
   ]
  },
  {
   "cell_type": "markdown",
   "metadata": {},
   "source": [
    "Не дивлячись на те що алгоритм знаходить назви албомів, він має не високу точність завдяки великій кількости false negatives та false positives. З іншої сторони підхід достатньо простий. Думаюю якість існуючого підходу можно б було покращити додаванням більш складних правил які враховують не тільки існування залежностей а і тип залежностей, це думаю, наприклад, допомогло б вирішити проблему коли в одному реченні згадуються не тільки альбом а й пісні цього альбому. Краще б було також, якщо ми вийшли за контекст одного речення і покращили NER (натренували класифікатор який розпізнає назви сучасних музичних творів). "
   ]
  }
 ],
 "metadata": {
  "kernelspec": {
   "display_name": "Python 3",
   "language": "python",
   "name": "python3"
  },
  "language_info": {
   "codemirror_mode": {
    "name": "ipython",
    "version": 3
   },
   "file_extension": ".py",
   "mimetype": "text/x-python",
   "name": "python",
   "nbconvert_exporter": "python",
   "pygments_lexer": "ipython3",
   "version": "3.7.2"
  }
 },
 "nbformat": 4,
 "nbformat_minor": 2
}
