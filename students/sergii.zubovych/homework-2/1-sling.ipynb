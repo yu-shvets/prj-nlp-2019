{
 "cells": [
  {
   "cell_type": "markdown",
   "metadata": {},
   "source": [
    "#### 1. Побудуйте ланцюжок походження слів за зразком:\n",
    "\n",
    "```\n",
    "оженитися: (о + (женити + ся))\n",
    "```\n",
    "\n",
    "1. атиповий: (а + (тип + овий))\n",
    "2. мореплавання: (море + (плав + ання))\n",
    "3. оподаткувати: о + по + дат + ку + ва + ти\n",
    "4. перевтілитися: ((пере + (втілити)) + ся)\n",
    "5. схилившись: ((с + хилив) + шись)\n",
    "6. підсніжник: ((під + сніж) + ник)"
   ]
  },
  {
   "cell_type": "code",
   "execution_count": null,
   "metadata": {},
   "outputs": [],
   "source": [
    "#### 2. Перевірте роботу [SnowballStem](http://snowballstem.org/) для спільнокореневих слів. Напишіть ваші спостереження.\n",
    "\n",
    "1. truth, truthful, truthfulness, countertruth, untruthful, truthology\n",
    "2. flaw, flaws, flawed, flawless, flawlessness, flawlessly, \n",
    "3. лес, лесной, лесник, лесничий, лесничество, пролесье\n",
    "4. окно, окошко, подоконник, оконный, окнище"
   ]
  },
  {
   "cell_type": "code",
   "execution_count": 31,
   "metadata": {},
   "outputs": [
    {
     "name": "stdout",
     "output_type": "stream",
     "text": [
      "['truth', 'truth', 'truth', 'countertruth', 'untruth', 'trutholog']\n",
      "['flaw', 'flaw', 'flaw', 'flawless', 'flawless', 'flawless']\n",
      "['лес', 'лесн', 'лесник', 'леснич', 'лесничеств', 'пролес']\n",
      "['окн', 'окошк', 'подоконник', 'окон', 'окнищ']\n"
     ]
    }
   ],
   "source": [
    "import snowballstemmer\n",
    "\n",
    "en_st = snowballstemmer.stemmer('english')\n",
    "ru_st = snowballstemmer.stemmer('russian')\n",
    "\n",
    "#1\n",
    "print(en_st.stemWords(['truth', 'truthful', 'truthfulness', 'countertruth', 'untruthful', 'truthology']))\n",
    "\n",
    "#2\n",
    "print(en_st.stemWords(['flaw', 'flaws', 'flawed', 'flawless', 'flawlessness', 'flawlessly' ]))\n",
    "\n",
    "#3\n",
    "print(ru_st.stemWords(['лес', 'лесной', 'лесник', 'лесничий', 'лесничество', 'пролесье']))\n",
    "\n",
    "#4\n",
    "print(ru_st.stemWords(['окно', 'окошко', 'подоконник', 'оконный', 'окнище']))\n",
    "\n",
    "\n"
   ]
  },
  {
   "cell_type": "markdown",
   "metadata": {},
   "source": [
    "На мій погляд цей стеммер працює не дуже корректно. Не обролює префікси і не завжди правильно оброблює суффікси. Схоже на те що він просто забирає закінчення."
   ]
  },
  {
   "cell_type": "markdown",
   "metadata": {},
   "source": [
    "#### 3. Визначте частину мови виділеного слова і зв'язок до його батька (за зразком):\n",
    "\n",
    "```\n",
    "{I} like turtles.: pronoun, nsubj(like, I)  \n",
    "I {like} turtles.: verb, root(ROOT, like)  \n",
    "I like {turtles}.: noun, dobj(like, turtles)\n",
    "```\n",
    "\n",
    "1. We can {but} hope that everything will be fine.: coordinating conjunction, cc(can, but)\n",
    "2. It's sad {but} true.: coordinating conjunction, cc(sad, but)\n",
    "3. Jack brings nothing {but} trouble.: coordinationg conjunction, cc(nothing, but)\n",
    "4. {As} we were talking, I realised how to solve the issue.: subordinating conjunction, mark(talking, as)\n",
    "5. This hot dog isn't {as} big as usual.: adverb, advmod(big, as)\n",
    "6. This hot dog isn't as big {as} usual.: prepositon, prep(big, as)\n",
    "7. This hot dog isn't as big {as} I expected.: subordinating conjunction, mark(expected, as)\n",
    "8. I work {as} a teacher.: preposition, prep(work, as)\n",
    "9. Let's do it this {way}!: noun, npadvmod(do, way)\n",
    "10. This is {way} too much!: noun, advmod(much, way)\n",
    "11. The prices are going {down}.: adverb, prt(going, down)\n",
    "12. Someone pushed him and he fell {down} the stairs.: preposition, prep(fell, down)\n",
    "13. I’ve been feeling rather {down} lately.: adverb, advmod(feeling, down)\n",
    "14. It's not easy to {down} a cup of coffee in one gulp.: verb, ccomp(is, down) \n",
    "15. Bring a {down} jacket and a pair of gloves, and you'll be fine.: adjective, amod(jacket, down) \n"
   ]
  },
  {
   "cell_type": "markdown",
   "metadata": {},
   "source": [
    "#### 4. Визначте частину мови виділеного слова і зв'язок до його батька (за зразком):\n",
    "\n",
    "```\n",
    "{Я} люблю черепашок.: займенник, nsubj(люблю, Я)  \n",
    "Я {люблю} черепашок.: дієслово, root(ROOT, люблю)  \n",
    "Я люблю {черепашок}.: іменник, dobj(люблю, черепашок)  \n",
    "```\n",
    "\n",
    "1. Рада міністрів Європейського союзу затвердила угоду про спрощений порядок видачі {віз} для України.: іменник, compound(порядок, видачі)\n",
    "2. Батько Себастьяна {віз} на санях їх театральний гурт до Львова.: дієслово, root(root, віз)\n",
    "3. А ще дивний елемент інтер’єру – {віз} із продукцією одного з херсонських виробників.: іменник, appos(елемент, інтер'єру)\n",
    "4. У цю мить {повз} Євгена пролетів останній вагон товарняка.: прийменник, prep(пролетів, повз)\n",
    "5. Кліпнув очима і побачив малого песика, який саме пробігав {повз} у бік села.: прислівнік, advmod(пробігав, повз)\n",
    "6. Степанко перестав кричати, тільки ламкий стогін {повз} йому із грудей.: дієслово, ccomp(перестав, повз)\n",
    "7. Часу не {гай} – декларацію подай!: діеслово, root(ROOT, гай)\n",
    "8. І коляд заспівали, і {гай} врятували.: іменник, dobj(врятували, гай)\n",
    "9. {Гай}, чи ви забулися, братове?: вигук, root(ROOT, гай)\n",
    "10. Ось присіла на {край} ліжка. іменник, compound(ліжка, край)\n",
    "11. Поставив ту кузню не {край} дороги, як було заведено, а на Красній горі, біля Прадуба.: прислівник, advmod(поставив, край)\n",
    "12. Розповідаючи про передній {край} лінґвістики, фон Лібіх, як завжди, мислив широко і глобально.: іменник, dobj(pозповідаючи, край)\n",
    "13. Не {край} мені серце.: дієслово, root(ROOT, край)  \n",
    "14. І {щойно} тоді додаємо до борщу смажену цибулю.: прислівник, advmod(додаємо, щойно) \n",
    "15. Бо {щойно} я задрімав, віддавши тіло подушці з периною, як мене розбудив поштовх у бік.: сполучник, mark(задрімав, щойно)\n"
   ]
  },
  {
   "cell_type": "markdown",
   "metadata": {},
   "source": [
    "#### 5. Виберіть одне речення зі списку та побудуйте для нього дерево залежностей та дерево складників:\n",
    "\n",
    "(Можна намалювати дерева в графічному редакторі або на папері і докріпити картинку до домашнього завдання. Назви складників, частин мови та залежностей можна не писати. Головне - це структура.)\n",
    "\n",
    "1. Пригадую, уже згодом, коли я відбував свій термін у таборі № 36 у Кучино Пермської області, я отримав від Михасі листівку з жартівливим описом того, як Київ готується до святкування свого 1500-ліття.\n",
    "2. 6C приземляється на плече, перекочуючись, пролітає метрів п’ятдесят і витягується на снігу за кілька кроків від забризканої палаючими уламками посадкової смуги.\n",
    "3. Дівчина стояла там, де й була, і намагалася привести до ладу скуйовджене волосся, вкрай розлючена тим, що це побачили водії, які чекали на переїзді\n",
    "\n",
    "Беремо останнє речення, [дерево складників](tree.jpg), [дерево залежностей](dep.jpg)\n"
   ]
  },
  {
   "cell_type": "markdown",
   "metadata": {},
   "source": [
    "#### 6. Виберіть одне cлово зі списку та побудуйте лексико-семантичні зв'язки до трьох різних значень цього слова. Фактично, потрібно побудувати WordNet-подібні вузли. Значення слів можна перевірити у [СУМі](http://sum.in.ua/) та [Словниках України](http://lcorp.ulif.org.ua/dictua/).\n",
    "\n",
    "Слова на вибір: вік, стіна, добро, серце, центр, куля, міст, ланцюг, бік, дух.\n",
    "   \n",
    "* куля - предмет в формі кулі\n",
    "    * гіперонім: предмет\n",
    "    * гіпоніми: ядро, більярдна куля, куля для боулінгу і.т.д\n",
    "* куля - геометричне тіло, утворене обертанням круга навколо його діаметра\n",
    "    * гіперонім: еліпсоїд обертання\n",
    "    * мероніми: сегмент, зріз, сектор\n",
    "* куля - головна частина набою\n",
    "    * гіперонім: набій\n",
    "    * гіпоніми: бронебійна куля, суцілнометалева куля, цільносвинцева куля, трасуюча куля і.т.д\n",
    "    * холонім: набій    "
   ]
  }
 ],
 "metadata": {
  "kernelspec": {
   "display_name": "Python 3",
   "language": "python",
   "name": "python3"
  },
  "language_info": {
   "codemirror_mode": {
    "name": "ipython",
    "version": 3
   },
   "file_extension": ".py",
   "mimetype": "text/x-python",
   "name": "python",
   "nbconvert_exporter": "python",
   "pygments_lexer": "ipython3",
   "version": "3.6.7"
  }
 },
 "nbformat": 4,
 "nbformat_minor": 2
}
