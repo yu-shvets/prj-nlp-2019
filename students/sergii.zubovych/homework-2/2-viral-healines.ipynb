{
 "cells": [
  {
   "cell_type": "markdown",
   "metadata": {},
   "source": [
    "### 2. Вірусні новини\n",
    "\n",
    "У статті [Automatic Extraction of News Values from Headline Text](http://www.aclweb.org/anthology/E17-4007) описано основні ознаки заголовків, які кидаються в очі і змушують читача таки прочитати новину:\n",
    "1. наявність імен людей, назв компаній тощо\n",
    "2. емоційне забарвлення\n",
    "3. ступені порівняння\n",
    "4. близькість\n",
    "5. елемент несподіванки\n",
    "6. унікальність\n",
    "\n",
    "**Завдання:**\n",
    "1. Напишіть програму, яка аналізує заголовок за першими трьома ознаками (у спрощеній формі)\n",
    "   * Чи є в заголовку іменовані стуності?\n",
    "   * Чи є заголовок позитивно чи негативно забарвлений?\n",
    "   * Чи є в заголовку прикметники та прислівники вищого і найвищого ступенів порівняння?\n",
    "2. Проженіть вашу програму на [корпусі заголовків з The Examiner](examiner-headlines.txt). Для кожної з трьох ознак, визначте відсоток заголовків у корпусі, які її мають.\n",
    "3. Збережіть програму та пораховану статистику в директорії з вашим іменем.\n",
    "\n",
    "Додаткова інформація:\n",
    "- Типи сутностей, які впливають на \"вірусність\" заголовка, виберіть самостійно.\n",
    "- Для визначення емоційного забарвлення, використайте [SentiWordNet](http://sentiwordnet.isti.cnr.it/). Наприклад, можна перевірити, що середнє значення позитивності/негативності слова у заголовку перевищує 0.5. Для визначення середнього значення можна брати до п'яти перших значень слова з такою частиною мови. Будьте креативними та експериментуйте.\n"
   ]
  },
  {
   "cell_type": "markdown",
   "metadata": {},
   "source": [
    "#### Sentiment"
   ]
  },
  {
   "cell_type": "code",
   "execution_count": 60,
   "metadata": {},
   "outputs": [],
   "source": [
    "def apply_stats(select_fun):\n",
    "    with open('examiner-headlines.txt') as headlines:\n",
    "        n = 0\n",
    "        m = 0\n",
    "        for headline in headlines:\n",
    "            m += select_fun(headline)\n",
    "            n += 1\n",
    "        return (n, m, (m * 100) / n)"
   ]
  },
  {
   "cell_type": "code",
   "execution_count": 2,
   "metadata": {},
   "outputs": [],
   "source": [
    "import spacy\n",
    "\n",
    "nlp = spacy.load('en_core_web_md')"
   ]
  },
  {
   "cell_type": "code",
   "execution_count": 32,
   "metadata": {},
   "outputs": [],
   "source": [
    "VIRAL_NER = {'PERSON', 'NORP', 'FAC', 'ORG', 'GPE', 'LOC', \n",
    "             'PRODUCT', 'EVENT', 'WORK_OF_ART', 'LAW', 'LANGUAGE', 'MONEY'}\n",
    "\n",
    "def contains_viral_ner(headline):\n",
    "    doc = nlp(headline)\n",
    "    for ent in doc.ents:\n",
    "        if ent.label_ in VIRAL_NER:\n",
    "            return True\n",
    "    return False"
   ]
  },
  {
   "cell_type": "code",
   "execution_count": 61,
   "metadata": {},
   "outputs": [
    {
     "name": "stdout",
     "output_type": "stream",
     "text": [
      "Headlines total: 5000\n",
      "Headlines that contain viral named entities: 3646 (72.92%)\n"
     ]
    }
   ],
   "source": [
    "total, ner_num, pct = apply_stats(contains_viral_ner)\n",
    "print(f\"Headlines total: {total}\")\n",
    "print(\"Headlines that contain viral named entities: {} ({:.2f}%)\".format(ner_num, pct))"
   ]
  },
  {
   "cell_type": "code",
   "execution_count": 63,
   "metadata": {},
   "outputs": [],
   "source": [
    "SUPERLATIVES = {'JJR', 'JJS', 'RBR', 'RBS'}\n",
    "\n",
    "def contains_superlatives(headline):\n",
    "    doc = nlp(headline)\n",
    "    for token in doc:\n",
    "        if token.tag_ in SUPERLATIVES:\n",
    "            return True\n",
    "    return False    "
   ]
  },
  {
   "cell_type": "code",
   "execution_count": 64,
   "metadata": {},
   "outputs": [
    {
     "name": "stdout",
     "output_type": "stream",
     "text": [
      "Headlines total: 5000\n",
      "Headlines that contain superlatives: 232 (4.64%)\n"
     ]
    }
   ],
   "source": [
    "total, super_num, pct = apply_stats(contains_superlatives)\n",
    "print(f\"Headlines total: {total}\")\n",
    "print(\"Headlines that contain superlatives: {} ({:.2f}%)\".format(super_num, pct))"
   ]
  },
  {
   "cell_type": "code",
   "execution_count": 67,
   "metadata": {},
   "outputs": [],
   "source": [
    "from nltk.corpus import wordnet as wn\n",
    "from nltk.corpus import sentiwordnet as swn\n",
    " \n",
    "def penn_to_wordnet(tag):\n",
    "    \n",
    "    if tag.startswith('J'):\n",
    "        return wn.ADJ\n",
    "    elif tag.startswith('N'):\n",
    "        return wn.NOUN\n",
    "    elif tag.startswith('R'):\n",
    "        return wn.ADV\n",
    "    elif tag.startswith('V'):\n",
    "        return wn.VERB\n",
    "    \n",
    "    return None\n",
    " \n",
    "  \n",
    "def viral_sentiment(headline):\n",
    "    \n",
    "    sentiment = 0.0\n",
    "    tokens_count = 0    \n",
    "    \n",
    "    tokens = nlp(headline)\n",
    "        \n",
    "    for token in tokens:      \n",
    "        \n",
    "        wn_tag = penn_to_wordnet(token.tag_)\n",
    "        \n",
    "        if not wn_tag:\n",
    "            continue\n",
    "\n",
    "        synsets = wn.synsets(token.lemma_, pos=wn_tag)        \n",
    "        \n",
    "        if not synsets:\n",
    "            continue\n",
    "        \n",
    "        word_sentiment = 0.0\n",
    "        meaning_num = 0\n",
    "        \n",
    "        for synset in synsets[:5]:\n",
    "            swn_synset = swn.senti_synset(synset.name())            \n",
    "\n",
    "            word_sentiment += swn_synset.pos_score() - swn_synset.neg_score()\n",
    "            meaning_num += 1\n",
    "            \n",
    "        sentiment += word_sentiment / meaning_num    \n",
    "         \n",
    "    if sentiment > 0.5 or sentiment < -0.5:\n",
    "        return True\n",
    "        \n",
    "    return False"
   ]
  },
  {
   "cell_type": "code",
   "execution_count": 68,
   "metadata": {},
   "outputs": [
    {
     "name": "stdout",
     "output_type": "stream",
     "text": [
      "Headlines total: 5000\n",
      "Headlines that have viral sentiment: 640 (12.80%)\n"
     ]
    }
   ],
   "source": [
    "total, senti_num, pct = apply_stats(viral_sentiment)\n",
    "print(f\"Headlines total: {total}\")\n",
    "print(\"Headlines that have viral sentiment: {} ({:.2f}%)\".format(senti_num, pct))"
   ]
  },
  {
   "cell_type": "code",
   "execution_count": 69,
   "metadata": {},
   "outputs": [],
   "source": [
    "with open('examiner-headlines.txt') as headlines:\n",
    "    with open('viral-sentiment.txt', 'w') as senti_output:\n",
    "        with open('ner-headlines.txt', 'w') as ner_output:\n",
    "            with open('superlative-headlines.txt', 'w') as sup_output:\n",
    "                for headline in headlines:\n",
    "                    if viral_sentiment(headline):\n",
    "                        senti_output.write(headline)\n",
    "                    if contains_viral_ner(headline):\n",
    "                        ner_output.write(headline)\n",
    "                    if contains_superlatives(headline):\n",
    "                        sup_output.write(headline)"
   ]
  }
 ],
 "metadata": {
  "kernelspec": {
   "display_name": "Python 3",
   "language": "python",
   "name": "python3"
  },
  "language_info": {
   "codemirror_mode": {
    "name": "ipython",
    "version": 3
   },
   "file_extension": ".py",
   "mimetype": "text/x-python",
   "name": "python",
   "nbconvert_exporter": "python",
   "pygments_lexer": "ipython3",
   "version": "3.7.2"
  }
 },
 "nbformat": 4,
 "nbformat_minor": 2
}
