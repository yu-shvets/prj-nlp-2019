{
 "cells": [
  {
   "cell_type": "markdown",
   "metadata": {},
   "source": [
    "## Колокації\n",
    "\n",
    "Одним із важливих аспектів будь-якої природної мови є сполучуваність слів. В англійській мові поняття сполучуваності дуже відчутне і присутнє у всіх мовних структурах: ми кажемо _\"make a mistake\",_ але _\"do a favour\";_ ми кажемо _\"big surprise\",_ але _\"great anger\";_ ми кажемо _\"highly unlikely\",_ але _\"seriously wrong\"._\n",
    "\n",
    "У цьому завданні вам потрібно дослідити сполучуваність дієслів одного синонімного ряду з прислівниками. Наприклад, ми частіше кажемо _\"love somebody dearly\", \"honor somebody highly\",_ але _\"admire somebody greatly\"._\n",
    "\n",
    "**Завдання:**\n",
    "1. продовжте синонімний ряд дієслів: _\"say\", \"tell\", \"speak\", \"claim\", \"communicate\"_\n",
    "2. напишіть функцію, яка знаходить у реченні дієслово (за складеним раніше синонімним рядом) і витягає усі можливі прислівники на \"-ly\", якими це дієслово керує\n",
    "3. напишіть програму, яка знайде усі можливі прислівники для наших дієслів у [корпусі блогів](blog2008.txt)\n",
    "4. на виході програма повинна видати десять найчастотніших прислівників для кожного дієслова (разом із частотою). Приклад виводу:\n",
    "\t```\n",
    "\tsay: (loudly, 51), (silently, 45), (quietly, 10)\n",
    "\ttell: (quietly, 100), (loudly, 61), (seriously, 5)\n",
    "\t```\n",
    "5. збережіть програму та результати аналізу на корпусі (вивід) у директорії з вашим іменем\n",
    "\n",
    "Синоніми можна знайти у тезаурусах (http://www.thesaurus.com/, https://www.merriam-webster.com/thesaurus) чи [WordNet](http://wordnetweb.princeton.edu/perl/webwn).\n",
    "\n",
    "Корпус блогів взятий з [Political Blog Corpora](http://www.cs.cmu.edu/~ark/blog-data/).\n",
    "\n",
    "Ви можете використати будь-яку мову програмування та будь-яку NLP-бібліотеку.\n",
    "\n",
    "P.S. Зверніть увагу на те, що у природній мові дієслова можуть мати різні форми, а прислівників може бути по декілька."
   ]
  },
  {
   "cell_type": "markdown",
   "metadata": {},
   "source": [
    "### 1. продовжте синонімний ряд дієслів: _\"say\", \"tell\", \"speak\", \"claim\", \"communicate\"_"
   ]
  },
  {
   "cell_type": "code",
   "execution_count": 1,
   "metadata": {},
   "outputs": [
    {
     "name": "stdout",
     "output_type": "stream",
     "text": [
      "{'separate', 'speak', 'narrate', 'put across', 'sound out', 'verbalise', 'arrogate', 'intercommunicate', 'exact', 'lay claim', 'enunciate', 'assure', 'order', 'evidence', 'secern', 'convey', 'communicate', 'commune', 'suppose', 'talk', 'severalise', 'transmit', 'allege', 'tell apart', 'secernate', 'enjoin', 'pronounce', 'recount', 'mouth', 'take', 'pass', 'differentiate', 'enounce', 'state', 'articulate', 'aver', 'read', 'claim', 'distinguish', 'tell', 'severalize', 'utter', 'recite', 'verbalize', 'pass on', 'say', 'address', 'pass along'}\n"
     ]
    }
   ],
   "source": [
    "from nltk.corpus import wordnet as wn\n",
    "\n",
    "entry_verbs = ['say', 'tell', 'speak', 'claim', 'communicate']\n",
    "\n",
    "\n",
    "def syns(verb):\n",
    "    return {lemma.name().replace('_', ' ') \\\n",
    "            for synset in wn.synsets(verb, wn.VERB) for lemma in synset.lemmas()}\n",
    "  \n",
    "\n",
    "synonyms = {syn for verb in entry_verbs for syn in syns(verb)}\n",
    "\n",
    "print(synonyms)"
   ]
  },
  {
   "cell_type": "markdown",
   "metadata": {},
   "source": [
    "### 2. напишіть функцію, яка знаходить у реченні дієслово (за складеним раніше синонімним рядом) і витягає усі можливі прислівники на \"-ly\", якими це дієслово керує"
   ]
  },
  {
   "cell_type": "code",
   "execution_count": 2,
   "metadata": {},
   "outputs": [],
   "source": [
    "import spacy\n",
    "\n",
    "nlp = spacy.load(\"en_core_web_md\", disable = ['ner'])"
   ]
  },
  {
   "cell_type": "code",
   "execution_count": 3,
   "metadata": {},
   "outputs": [],
   "source": [
    "\n",
    "def reach(from_token, to_verb):\n",
    "    if from_token.head.lemma_ == to_verb and from_token.head.pos_ == 'VERB':\n",
    "        return from_token.head\n",
    "    elif from_token.dep_ == 'ROOT':\n",
    "        return None\n",
    "    \n",
    "    return reach(from_token.head, to_verb)\n",
    "    \n",
    "def extract_deply_adverbs(doc, verb):\n",
    "    \n",
    "    parts = verb.split(' ')\n",
    "    parts_num = len(parts)\n",
    "    \n",
    "    if not parts_num or parts_num > 2:\n",
    "        raise ValueError(\"Incorrect verb parts number\")\n",
    "\n",
    "    adverbs = set([])\n",
    "    \n",
    "    for token in doc:\n",
    "        if token.text.endswith('ly') and token.pos_ == 'ADV':\n",
    "            head = reach(token, parts[0])\n",
    "            if head:\n",
    "                if (parts_num == 2):\n",
    "                    if list(filter(lambda x: x.pos_ == 'PART' and x.text == parts[1], head.children)):\n",
    "                        adverbs.add(token.text)\n",
    "                else:\n",
    "                    adverbs.add(token.text)\n",
    "    \n",
    "    return adverbs\n",
    "    \n",
    "    \n",
    "assert extract_deply_adverbs(nlp(\"He speaks silently all the time\"), \"speak\") == {'silently'}\n",
    "assert extract_deply_adverbs(nlp(\"He speaks very silently all the time\"), \"speak\") == {'silently'}\n",
    "assert extract_deply_adverbs(nlp(\"He speaks loudly and seriously\"), \"speak\") == {'loudly', 'seriously'}\n",
    "assert extract_deply_adverbs(nlp(\"He speaks very loudly all the time and quite seriously\"), \"speak\") == {'loudly', 'seriously'}\n",
    "assert extract_deply_adverbs(nlp(\"He put accross loudly a few words\"), \"put accross\") == set(['loudly'])\n",
    "assert not extract_deply_adverbs(nlp(\"He put a letter in mailbox located accross the street\"), \"put accross\")\n",
    "assert not extract_deply_adverbs(nlp(\"He put a hat on\"), \"put accross\")\n",
    "assert not extract_deply_adverbs(nlp(\"He speaked a lot\"), \"speak\")\n",
    "assert not extract_deply_adverbs(nlp(\"He speaked loudly\"), \"tell\")\n",
    "    "
   ]
  },
  {
   "cell_type": "markdown",
   "metadata": {},
   "source": [
    "### 3. напишіть програму, яка знайде усі можливі прислівники для наших дієслів у [корпусі блогів](blog2008.txt)"
   ]
  },
  {
   "cell_type": "code",
   "execution_count": 4,
   "metadata": {},
   "outputs": [],
   "source": [
    "from collections import defaultdict\n",
    "\n",
    "def word_hist(words):\n",
    "    hist = defaultdict(int)\n",
    "    for w in words:\n",
    "        hist[w] += 1\n",
    "    return dict(hist)"
   ]
  },
  {
   "cell_type": "code",
   "execution_count": null,
   "metadata": {},
   "outputs": [],
   "source": [
    "stats = defaultdict(list)\n",
    "\n",
    "with open('blog2008.txt') as sentences:\n",
    "    for i, sentence in enumerate(sentences):\n",
    "        #if i > 1000:\n",
    "        #    break\n",
    "        doc = nlp(sentence)\n",
    "        for syn in synonyms:\n",
    "            stats[syn].extend(extract_deply_adverbs(doc, syn))\n",
    "\n",
    "hist = {}\n",
    "\n",
    "for syn, adverbs in stats.items():\n",
    "    if adverbs:\n",
    "        hist[syn] = word_hist(adverbs)"
   ]
  },
  {
   "cell_type": "code",
   "execution_count": 24,
   "metadata": {},
   "outputs": [
    {
     "name": "stdout",
     "output_type": "stream",
     "text": [
      "address: [('directly', 17), ('only', 13), ('actually', 8), ('really', 7), ('publicly', 5), ('adequately', 3), ('recently', 3), ('immediately', 3), ('mostly', 3), ('effectively', 3)]\n",
      "\n",
      "allege: [('potentially', 4), ('repeatedly', 3), ('subsequently', 3), ('personally', 2), ('flatly', 2), ('only', 2), ('wrongly', 2), ('directly', 2), ('unlawfully', 1), ('credibly', 1)]\n",
      "\n",
      "articulate: [('clearly', 4), ('proactively', 1), ('fully', 1), ('astutely', 1), ('convincincly', 1), ('certainly', 1), ('really', 1), ('simply', 1)]\n",
      "\n",
      "assure: [('privately', 4), ('only', 3), ('really', 3), ('apparently', 2), ('simply', 2), ('virtually', 2), ('falsely', 2), ('actually', 2), ('fully', 2), ('immediately', 2)]\n",
      "\n",
      "claim: [('only', 64), ('falsely', 49), ('actually', 22), ('really', 19), ('Falsely', 17), ('simply', 16), ('nearly', 12), ('repeatedly', 12), ('merely', 11), ('previously', 9)]\n",
      "\n",
      "communicate: [('directly', 4), ('effectively', 3), ('freely', 1), ('Really', 1), ('verbally', 1), ('indirectly', 1), ('apparently', 1), ('loudly', 1), ('hopefully', 1), ('daily', 1)]\n",
      "\n",
      "convey: [('accurately', 3), ('highly', 2), ('usually', 2), ('fully', 2), ('strongly', 2), ('relatively', 2), ('only', 2), ('grossly', 1), ('sharply', 1), ('recently', 1)]\n",
      "\n",
      "differentiate: [('clearly', 2), ('adequately', 1), ('piously', 1), ('cynically', 1), ('especially', 1), ('greedily', 1), ('reasonably', 1), ('thoroughly', 1)]\n",
      "\n",
      "distinguish: [('really', 3), ('precisely', 2), ('generally', 2), ('officially', 1), ('clearly', 1), ('literally', 1), ('politically', 1), ('strongly', 1), ('adequately', 1), ('genuinely', 1)]\n",
      "\n",
      "enjoin: [('only', 1), ('actually', 1)]\n",
      "\n",
      "enunciate: [('simply', 1)]\n",
      "\n",
      "evidence: [('previously', 1)]\n",
      "\n",
      "exact: [('likely', 1), ('finally', 1)]\n",
      "\n",
      "mouth: [('racially', 1), ('robotically', 1), ('merely', 1)]\n",
      "\n",
      "order: [('immediately', 7), ('only', 3), ('publicly', 2), ('honestly', 2), ('nearly', 2), ('recently', 2), ('quickly', 2), ('improperly', 2), ('effectively', 1), ('nominally', 1)]\n",
      "\n",
      "pass: [('only', 17), ('quickly', 15), ('unanimously', 11), ('probably', 9), ('actually', 8), ('recently', 7), ('eventually', 6), ('overwhelmingly', 5), ('finally', 5), ('nearly', 4)]\n",
      "\n",
      "pass along: [('relentlessly', 1), ('exactly', 1), ('blithely', 1), ('probably', 1), ('only', 1), ('eventually', 1)]\n",
      "\n",
      "pass on: [('increasingly', 2), ('slightly', 1), ('usually', 1), ('uncritically', 1), ('personally', 1), ('actually', 1), ('probably', 1), ('barely', 1), ('Secondly', 1)]\n",
      "\n",
      "pronounce: [('ostentatiously', 1), ('routinely', 1), ('extremely', 1), ('substantively', 1), ('nearly', 1), ('ultimately', 1), ('extravagantly', 1), ('similarly', 1), ('officially', 1), ('suddenly', 1)]\n",
      "\n",
      "read: [('actually', 26), ('simply', 12), ('only', 11), ('correctly', 11), ('apparently', 11), ('especially', 10), ('really', 10), ('recently', 9), ('carefully', 8), ('widely', 7)]\n",
      "\n",
      "recite: [('sharply', 4), ('simply', 3), ('invariably', 2), ('loudly', 1), ('robotically', 1), ('rapidly', 1), ('properly', 1)]\n",
      "\n",
      "recount: [('oddly', 2), ('virtually', 1), ('casually', 1), ('only', 1), ('manually', 1), ('recently', 1), ('somberly', 1), ('steadily', 1), ('innocently', 1), ('repeatedly', 1)]\n",
      "\n",
      "say: [('only', 411), ('really', 241), ('actually', 209), ('simply', 132), ('recently', 130), ('probably', 119), ('exactly', 88), ('repeatedly', 72), ('publicly', 68), ('clearly', 66)]\n",
      "\n",
      "separate: [('only', 1), ('regionally', 1), ('expressly', 1), ('intentionally', 1), ('consciously', 1), ('mutually', 1), ('clearly', 1), ('palpably', 1), ('neatly', 1), ('eventually', 1)]\n",
      "\n",
      "sound out: [('reportedly', 1)]\n",
      "\n",
      "speak: [('directly', 37), ('publicly', 21), ('only', 21), ('actually', 14), ('fiercely', 12), ('recently', 11), ('briefly', 9), ('forcefully', 9), ('especially', 8), ('certainly', 7)]\n",
      "\n",
      "state: [('publicly', 22), ('clearly', 20), ('unequivocally', 13), ('explicitly', 13), ('only', 12), ('recently', 9), ('previously', 8), ('simply', 8), ('really', 7), ('bluntly', 7)]\n",
      "\n",
      "suppose: [('only', 12), ('really', 8), ('exactly', 6), ('probably', 5), ('simply', 3), ('seriously', 3), ('politically', 3), ('merely', 3), ('supposedly', 3), ('significantly', 2)]\n",
      "\n",
      "take: [('seriously', 254), ('only', 104), ('actually', 49), ('really', 40), ('especially', 34), ('probably', 33), ('finally', 33), ('directly', 29), ('simply', 27), ('apparently', 26)]\n",
      "\n",
      "talk: [('really', 28), ('only', 28), ('directly', 18), ('actually', 17), ('specifically', 13), ('especially', 10), ('probably', 10), ('clearly', 8), ('obviously', 7), ('repeatedly', 7)]\n",
      "\n",
      "tell: [('only', 78), ('really', 77), ('actually', 40), ('recently', 35), ('exactly', 28), ('simply', 24), ('probably', 24), ('reportedly', 19), ('personally', 18), ('privately', 17)]\n",
      "\n",
      "transmit: [('sexually', 9), ('electronically', 2), ('usually', 1), ('highly', 1), ('locally', 1), ('publicly', 1), ('securely', 1), ('directly', 1), ('exclusively', 1)]\n",
      "\n",
      "utter: [('actually', 2), ('verbally', 1), ('deliciously', 1), ('casually', 1), ('only', 1), ('basically', 1)]\n",
      "\n"
     ]
    }
   ],
   "source": [
    "for w, h in sorted(hist.items(), key = lambda kv: kv[0]):\n",
    "    print(\"{}: {}\".format(w, sorted(h.items(), key = lambda kv: kv[1], reverse = True)[0:10]), end = '\\n\\n')"
   ]
  }
 ],
 "metadata": {
  "kernelspec": {
   "display_name": "Python 3",
   "language": "python",
   "name": "python3"
  },
  "language_info": {
   "codemirror_mode": {
    "name": "ipython",
    "version": 3
   },
   "file_extension": ".py",
   "mimetype": "text/x-python",
   "name": "python",
   "nbconvert_exporter": "python",
   "pygments_lexer": "ipython3",
   "version": "3.7.2"
  }
 },
 "nbformat": 4,
 "nbformat_minor": 2
}
