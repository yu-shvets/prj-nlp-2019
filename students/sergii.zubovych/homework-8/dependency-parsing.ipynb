{
 "cells": [
  {
   "cell_type": "markdown",
   "metadata": {},
   "source": [
    "# Transition-based swapping arc-standard unlabeled dependency parser for Ukrainian\n",
    "\n",
    "В цій роботі я спробував побудувати варіант transition-based алгоритму який вміє працювати з нетранзитивними деревами залежностей."
   ]
  },
  {
   "cell_type": "markdown",
   "metadata": {},
   "source": [
    "## Get the Data\n",
    "Спочатку отримуюємо тренувальні та тестові данні."
   ]
  },
  {
   "cell_type": "code",
   "execution_count": 3,
   "metadata": {},
   "outputs": [
    {
     "name": "stdout",
     "output_type": "stream",
     "text": [
      "  % Total    % Received % Xferd  Average Speed   Time    Time     Time  Current\n",
      "                                 Dload  Upload   Total   Spent    Left  Speed\n",
      "100 11.8M  100 11.8M    0     0  5046k      0  0:00:02  0:00:02 --:--:-- 5046k\n"
     ]
    }
   ],
   "source": [
    "!curl https://raw.githubusercontent.com/UniversalDependencies/UD_Ukrainian-IU/master/uk_iu-ud-train.conllu --output uk_iu-ud-train.conllu"
   ]
  },
  {
   "cell_type": "code",
   "execution_count": 19,
   "metadata": {},
   "outputs": [
    {
     "name": "stdout",
     "output_type": "stream",
     "text": [
      "# doc_title = «Я обізвуся до них…»\r\n",
      "# newdoc id = 0000\r\n",
      "# newpar id = 0001\r\n",
      "# sent_id = 0002\r\n",
      "# text = У домі римського патриція Руфіна була прегарна фреска, зображення Венери та Адоніса.\r\n",
      "# translit = U domi rymśkoho patrycija Rufina bula preharna freska, zobraženńа Venery ta Adonisa.\r\n",
      "1\tУ\tу\tADP\tSpsl\tCase=Loc\t2\tcase\t2:case\tId=0003|LTranslit=u|Translit=U\r\n",
      "2\tдомі\tдім\tNOUN\tNcmsln\tAnimacy=Inan|Case=Loc|Gender=Masc|Number=Sing\t6\tobl\t6:obl\tId=0004|LTranslit=dim|Translit=domi\r\n",
      "3\tримського\tримський\tADJ\tAo-msgf\tCase=Gen|Gender=Masc|Number=Sing\t4\tamod\t4:amod\tId=0005|LTranslit=rymśkyj|Translit=rymśkoho\r\n",
      "4\tпатриція\tпатрицій\tNOUN\tNcmsgy\tAnimacy=Anim|Case=Gen|Gender=Masc|Number=Sing\t2\tnmod\t2:nmod\tId=0006|LTranslit=patrycij|Translit=patrycija\r\n"
     ]
    }
   ],
   "source": [
    "!head -n 10 uk_iu-ud-train.conllu"
   ]
  },
  {
   "cell_type": "code",
   "execution_count": 20,
   "metadata": {},
   "outputs": [
    {
     "name": "stdout",
     "output_type": "stream",
     "text": [
      "  % Total    % Received % Xferd  Average Speed   Time    Time     Time  Current\n",
      "                                 Dload  Upload   Total   Spent    Left  Speed\n",
      "100 2308k  100 2308k    0     0  1643k      0  0:00:01  0:00:01 --:--:-- 1643k\n"
     ]
    }
   ],
   "source": [
    "!curl https://raw.githubusercontent.com/UniversalDependencies/UD_Ukrainian-IU/master/uk_iu-ud-test.conllu --output uk_iu-ud-test.conllu"
   ]
  },
  {
   "cell_type": "code",
   "execution_count": 1,
   "metadata": {},
   "outputs": [
    {
     "name": "stdout",
     "output_type": "stream",
     "text": [
      "# doc_title = «Я обізвуся до них…»\r\n",
      "# newdoc id = 0000\r\n",
      "# newpar id = 01rc\r\n",
      "# sent_id = 01rd\r\n",
      "# text = Зречення культурної ідентичності – це втрата свободи й самовладності.\r\n",
      "# translit = Zrečenńа kuľturnoji identyčnosti – ce vtrata svobody j samovladnosti.\r\n",
      "1\tЗречення\tзречення\tNOUN\tNcnsnn\tAnimacy=Inan|Case=Nom|Gender=Neut|Number=Sing\t6\tnsubj\t6:nsubj\tId=01re|LTranslit=zrečenńа|Translit=Zrečenńа\r\n",
      "2\tкультурної\tкультурний\tADJ\tAfpfsgf\tCase=Gen|Degree=Pos|Gender=Fem|Number=Sing\t3\tamod\t3:amod\tId=01rf|LTranslit=kuľturnyj|Translit=kuľturnoji\r\n",
      "3\tідентичності\tідентичність\tNOUN\tNcfsgn\tAnimacy=Inan|Case=Gen|Gender=Fem|Number=Sing\t1\tnmod\t1:nmod\tId=01rg|LTranslit=identyčnisť|Translit=identyčnosti\r\n",
      "4\t–\t–\tPUNCT\tU\tPunctType=Dash\t6\tpunct\t6:punct\tId=01rh|LTranslit=–|Translit=–\r\n"
     ]
    }
   ],
   "source": [
    "!head -n 10 uk_iu-ud-test.conllu"
   ]
  },
  {
   "cell_type": "code",
   "execution_count": 2,
   "metadata": {},
   "outputs": [],
   "source": [
    "import conllu\n",
    "\n",
    "def read_treebank(filename):\n",
    "    with open(filename) as f:\n",
    "        return conllu.parse(f.read())\n",
    "\n",
    "trees = read_treebank('uk_iu-ud-train.conllu')"
   ]
  },
  {
   "cell_type": "code",
   "execution_count": 4,
   "metadata": {},
   "outputs": [
    {
     "data": {
      "text/plain": [
       "5290"
      ]
     },
     "execution_count": 4,
     "metadata": {},
     "output_type": "execute_result"
    }
   ],
   "source": [
    "len(trees)"
   ]
  },
  {
   "cell_type": "code",
   "execution_count": 5,
   "metadata": {},
   "outputs": [
    {
     "data": {
      "text/plain": [
       "OrderedDict([('id', 3),\n",
       "             ('form', 'римського'),\n",
       "             ('lemma', 'римський'),\n",
       "             ('upostag', 'ADJ'),\n",
       "             ('xpostag', 'Ao-msgf'),\n",
       "             ('feats',\n",
       "              OrderedDict([('Case', 'Gen'),\n",
       "                           ('Gender', 'Masc'),\n",
       "                           ('Number', 'Sing')])),\n",
       "             ('head', 4),\n",
       "             ('deprel', 'amod'),\n",
       "             ('deps', [('amod', 4)]),\n",
       "             ('misc',\n",
       "              OrderedDict([('Id', '0005'),\n",
       "                           ('LTranslit', 'rymśkyj'),\n",
       "                           ('Translit', 'rymśkoho')]))])"
      ]
     },
     "execution_count": 5,
     "metadata": {},
     "output_type": "execute_result"
    }
   ],
   "source": [
    "trees[0][2]"
   ]
  },
  {
   "cell_type": "code",
   "execution_count": 6,
   "metadata": {},
   "outputs": [],
   "source": [
    "def print_rels(tree):\n",
    "    for node in tree:\n",
    "        head = node[\"head\"]\n",
    "        print(\"{} <-- {}\".format(node[\"form\"],\n",
    "                             tree[head - 1][\"form\"]\n",
    "                             if head > 0 else \"root\"))"
   ]
  },
  {
   "cell_type": "code",
   "execution_count": 7,
   "metadata": {},
   "outputs": [
    {
     "name": "stdout",
     "output_type": "stream",
     "text": [
      "У <-- домі\n",
      "домі <-- була\n",
      "римського <-- патриція\n",
      "патриція <-- домі\n",
      "Руфіна <-- патриція\n",
      "була <-- root\n",
      "прегарна <-- фреска\n",
      "фреска <-- була\n",
      ", <-- зображення\n",
      "зображення <-- фреска\n",
      "Венери <-- зображення\n",
      "та <-- Адоніса\n",
      "Адоніса <-- Венери\n",
      ". <-- була\n"
     ]
    }
   ],
   "source": [
    "print_rels(trees[0])"
   ]
  },
  {
   "cell_type": "markdown",
   "metadata": {},
   "source": [
    "В деяких деревах ми маємо незрозумілим чином заданого батька."
   ]
  },
  {
   "cell_type": "code",
   "execution_count": 8,
   "metadata": {},
   "outputs": [
    {
     "data": {
      "text/plain": [
       "177"
      ]
     },
     "execution_count": 8,
     "metadata": {},
     "output_type": "execute_result"
    }
   ],
   "source": [
    "def is_broken(tree):\n",
    "    for n in tree:\n",
    "        if type(n[\"id\"]) != int:\n",
    "            return True\n",
    "    return False    \n",
    "\n",
    "broken_trees = list(filter(is_broken, trees))\n",
    "\n",
    "len(broken_trees)"
   ]
  },
  {
   "cell_type": "code",
   "execution_count": 9,
   "metadata": {},
   "outputs": [
    {
     "name": "stdout",
     "output_type": "stream",
     "text": [
      "0 1 5 Найперш\n",
      "1 2 3 барикада\n",
      "2 3 0 мала\n",
      "3 4 3 би\n",
      "4 5 3 перегородити\n",
      "5 6 7 затишну\n",
      "6 7 5 вітальню\n",
      "7 8 9 косачівського\n",
      "8 9 7 дому\n",
      "9 10 24 ,\n",
      "10 11 24 бо\n",
      "11 12 14 ,\n",
      "12 13 14 як\n",
      "13 14 24 дізнаємося\n",
      "14 15 17 з\n",
      "15 16 17 академічних\n",
      "16 17 14 пояснень\n",
      "17 18 14 ,\n",
      "18 19 24 Ольга\n",
      "19 20 19 Драгоманова\n",
      "20 21 22 -\n",
      "21 22 20 Косач\n",
      "22 23 24 «\n",
      "23 24 3 стояла\n",
      "24 25 29 на\n",
      "25 26 28 ліберально\n",
      "26 27 26 -\n",
      "27 28 29 буржуазних\n",
      "28 29 24 позиціях\n",
      "29 30 24 »\n",
      "30 31 34 ,\n",
      "31 32 34 а\n",
      "32 33 34 її\n",
      "33 34 24 донька\n",
      "34 (34, '.', 1) None стояла\n",
      "35 35 37 –\n",
      "36 36 37 на\n",
      "37 37 34 марксистських\n",
      "38 38 3 .\n"
     ]
    }
   ],
   "source": [
    "for i, n in enumerate(broken_trees[0]):\n",
    "    print(i, n['id'], n['head'], n['form'])\n",
    "    "
   ]
  },
  {
   "cell_type": "markdown",
   "metadata": {},
   "source": [
    "Такі дерева ми відфільтровуємо."
   ]
  },
  {
   "cell_type": "code",
   "execution_count": 10,
   "metadata": {},
   "outputs": [
    {
     "data": {
      "text/plain": [
       "5113"
      ]
     },
     "execution_count": 10,
     "metadata": {},
     "output_type": "execute_result"
    }
   ],
   "source": [
    "clean_trees = list(filter(lambda t: not is_broken(t), trees))\n",
    "\n",
    "len(clean_trees)"
   ]
  },
  {
   "cell_type": "markdown",
   "metadata": {},
   "source": [
    "Далі знаходимо непроективні дерева."
   ]
  },
  {
   "cell_type": "code",
   "execution_count": 12,
   "metadata": {},
   "outputs": [
    {
     "data": {
      "text/plain": [
       "394"
      ]
     },
     "execution_count": 12,
     "metadata": {},
     "output_type": "execute_result"
    }
   ],
   "source": [
    "def intersects(n1, n2):\n",
    "    \"\"\"Checks whether the spans of two nodes intersect\"\"\"\n",
    "    s1 = n1['id'] if n1['head'] > n1['id'] else n1['head']\n",
    "    e1 = n1['head'] if n1['head'] > n1['id'] else n1['id']\n",
    "    s2 = n2['id'] if n2['head'] > n2['id'] else n2['head']\n",
    "    e2 = n2['head'] if n2['head'] > n2['id'] else n2['id']\n",
    "    \n",
    "    return (s1 < s2 and e1 > s2 and e2 > e1) or (s2 < s1 and e2 > s1 and e1 > e2)\n",
    "\n",
    "def non_projective(tree):\n",
    "    for n1 in tree:\n",
    "        for n2 in tree:\n",
    "            if n1['id'] < n2['id'] and intersects(n1, n2):\n",
    "                return True\n",
    "            \n",
    "    return False\n",
    "\n",
    "non_projective_trees = list(filter(non_projective, clean_trees))\n",
    "\n",
    "len(non_projective_trees)"
   ]
  },
  {
   "cell_type": "markdown",
   "metadata": {},
   "source": [
    "Та відфільтровуємо проективні."
   ]
  },
  {
   "cell_type": "code",
   "execution_count": 13,
   "metadata": {},
   "outputs": [
    {
     "data": {
      "text/plain": [
       "4719"
      ]
     },
     "execution_count": 13,
     "metadata": {},
     "output_type": "execute_result"
    }
   ],
   "source": [
    "projective_trees = list(filter(lambda t: not non_projective(t), clean_trees))\n",
    "\n",
    "len(projective_trees)"
   ]
  },
  {
   "cell_type": "markdown",
   "metadata": {},
   "source": [
    "Завантажуємо тестові данні і аналогічнім чином їх фільтруємо."
   ]
  },
  {
   "cell_type": "code",
   "execution_count": 14,
   "metadata": {},
   "outputs": [
    {
     "data": {
      "text/plain": [
       "864"
      ]
     },
     "execution_count": 14,
     "metadata": {},
     "output_type": "execute_result"
    }
   ],
   "source": [
    "test_trees = read_treebank('uk_iu-ud-test.conllu')\n",
    "\n",
    "len(test_trees)"
   ]
  },
  {
   "cell_type": "code",
   "execution_count": 15,
   "metadata": {},
   "outputs": [
    {
     "data": {
      "text/plain": [
       "846"
      ]
     },
     "execution_count": 15,
     "metadata": {},
     "output_type": "execute_result"
    }
   ],
   "source": [
    "test_clean_trees = list(filter(lambda t: not is_broken(t), test_trees))\n",
    "\n",
    "len(test_clean_trees)"
   ]
  },
  {
   "cell_type": "code",
   "execution_count": 16,
   "metadata": {},
   "outputs": [
    {
     "data": {
      "text/plain": [
       "802"
      ]
     },
     "execution_count": 16,
     "metadata": {},
     "output_type": "execute_result"
    }
   ],
   "source": [
    "test_projective_trees = list(filter(lambda t: not non_projective(t), test_clean_trees))\n",
    "\n",
    "len(test_projective_trees)"
   ]
  },
  {
   "cell_type": "code",
   "execution_count": 17,
   "metadata": {},
   "outputs": [
    {
     "data": {
      "text/plain": [
       "44"
      ]
     },
     "execution_count": 17,
     "metadata": {},
     "output_type": "execute_result"
    }
   ],
   "source": [
    "test_non_projective_trees = list(filter(non_projective, test_clean_trees))\n",
    "\n",
    "len(test_non_projective_trees)"
   ]
  },
  {
   "cell_type": "markdown",
   "metadata": {},
   "source": [
    "## Design actions and the oracle\n",
    "\n",
    "Будуємо класс для роботи зі станом і задаємо операції для swapping arc-standard алгоритму."
   ]
  },
  {
   "cell_type": "code",
   "execution_count": 18,
   "metadata": {},
   "outputs": [],
   "source": [
    "from collections import OrderedDict\n",
    "from enum import Enum\n",
    "\n",
    "class Actions(str, Enum):\n",
    "    SHIFT = \"shift\"\n",
    "    RIGHT = \"right\"\n",
    "    LEFT = \"left\"\n",
    "    SWAP = \"swap\"\n",
    "\n",
    "class State:\n",
    "    \n",
    "    ROOT = OrderedDict([('id', 0), ('form', 'ROOT'), ('lemma', 'ROOT'), ('upostag', 'ROOT'),\n",
    "                ('xpostag', None), ('feats', None), ('head', None), ('deprel', None),\n",
    "                ('deps', None), ('misc', None)])\n",
    "    \n",
    "    def __init__(self, sent):\n",
    "        self.stack = [State.ROOT]\n",
    "        self.queue = sent\n",
    "        self.relations = []        \n",
    "        \n",
    "        # index defines a relative order of a token, during swap the order is changed\n",
    "        self.stack[-1]['index'] = 0\n",
    "        self.stack[-1]['head_index'] = None\n",
    "        \n",
    "        for i, n in enumerate(self.queue):\n",
    "            n['index'] = i + 1\n",
    "            n['head_index'] = n['head']\n",
    "            \n",
    "            \n",
    "    def shift(self):\n",
    "        self.stack.append(self.queue.pop(0)) \n",
    "        \n",
    "    def left(self):\n",
    "        self.relations.append((self.stack[-2][\"id\"], self.stack[-1][\"id\"]))\n",
    "        del self.stack[-2]\n",
    "            \n",
    "    def right(self):\n",
    "        self.relations.append((self.stack[-1][\"id\"], self.stack[-2][\"id\"]))\n",
    "        del self.stack[-1]\n",
    "        \n",
    "    def swap(self):\n",
    "        self.queue.insert(0, self.stack[-2])\n",
    "        tmp = self.stack[-2]['index']\n",
    "        self.queue[0]['index'] = self.stack[-1]['index']\n",
    "        self.stack[-1]['index'] = tmp\n",
    "        for n in self.stack[1:] + self.queue:\n",
    "            if self.queue[0]['id'] == n['head']:\n",
    "                n['head_index'] = self.queue[0]['index']\n",
    "\n",
    "            if self.stack[-1]['id'] == n['head']:\n",
    "                n['head_index'] = self.stack[-1]['index']\n",
    "\n",
    "        del self.stack[-2]\n",
    "        \n",
    "    def apply(self, action):\n",
    "        if action == Actions.SHIFT:\n",
    "            self.shift()\n",
    "        elif action == Actions.LEFT:\n",
    "            self.left()\n",
    "        elif action == Actions.RIGHT:\n",
    "            self.right()\n",
    "        elif action == Actions.SWAP:\n",
    "            self.swap()\n",
    "        else:\n",
    "            raise Exception(\"Unknown action:\" + action)\n",
    "            \n",
    "    def traverse(self,oracle):\n",
    "        while len(self.stack) > 1 or self.queue:\n",
    "            action = oracle(self)\n",
    "            self.apply(action)\n",
    "            \n",
    "            "
   ]
  },
  {
   "cell_type": "markdown",
   "metadata": {},
   "source": [
    "І будуємо статичний oracle."
   ]
  },
  {
   "cell_type": "code",
   "execution_count": 19,
   "metadata": {},
   "outputs": [],
   "source": [
    "def intersects2(n1, n2):\n",
    "    \"\"\"Checks whether the spans of two nodes intersect using relative order\"\"\"\n",
    "    s1 = n1['index'] if n1['head_index'] > n1['index'] else n1['head_index']\n",
    "    e1 = n1['head_index'] if n1['head_index'] > n1['index'] else n1['index']\n",
    "    s2 = n2['index'] if n2['head_index'] > n2['index'] else n2['head_index']\n",
    "    e2 = n2['head_index'] if n2['head_index'] > n2['index'] else n2['index']\n",
    "    \n",
    "    return (s1 < s2 and e1 > s2 and e2 > e1) or (s2 < s1 and e2 > s1 and e1 > e2)\n",
    "\n",
    "def is_leaf(node, stack, queue):\n",
    "    for n in stack:\n",
    "        if n['head'] == node['id']:\n",
    "            return False\n",
    "    for n in queue:\n",
    "        if n['head'] == node['id']:\n",
    "            return False    \n",
    "        \n",
    "    return True\n",
    "    \n",
    "def static_oracle(state):\n",
    "    stack = state.stack\n",
    "    queue = state.queue\n",
    "    if len(stack) > 1:                        \n",
    "        if stack[-2]['id'] > 0 and stack[-2]['head'] == stack[-1]['id'] and is_leaf(stack[-2], stack, queue):\n",
    "            return Actions.LEFT\n",
    "        elif stack[-1]['head'] == stack[-2]['id'] and is_leaf(stack[-1], stack, queue):\n",
    "            return Actions.RIGHT\n",
    "        elif stack[-2]['id'] > 0 and stack[-2]['id'] < stack[-1]['id'] and \\\n",
    "        (intersects2(stack[-2], stack[-1]) or \\\n",
    "         [n for n in queue if n['index'] < stack[-2]['head_index'] and intersects2(stack[-2], n)] or\\\n",
    "         [n for n in stack[1:-2] if intersects2(n, stack[-2])]):\n",
    "            return Actions.SWAP\n",
    "        else:\n",
    "            return Actions.SHIFT\n",
    "    else:\n",
    "        return Actions.SHIFT"
   ]
  },
  {
   "cell_type": "code",
   "execution_count": 20,
   "metadata": {},
   "outputs": [],
   "source": [
    "def trace_actions(tree):\n",
    "    state = State(tree[:])\n",
    "    def trace(s):\n",
    "        action = static_oracle(s)\n",
    "        print(\"Stack:\", [i[\"form\"]+\"_\"+str(i[\"id\"]) for i in s.stack])\n",
    "        print(\"Queue:\", [i[\"form\"]+\"_\"+str(i[\"id\"]) for i in s.queue])\n",
    "        print(\"Relations:\", s.relations)\n",
    "        print(action)\n",
    "        print(\"========================\")\n",
    "        return action\n",
    "    \n",
    "    state.traverse(trace)\n",
    "    \n",
    "    print(\"Gold relations:\")\n",
    "    print([(node[\"id\"], node[\"head\"]) for node in tree])\n",
    "    print(\"Retrieved relations:\")\n",
    "    print(sorted(state.relations))"
   ]
  },
  {
   "cell_type": "code",
   "execution_count": 21,
   "metadata": {},
   "outputs": [
    {
     "name": "stdout",
     "output_type": "stream",
     "text": [
      "Stack: ['ROOT_0']\n",
      "Queue: ['У_1', 'домі_2', 'римського_3', 'патриція_4', 'Руфіна_5', 'була_6', 'прегарна_7', 'фреска_8', ',_9', 'зображення_10', 'Венери_11', 'та_12', 'Адоніса_13', '._14']\n",
      "Relations: []\n",
      "Actions.SHIFT\n",
      "========================\n",
      "Stack: ['ROOT_0', 'У_1']\n",
      "Queue: ['домі_2', 'римського_3', 'патриція_4', 'Руфіна_5', 'була_6', 'прегарна_7', 'фреска_8', ',_9', 'зображення_10', 'Венери_11', 'та_12', 'Адоніса_13', '._14']\n",
      "Relations: []\n",
      "Actions.SHIFT\n",
      "========================\n",
      "Stack: ['ROOT_0', 'У_1', 'домі_2']\n",
      "Queue: ['римського_3', 'патриція_4', 'Руфіна_5', 'була_6', 'прегарна_7', 'фреска_8', ',_9', 'зображення_10', 'Венери_11', 'та_12', 'Адоніса_13', '._14']\n",
      "Relations: []\n",
      "Actions.LEFT\n",
      "========================\n",
      "Stack: ['ROOT_0', 'домі_2']\n",
      "Queue: ['римського_3', 'патриція_4', 'Руфіна_5', 'була_6', 'прегарна_7', 'фреска_8', ',_9', 'зображення_10', 'Венери_11', 'та_12', 'Адоніса_13', '._14']\n",
      "Relations: [(1, 2)]\n",
      "Actions.SHIFT\n",
      "========================\n",
      "Stack: ['ROOT_0', 'домі_2', 'римського_3']\n",
      "Queue: ['патриція_4', 'Руфіна_5', 'була_6', 'прегарна_7', 'фреска_8', ',_9', 'зображення_10', 'Венери_11', 'та_12', 'Адоніса_13', '._14']\n",
      "Relations: [(1, 2)]\n",
      "Actions.SHIFT\n",
      "========================\n",
      "Stack: ['ROOT_0', 'домі_2', 'римського_3', 'патриція_4']\n",
      "Queue: ['Руфіна_5', 'була_6', 'прегарна_7', 'фреска_8', ',_9', 'зображення_10', 'Венери_11', 'та_12', 'Адоніса_13', '._14']\n",
      "Relations: [(1, 2)]\n",
      "Actions.LEFT\n",
      "========================\n",
      "Stack: ['ROOT_0', 'домі_2', 'патриція_4']\n",
      "Queue: ['Руфіна_5', 'була_6', 'прегарна_7', 'фреска_8', ',_9', 'зображення_10', 'Венери_11', 'та_12', 'Адоніса_13', '._14']\n",
      "Relations: [(1, 2), (3, 4)]\n",
      "Actions.SHIFT\n",
      "========================\n",
      "Stack: ['ROOT_0', 'домі_2', 'патриція_4', 'Руфіна_5']\n",
      "Queue: ['була_6', 'прегарна_7', 'фреска_8', ',_9', 'зображення_10', 'Венери_11', 'та_12', 'Адоніса_13', '._14']\n",
      "Relations: [(1, 2), (3, 4)]\n",
      "Actions.RIGHT\n",
      "========================\n",
      "Stack: ['ROOT_0', 'домі_2', 'патриція_4']\n",
      "Queue: ['була_6', 'прегарна_7', 'фреска_8', ',_9', 'зображення_10', 'Венери_11', 'та_12', 'Адоніса_13', '._14']\n",
      "Relations: [(1, 2), (3, 4), (5, 4)]\n",
      "Actions.RIGHT\n",
      "========================\n",
      "Stack: ['ROOT_0', 'домі_2']\n",
      "Queue: ['була_6', 'прегарна_7', 'фреска_8', ',_9', 'зображення_10', 'Венери_11', 'та_12', 'Адоніса_13', '._14']\n",
      "Relations: [(1, 2), (3, 4), (5, 4), (4, 2)]\n",
      "Actions.SHIFT\n",
      "========================\n",
      "Stack: ['ROOT_0', 'домі_2', 'була_6']\n",
      "Queue: ['прегарна_7', 'фреска_8', ',_9', 'зображення_10', 'Венери_11', 'та_12', 'Адоніса_13', '._14']\n",
      "Relations: [(1, 2), (3, 4), (5, 4), (4, 2)]\n",
      "Actions.LEFT\n",
      "========================\n",
      "Stack: ['ROOT_0', 'була_6']\n",
      "Queue: ['прегарна_7', 'фреска_8', ',_9', 'зображення_10', 'Венери_11', 'та_12', 'Адоніса_13', '._14']\n",
      "Relations: [(1, 2), (3, 4), (5, 4), (4, 2), (2, 6)]\n",
      "Actions.SHIFT\n",
      "========================\n",
      "Stack: ['ROOT_0', 'була_6', 'прегарна_7']\n",
      "Queue: ['фреска_8', ',_9', 'зображення_10', 'Венери_11', 'та_12', 'Адоніса_13', '._14']\n",
      "Relations: [(1, 2), (3, 4), (5, 4), (4, 2), (2, 6)]\n",
      "Actions.SHIFT\n",
      "========================\n",
      "Stack: ['ROOT_0', 'була_6', 'прегарна_7', 'фреска_8']\n",
      "Queue: [',_9', 'зображення_10', 'Венери_11', 'та_12', 'Адоніса_13', '._14']\n",
      "Relations: [(1, 2), (3, 4), (5, 4), (4, 2), (2, 6)]\n",
      "Actions.LEFT\n",
      "========================\n",
      "Stack: ['ROOT_0', 'була_6', 'фреска_8']\n",
      "Queue: [',_9', 'зображення_10', 'Венери_11', 'та_12', 'Адоніса_13', '._14']\n",
      "Relations: [(1, 2), (3, 4), (5, 4), (4, 2), (2, 6), (7, 8)]\n",
      "Actions.SHIFT\n",
      "========================\n",
      "Stack: ['ROOT_0', 'була_6', 'фреска_8', ',_9']\n",
      "Queue: ['зображення_10', 'Венери_11', 'та_12', 'Адоніса_13', '._14']\n",
      "Relations: [(1, 2), (3, 4), (5, 4), (4, 2), (2, 6), (7, 8)]\n",
      "Actions.SHIFT\n",
      "========================\n",
      "Stack: ['ROOT_0', 'була_6', 'фреска_8', ',_9', 'зображення_10']\n",
      "Queue: ['Венери_11', 'та_12', 'Адоніса_13', '._14']\n",
      "Relations: [(1, 2), (3, 4), (5, 4), (4, 2), (2, 6), (7, 8)]\n",
      "Actions.LEFT\n",
      "========================\n",
      "Stack: ['ROOT_0', 'була_6', 'фреска_8', 'зображення_10']\n",
      "Queue: ['Венери_11', 'та_12', 'Адоніса_13', '._14']\n",
      "Relations: [(1, 2), (3, 4), (5, 4), (4, 2), (2, 6), (7, 8), (9, 10)]\n",
      "Actions.SHIFT\n",
      "========================\n",
      "Stack: ['ROOT_0', 'була_6', 'фреска_8', 'зображення_10', 'Венери_11']\n",
      "Queue: ['та_12', 'Адоніса_13', '._14']\n",
      "Relations: [(1, 2), (3, 4), (5, 4), (4, 2), (2, 6), (7, 8), (9, 10)]\n",
      "Actions.SHIFT\n",
      "========================\n",
      "Stack: ['ROOT_0', 'була_6', 'фреска_8', 'зображення_10', 'Венери_11', 'та_12']\n",
      "Queue: ['Адоніса_13', '._14']\n",
      "Relations: [(1, 2), (3, 4), (5, 4), (4, 2), (2, 6), (7, 8), (9, 10)]\n",
      "Actions.SHIFT\n",
      "========================\n",
      "Stack: ['ROOT_0', 'була_6', 'фреска_8', 'зображення_10', 'Венери_11', 'та_12', 'Адоніса_13']\n",
      "Queue: ['._14']\n",
      "Relations: [(1, 2), (3, 4), (5, 4), (4, 2), (2, 6), (7, 8), (9, 10)]\n",
      "Actions.LEFT\n",
      "========================\n",
      "Stack: ['ROOT_0', 'була_6', 'фреска_8', 'зображення_10', 'Венери_11', 'Адоніса_13']\n",
      "Queue: ['._14']\n",
      "Relations: [(1, 2), (3, 4), (5, 4), (4, 2), (2, 6), (7, 8), (9, 10), (12, 13)]\n",
      "Actions.RIGHT\n",
      "========================\n",
      "Stack: ['ROOT_0', 'була_6', 'фреска_8', 'зображення_10', 'Венери_11']\n",
      "Queue: ['._14']\n",
      "Relations: [(1, 2), (3, 4), (5, 4), (4, 2), (2, 6), (7, 8), (9, 10), (12, 13), (13, 11)]\n",
      "Actions.RIGHT\n",
      "========================\n",
      "Stack: ['ROOT_0', 'була_6', 'фреска_8', 'зображення_10']\n",
      "Queue: ['._14']\n",
      "Relations: [(1, 2), (3, 4), (5, 4), (4, 2), (2, 6), (7, 8), (9, 10), (12, 13), (13, 11), (11, 10)]\n",
      "Actions.RIGHT\n",
      "========================\n",
      "Stack: ['ROOT_0', 'була_6', 'фреска_8']\n",
      "Queue: ['._14']\n",
      "Relations: [(1, 2), (3, 4), (5, 4), (4, 2), (2, 6), (7, 8), (9, 10), (12, 13), (13, 11), (11, 10), (10, 8)]\n",
      "Actions.RIGHT\n",
      "========================\n",
      "Stack: ['ROOT_0', 'була_6']\n",
      "Queue: ['._14']\n",
      "Relations: [(1, 2), (3, 4), (5, 4), (4, 2), (2, 6), (7, 8), (9, 10), (12, 13), (13, 11), (11, 10), (10, 8), (8, 6)]\n",
      "Actions.SHIFT\n",
      "========================\n",
      "Stack: ['ROOT_0', 'була_6', '._14']\n",
      "Queue: []\n",
      "Relations: [(1, 2), (3, 4), (5, 4), (4, 2), (2, 6), (7, 8), (9, 10), (12, 13), (13, 11), (11, 10), (10, 8), (8, 6)]\n",
      "Actions.RIGHT\n",
      "========================\n",
      "Stack: ['ROOT_0', 'була_6']\n",
      "Queue: []\n",
      "Relations: [(1, 2), (3, 4), (5, 4), (4, 2), (2, 6), (7, 8), (9, 10), (12, 13), (13, 11), (11, 10), (10, 8), (8, 6), (14, 6)]\n",
      "Actions.RIGHT\n",
      "========================\n",
      "Gold relations:\n",
      "[(1, 2), (2, 6), (3, 4), (4, 2), (5, 4), (6, 0), (7, 8), (8, 6), (9, 10), (10, 8), (11, 10), (12, 13), (13, 11), (14, 6)]\n",
      "Retrieved relations:\n",
      "[(1, 2), (2, 6), (3, 4), (4, 2), (5, 4), (6, 0), (7, 8), (8, 6), (9, 10), (10, 8), (11, 10), (12, 13), (13, 11), (14, 6)]\n"
     ]
    }
   ],
   "source": [
    "trace_actions(trees[0])"
   ]
  },
  {
   "cell_type": "markdown",
   "metadata": {},
   "source": [
    "## Train a classifier"
   ]
  },
  {
   "cell_type": "markdown",
   "metadata": {},
   "source": [
    "Визначаємося з фічами."
   ]
  },
  {
   "cell_type": "code",
   "execution_count": 23,
   "metadata": {},
   "outputs": [],
   "source": [
    "def extract_state_features(state):\n",
    "    \n",
    "    stack, queue, relations = state.stack, state.queue, state.relations\n",
    "    \n",
    "    features = dict()\n",
    "    \n",
    "    if len(stack) > 1:        \n",
    "        features[\"s0-word\"] = stack[-2][\"form\"]\n",
    "        features[\"s0-lemma\"] = stack[-2][\"lemma\"]\n",
    "        features[\"s0-tag\"] = stack[-2][\"upostag\"]\n",
    "        features[\"s0-rchildren-num\"] = len([r for r in relations if r[1] == stack[-2]['id']])\n",
    "        features[\"s0-lchildren-num\"] = len([r for r in relations if r[0] == stack[-2]['id']])\n",
    "        if stack[-2][\"feats\"]:\n",
    "            for k, v in stack[-2][\"feats\"].items():\n",
    "                features[\"s0-\" + k] = v\n",
    "    \n",
    "    if len(stack) > 2:\n",
    "        features[\"s1-word\"] = stack[-3][\"form\"]\n",
    "        features[\"s1-tag\"] = stack[-3][\"upostag\"]\n",
    "    \n",
    "    if len(stack) > 3:\n",
    "        features[\"s2-tag\"] = stack[-4][\"upostag\"]\n",
    "        \n",
    "    if len(stack) > 4:\n",
    "        features[\"s3-tag\"] = stack[-5][\"upostag\"]\n",
    "    \n",
    "    if len(stack) > 1:\n",
    "        queue_top = stack[-1]\n",
    "        features[\"q0-word\"] = stack[-1][\"form\"]\n",
    "        features[\"q0-lemma\"] = stack[-1][\"lemma\"]\n",
    "        features[\"q0-tag\"] = stack[-1][\"upostag\"]\n",
    "        features[\"q0-rchildren-num\"] = len([r for r in relations if r[1] == stack[-1]['id']])\n",
    "        features[\"q0-lchildren-num\"] = len([r for r in relations if r[0] == stack[-1]['id']])\n",
    "        if stack[-1][\"feats\"]:\n",
    "            for k, v in stack[-1][\"feats\"].items():\n",
    "                features[\"q0-\" + k] = v\n",
    "    \n",
    "    if len(queue) > 0:        \n",
    "        features[\"q1-word\"] = queue[0][\"form\"]\n",
    "        features[\"q1-tag\"] = queue[0][\"upostag\"]\n",
    "    \n",
    "    if len(queue) > 1:\n",
    "        features[\"q2-tag\"] = queue[1][\"upostag\"]\n",
    "    \n",
    "    if len(queue) > 2:\n",
    "        features[\"q3-tag\"] = queue[2][\"upostag\"]\n",
    "       \n",
    "    if len(stack) > 1:\n",
    "        features[\"distance\"] = stack[-1][\"id\"] - stack[-2][\"id\"]\n",
    "    \n",
    "    features['q-empty'] = not bool(queue)    \n",
    "    \n",
    "    return features\n",
    "\n",
    "def extract_tree_features(tree):\n",
    "    \n",
    "    state = State(tree[:])\n",
    "    \n",
    "    gold_relations = {(n['id'], n['head']) for n in tree}\n",
    "    features, labels = [], []\n",
    "    \n",
    "    def extract(s):\n",
    "        action = static_oracle(s)\n",
    "        labels.append(action.value)\n",
    "        features.append(extract_state_features(s))\n",
    "        return action\n",
    "    \n",
    "    state.traverse(extract)\n",
    "    \n",
    "    #check that gold relatons equal to relations built by oracle\n",
    "    assert gold_relations == set(state.relations)                  \n",
    "    return features, labels\n",
    "\n",
    "def extract_treebank_features(treebank):\n",
    "    features, labels = [], []\n",
    "    for tree in treebank:\n",
    "        tree_features, tree_labels = extract_tree_features(tree)\n",
    "        features.extend(tree_features)\n",
    "        labels.extend(tree_labels)\n",
    "    return features, labels    "
   ]
  },
  {
   "cell_type": "markdown",
   "metadata": {},
   "source": [
    "Будуємо та тренуємо модель."
   ]
  },
  {
   "cell_type": "code",
   "execution_count": 24,
   "metadata": {},
   "outputs": [],
   "source": [
    "from sklearn.feature_extraction import DictVectorizer\n",
    "from sklearn.linear_model import LogisticRegression\n",
    "from sklearn.metrics import classification_report\n",
    "\n",
    "class ParseState(State):\n",
    "    \"\"\"Special case of state class to handle wrong shift operation\"\"\"\n",
    "    def shift(self):\n",
    "        if self.queue:\n",
    "            self.stack.append(self.queue.pop(0)) \n",
    "        else:\n",
    "            #In case of wrong prediction of shift we will get an exception so we need to resolve the situation\n",
    "            self.left()\n",
    "    \n",
    "class DepModel:\n",
    "    def __init__(self, train_treebank, test_treebank):\n",
    "        self.train_features, self.train_labels = extract_treebank_features(train_treebank)\n",
    "        self.test_features, self.test_labels = extract_treebank_features(test_treebank)\n",
    "        self.vectorizer = DictVectorizer()\n",
    "        self.test_treebank = test_treebank\n",
    "        \n",
    "    def vectorize(self):\n",
    "        vec = self.vectorizer.fit(self.train_features)\n",
    "        self.train_features_vec = vec.transform(self.train_features)\n",
    "        self.test_features_vec = vec.transform(self.test_features)\n",
    "        \n",
    "    def train(self):\n",
    "        self.logreg = LogisticRegression(random_state=26, solver=\"sag\", \\\n",
    "                                         multi_class=\"multinomial\", \\\n",
    "                                         n_jobs = 6, max_iter=3000, verbose=1)\n",
    "        self.logreg.fit(self.train_features_vec, self.train_labels)\n",
    "        \n",
    "    def show_action_metrics(self):\n",
    "        \"\"\"\n",
    "        Prints actions classification F1 metrics\n",
    "        \"\"\"\n",
    "        predicted = self.logreg.predict(self.test_features_vec)\n",
    "        print(classification_report(self.test_labels, predicted))\n",
    "        \n",
    "    def dep_parse(self, tree):\n",
    "        state = ParseState(tree[:])\n",
    "        def predict(s):\n",
    "            features = extract_state_features(state)\n",
    "            action = self.logreg.predict(self.vectorizer.transform([features]))[0]\n",
    "            return action\n",
    "        \n",
    "        state.traverse(predict)\n",
    "        return state.relations\n",
    "        \n",
    "    def show_UAS_metric(self):\n",
    "        \"\"\"\n",
    "        Calculates and prints unlabeled attachment score\n",
    "        \"\"\"\n",
    "        total, tp = 0, 0\n",
    "        for tree in self.test_treebank:    \n",
    "            golden = [(node[\"id\"], node[\"head\"]) for node in tree]\n",
    "            predicted = self.dep_parse(tree)\n",
    "            total += len(tree)\n",
    "            tp += len(set(golden).intersection(set(predicted)))\n",
    "\n",
    "        print(\"Total:\", total)\n",
    "        print(\"Correctly defined:\", tp)\n",
    "        print(\"UAS:\", round(tp/total, 2))\n",
    "        "
   ]
  },
  {
   "cell_type": "markdown",
   "metadata": {},
   "source": [
    "Спочатку перевіряємо роботу моделі на проективних деревах."
   ]
  },
  {
   "cell_type": "code",
   "execution_count": 25,
   "metadata": {},
   "outputs": [],
   "source": [
    "projective_mod = DepModel(projective_trees, test_projective_trees)"
   ]
  },
  {
   "cell_type": "code",
   "execution_count": 26,
   "metadata": {},
   "outputs": [
    {
     "name": "stderr",
     "output_type": "stream",
     "text": [
      "[Parallel(n_jobs=6)]: Using backend ThreadingBackend with 6 concurrent workers.\n"
     ]
    },
    {
     "name": "stdout",
     "output_type": "stream",
     "text": [
      "convergence after 1169 epochs took 221 seconds\n"
     ]
    },
    {
     "name": "stderr",
     "output_type": "stream",
     "text": [
      "[Parallel(n_jobs=6)]: Done   1 out of   1 | elapsed:  3.7min finished\n"
     ]
    }
   ],
   "source": [
    "projective_mod.vectorize()\n",
    "projective_mod.train()"
   ]
  },
  {
   "cell_type": "code",
   "execution_count": 27,
   "metadata": {},
   "outputs": [
    {
     "name": "stdout",
     "output_type": "stream",
     "text": [
      "              precision    recall  f1-score   support\n",
      "\n",
      "        left       0.91      0.91      0.91      7294\n",
      "       right       0.84      0.79      0.81      7185\n",
      "       shift       0.87      0.89      0.88     14479\n",
      "\n",
      "   micro avg       0.87      0.87      0.87     28958\n",
      "   macro avg       0.87      0.87      0.87     28958\n",
      "weighted avg       0.87      0.87      0.87     28958\n",
      "\n"
     ]
    }
   ],
   "source": [
    "projective_mod.show_action_metrics()"
   ]
  },
  {
   "cell_type": "code",
   "execution_count": 28,
   "metadata": {},
   "outputs": [
    {
     "name": "stdout",
     "output_type": "stream",
     "text": [
      "Total: 14479\n",
      "Correctly defined: 10403\n",
      "UAS: 0.72\n"
     ]
    }
   ],
   "source": [
    "projective_mod.show_UAS_metric()"
   ]
  },
  {
   "cell_type": "markdown",
   "metadata": {},
   "source": [
    "Оскільки непроективних дерев в тренувальних данних не дуже багато, тому не має великого сенсу тренувати на них модель окремо, тому\n",
    "ми зразу тренуємо і перевіряємо модель на всіх деревах."
   ]
  },
  {
   "cell_type": "code",
   "execution_count": 29,
   "metadata": {},
   "outputs": [],
   "source": [
    "all_mod = DepModel(clean_trees, test_clean_trees)"
   ]
  },
  {
   "cell_type": "code",
   "execution_count": 30,
   "metadata": {},
   "outputs": [
    {
     "name": "stderr",
     "output_type": "stream",
     "text": [
      "[Parallel(n_jobs=6)]: Using backend ThreadingBackend with 6 concurrent workers.\n"
     ]
    },
    {
     "name": "stdout",
     "output_type": "stream",
     "text": [
      "convergence after 1773 epochs took 479 seconds\n"
     ]
    },
    {
     "name": "stderr",
     "output_type": "stream",
     "text": [
      "[Parallel(n_jobs=6)]: Done   1 out of   1 | elapsed:  8.0min finished\n"
     ]
    }
   ],
   "source": [
    "all_mod.vectorize()\n",
    "all_mod.train()"
   ]
  },
  {
   "cell_type": "code",
   "execution_count": 31,
   "metadata": {},
   "outputs": [
    {
     "name": "stdout",
     "output_type": "stream",
     "text": [
      "              precision    recall  f1-score   support\n",
      "\n",
      "        left       0.89      0.91      0.90      8023\n",
      "       right       0.82      0.77      0.80      7751\n",
      "       shift       0.85      0.89      0.87     16445\n",
      "        swap       0.66      0.25      0.36       671\n",
      "\n",
      "   micro avg       0.85      0.85      0.85     32890\n",
      "   macro avg       0.81      0.71      0.73     32890\n",
      "weighted avg       0.85      0.85      0.85     32890\n",
      "\n"
     ]
    }
   ],
   "source": [
    "all_mod.show_action_metrics()"
   ]
  },
  {
   "cell_type": "code",
   "execution_count": 32,
   "metadata": {},
   "outputs": [
    {
     "name": "stdout",
     "output_type": "stream",
     "text": [
      "Total: 15774\n",
      "Correctly defined: 11343\n",
      "UAS: 0.72\n"
     ]
    }
   ],
   "source": [
    "all_mod.show_UAS_metric()"
   ]
  },
  {
   "cell_type": "markdown",
   "metadata": {},
   "source": [
    "Бачимо що обробка непроективних дерев не підвищила якість UAS, завдяки тому що модель погано передбачає swap операцію. Думаю одна з головних причин це недостатня їх кількість в тренувальних данних для того щом модель мала можливість навчитись."
   ]
  },
  {
   "cell_type": "markdown",
   "metadata": {},
   "source": [
    "# Build a parser\n",
    "\n",
    "Тепер будуємо парсер, який буде використовувати натреновану модель та тестуємо на довільних реченнях, яких немає в тестових данних."
   ]
  },
  {
   "cell_type": "code",
   "execution_count": 66,
   "metadata": {},
   "outputs": [],
   "source": [
    "from tokenize_uk import tokenize_uk\n",
    "import pymorphy2\n",
    "# pip install russian-tagsets\n",
    "from russian_tagsets import converters\n",
    "\n",
    "converter = converters.converter('opencorpora-int', 'ud20')\n",
    "\n",
    "morph = pymorphy2.MorphAnalyzer(lang='uk')\n",
    "\n",
    "DET = ['інакший', 'його', 'тамтой', 'чий', 'їх', 'інш.', 'деякий', 'ввесь', 'ваш', \n",
    "       'ніякий', 'весь', 'інший', 'чийсь', 'жадний', 'другий', 'кожний', \n",
    "       'такий', 'оцей', 'скілька', 'цей', 'жодний', 'все', 'кілька', 'увесь', \n",
    "       'кожній', 'те', 'сей', 'ін.', 'отакий', 'котрий', 'усякий', 'самий', \n",
    "       'наш', 'усілякий', 'будь-який', 'сам', 'свій', 'всілякий', 'всенький', 'її', \n",
    "       'всякий', 'отой', 'небагато', 'який', 'їхній', 'той', 'якийсь', 'ин.', 'котрийсь', \n",
    "       'твій', 'мій', 'це']\n",
    "\n",
    "PREP = [\"до\", \"на\"]\n",
    "\n",
    "mapping = {\"ADJF\": \"ADJ\", \"ADJS\": \"ADJ\", \"COMP\": \"ADJ\", \"PRTF\": \"ADJ\",\n",
    "           \"PRTS\": \"ADJ\", \"GRND\": \"VERB\", \"NUMR\": \"NUM\", \"ADVB\": \"ADV\",\n",
    "           \"NPRO\": \"PRON\", \"PRED\": \"ADV\", \"PREP\": \"ADP\", \"PRCL\": \"PART\"}\n",
    "\n",
    "def normalize_pos(tag, word):\n",
    "    if word.normal_form in PREP:\n",
    "        return \"PREP\"\n",
    "    elif word.normal_form in DET:\n",
    "        return \"DET\"\n",
    "    else:\n",
    "        return tag\n",
    "    \n",
    "def enrich_with_features(i, word):\n",
    "    features = dict()\n",
    "    features['id'] = i\n",
    "    features['head'] = None\n",
    "    features['form']  = word\n",
    "    p = morph.parse(word)[0]\n",
    "    features['lemma'] = p.normal_form\n",
    "    pos_feats = list(converter(p.tag._str).split())\n",
    "    features['upostag'] = normalize_pos(pos_feats[0],p)\n",
    "    feats = pos_feats[1].split('|') if len(pos_feats) > 1 and pos_feats[1] != '_' else []\n",
    "    features['feats'] = dict([f.split('=') for f in feats])\n",
    "    return features\n",
    "\n",
    "def parse_deps(sent, log = False):\n",
    "    words = []\n",
    "    for i, word in enumerate(tokenize_uk.tokenize_words(sent)):\n",
    "        words.append(enrich_with_features(i+1, word))\n",
    "        \n",
    "    if log:    \n",
    "        print(words)\n",
    "             \n",
    "    relations = all_mod.dep_parse(words)\n",
    "    word_by_id = dict()\n",
    "    \n",
    "    for word in words:\n",
    "        word_by_id[word['id']] = word\n",
    "    \n",
    "    for rel in relations:\n",
    "        word_by_id[rel[0]]['head'] = rel[1]\n",
    "    \n",
    "    return words\n",
    "    "
   ]
  },
  {
   "cell_type": "markdown",
   "metadata": {},
   "source": [
    "Приклад простого речення, майже всі зв'язки правильні."
   ]
  },
  {
   "cell_type": "code",
   "execution_count": 67,
   "metadata": {},
   "outputs": [
    {
     "name": "stdout",
     "output_type": "stream",
     "text": [
      "Тепер <-- будуємо\n",
      "будуємо <-- root\n",
      "парсер <-- будуємо\n",
      ", <-- буде\n",
      "який <-- буде\n",
      "буде <-- парсер\n",
      "використовувати <-- буде\n",
      "натреновану <-- використовувати\n",
      "модель <-- будуємо\n"
     ]
    }
   ],
   "source": [
    "print_rels(parse_deps('Тепер будуємо парсер, який буде використовувати натреновану модель'))"
   ]
  },
  {
   "cell_type": "markdown",
   "metadata": {},
   "source": [
    "Намагаємось розпарсити складне речення. Є також багто неправильних зв'яків. Можна бачити я пропагується помилка, наприклад замість 'величиною' у багатьох слов батьком повинен був бути 'місті'."
   ]
  },
  {
   "cell_type": "code",
   "execution_count": 68,
   "metadata": {},
   "outputs": [
    {
     "name": "stdout",
     "output_type": "stream",
     "text": [
      "У <-- Гетеборзі\n",
      "Гетеборзі <-- величиною\n",
      ", <-- величиною\n",
      "другому <-- величиною\n",
      "за <-- величиною\n",
      "величиною <-- root\n",
      "місті <-- Швеції\n",
      "Швеції <-- величиною\n",
      ", <-- Копенгагені\n",
      "та <-- Копенгагені\n",
      "в <-- Копенгагені\n",
      "Копенгагені <-- величиною\n",
      ", <-- столиці\n",
      "столиці <-- Копенгагені\n",
      "Данії <-- столиці\n",
      ", <-- сталися\n",
      "на <-- сталися\n",
      "першотравневих <-- мітингах\n",
      "мітингах <-- сталися\n",
      "сталися <-- величиною\n",
      "сутички <-- сталися\n",
      "між <-- поліцією\n",
      "поліцією <-- сутички\n",
      "та <-- протестувальниками\n",
      "протестувальниками <-- поліцією\n",
      ". <-- величиною\n"
     ]
    }
   ],
   "source": [
    "print_rels(parse_deps('У Гетеборзі, другому за величиною місті Швеції, та в Копенгагені, столиці Данії, на першотравневих мітингах сталися сутички між поліцією та протестувальниками.'))"
   ]
  },
  {
   "cell_type": "markdown",
   "metadata": {},
   "source": [
    "Ще один приклад простого речення, здається все правильно."
   ]
  },
  {
   "cell_type": "code",
   "execution_count": 69,
   "metadata": {},
   "outputs": [
    {
     "name": "stdout",
     "output_type": "stream",
     "text": [
      "Зеленський <-- Система\n",
      "і <-- Система\n",
      "Система <-- root\n",
      ": <-- варіанти\n",
      "які <-- варіанти\n",
      "варіанти <-- Система\n",
      "розвитку <-- варіанти\n",
      "подій <-- розвитку\n",
      ". <-- Система\n"
     ]
    }
   ],
   "source": [
    "print_rels(parse_deps('Зеленський і Система: які варіанти розвитку подій.'))"
   ]
  },
  {
   "cell_type": "markdown",
   "metadata": {},
   "source": [
    "Приклад непроективного речення, оброблюється некорекнто."
   ]
  },
  {
   "cell_type": "code",
   "execution_count": 70,
   "metadata": {},
   "outputs": [
    {
     "name": "stdout",
     "output_type": "stream",
     "text": [
      "Василь <-- бачив\n",
      "бачив <-- root\n",
      "собаку <-- бачив\n",
      "вчора <-- собаку\n",
      "породи <-- спаніель\n",
      "спаніель <-- вчора\n",
      ". <-- бачив\n"
     ]
    }
   ],
   "source": [
    "print_rels(parse_deps('Василь бачив собаку вчора породи спаніель.'))"
   ]
  }
 ],
 "metadata": {
  "kernelspec": {
   "display_name": "Python 3",
   "language": "python",
   "name": "python3"
  },
  "language_info": {
   "codemirror_mode": {
    "name": "ipython",
    "version": 3
   },
   "file_extension": ".py",
   "mimetype": "text/x-python",
   "name": "python",
   "nbconvert_exporter": "python",
   "pygments_lexer": "ipython3",
   "version": "3.7.2"
  }
 },
 "nbformat": 4,
 "nbformat_minor": 2
}
