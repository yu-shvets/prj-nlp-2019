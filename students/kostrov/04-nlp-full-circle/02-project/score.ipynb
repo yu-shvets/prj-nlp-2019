{
 "cells": [
  {
   "cell_type": "code",
   "execution_count": 54,
   "metadata": {},
   "outputs": [],
   "source": [
    "import re\n",
    "import misaka\n",
    "import spacy\n",
    "from bs4 import BeautifulSoup\n",
    "from collections import defaultdict"
   ]
  },
  {
   "cell_type": "code",
   "execution_count": 67,
   "metadata": {},
   "outputs": [],
   "source": [
    "with open('./example.md') as f:\n",
    "    md = f.read().split('Legend:')[0]\n",
    "nlp = spacy.load(\"en_core_web_lg\")"
   ]
  },
  {
   "cell_type": "code",
   "execution_count": 68,
   "metadata": {},
   "outputs": [],
   "source": [
    "def get_ground_truth(raw_md):\n",
    "    truth = defaultdict(set)\n",
    "    marks = re.compile(r'(\\<[^>]*\\>)([\\w\\s]+)(<\\/mark>)')\n",
    "    position_overhead = 0\n",
    "\n",
    "    for m in marks.finditer(raw_md):\n",
    "        markdown, opening_tag, closing_tag = m.group(0), m.group(1), m.group(3)\n",
    "        soup = BeautifulSoup(misaka.html(markdown), 'html.parser')\n",
    "        idx = soup.find('mark').get('id')\n",
    "\n",
    "        position_overhead += len(opening_tag)\n",
    "        pos_start = m.start(2) - position_overhead\n",
    "        pos_end = m.end(2) - position_overhead\n",
    "        position_overhead += len(closing_tag)\n",
    "        truth[idx].add((pos_start, pos_end))\n",
    "\n",
    "    return truth"
   ]
  },
  {
   "cell_type": "code",
   "execution_count": 69,
   "metadata": {},
   "outputs": [],
   "source": [
    "def extract(text):\n",
    "    prediction = defaultdict(set)\n",
    "    doc = nlp(text, disable=['textcat'])\n",
    "    \n",
    "    for ent in doc.ents:\n",
    "        if ent.label_ == 'PERSON':\n",
    "            prediction[ent.text.lower()].add((ent.start_char, ent.end_char))\n",
    "    \n",
    "    return prediction"
   ]
  },
  {
   "cell_type": "code",
   "execution_count": 70,
   "metadata": {},
   "outputs": [],
   "source": [
    "def getRecall(tp, fn):\n",
    "    if (not tp and not fn):\n",
    "        return 0\n",
    "    return tp / (tp + fn)\n",
    "\n",
    "def getPrecision(tp, fp):\n",
    "    if (not tp and not fp):\n",
    "        return 0\n",
    "    return tp / (tp + fp)\n",
    "\n",
    "def getFScore(truth, prediction):\n",
    "    tp = [val for val in truth if val in prediction]\n",
    "    fp = [val for val in prediction if val not in tp]\n",
    "    fn = [val for val in truth if val not in prediction]\n",
    "    \n",
    "    precision = getPrecision(len(tp), len(fp))\n",
    "    recall = getRecall(len(tp), len(fn))\n",
    "\n",
    "    if precision + recall == 0:\n",
    "        return 0\n",
    "    \n",
    "    return 2 * (precision * recall) / (precision + recall)"
   ]
  },
  {
   "cell_type": "code",
   "execution_count": 71,
   "metadata": {},
   "outputs": [],
   "source": [
    "truth = get_ground_truth(md)"
   ]
  },
  {
   "cell_type": "code",
   "execution_count": 72,
   "metadata": {},
   "outputs": [],
   "source": [
    "soup = BeautifulSoup(misaka.html(md), 'html.parser')\n",
    "prediction = extract(soup.get_text())"
   ]
  },
  {
   "cell_type": "code",
   "execution_count": 75,
   "metadata": {},
   "outputs": [],
   "source": [
    "#after some manual edits and prettification prediction should look like this:\n",
    "prediction = {\n",
    "    'robb': {(150, 154), (1444, 1448), (3231, 3235), (3651, 3655), (3708, 3712), (3738, 3742)},\n",
    "    'jon': {(159, 162), (2756, 2759), (2901, 2904), (2924, 2927), (3533, 3536), (3686, 3689), (2062, 2070), (3424, 3432)},\n",
    "    'winterfell': {(416, 426), (930, 940), (1930, 1940), (3008, 3018)},\n",
    "    'ned': {(1278, 1290)},\n",
    "    'theon': {(1315, 1328), (2620, 2625), (2784, 2791)},\n",
    "    'valyrian': {(1464, 1472), (1538, 1546)},\n",
    "    'jory': {(1606, 1617)},\n",
    "    'robert': {(1717, 1723)},\n",
    "    'baratheon': {(1737, 1746)},\n",
    "    'andals': {(1783, 1789)},\n",
    "    'stark': {(3525, 3530)}\n",
    "}"
   ]
  },
  {
   "cell_type": "code",
   "execution_count": 74,
   "metadata": {},
   "outputs": [
    {
     "data": {
      "text/plain": [
       "{'deserter': 0,\n",
       " 'ned': 0.07692307692307693,\n",
       " 'robb': 0.7058823529411764,\n",
       " 'jon': 0.8,\n",
       " 'bran': 0,\n",
       " 'theon': 0.6666666666666666,\n",
       " 'jory': 1.0,\n",
       " 'robert': 1.0}"
      ]
     },
     "execution_count": 74,
     "metadata": {},
     "output_type": "execute_result"
    }
   ],
   "source": [
    "result = {}\n",
    "for key, value in truth.items():\n",
    "    if key not in prediction:\n",
    "        result[key] = 0\n",
    "    else:\n",
    "        result[key] = getFScore(value, prediction[key])\n",
    "\n",
    "result"
   ]
  },
  {
   "cell_type": "code",
   "execution_count": 64,
   "metadata": {},
   "outputs": [
    {
     "data": {
      "text/plain": [
       "0.531184012066365"
      ]
     },
     "execution_count": 64,
     "metadata": {},
     "output_type": "execute_result"
    }
   ],
   "source": [
    "#average f1\n",
    "sum(val for val in result.values())/len(result.values())"
   ]
  },
  {
   "cell_type": "code",
   "execution_count": 65,
   "metadata": {},
   "outputs": [
    {
     "data": {
      "text/plain": [
       "0.35593220338983045"
      ]
     },
     "execution_count": 65,
     "metadata": {},
     "output_type": "execute_result"
    }
   ],
   "source": [
    "#overall f1\n",
    "truth_combined = set.union(*truth.values())\n",
    "prediction_combined = set.union(*prediction.values())\n",
    "getFScore(truth_combined, prediction_combined)"
   ]
  }
 ],
 "metadata": {
  "kernelspec": {
   "display_name": "Python 3",
   "language": "python",
   "name": "python3"
  },
  "language_info": {
   "codemirror_mode": {
    "name": "ipython",
    "version": 3
   },
   "file_extension": ".py",
   "mimetype": "text/x-python",
   "name": "python",
   "nbconvert_exporter": "python",
   "pygments_lexer": "ipython3",
   "version": "3.7.1"
  }
 },
 "nbformat": 4,
 "nbformat_minor": 2
}
