{
 "cells": [
  {
   "cell_type": "code",
   "execution_count": 3,
   "metadata": {},
   "outputs": [],
   "source": [
    "import re\n",
    "import spacy\n",
    "import requests\n",
    "import multiprocessing as mp\n",
    "from ast import literal_eval\n",
    "from bs4 import BeautifulSoup\n",
    "from unidecode import unidecode\n",
    "from pandas import pandas as pd"
   ]
  },
  {
   "cell_type": "code",
   "execution_count": 4,
   "metadata": {},
   "outputs": [],
   "source": [
    "nlp = spacy.load(\"en_core_web_lg\")"
   ]
  },
  {
   "cell_type": "code",
   "execution_count": 5,
   "metadata": {},
   "outputs": [],
   "source": [
    "df = pd.read_csv('../data/countries.tsv', names=['wiki', 'country', 'capitals'], sep='\\t', converters={'capitals': literal_eval}, index_col=[0])\n",
    "df.capitals = df.capitals.apply(lambda capitals: {unidecode(capital) for capital in capitals})\n",
    "df.capitals = df.capitals.apply(set)\n",
    "countries = set(df['country'].apply(unidecode))"
   ]
  },
  {
   "cell_type": "code",
   "execution_count": 6,
   "metadata": {},
   "outputs": [],
   "source": [
    "def extract_text(url):\n",
    "    html = requests.get(url).text\n",
    "    soup = BeautifulSoup(html, 'html.parser')\n",
    "\n",
    "    [s.extract() for s in soup.find_all(id='toc')]\n",
    "    [s.extract() for s in soup.find_all(['table', 'script', 'sup'])]\n",
    "    [s.extract() for s in soup.find_all(class_=['portal', 'navigation-not-searchable', 'reflist', 'noprint'])]\n",
    "    text = soup.find(class_='mw-parser-output').get_text()\n",
    "    text = re.sub(r' \\([^)]*\\)', '', text).strip()\n",
    "\n",
    "    # articles with no mention of the capital in the article body\n",
    "    no_capital = any(capital not in text for capital in df.at[url, 'capitals'])\n",
    "\n",
    "    return '\\n'.join(text.split('\\n')[:15]), no_capital"
   ]
  },
  {
   "cell_type": "code",
   "execution_count": 26,
   "metadata": {},
   "outputs": [],
   "source": [
    "def concat_compound(token):\n",
    "    res = []\n",
    "    for child in token.children:\n",
    "        if child.dep_ == 'compound':\n",
    "            res.extend(concat_compound(child))\n",
    "            res.append(unidecode(child.text))\n",
    "    return res"
   ]
  },
  {
   "cell_type": "code",
   "execution_count": 27,
   "metadata": {},
   "outputs": [],
   "source": [
    "def bfs(root):\n",
    "    queue = list(root.children)\n",
    "    while len(queue):\n",
    "        head = queue.pop(0)\n",
    "        if head.pos_ == 'PROPN':\n",
    "            compound = concat_compound(head)\n",
    "            compound.append(unidecode(head.text))\n",
    "            capital = ' '.join(compound)\n",
    "            if capital in countries or len(set.intersection(countries, set(compound))):\n",
    "                return None\n",
    "            return capital\n",
    "        queue.extend(list(head.children))"
   ]
  },
  {
   "cell_type": "code",
   "execution_count": 28,
   "metadata": {},
   "outputs": [],
   "source": [
    "def get_parent_verb(token):\n",
    "    if token.pos_ != 'VERB':\n",
    "        if token.dep_ == 'ROOT':\n",
    "            return None\n",
    "        return get_parent_verb(token.head)\n",
    "    return token"
   ]
  },
  {
   "cell_type": "code",
   "execution_count": 29,
   "metadata": {},
   "outputs": [],
   "source": [
    "def extract_capitals(url):\n",
    "#     print(url)\n",
    "    text, no_capital = extract_text(url)\n",
    "    doc = nlp(text, disable=['ner', 'textcat'])\n",
    "\n",
    "    result = set()\n",
    "    for sentence in doc.sents:\n",
    "        if 'capital' in sentence.text:\n",
    "            for token in sentence:\n",
    "                if token.text == 'capital':\n",
    "                    verb = get_parent_verb(token)\n",
    "                    if verb:\n",
    "                        propn = bfs(verb)\n",
    "                        if propn:\n",
    "                            result.add(propn)\n",
    "                            break\n",
    "    return url, result, no_capital"
   ]
  },
  {
   "cell_type": "code",
   "execution_count": 30,
   "metadata": {},
   "outputs": [],
   "source": [
    "def addToDataFrame(data):\n",
    "    url, result, no_capital = data\n",
    "    df.at[url, 'capitals_found'] = result\n",
    "    df.at[url, 'no_capital'] = no_capital"
   ]
  },
  {
   "cell_type": "code",
   "execution_count": 31,
   "metadata": {},
   "outputs": [],
   "source": [
    "def getRecall(tp, fn):\n",
    "    if (not tp and not fn):\n",
    "        return 0\n",
    "    return tp / (tp + fn)\n",
    "\n",
    "def getPrecision(tp, fp):\n",
    "    if (not tp and not fp):\n",
    "        return 0\n",
    "    return tp / (tp + fp)\n",
    "\n",
    "def getFScore(row):\n",
    "    truth, prediction = row\n",
    "    #dirty hack for 'Luanda' being string instead of set for no reason\n",
    "    if isinstance(prediction, str):\n",
    "        prediction = set([prediction])\n",
    "    tp = [val for val in truth if val in prediction]\n",
    "    fp = [val for val in prediction if val not in tp]\n",
    "    fn = [val for val in truth if val not in prediction]\n",
    "    \n",
    "    precision = getPrecision(len(tp), len(fp))\n",
    "    recall = getRecall(len(tp), len(fn))\n",
    "\n",
    "    if precision + recall == 0:\n",
    "        return 0\n",
    "    return 2 * (precision * recall) / (precision + recall)\n",
    "\n",
    "def getFScoreDf(dataframe):\n",
    "    df = dataframe.copy()\n",
    "    df['f1'] = df[['capitals', 'capitals_found']].apply(getFScore, axis=1)\n",
    "    return df"
   ]
  },
  {
   "cell_type": "code",
   "execution_count": 32,
   "metadata": {},
   "outputs": [],
   "source": [
    "def get_jaccard_similarily(data):\n",
    "    capitals, capitals_found = data    \n",
    "    return len(set.intersection(capitals, capitals_found)) / len(set.union(capitals, capitals_found))\n",
    "\n",
    "def get_df_jaccard_similarily(dataframe):\n",
    "    df = dataframe.copy()\n",
    "    df['similarity'] = df[['capitals', 'capitals_found']].apply(get_jaccard_similarily, axis=1)\n",
    "    return df['similarity'].mean()"
   ]
  },
  {
   "cell_type": "code",
   "execution_count": 33,
   "metadata": {},
   "outputs": [],
   "source": [
    "def process():\n",
    "    pool = mp.Pool()\n",
    "\n",
    "    for idx in df.index:\n",
    "        pool.apply_async(extract_capitals, args=[idx], callback=addToDataFrame)\n",
    "\n",
    "    pool.close()\n",
    "    pool.join()"
   ]
  },
  {
   "cell_type": "code",
   "execution_count": 34,
   "metadata": {},
   "outputs": [],
   "source": [
    "process()"
   ]
  },
  {
   "cell_type": "markdown",
   "metadata": {},
   "source": [
    "### F1"
   ]
  },
  {
   "cell_type": "code",
   "execution_count": 36,
   "metadata": {},
   "outputs": [
    {
     "data": {
      "text/plain": [
       "0.6616541353383458"
      ]
     },
     "execution_count": 36,
     "metadata": {},
     "output_type": "execute_result"
    }
   ],
   "source": [
    "df_f1 = getFScoreDf(df)\n",
    "df_f1.f1.mean()"
   ]
  },
  {
   "cell_type": "code",
   "execution_count": 38,
   "metadata": {},
   "outputs": [
    {
     "data": {
      "text/plain": [
       "0.6825396825396826"
      ]
     },
     "execution_count": 38,
     "metadata": {},
     "output_type": "execute_result"
    }
   ],
   "source": [
    "#f1 for countries with countries without capitals in body text filtered out\n",
    "getFScoreDf(df[df['no_capital'] == False]).f1.mean()"
   ]
  },
  {
   "cell_type": "code",
   "execution_count": 239,
   "metadata": {},
   "outputs": [
    {
     "data": {
      "text/plain": [
       "0.9090909090909091"
      ]
     },
     "execution_count": 239,
     "metadata": {},
     "output_type": "execute_result"
    }
   ],
   "source": [
    "# similarity for countries, where number of capitals equals number of found capitals\n",
    "getFScoreDf(df[df['capitals_found'].map(len) == df['capitals'].map(len)]).f1.mean()"
   ]
  },
  {
   "cell_type": "code",
   "execution_count": 242,
   "metadata": {},
   "outputs": [
    {
     "data": {
      "text/plain": [
       "0.03007518796992481"
      ]
     },
     "execution_count": 242,
     "metadata": {},
     "output_type": "execute_result"
    }
   ],
   "source": [
    "# share of countries with with not all capitals found (countries without found capitals are not considered)\n",
    "len(df[(df['capitals_found'].map(len) < df['capitals'].map(len)) & (df['capitals_found'].map(len) > 0)]) / len(df)"
   ]
  },
  {
   "cell_type": "code",
   "execution_count": 243,
   "metadata": {},
   "outputs": [
    {
     "data": {
      "text/plain": [
       "0.24060150375939848"
      ]
     },
     "execution_count": 243,
     "metadata": {},
     "output_type": "execute_result"
    }
   ],
   "source": [
    "# share of countries without a single capital found\n",
    "len(df[df['capitals_found'].map(len) == 0]) / len(df)"
   ]
  },
  {
   "cell_type": "code",
   "execution_count": 248,
   "metadata": {},
   "outputs": [
    {
     "data": {
      "text/html": [
       "<div>\n",
       "<style scoped>\n",
       "    .dataframe tbody tr th:only-of-type {\n",
       "        vertical-align: middle;\n",
       "    }\n",
       "\n",
       "    .dataframe tbody tr th {\n",
       "        vertical-align: top;\n",
       "    }\n",
       "\n",
       "    .dataframe thead th {\n",
       "        text-align: right;\n",
       "    }\n",
       "</style>\n",
       "<table border=\"1\" class=\"dataframe\">\n",
       "  <thead>\n",
       "    <tr style=\"text-align: right;\">\n",
       "      <th></th>\n",
       "      <th>country</th>\n",
       "      <th>capitals</th>\n",
       "      <th>capitals_found</th>\n",
       "      <th>no_capital</th>\n",
       "      <th>f1</th>\n",
       "    </tr>\n",
       "    <tr>\n",
       "      <th>wiki</th>\n",
       "      <th></th>\n",
       "      <th></th>\n",
       "      <th></th>\n",
       "      <th></th>\n",
       "      <th></th>\n",
       "    </tr>\n",
       "  </thead>\n",
       "  <tbody>\n",
       "    <tr>\n",
       "      <th>http://en.wikipedia.org/wiki/Egypt</th>\n",
       "      <td>Egypt</td>\n",
       "      <td>{Cairo}</td>\n",
       "      <td>{}</td>\n",
       "      <td>False</td>\n",
       "      <td>0.0</td>\n",
       "    </tr>\n",
       "    <tr>\n",
       "      <th>http://en.wikipedia.org/wiki/Afghanistan</th>\n",
       "      <td>Afghanistan</td>\n",
       "      <td>{Kabul}</td>\n",
       "      <td>{Kabul}</td>\n",
       "      <td>False</td>\n",
       "      <td>1.0</td>\n",
       "    </tr>\n",
       "    <tr>\n",
       "      <th>http://en.wikipedia.org/wiki/Algeria</th>\n",
       "      <td>Algeria</td>\n",
       "      <td>{Algiers}</td>\n",
       "      <td>{Algiers}</td>\n",
       "      <td>False</td>\n",
       "      <td>1.0</td>\n",
       "    </tr>\n",
       "    <tr>\n",
       "      <th>http://en.wikipedia.org/wiki/Angola</th>\n",
       "      <td>Angola</td>\n",
       "      <td>{Luanda}</td>\n",
       "      <td>Luanda</td>\n",
       "      <td>False</td>\n",
       "      <td>1.0</td>\n",
       "    </tr>\n",
       "    <tr>\n",
       "      <th>http://en.wikipedia.org/wiki/Germany</th>\n",
       "      <td>Germany</td>\n",
       "      <td>{Berlin}</td>\n",
       "      <td>{Berlin}</td>\n",
       "      <td>False</td>\n",
       "      <td>1.0</td>\n",
       "    </tr>\n",
       "  </tbody>\n",
       "</table>\n",
       "</div>"
      ],
      "text/plain": [
       "                                              country   capitals  \\\n",
       "wiki                                                               \n",
       "http://en.wikipedia.org/wiki/Egypt              Egypt    {Cairo}   \n",
       "http://en.wikipedia.org/wiki/Afghanistan  Afghanistan    {Kabul}   \n",
       "http://en.wikipedia.org/wiki/Algeria          Algeria  {Algiers}   \n",
       "http://en.wikipedia.org/wiki/Angola            Angola   {Luanda}   \n",
       "http://en.wikipedia.org/wiki/Germany          Germany   {Berlin}   \n",
       "\n",
       "                                         capitals_found no_capital   f1  \n",
       "wiki                                                                     \n",
       "http://en.wikipedia.org/wiki/Egypt                   {}      False  0.0  \n",
       "http://en.wikipedia.org/wiki/Afghanistan        {Kabul}      False  1.0  \n",
       "http://en.wikipedia.org/wiki/Algeria          {Algiers}      False  1.0  \n",
       "http://en.wikipedia.org/wiki/Angola              Luanda      False  1.0  \n",
       "http://en.wikipedia.org/wiki/Germany           {Berlin}      False  1.0  "
      ]
     },
     "execution_count": 248,
     "metadata": {},
     "output_type": "execute_result"
    }
   ],
   "source": [
    "df_f1.head()"
   ]
  },
  {
   "cell_type": "markdown",
   "metadata": {},
   "source": [
    "### Here are Jaccard similarity scores, which I no longer consider as an appropriate metrics"
   ]
  },
  {
   "cell_type": "code",
   "execution_count": 69,
   "metadata": {},
   "outputs": [
    {
     "data": {
      "text/plain": [
       "0.6478696741854636"
      ]
     },
     "execution_count": 69,
     "metadata": {},
     "output_type": "execute_result"
    }
   ],
   "source": [
    "get_df_jaccard_similarily(df)"
   ]
  },
  {
   "cell_type": "code",
   "execution_count": 70,
   "metadata": {},
   "outputs": [
    {
     "data": {
      "text/plain": [
       "0.6679894179894179"
      ]
     },
     "execution_count": 70,
     "metadata": {},
     "output_type": "execute_result"
    }
   ],
   "source": [
    "#similarity for countries with countries without capitals in body text filtered out\n",
    "get_df_jaccard_similarily(df[df['no_capital'] == False])"
   ]
  },
  {
   "cell_type": "code",
   "execution_count": 71,
   "metadata": {},
   "outputs": [
    {
     "data": {
      "text/plain": [
       "0.6888888888888888"
      ]
     },
     "execution_count": 71,
     "metadata": {},
     "output_type": "execute_result"
    }
   ],
   "source": [
    "#similarity for countries without capitals in body text and capitals amount greater than 2\n",
    "get_df_jaccard_similarily(df[(df['no_capital'] == False) & (df['capitals'].map(len) == 1)])"
   ]
  },
  {
   "cell_type": "code",
   "execution_count": 72,
   "metadata": {},
   "outputs": [
    {
     "data": {
      "text/plain": [
       "0.9101123595505618"
      ]
     },
     "execution_count": 72,
     "metadata": {},
     "output_type": "execute_result"
    }
   ],
   "source": [
    "# similarity for countries, where number of capitals equals number of found capitals\n",
    "get_df_jaccard_similarily(df[df['capitals_found'].map(len) == df['capitals'].map(len)])"
   ]
  },
  {
   "cell_type": "code",
   "execution_count": 73,
   "metadata": {},
   "outputs": [
    {
     "data": {
      "text/plain": [
       "0.06015037593984962"
      ]
     },
     "execution_count": 73,
     "metadata": {},
     "output_type": "execute_result"
    }
   ],
   "source": [
    "# share of countries with redundant capitals found\n",
    "len(df[df['capitals_found'].map(len) > df['capitals'].map(len)]) / len(df)"
   ]
  }
 ],
 "metadata": {
  "kernelspec": {
   "display_name": "Python 3",
   "language": "python",
   "name": "python3"
  },
  "language_info": {
   "codemirror_mode": {
    "name": "ipython",
    "version": 3
   },
   "file_extension": ".py",
   "mimetype": "text/x-python",
   "name": "python",
   "nbconvert_exporter": "python",
   "pygments_lexer": "ipython3",
   "version": "3.7.1"
  }
 },
 "nbformat": 4,
 "nbformat_minor": 2
}
