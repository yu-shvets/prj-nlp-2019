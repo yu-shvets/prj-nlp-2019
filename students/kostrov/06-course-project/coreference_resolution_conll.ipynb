{
 "cells": [
  {
   "cell_type": "code",
   "execution_count": 1,
   "metadata": {},
   "outputs": [],
   "source": [
    "import re\n",
    "import spacy\n",
    "import neuralcoref\n",
    "import pandas as pd\n",
    "from os import listdir\n",
    "from collections import defaultdict, OrderedDict"
   ]
  },
  {
   "cell_type": "code",
   "execution_count": 2,
   "metadata": {},
   "outputs": [],
   "source": [
    "PATH = './qbcoref/data/data-gold/'"
   ]
  },
  {
   "cell_type": "code",
   "execution_count": 3,
   "metadata": {},
   "outputs": [
    {
     "data": {
      "text/plain": [
       "<spacy.lang.en.English at 0x7f95a9be9f98>"
      ]
     },
     "execution_count": 3,
     "metadata": {},
     "output_type": "execute_result"
    }
   ],
   "source": [
    "nlp = spacy.load('en_core_web_lg')\n",
    "neuralcoref.add_to_pipe(nlp)"
   ]
  },
  {
   "cell_type": "code",
   "execution_count": 4,
   "metadata": {},
   "outputs": [],
   "source": [
    "def get_prediction(string):\n",
    "    doc = nlp(string)\n",
    "\n",
    "    prediction = defaultdict(set)\n",
    "    for cluster in doc._.coref_clusters:\n",
    "        main = cluster.main\n",
    "        main_start, main_end = main.start, main.end - 1\n",
    "        main_pos = tuple([main_start]) if main_start == main_end else (main_start, main_end)\n",
    "        for coref in cluster:\n",
    "            start, end = coref.start, coref.end - 1\n",
    "            prediction[main_pos].add(tuple([start]) if start == end else (start, end))\n",
    "\n",
    "    return prediction"
   ]
  },
  {
   "cell_type": "code",
   "execution_count": 6,
   "metadata": {},
   "outputs": [],
   "source": [
    "def get_truth(df):\n",
    "    temp = defaultdict(list)\n",
    "    for idx, row in df.iterrows():\n",
    "        _, coreference = row\n",
    "        if coreference == '-':\n",
    "            pass\n",
    "        else:\n",
    "            coords = coreference.split('|')\n",
    "            for coord in coords:\n",
    "                pos = re.search(r'\\d+', coord).group(0)\n",
    "                if '(' in coord and ')' in coord:\n",
    "                    temp[pos].append([idx])\n",
    "                elif '(' in coord:\n",
    "                    temp[pos].append([idx])\n",
    "                elif ')' in coord:\n",
    "                    temp[pos][-1].append(idx)\n",
    "\n",
    "    truth = defaultdict(set)\n",
    "    temp_main = None\n",
    "    for values in temp.values():\n",
    "        for i, value in enumerate(values):\n",
    "            coord = value if isinstance(value, int) else tuple(value)\n",
    "            if i == 0:\n",
    "                temp_main = coord\n",
    "            truth[temp_main].add(coord)\n",
    "\n",
    "    return truth"
   ]
  },
  {
   "cell_type": "code",
   "execution_count": 7,
   "metadata": {},
   "outputs": [],
   "source": [
    "def get_recall(tp, fn):\n",
    "    if (not tp and not fn):\n",
    "        return 0\n",
    "    return tp / (tp + fn)\n",
    "\n",
    "def get_precision(tp, fp):\n",
    "    if (not tp and not fp):\n",
    "        return 0\n",
    "    return tp / (tp + fp)\n",
    "\n",
    "def get_f1(truth, prediction):\n",
    "    tp = [val for val in truth if val in prediction]\n",
    "    fp = [val for val in prediction if val not in tp]\n",
    "    fn = [val for val in truth if val not in prediction]\n",
    "    \n",
    "    precision = get_precision(len(tp), len(fp))\n",
    "    recall = get_recall(len(tp), len(fn))\n",
    "\n",
    "    if precision + recall == 0:\n",
    "        return 0\n",
    "    \n",
    "    return 2 * (precision * recall) / (precision + recall)"
   ]
  },
  {
   "cell_type": "code",
   "execution_count": 16,
   "metadata": {},
   "outputs": [],
   "source": [
    "def calc_doc_f1(truth, prediction):\n",
    "    f1 = [get_f1(value, prediction[key]) for key, value in truth.items()]\n",
    "    return sum(f1)/(len(f1) + 0.00001)"
   ]
  },
  {
   "cell_type": "code",
   "execution_count": 9,
   "metadata": {},
   "outputs": [],
   "source": [
    "def parse_doc(doc):\n",
    "    df = pd.read_csv(pd.compat.StringIO(doc), sep='\\t', names=['id', 'token', 'coreference'], usecols=[2, 3, 11], index_col=0)\n",
    "\n",
    "    prediction = get_prediction(' '.join(df['token'].values))\n",
    "    truth = get_truth(df)\n",
    "\n",
    "    return calc_doc_f1(truth, prediction)"
   ]
  },
  {
   "cell_type": "code",
   "execution_count": 17,
   "metadata": {},
   "outputs": [],
   "source": [
    "def process_conll(filename):\n",
    "#     print(filename)\n",
    "    with open(PATH + filename) as f:\n",
    "        raw_data = f.readlines()[2:-4]\n",
    "        docs = ''.join(raw_data).split('\\n\\n')\n",
    "        file_f1 = [parse_doc(item) for item in docs]\n",
    "        return sum(file_f1)/(len(file_f1) + 0.00001)"
   ]
  },
  {
   "cell_type": "code",
   "execution_count": 18,
   "metadata": {},
   "outputs": [],
   "source": [
    "f1_per_file = [process_conll(f) for f in listdir(PATH)]"
   ]
  },
  {
   "cell_type": "code",
   "execution_count": 21,
   "metadata": {},
   "outputs": [
    {
     "data": {
      "text/plain": [
       "0.07160771327486981"
      ]
     },
     "execution_count": 21,
     "metadata": {},
     "output_type": "execute_result"
    }
   ],
   "source": [
    "#corpora-wide f1\n",
    "sum(f1_per_file)/len(f1_per_file)"
   ]
  }
 ],
 "metadata": {
  "kernelspec": {
   "display_name": "Python 3",
   "language": "python",
   "name": "python3"
  },
  "language_info": {
   "codemirror_mode": {
    "name": "ipython",
    "version": 3
   },
   "file_extension": ".py",
   "mimetype": "text/x-python",
   "name": "python",
   "nbconvert_exporter": "python",
   "pygments_lexer": "ipython3",
   "version": "3.6.8"
  }
 },
 "nbformat": 4,
 "nbformat_minor": 2
}
