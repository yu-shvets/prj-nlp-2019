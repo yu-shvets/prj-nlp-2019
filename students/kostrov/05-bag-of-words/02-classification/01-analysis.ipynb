{
 "cells": [
  {
   "cell_type": "code",
   "execution_count": 1,
   "metadata": {},
   "outputs": [],
   "source": [
    "import numpy as np\n",
    "from pandas import pandas as pd\n",
    "from sklearn.model_selection import train_test_split\n",
    "from sklearn.feature_extraction.text import TfidfTransformer, CountVectorizer\n",
    "from sklearn.naive_bayes import MultinomialNB\n",
    "from sklearn.pipeline import Pipeline\n",
    "from sklearn.linear_model import SGDClassifier\n",
    "from tokenize_uk.tokenize_uk import tokenize_words\n",
    "from sklearn.metrics import classification_report\n",
    "import pymorphy2"
   ]
  },
  {
   "cell_type": "code",
   "execution_count": 2,
   "metadata": {},
   "outputs": [
    {
     "name": "stdout",
     "output_type": "stream",
     "text": [
      "rows count: 14949\n"
     ]
    },
    {
     "data": {
      "text/html": [
       "<div>\n",
       "<style scoped>\n",
       "    .dataframe tbody tr th:only-of-type {\n",
       "        vertical-align: middle;\n",
       "    }\n",
       "\n",
       "    .dataframe tbody tr th {\n",
       "        vertical-align: top;\n",
       "    }\n",
       "\n",
       "    .dataframe thead th {\n",
       "        text-align: right;\n",
       "    }\n",
       "</style>\n",
       "<table border=\"1\" class=\"dataframe\">\n",
       "  <thead>\n",
       "    <tr style=\"text-align: right;\">\n",
       "      <th></th>\n",
       "      <th>rating</th>\n",
       "      <th>item_bought</th>\n",
       "      <th>review</th>\n",
       "      <th>pros</th>\n",
       "      <th>cons</th>\n",
       "      <th>upvotes</th>\n",
       "      <th>downvotes</th>\n",
       "    </tr>\n",
       "    <tr>\n",
       "      <th>id</th>\n",
       "      <th></th>\n",
       "      <th></th>\n",
       "      <th></th>\n",
       "      <th></th>\n",
       "      <th></th>\n",
       "      <th></th>\n",
       "      <th></th>\n",
       "    </tr>\n",
       "  </thead>\n",
       "  <tbody>\n",
       "    <tr>\n",
       "      <th>23415273</th>\n",
       "      <td>5</td>\n",
       "      <td>1</td>\n",
       "      <td>сервіс відмінний, морозильна камера працює добре.</td>\n",
       "      <td></td>\n",
       "      <td></td>\n",
       "      <td>0</td>\n",
       "      <td>0</td>\n",
       "    </tr>\n",
       "    <tr>\n",
       "      <th>33284346</th>\n",
       "      <td>5</td>\n",
       "      <td>1</td>\n",
       "      <td>гарна та якісна морозильна камера. при першому...</td>\n",
       "      <td>недорогий</td>\n",
       "      <td>нема</td>\n",
       "      <td>0</td>\n",
       "      <td>0</td>\n",
       "    </tr>\n",
       "    <tr>\n",
       "      <th>33040878</th>\n",
       "      <td>4</td>\n",
       "      <td>1</td>\n",
       "      <td>камеру привезли, все працює, все добре, все як...</td>\n",
       "      <td></td>\n",
       "      <td>немає</td>\n",
       "      <td>2</td>\n",
       "      <td>0</td>\n",
       "    </tr>\n",
       "    <tr>\n",
       "      <th>38902893</th>\n",
       "      <td>5</td>\n",
       "      <td>1</td>\n",
       "      <td>справляється із своєю роботою</td>\n",
       "      <td>ціна якість</td>\n",
       "      <td></td>\n",
       "      <td>0</td>\n",
       "      <td>0</td>\n",
       "    </tr>\n",
       "    <tr>\n",
       "      <th>20357268</th>\n",
       "      <td>5</td>\n",
       "      <td>1</td>\n",
       "      <td>користуюсь міс., дуже задоволений!</td>\n",
       "      <td>все чудово працює, тихий.</td>\n",
       "      <td>поки не виявлено.</td>\n",
       "      <td>0</td>\n",
       "      <td>0</td>\n",
       "    </tr>\n",
       "  </tbody>\n",
       "</table>\n",
       "</div>"
      ],
      "text/plain": [
       "          rating  item_bought  \\\n",
       "id                              \n",
       "23415273       5            1   \n",
       "33284346       5            1   \n",
       "33040878       4            1   \n",
       "38902893       5            1   \n",
       "20357268       5            1   \n",
       "\n",
       "                                                     review  \\\n",
       "id                                                            \n",
       "23415273  сервіс відмінний, морозильна камера працює добре.   \n",
       "33284346  гарна та якісна морозильна камера. при першому...   \n",
       "33040878  камеру привезли, все працює, все добре, все як...   \n",
       "38902893                      справляється із своєю роботою   \n",
       "20357268                 користуюсь міс., дуже задоволений!   \n",
       "\n",
       "                               pros               cons  upvotes  downvotes  \n",
       "id                                                                          \n",
       "23415273                                                      0          0  \n",
       "33284346                  недорогий               нема        0          0  \n",
       "33040878                                         немає        2          0  \n",
       "38902893                ціна якість                           0          0  \n",
       "20357268  все чудово працює, тихий.  поки не виявлено.        0          0  "
      ]
     },
     "execution_count": 2,
     "metadata": {},
     "output_type": "execute_result"
    }
   ],
   "source": [
    "df = pd.read_csv('data/input/comments.tsv', sep='\\t', index_col=0)\n",
    "df_tones = pd.read_csv('data/input/tone-dict-uk.tsv', sep='\\t', index_col=0, names=['tone'])\n",
    "df = df.fillna('')\n",
    "print('rows count:', len(df))\n",
    "df.head()"
   ]
  },
  {
   "cell_type": "code",
   "execution_count": 3,
   "metadata": {},
   "outputs": [
    {
     "data": {
      "text/html": [
       "<div>\n",
       "<style scoped>\n",
       "    .dataframe tbody tr th:only-of-type {\n",
       "        vertical-align: middle;\n",
       "    }\n",
       "\n",
       "    .dataframe tbody tr th {\n",
       "        vertical-align: top;\n",
       "    }\n",
       "\n",
       "    .dataframe thead th {\n",
       "        text-align: right;\n",
       "    }\n",
       "</style>\n",
       "<table border=\"1\" class=\"dataframe\">\n",
       "  <thead>\n",
       "    <tr style=\"text-align: right;\">\n",
       "      <th></th>\n",
       "      <th>item_bought</th>\n",
       "      <th>review</th>\n",
       "      <th>pros</th>\n",
       "      <th>cons</th>\n",
       "      <th>upvotes</th>\n",
       "      <th>downvotes</th>\n",
       "    </tr>\n",
       "    <tr>\n",
       "      <th>rating</th>\n",
       "      <th></th>\n",
       "      <th></th>\n",
       "      <th></th>\n",
       "      <th></th>\n",
       "      <th></th>\n",
       "      <th></th>\n",
       "    </tr>\n",
       "  </thead>\n",
       "  <tbody>\n",
       "    <tr>\n",
       "      <th>1</th>\n",
       "      <td>730</td>\n",
       "      <td>730</td>\n",
       "      <td>730</td>\n",
       "      <td>730</td>\n",
       "      <td>730</td>\n",
       "      <td>730</td>\n",
       "    </tr>\n",
       "    <tr>\n",
       "      <th>2</th>\n",
       "      <td>475</td>\n",
       "      <td>475</td>\n",
       "      <td>475</td>\n",
       "      <td>475</td>\n",
       "      <td>475</td>\n",
       "      <td>475</td>\n",
       "    </tr>\n",
       "    <tr>\n",
       "      <th>3</th>\n",
       "      <td>752</td>\n",
       "      <td>752</td>\n",
       "      <td>752</td>\n",
       "      <td>752</td>\n",
       "      <td>752</td>\n",
       "      <td>752</td>\n",
       "    </tr>\n",
       "    <tr>\n",
       "      <th>4</th>\n",
       "      <td>2863</td>\n",
       "      <td>2863</td>\n",
       "      <td>2863</td>\n",
       "      <td>2863</td>\n",
       "      <td>2863</td>\n",
       "      <td>2863</td>\n",
       "    </tr>\n",
       "    <tr>\n",
       "      <th>5</th>\n",
       "      <td>10129</td>\n",
       "      <td>10129</td>\n",
       "      <td>10129</td>\n",
       "      <td>10129</td>\n",
       "      <td>10129</td>\n",
       "      <td>10129</td>\n",
       "    </tr>\n",
       "  </tbody>\n",
       "</table>\n",
       "</div>"
      ],
      "text/plain": [
       "        item_bought  review   pros   cons  upvotes  downvotes\n",
       "rating                                                       \n",
       "1               730     730    730    730      730        730\n",
       "2               475     475    475    475      475        475\n",
       "3               752     752    752    752      752        752\n",
       "4              2863    2863   2863   2863     2863       2863\n",
       "5             10129   10129  10129  10129    10129      10129"
      ]
     },
     "execution_count": 3,
     "metadata": {},
     "output_type": "execute_result"
    }
   ],
   "source": [
    "df.groupby('rating').count()"
   ]
  },
  {
   "cell_type": "code",
   "execution_count": 4,
   "metadata": {},
   "outputs": [],
   "source": [
    "stopwords = set([\"а\",\"або\",\"б\",\"би\",\"бо\",\"був\",\"буде\",\"була\",\"були\",\"було\",\"бути\",\"в\",\"вам\",\"вами\",\"вас\",\"ваш\",\"ваша\",\"ваше\",\"вашим\",\"вашими\",\"ваших\",\"ваші\",\"вашій\",\"вашого\",\"вашої\",\"вашому\",\"вашою\",\"вашу\",\"вже\",\"ви\",\"від\",\"він\",\"вона\",\"вони\",\"воно\",\"всі\",\"де\",\"для\",\"до\",\"дуже\",\"є\",\"з\",\"за\",\"зі\",\"і\",\"із\",\"її\",\"їй\",\"їм\",\"їх\",\"й\",\"його\",\"йому\",\"ким\",\"кого\",\"коли\",\"кому\",\"лише\",\"має\",\"мене\",\"мені\",\"ми\",\"мій\",\"мною\",\"мого\",\"моє\",\"моєї\",\"моєму\",\"моєю\",\"можна\",\"мої\",\"моїй\",\"моїм\",\"моїми\",\"моїх\",\"мою\",\"моя\",\"на\",\"нам\",\"нами\",\"нас\",\"наш\",\"наша\",\"наше\",\"нашим\",\"нашими\",\"наших\",\"наші\",\"нашій\",\"нашого\",\"нашої\",\"нашому\",\"нашою\",\"нашу\",\"неї\",\"нею\",\"ним\",\"ними\",\"них\",\"ній\",\"нім\",\"ну\",\"нього\",\"ньому\",\"під\",\"після\",\"по\",\"при\",\"про\",\"саме\",\"себе\",\"собі\",\"та\",\"так\",\"також\",\"там\",\"твій\",\"твого\",\"твоє\",\"твоєї\",\"твоєму\",\"твоєю\",\"твої\",\"твоїй\",\"твоїм\",\"твоїми\",\"твоїх\",\"твою\",\"твоя\",\"те\",\"тебе\",\"ти\",\"тим\",\"тими\",\"тих\",\"ті\",\"тієї\",\"тією\",\"тій\",\"тільки\",\"тім\",\"то\",\"тобі\",\"тобою\",\"того\",\"тоді\",\"той\",\"тому\",\"ту\",\"тут\",\"у\",\"хто\",\"це\",\"цей\",\"ці\",\"цього\",\"цьому\",\"через\",\"чи\",\"чиє\",\"чиєї\",\"чиєму\",\"чиї\",\"чиїй\",\"чиїм\",\"чиїми\",\"чиїх\",\"чий\",\"чийого\",\"чийому\",\"чим\",\"чию\",\"чия\",\"чого\",\"чому\",\"що\",\"щоб\",\"щодо\",\"щось\",\"я\",\"як\",\"яка\",\"який\",\"які\",\"якщо\"])"
   ]
  },
  {
   "cell_type": "code",
   "execution_count": 5,
   "metadata": {},
   "outputs": [
    {
     "data": {
      "text/html": [
       "<div>\n",
       "<style scoped>\n",
       "    .dataframe tbody tr th:only-of-type {\n",
       "        vertical-align: middle;\n",
       "    }\n",
       "\n",
       "    .dataframe tbody tr th {\n",
       "        vertical-align: top;\n",
       "    }\n",
       "\n",
       "    .dataframe thead th {\n",
       "        text-align: right;\n",
       "    }\n",
       "</style>\n",
       "<table border=\"1\" class=\"dataframe\">\n",
       "  <thead>\n",
       "    <tr style=\"text-align: right;\">\n",
       "      <th></th>\n",
       "      <th>item_bought</th>\n",
       "      <th>review</th>\n",
       "      <th>pros</th>\n",
       "      <th>cons</th>\n",
       "      <th>upvotes</th>\n",
       "      <th>downvotes</th>\n",
       "    </tr>\n",
       "    <tr>\n",
       "      <th>rating</th>\n",
       "      <th></th>\n",
       "      <th></th>\n",
       "      <th></th>\n",
       "      <th></th>\n",
       "      <th></th>\n",
       "      <th></th>\n",
       "    </tr>\n",
       "  </thead>\n",
       "  <tbody>\n",
       "    <tr>\n",
       "      <th>1</th>\n",
       "      <td>475</td>\n",
       "      <td>475</td>\n",
       "      <td>475</td>\n",
       "      <td>475</td>\n",
       "      <td>475</td>\n",
       "      <td>475</td>\n",
       "    </tr>\n",
       "    <tr>\n",
       "      <th>2</th>\n",
       "      <td>475</td>\n",
       "      <td>475</td>\n",
       "      <td>475</td>\n",
       "      <td>475</td>\n",
       "      <td>475</td>\n",
       "      <td>475</td>\n",
       "    </tr>\n",
       "    <tr>\n",
       "      <th>3</th>\n",
       "      <td>475</td>\n",
       "      <td>475</td>\n",
       "      <td>475</td>\n",
       "      <td>475</td>\n",
       "      <td>475</td>\n",
       "      <td>475</td>\n",
       "    </tr>\n",
       "    <tr>\n",
       "      <th>4</th>\n",
       "      <td>475</td>\n",
       "      <td>475</td>\n",
       "      <td>475</td>\n",
       "      <td>475</td>\n",
       "      <td>475</td>\n",
       "      <td>475</td>\n",
       "    </tr>\n",
       "    <tr>\n",
       "      <th>5</th>\n",
       "      <td>475</td>\n",
       "      <td>475</td>\n",
       "      <td>475</td>\n",
       "      <td>475</td>\n",
       "      <td>475</td>\n",
       "      <td>475</td>\n",
       "    </tr>\n",
       "  </tbody>\n",
       "</table>\n",
       "</div>"
      ],
      "text/plain": [
       "        item_bought  review  pros  cons  upvotes  downvotes\n",
       "rating                                                     \n",
       "1               475     475   475   475      475        475\n",
       "2               475     475   475   475      475        475\n",
       "3               475     475   475   475      475        475\n",
       "4               475     475   475   475      475        475\n",
       "5               475     475   475   475      475        475"
      ]
     },
     "execution_count": 5,
     "metadata": {},
     "output_type": "execute_result"
    }
   ],
   "source": [
    "df_1 = df[df['rating'] == 1].sample(n=475, random_state=1)\n",
    "df_2 = df[df['rating'] == 2].sample(n=475, random_state=1)\n",
    "df_3 = df[df['rating'] == 3].sample(n=475, random_state=1)\n",
    "df_4 = df[df['rating'] == 4].sample(n=475, random_state=1)\n",
    "df_5 = df[df['rating'] == 5].sample(n=475, random_state=1)\n",
    "df = pd.concat([df_1, df_2, df_3, df_4, df_5])\n",
    "df.groupby('rating').count()"
   ]
  },
  {
   "cell_type": "code",
   "execution_count": 6,
   "metadata": {},
   "outputs": [],
   "source": [
    "morph = pymorphy2.MorphAnalyzer(lang='uk')\n",
    "def tokenizer(string):\n",
    "    return [morph.parse(word)[0].normal_form for word in tokenize_words(string) if word and word not in stopwords]\n",
    "\n",
    "def sentiment_tokenizer(tokens):\n",
    "    result = []\n",
    "    for token in tokens:\n",
    "        if token in df_tones.index:\n",
    "            result.append(df_tones.at[token, 'tone'])\n",
    "        else:\n",
    "            result.append(token)\n",
    "    return result"
   ]
  },
  {
   "cell_type": "code",
   "execution_count": 7,
   "metadata": {},
   "outputs": [],
   "source": [
    "def calc_accuracy(df):\n",
    "    result = {}\n",
    "    for rating in range(1, 6):\n",
    "        filtered = df[df['truth'] == rating]\n",
    "        result[rating] = np.mean(filtered.truth.values == filtered.prediction.values)\n",
    "    return result"
   ]
  },
  {
   "cell_type": "code",
   "execution_count": 8,
   "metadata": {},
   "outputs": [],
   "source": [
    "def split_n_predict(x, y, classifier):\n",
    "    x_train, x_test, y_train, y_test = train_test_split(x, y, test_size=0.3, random_state=1)\n",
    "    classifier.fit(x_train, y_train)\n",
    "    predicted = classifier.predict(x_test)\n",
    "    \n",
    "    result = y_test.to_frame(name='truth')\n",
    "    result['prediction'] = predicted\n",
    "    print(classification_report(result.truth, result.prediction))\n",
    "\n",
    "    return calc_accuracy(result)"
   ]
  },
  {
   "cell_type": "code",
   "execution_count": 9,
   "metadata": {},
   "outputs": [],
   "source": [
    "text_clf = Pipeline([\n",
    "    ('vect', CountVectorizer(analyzer='word')),\n",
    "    ('clf', MultinomialNB()),\n",
    "])\n",
    "\n",
    "svm_clf = Pipeline([\n",
    "    ('vect', CountVectorizer(analyzer='word')),\n",
    "    ('tfidf', TfidfTransformer()),\n",
    "    ('clf', SGDClassifier(loss = 'hinge', penalty = 'l2', \n",
    "                          alpha = 1e-4, random_state = 1,\n",
    "                          max_iter = 50, tol = None)),\n",
    "])"
   ]
  },
  {
   "cell_type": "markdown",
   "metadata": {},
   "source": [
    "## Using tones"
   ]
  },
  {
   "cell_type": "code",
   "execution_count": 10,
   "metadata": {},
   "outputs": [
    {
     "name": "stdout",
     "output_type": "stream",
     "text": [
      "              precision    recall  f1-score   support\n",
      "\n",
      "           1       0.47      0.56      0.51        55\n",
      "           2       0.23      0.49      0.32        39\n",
      "           3       0.28      0.26      0.27        46\n",
      "           4       0.32      0.18      0.23        44\n",
      "           5       0.57      0.11      0.18        38\n",
      "\n",
      "   micro avg       0.33      0.33      0.33       222\n",
      "   macro avg       0.37      0.32      0.30       222\n",
      "weighted avg       0.38      0.33      0.31       222\n",
      "\n"
     ]
    },
    {
     "data": {
      "text/plain": [
       "{1: 0.5636363636363636,\n",
       " 2: 0.48717948717948717,\n",
       " 3: 0.2608695652173913,\n",
       " 4: 0.18181818181818182,\n",
       " 5: 0.10526315789473684}"
      ]
     },
     "execution_count": 10,
     "metadata": {},
     "output_type": "execute_result"
    }
   ],
   "source": [
    "df_with_tones = df.copy()\n",
    "df_with_tones['review_tones'] = df_with_tones['review'].apply(tokenizer).apply(sentiment_tokenizer).str.join('_rev ')\n",
    "df_with_tones = df_with_tones.dropna(subset=['review_tones'])\n",
    "\n",
    "split_n_predict(df_with_tones['review_tones'], df_with_tones['rating'], text_clf)"
   ]
  },
  {
   "cell_type": "code",
   "execution_count": 11,
   "metadata": {},
   "outputs": [
    {
     "name": "stdout",
     "output_type": "stream",
     "text": [
      "              precision    recall  f1-score   support\n",
      "\n",
      "           1       0.50      0.49      0.50        55\n",
      "           2       0.24      0.31      0.27        39\n",
      "           3       0.27      0.28      0.28        46\n",
      "           4       0.21      0.20      0.21        44\n",
      "           5       0.29      0.21      0.24        38\n",
      "\n",
      "   micro avg       0.31      0.31      0.31       222\n",
      "   macro avg       0.30      0.30      0.30       222\n",
      "weighted avg       0.31      0.31      0.31       222\n",
      "\n"
     ]
    },
    {
     "name": "stderr",
     "output_type": "stream",
     "text": [
      "/home/firefly/anaconda3/envs/py37/lib/python3.7/site-packages/sklearn/linear_model/stochastic_gradient.py:183: FutureWarning: max_iter and tol parameters have been added in SGDClassifier in 0.19. If max_iter is set but tol is left unset, the default value for tol in 0.19 and 0.20 will be None (which is equivalent to -infinity, so it has no effect) but will change in 0.21 to 1e-3. Specify tol to silence this warning.\n",
      "  FutureWarning)\n"
     ]
    },
    {
     "data": {
      "text/plain": [
       "{1: 0.4909090909090909,\n",
       " 2: 0.3076923076923077,\n",
       " 3: 0.2826086956521739,\n",
       " 4: 0.20454545454545456,\n",
       " 5: 0.21052631578947367}"
      ]
     },
     "execution_count": 11,
     "metadata": {},
     "output_type": "execute_result"
    }
   ],
   "source": [
    "split_n_predict(df_with_tones['review_tones'], df_with_tones['rating'], svm_clf)"
   ]
  },
  {
   "cell_type": "markdown",
   "metadata": {},
   "source": [
    "### adding pros and cons"
   ]
  },
  {
   "cell_type": "code",
   "execution_count": 12,
   "metadata": {},
   "outputs": [
    {
     "name": "stdout",
     "output_type": "stream",
     "text": [
      "              precision    recall  f1-score   support\n",
      "\n",
      "           1       0.54      0.56      0.55        55\n",
      "           2       0.19      0.26      0.22        39\n",
      "           3       0.29      0.26      0.28        46\n",
      "           4       0.20      0.20      0.20        44\n",
      "           5       0.42      0.29      0.34        38\n",
      "\n",
      "   micro avg       0.33      0.33      0.33       222\n",
      "   macro avg       0.33      0.31      0.32       222\n",
      "weighted avg       0.34      0.33      0.33       222\n",
      "\n"
     ]
    },
    {
     "data": {
      "text/plain": [
       "{1: 0.5636363636363636,\n",
       " 2: 0.2564102564102564,\n",
       " 3: 0.2608695652173913,\n",
       " 4: 0.20454545454545456,\n",
       " 5: 0.2894736842105263}"
      ]
     },
     "execution_count": 12,
     "metadata": {},
     "output_type": "execute_result"
    }
   ],
   "source": [
    "pros = df_with_tones['pros'].apply(tokenizer).str.join('_pros ')\n",
    "cons = df_with_tones['cons'].apply(tokenizer).str.join('_cons ')\n",
    "with_adv = df_with_tones['review_tones'].str.cat([pros, cons], sep=' ')\n",
    "\n",
    "split_n_predict(with_adv, df_with_tones['rating'], svm_clf)"
   ]
  },
  {
   "cell_type": "markdown",
   "metadata": {},
   "source": [
    "### adding votes"
   ]
  },
  {
   "cell_type": "code",
   "execution_count": 13,
   "metadata": {},
   "outputs": [
    {
     "name": "stdout",
     "output_type": "stream",
     "text": [
      "              precision    recall  f1-score   support\n",
      "\n",
      "           1       0.53      0.56      0.54        55\n",
      "           2       0.23      0.31      0.26        39\n",
      "           3       0.28      0.24      0.26        46\n",
      "           4       0.16      0.16      0.16        44\n",
      "           5       0.37      0.26      0.31        38\n",
      "\n",
      "   micro avg       0.32      0.32      0.32       222\n",
      "   macro avg       0.31      0.31      0.31       222\n",
      "weighted avg       0.32      0.32      0.32       222\n",
      "\n"
     ]
    },
    {
     "data": {
      "text/plain": [
       "{1: 0.5636363636363636,\n",
       " 2: 0.3076923076923077,\n",
       " 3: 0.2391304347826087,\n",
       " 4: 0.1590909090909091,\n",
       " 5: 0.2631578947368421}"
      ]
     },
     "execution_count": 13,
     "metadata": {},
     "output_type": "execute_result"
    }
   ],
   "source": [
    "upvotes = df_with_tones['upvotes'].astype(str) + '_upv'\n",
    "downvotes = df_with_tones['downvotes'].astype(str) + '_down'\n",
    "\n",
    "with_votes = with_adv.str.cat([upvotes, downvotes], ' ')\n",
    "\n",
    "split_n_predict(with_votes, df_with_tones['rating'], svm_clf)"
   ]
  },
  {
   "cell_type": "markdown",
   "metadata": {},
   "source": [
    "### considering whether the item was bought"
   ]
  },
  {
   "cell_type": "code",
   "execution_count": 14,
   "metadata": {},
   "outputs": [
    {
     "name": "stdout",
     "output_type": "stream",
     "text": [
      "              precision    recall  f1-score   support\n",
      "\n",
      "           1       0.48      0.53      0.50        55\n",
      "           2       0.19      0.26      0.22        39\n",
      "           3       0.35      0.30      0.33        46\n",
      "           4       0.24      0.20      0.22        44\n",
      "           5       0.45      0.37      0.41        38\n",
      "\n",
      "   micro avg       0.34      0.34      0.34       222\n",
      "   macro avg       0.34      0.33      0.33       222\n",
      "weighted avg       0.35      0.34      0.34       222\n",
      "\n"
     ]
    },
    {
     "data": {
      "text/plain": [
       "{1: 0.5272727272727272,\n",
       " 2: 0.2564102564102564,\n",
       " 3: 0.30434782608695654,\n",
       " 4: 0.20454545454545456,\n",
       " 5: 0.3684210526315789}"
      ]
     },
     "execution_count": 14,
     "metadata": {},
     "output_type": "execute_result"
    }
   ],
   "source": [
    "item_bought = df_with_tones['item_bought'].astype(str) + '_bought'\n",
    "with_bought = with_adv.str.cat(item_bought, sep=' ')\n",
    "\n",
    "split_n_predict(with_bought, df_with_tones['rating'], svm_clf)"
   ]
  },
  {
   "cell_type": "markdown",
   "metadata": {},
   "source": [
    "## Without tones"
   ]
  },
  {
   "cell_type": "code",
   "execution_count": 15,
   "metadata": {},
   "outputs": [],
   "source": [
    "reviews = df['review'].apply(tokenizer).str.join('_rev ')"
   ]
  },
  {
   "cell_type": "code",
   "execution_count": 16,
   "metadata": {},
   "outputs": [
    {
     "name": "stdout",
     "output_type": "stream",
     "text": [
      "              precision    recall  f1-score   support\n",
      "\n",
      "           1       0.37      0.55      0.45       132\n",
      "           2       0.31      0.38      0.34       148\n",
      "           3       0.39      0.21      0.28       163\n",
      "           4       0.26      0.23      0.24       137\n",
      "           5       0.42      0.41      0.41       133\n",
      "\n",
      "   micro avg       0.35      0.35      0.35       713\n",
      "   macro avg       0.35      0.36      0.34       713\n",
      "weighted avg       0.35      0.35      0.34       713\n",
      "\n"
     ]
    },
    {
     "data": {
      "text/plain": [
       "{1: 0.553030303030303,\n",
       " 2: 0.3783783783783784,\n",
       " 3: 0.2147239263803681,\n",
       " 4: 0.22627737226277372,\n",
       " 5: 0.40601503759398494}"
      ]
     },
     "execution_count": 16,
     "metadata": {},
     "output_type": "execute_result"
    }
   ],
   "source": [
    "split_n_predict(reviews, df['rating'], text_clf)"
   ]
  },
  {
   "cell_type": "code",
   "execution_count": 17,
   "metadata": {},
   "outputs": [
    {
     "name": "stdout",
     "output_type": "stream",
     "text": [
      "              precision    recall  f1-score   support\n",
      "\n",
      "           1       0.39      0.46      0.42       132\n",
      "           2       0.32      0.29      0.30       148\n",
      "           3       0.34      0.25      0.29       163\n",
      "           4       0.28      0.32      0.30       137\n",
      "           5       0.39      0.44      0.41       133\n",
      "\n",
      "   micro avg       0.35      0.35      0.35       713\n",
      "   macro avg       0.34      0.35      0.35       713\n",
      "weighted avg       0.34      0.35      0.34       713\n",
      "\n"
     ]
    },
    {
     "name": "stderr",
     "output_type": "stream",
     "text": [
      "/home/firefly/anaconda3/envs/py37/lib/python3.7/site-packages/sklearn/linear_model/stochastic_gradient.py:183: FutureWarning: max_iter and tol parameters have been added in SGDClassifier in 0.19. If max_iter is set but tol is left unset, the default value for tol in 0.19 and 0.20 will be None (which is equivalent to -infinity, so it has no effect) but will change in 0.21 to 1e-3. Specify tol to silence this warning.\n",
      "  FutureWarning)\n"
     ]
    },
    {
     "data": {
      "text/plain": [
       "{1: 0.4621212121212121,\n",
       " 2: 0.2905405405405405,\n",
       " 3: 0.24539877300613497,\n",
       " 4: 0.32116788321167883,\n",
       " 5: 0.43609022556390975}"
      ]
     },
     "execution_count": 17,
     "metadata": {},
     "output_type": "execute_result"
    }
   ],
   "source": [
    "split_n_predict(reviews, df['rating'], svm_clf)"
   ]
  },
  {
   "cell_type": "markdown",
   "metadata": {},
   "source": [
    "### adding pros and cons"
   ]
  },
  {
   "cell_type": "code",
   "execution_count": 18,
   "metadata": {},
   "outputs": [
    {
     "name": "stdout",
     "output_type": "stream",
     "text": [
      "              precision    recall  f1-score   support\n",
      "\n",
      "           1       0.41      0.46      0.44       132\n",
      "           2       0.41      0.36      0.39       148\n",
      "           3       0.39      0.30      0.34       163\n",
      "           4       0.33      0.36      0.35       137\n",
      "           5       0.52      0.62      0.57       133\n",
      "\n",
      "   micro avg       0.42      0.42      0.42       713\n",
      "   macro avg       0.41      0.42      0.41       713\n",
      "weighted avg       0.41      0.42      0.41       713\n",
      "\n"
     ]
    },
    {
     "data": {
      "text/plain": [
       "{1: 0.4621212121212121,\n",
       " 2: 0.36486486486486486,\n",
       " 3: 0.3006134969325153,\n",
       " 4: 0.35766423357664234,\n",
       " 5: 0.6240601503759399}"
      ]
     },
     "execution_count": 18,
     "metadata": {},
     "output_type": "execute_result"
    }
   ],
   "source": [
    "pros = df['pros'].apply(tokenizer).str.join('_pros ')\n",
    "cons = df['cons'].apply(tokenizer).str.join('_cons ')\n",
    "with_adv = reviews.str.cat([pros, cons], sep=' ')\n",
    "\n",
    "split_n_predict(with_adv, df['rating'], svm_clf)"
   ]
  },
  {
   "cell_type": "markdown",
   "metadata": {},
   "source": [
    "### adding votes"
   ]
  },
  {
   "cell_type": "code",
   "execution_count": 19,
   "metadata": {},
   "outputs": [
    {
     "name": "stdout",
     "output_type": "stream",
     "text": [
      "              precision    recall  f1-score   support\n",
      "\n",
      "           1       0.41      0.50      0.45       132\n",
      "           2       0.44      0.36      0.39       148\n",
      "           3       0.42      0.30      0.35       163\n",
      "           4       0.34      0.38      0.36       137\n",
      "           5       0.50      0.62      0.55       133\n",
      "\n",
      "   micro avg       0.42      0.42      0.42       713\n",
      "   macro avg       0.42      0.43      0.42       713\n",
      "weighted avg       0.42      0.42      0.42       713\n",
      "\n"
     ]
    },
    {
     "data": {
      "text/plain": [
       "{1: 0.5,\n",
       " 2: 0.3581081081081081,\n",
       " 3: 0.3006134969325153,\n",
       " 4: 0.3795620437956204,\n",
       " 5: 0.6165413533834586}"
      ]
     },
     "execution_count": 19,
     "metadata": {},
     "output_type": "execute_result"
    }
   ],
   "source": [
    "upvotes = df['upvotes'].astype(str) + '_upv'\n",
    "downvotes = df['downvotes'].astype(str) + '_down'\n",
    "\n",
    "with_votes = with_adv.str.cat([upvotes, downvotes], ' ')\n",
    "\n",
    "split_n_predict(with_votes, df['rating'], svm_clf)"
   ]
  },
  {
   "cell_type": "markdown",
   "metadata": {},
   "source": [
    "### considering whether the item was bought"
   ]
  },
  {
   "cell_type": "code",
   "execution_count": 20,
   "metadata": {},
   "outputs": [
    {
     "name": "stdout",
     "output_type": "stream",
     "text": [
      "              precision    recall  f1-score   support\n",
      "\n",
      "           1       0.40      0.48      0.44       132\n",
      "           2       0.40      0.34      0.37       148\n",
      "           3       0.39      0.28      0.32       163\n",
      "           4       0.35      0.39      0.37       137\n",
      "           5       0.52      0.64      0.58       133\n",
      "\n",
      "   micro avg       0.42      0.42      0.42       713\n",
      "   macro avg       0.41      0.42      0.41       713\n",
      "weighted avg       0.41      0.42      0.41       713\n",
      "\n"
     ]
    },
    {
     "data": {
      "text/plain": [
       "{1: 0.48484848484848486,\n",
       " 2: 0.33783783783783783,\n",
       " 3: 0.27607361963190186,\n",
       " 4: 0.38686131386861317,\n",
       " 5: 0.6390977443609023}"
      ]
     },
     "execution_count": 20,
     "metadata": {},
     "output_type": "execute_result"
    }
   ],
   "source": [
    "item_bought = df['item_bought'].astype(str) + '_bought'\n",
    "with_bought = with_adv.str.cat(item_bought, sep=' ')\n",
    "\n",
    "split_n_predict(with_bought, df['rating'], svm_clf)"
   ]
  }
 ],
 "metadata": {
  "kernelspec": {
   "display_name": "Python 3",
   "language": "python",
   "name": "python3"
  },
  "language_info": {
   "codemirror_mode": {
    "name": "ipython",
    "version": 3
   },
   "file_extension": ".py",
   "mimetype": "text/x-python",
   "name": "python",
   "nbconvert_exporter": "python",
   "pygments_lexer": "ipython3",
   "version": "3.7.1"
  }
 },
 "nbformat": 4,
 "nbformat_minor": 2
}
