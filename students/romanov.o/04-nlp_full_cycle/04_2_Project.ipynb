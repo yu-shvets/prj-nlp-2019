{
 "cells": [
  {
   "cell_type": "markdown",
   "metadata": {},
   "source": [
    "## II. My Project"
   ]
  },
  {
   "cell_type": "markdown",
   "metadata": {},
   "source": [
    "As a test data we can use the annotated _NUCLE Error Corpus_ and collect some examples of wrong collocations:"
   ]
  },
  {
   "cell_type": "markdown",
   "metadata": {},
   "source": [
    "```\n",
    "S Keeping the Secret of Genetic Testing\n",
    "\n",
    "S What is genetic risk ?\n",
    "\n",
    "S For an example , if exercising is helpful for family potential disease , we can always look for more chances for the family to go exercise .\n",
    "A 24 25|||Wci|||do|||REQUIRED|||-NONE-|||0\n",
    "\n",
    "S If certain disease genetic test is very accurate and it is unavoidable and necessary to get treatment and known by others , it is OK to disclose the result .\n",
    "A 18 19|||Wci|||tell|||REQUIRED|||-NONE-|||0\n",
    "\n",
    "S Ultimately , one must bring attention to who may benefit from such information and assisting those at risk to make considered decisions about disclosure .\n",
    "A 4 5|||Wci|||draw|||REQUIRED|||-NONE-|||0\n",
    "\n",
    "S On the other hand , if the genetic risk is kept as a secret , although it may benefit the carrier to a certain extend and help to keep the privacy , but it has much larger negative impacts to the family members and relatives .\n",
    "A 24 25|||Wci|||extent|||REQUIRED|||-NONE-|||0\n",
    "\n",
    "S It is better for both parties to be honest .\n",
    "\n",
    "S In conclusion , we could tell the benefits of telling genetic risk to the carriers relatives overweights the costs .\n",
    "A 5 6|||Wci|||see|||REQUIRED|||-NONE-|||0\n",
    "\n",
    "S It is immoral and impractical .\n",
    "\n",
    "S In my opinion , the carrier should tell his or her relatives about it .\n",
    "```"
   ]
  },
  {
   "cell_type": "markdown",
   "metadata": {},
   "source": [
    "There are two stages for collocation correction:\n",
    "\n",
    "1/ dectection of wrong collocation;\n",
    "\n",
    "2/ suggestions for correction."
   ]
  },
  {
   "cell_type": "markdown",
   "metadata": {},
   "source": [
    "The first part, in my opinion, requires higher precision rather than recall.\n",
    "I consider the false positive case of reporting a collocation error to be the most undesirable scenario.\n",
    "So I would use $F_.5$ measure as an evaluation metric for the first task."
   ]
  },
  {
   "cell_type": "markdown",
   "metadata": {},
   "source": [
    "As for the second task, I would use the following scheme:\n",
    "- the model should suggest several corrections (sorted in descending order of probability) for each collocation error\n",
    "- compute score using the following rule: 1.0, 0.75, 0.5 if actual correction is equal to first, second or third suggestion respectively, 0.0 otherwise\n",
    "- calculate average score for all corrections"
   ]
  },
  {
   "cell_type": "code",
   "execution_count": null,
   "metadata": {},
   "outputs": [],
   "source": []
  }
 ],
 "metadata": {
  "kernelspec": {
   "display_name": "Python 3",
   "language": "python",
   "name": "python3"
  },
  "language_info": {
   "codemirror_mode": {
    "name": "ipython",
    "version": 3
   },
   "file_extension": ".py",
   "mimetype": "text/x-python",
   "name": "python",
   "nbconvert_exporter": "python",
   "pygments_lexer": "ipython3",
   "version": "3.7.3"
  }
 },
 "nbformat": 4,
 "nbformat_minor": 2
}
