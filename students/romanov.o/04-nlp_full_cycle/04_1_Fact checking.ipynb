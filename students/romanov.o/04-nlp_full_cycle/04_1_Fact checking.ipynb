{
 "cells": [
  {
   "cell_type": "markdown",
   "metadata": {},
   "source": [
    "## I. NLP Full Cycle"
   ]
  },
  {
   "cell_type": "markdown",
   "metadata": {},
   "source": [
    "### 1. Domain"
   ]
  },
  {
   "cell_type": "markdown",
   "metadata": {},
   "source": [
    "Let's compare information about **Christian Bale's** filmography in DBpedia vs. Wikipedia."
   ]
  },
  {
   "cell_type": "markdown",
   "metadata": {},
   "source": [
    "```\n",
    "PREFIX dbo: <http://dbpedia.org/ontology/>\n",
    "PREFIX res:  <http://dbpedia.org/resource/>\n",
    "PREFIX rdfs: <http://www.w3.org/2000/01/rdf-schema#>\n",
    "SELECT DISTINCT ?movie ?year\n",
    "WHERE {\n",
    "\t?uri dbo:starring res:Christian_Bale .\n",
    "        OPTIONAL {?uri dct:subject ?cat . \n",
    "                  ?cat rdfs:label ?year . \n",
    "                  FILTER (regex (?year, '\\\\d+ films', 'i'))} .\n",
    "\t?uri rdfs:label ?movie .\n",
    "        FILTER (lang(?movie) = 'en')\n",
    "}```"
   ]
  },
  {
   "cell_type": "markdown",
   "metadata": {},
   "source": [
    "**Christian Bale** in:\n",
    "\n",
    "[🎬 DBpedia](https://dbpedia.org/sparql?default-graph-uri=http%3A%2F%2Fdbpedia.org&query=PREFIX+dbo%3A+%3Chttp%3A%2F%2Fdbpedia.org%2Fontology%2F%3E%0D%0APREFIX+res%3A++%3Chttp%3A%2F%2Fdbpedia.org%2Fresource%2F%3E%0D%0APREFIX+rdfs%3A+%3Chttp%3A%2F%2Fwww.w3.org%2F2000%2F01%2Frdf-schema%23%3E%0D%0ASELECT+DISTINCT+%3Fmovie+%3Fyear%0D%0AWHERE+%7B%0D%0A++++%3Furi+dbo%3Astarring+res%3AChristian_Bale+.%0D%0A++++++++OPTIONAL+%7B%3Furi+dct%3Asubject+%3Fcat+.+%0D%0A++++++++++++++++++%3Fcat+rdfs%3Alabel+%3Fyear+.+%0D%0A++++++++++++++++++FILTER+%28regex+%28%3Fyear%2C+%27%5C%5Cd%2B+films%27%2C+%27i%27%29%29%7D+.%0D%0A++++%3Furi+rdfs%3Alabel+%3Fmovie+.%0D%0A++++++++FILTER+%28lang%28%3Fmovie%29+%3D+%27en%27%29%0D%0A%7D&format=text%2Fhtml&CXML_redir_for_subjs=121&CXML_redir_for_hrefs=&timeout=30000&debug=on&run=+Run+Query+)\n",
    "\n",
    "[🎬 Wikipedia](https://en.wikipedia.org/wiki/Christian_Bale)\n",
    "\n",
    "[🎬 IMDb](https://www.imdb.com/name/nm0000288)"
   ]
  },
  {
   "cell_type": "markdown",
   "metadata": {},
   "source": [
    "### 2. Information extraction"
   ]
  },
  {
   "cell_type": "code",
   "execution_count": 1,
   "metadata": {},
   "outputs": [],
   "source": [
    "import requests\n",
    "import re\n",
    "from bs4 import BeautifulSoup\n",
    "from urllib.parse import urlencode"
   ]
  },
  {
   "cell_type": "code",
   "execution_count": 2,
   "metadata": {},
   "outputs": [],
   "source": [
    "title_clear_re = re.compile(r'\\s\\([\\s\\S]*') # remove year in title\n",
    "year_re = re.compile(r'\\d{4}(?!\\w)') # year in YYYY format\n",
    "p_year_re = re.compile(r'\\(\\d{4}\\)') # year in parentheses (YYYY)\n",
    "sbd_re = re.compile(r'(?<=\\.|\\n)')   # sentence boundary detection\n",
    "ner_re = re.compile(r'\\s*\\(\\d{4}\\)') # movie titles search\n",
    "tokenize_re = re.compile(r'(?<!vs)[,.]?[\\s.]+') # simple tokinizer\n",
    "ner_vocabulary = {}"
   ]
  },
  {
   "cell_type": "code",
   "execution_count": 3,
   "metadata": {},
   "outputs": [],
   "source": [
    "def get_dbpedia_data(actor: str) -> dict:\n",
    "    \"Returns a dictionary of movie titles and year released\"\n",
    "    \n",
    "    sparql_request = r'''\n",
    "        PREFIX dbo: <http://dbpedia.org/ontology/>\n",
    "        PREFIX res:  <http://dbpedia.org/resource/>\n",
    "        PREFIX rdfs: <http://www.w3.org/2000/01/rdf-schema#>\n",
    "        SELECT DISTINCT ?movie ?year\n",
    "        WHERE {\n",
    "            ?uri dbo:starring res:''' + actor + r'''.\n",
    "                OPTIONAL {?uri dct:subject ?cat . \n",
    "                          ?cat rdfs:label ?year . \n",
    "                          FILTER (regex (?year, '\\\\d+ films', 'i'))} .\n",
    "            ?uri rdfs:label ?movie .\n",
    "                FILTER (lang(?movie) = 'en')\n",
    "        }\n",
    "    '''\n",
    "    dbpedia_api = 'https://dbpedia.org/sparql?'\n",
    "    dbpedia_query = dbpedia_api + urlencode({'query': sparql_request.strip(),\n",
    "                                         'format': 'application/sparql-results+json'})\n",
    "    \n",
    "    movies = {}\n",
    "    response = requests.get(dbpedia_query)\n",
    "    for movie in response.json()['results']['bindings']:\n",
    "        title = title_clear_re.sub('', movie['movie']['value'])\n",
    "        year = None\n",
    "        if 'year' in movie:\n",
    "            match = year_re.match(movie['year']['value'])\n",
    "            if match:\n",
    "                year = match.group(0)\n",
    "        movies[title] = year\n",
    "    return movies"
   ]
  },
  {
   "cell_type": "code",
   "execution_count": 4,
   "metadata": {},
   "outputs": [],
   "source": [
    "def get_wiki_data(actor: str) -> (str, list):\n",
    "    \"Returns text of the wiki page and a list of movie titles\"\n",
    "    \n",
    "    wikipedia_api = 'https://en.wikipedia.org/api/rest_v1/'\n",
    "    wikipedia_query = wikipedia_api + 'page/html/' + actor\n",
    "    \n",
    "    response = requests.get(wikipedia_query)\n",
    "    response_html = response.text[:response.text.find('<h2 id=\"References\">References</h2>')]\n",
    "    soup = BeautifulSoup(response_html, features=\"html.parser\")\n",
    "    \n",
    "    return soup.text, sorted(set([a.text for a in soup.find_all('a', {'title': True}) if 'film)' in a.attrs['title']]))"
   ]
  },
  {
   "cell_type": "code",
   "execution_count": 5,
   "metadata": {},
   "outputs": [],
   "source": [
    "def sentence_boundary_detection(text: str) -> list:\n",
    "    # this bit here may generate an error if you're using python 3.6 or older.\n",
    "    # older versions of re.split() did not allow empty sub-strings to be returned\n",
    "    return [s.strip() for s in sbd_re.split(text) if s.strip()]\n",
    "\n",
    "def tokenize(text: str) -> list:\n",
    "    return [t for t in tokenize_re.split(text) if t]\n",
    "\n",
    "def is_NE(text: str) -> bool:\n",
    "    return text[0].isupper() and (text[-1].islower() or text[-1].isdigit() or len(text) == 1)\n",
    "\n",
    "def is_year(text: str) -> bool:\n",
    "    return year_re.match(text) is not None\n",
    "\n",
    "def is_p_year(text: str) -> bool:\n",
    "    return p_year_re.match(text) is not None"
   ]
  },
  {
   "cell_type": "code",
   "execution_count": 6,
   "metadata": {},
   "outputs": [],
   "source": [
    "def build_ner_vocabulary(titles: set) -> dict:\n",
    "    tree = {}\n",
    "    for t in titles:\n",
    "        tokens = tokenize(t)\n",
    "        if tokens[0] not in tree:\n",
    "            tree[tokens[0]] = [tokens]\n",
    "        else:\n",
    "            tree[tokens[0]].append(tokens)\n",
    "    return tree"
   ]
  },
  {
   "cell_type": "markdown",
   "metadata": {},
   "source": [
    "There are two basic patterns for mentioning a year of release in a sentence:\n",
    "- a year metioned once in a sentence, it is applicable for all movies listed in the sentence;\n",
    "- a movie title is immediately followed by a year in parentheses.\n"
   ]
  },
  {
   "cell_type": "code",
   "execution_count": 7,
   "metadata": {},
   "outputs": [],
   "source": [
    "def get_movies_from_sentence(sentence: str) -> dict:\n",
    "    \"Returns a dictionary of movie titles and year released found in a sentence\"\n",
    "    \n",
    "    movies = {}\n",
    "    default_year = None\n",
    "    tokens = tokenize(sentence)\n",
    "    i = 0\n",
    "    while i < len(tokens):\n",
    "        match = year_re.match(tokens[i])\n",
    "        if match:\n",
    "            default_year = match.group(0)\n",
    "        elif is_NE(tokens[i]) and tokens[i] in ner_vocabulary:\n",
    "            for title in ner_vocabulary[tokens[i]]:\n",
    "                for j, word in enumerate(title):\n",
    "                    if i + j == len(tokens) or word != tokens[i + j]:\n",
    "                        j -= 1\n",
    "                        break\n",
    "                \n",
    "                if j == len(title)-1:\n",
    "                    # a movie title is found\n",
    "                    i += j+1\n",
    "                    title_text = ' '.join(title)\n",
    "                    movies[title_text] = default_year\n",
    "\n",
    "                    # check if it's followed by year in parentheses\n",
    "                    if i < len(tokens) and is_p_year(tokens[i]):\n",
    "                        movies[title_text] = tokens[i][1:-1]\n",
    "                    break\n",
    "        i += 1\n",
    "        \n",
    "        # assign default sentence year to movie titles without it\n",
    "        if default_year and movies:\n",
    "            for title, year in movies.items():\n",
    "                if not year:\n",
    "                    movies[title] = default_year\n",
    "    \n",
    "    return movies"
   ]
  },
  {
   "cell_type": "code",
   "execution_count": 8,
   "metadata": {},
   "outputs": [],
   "source": [
    "def get_movies_from_text(text: str) -> dict:\n",
    "    \"Returns a dictionary of movie titles and year released found in a text\"\n",
    "    \n",
    "    all_movies = {}\n",
    "    sentences = sentence_boundary_detection(text)\n",
    "    for s in sentences:\n",
    "        movies = get_movies_from_sentence(s)\n",
    "        for title, year in movies.items():\n",
    "            if title not in all_movies or not all_movies[title]:\n",
    "                all_movies[title] = year\n",
    "    \n",
    "    return all_movies"
   ]
  },
  {
   "cell_type": "code",
   "execution_count": 15,
   "metadata": {},
   "outputs": [],
   "source": [
    "def get_dbpedia_and_wiki(actor: str):\n",
    "    \n",
    "    dbpedia_movies = get_dbpedia_data(actor)\n",
    "    text_wiki, list_wiki = get_wiki_data(actor)\n",
    "    \n",
    "    global ner_vocabulary\n",
    "    ner_vocabulary = build_ner_vocabulary(set(dbpedia_movies.keys()) | set(list_wiki))\n",
    "    wiki_movies = get_movies_from_text(text_wiki)\n",
    "    \n",
    "    return dbpedia_movies, wiki_movies"
   ]
  },
  {
   "cell_type": "code",
   "execution_count": 30,
   "metadata": {},
   "outputs": [],
   "source": [
    "dbpedia_movies, wiki_movies = get_dbpedia_and_wiki('Christian_Bale')"
   ]
  },
  {
   "cell_type": "code",
   "execution_count": 31,
   "metadata": {},
   "outputs": [
    {
     "data": {
      "text/plain": [
       "{'Equilibrium': '2002',\n",
       " 'Laurel Canyon': '2002',\n",
       " 'Reign of Fire': '2002',\n",
       " 'The New World': '2005',\n",
       " 'Harsh Times': '2005',\n",
       " 'The Machinist': '2004',\n",
       " 'Rescue Dawn': '2006',\n",
       " \"I'm Not There\": '2007',\n",
       " '3:10 to Yuma': '2007',\n",
       " 'Terminator Salvation': '2009',\n",
       " 'The Fighter': '2010',\n",
       " 'Out of the Furnace': '2013',\n",
       " 'American Hustle': '2013',\n",
       " 'The Promise': '2016',\n",
       " 'Knight of Cups': '2015',\n",
       " 'The Big Short': '2015',\n",
       " 'Mio in the Land of Faraway': '1987',\n",
       " 'Empire of the Sun': '1987',\n",
       " 'Henry V': '1989',\n",
       " 'Newsies': '1992',\n",
       " 'Prince of Jutland': '1993',\n",
       " 'Swing Kids': '1993',\n",
       " 'Little Women': '1994',\n",
       " 'Pocahontas': '1995',\n",
       " 'Metroland': '1997',\n",
       " 'Velvet Goldmine': '1998',\n",
       " 'All the Little Animals': '1998',\n",
       " \"A Midsummer Night's Dream\": '1999',\n",
       " 'Shaft': '2000',\n",
       " 'American Psycho': '2000',\n",
       " \"Captain Corelli's Mandolin\": '2001',\n",
       " 'Exodus: Gods and Kings': '2014',\n",
       " 'Jungle Book': '2018',\n",
       " 'The Flowers of War': '2011',\n",
       " 'Weightless': None,\n",
       " 'The Dark Knight Trilogy': None,\n",
       " 'Hostiles': None,\n",
       " 'Treasure Island': None,\n",
       " 'Mary, Mother of Jesus': None,\n",
       " 'A Murder of Quality': None}"
      ]
     },
     "execution_count": 31,
     "metadata": {},
     "output_type": "execute_result"
    }
   ],
   "source": [
    "dbpedia_movies"
   ]
  },
  {
   "cell_type": "code",
   "execution_count": 32,
   "metadata": {},
   "outputs": [
    {
     "data": {
      "text/plain": [
       "{'Empire of the Sun': '1987',\n",
       " 'Little Women': '1994',\n",
       " 'American Psycho': '2000',\n",
       " 'The Machinist': '2004',\n",
       " 'The Dark Knight': '2005',\n",
       " 'The Prestige': '2006',\n",
       " 'Terminator Salvation': '2009',\n",
       " 'Public Enemies': '2009',\n",
       " 'The Fighter': '2010',\n",
       " 'American Hustle': '2013',\n",
       " 'The Big Short': '2015',\n",
       " 'Vice': '2018',\n",
       " 'Mio in the Land of Faraway': '1986',\n",
       " 'Henry V': '1989',\n",
       " 'Treasure Island': '1990',\n",
       " 'Newsies': None,\n",
       " 'Swing Kids': None,\n",
       " 'Pocahontas': '1995',\n",
       " 'Velvet Goldmine': '1997',\n",
       " \"A Midsummer Night's Dream\": '1999',\n",
       " 'The Beach': None,\n",
       " 'The Rules of Attraction': None,\n",
       " 'Shaft': '2000',\n",
       " \"Captain Corelli's Mandolin\": None,\n",
       " 'All the Little Animals': None,\n",
       " 'Laurel Canyon': '2002',\n",
       " 'Prince of Jutland': '1994',\n",
       " 'Reign of Fire': None,\n",
       " 'Equilibrium': '2002',\n",
       " \"Howl's Moving Castle\": None,\n",
       " 'Harsh Times': '2005',\n",
       " 'The New World': None,\n",
       " 'Rescue Dawn': None,\n",
       " \"I'm Not There\": None,\n",
       " 'W': None,\n",
       " 'The Flowers of War': '2010',\n",
       " 'Out of the Furnace': '2013',\n",
       " 'Knight of Cups': None,\n",
       " 'The Promise': '2016',\n",
       " 'Hostiles': '2017'}"
      ]
     },
     "execution_count": 32,
     "metadata": {},
     "output_type": "execute_result"
    }
   ],
   "source": [
    "wiki_movies"
   ]
  },
  {
   "cell_type": "markdown",
   "metadata": {},
   "source": [
    "### 3. Results evaluation"
   ]
  },
  {
   "cell_type": "markdown",
   "metadata": {},
   "source": [
    "Since neither DBpedia nor Wiki bio-page contains full and comprehensive data on actor's movies I decided to settle with the two metrics:\n",
    "- _agreeableness_ between the two sources;\n",
    "- _scrupulousness_ - a share of movie titles with release year mentioned."
   ]
  },
  {
   "cell_type": "code",
   "execution_count": 25,
   "metadata": {},
   "outputs": [],
   "source": [
    "def agreeableness(dict1: dict, dict2: dict) -> float:\n",
    "    matches = 0\n",
    "    for key, value in dict1.items():\n",
    "        if key in dict2:\n",
    "            if dict1[key] == dict2[key]:\n",
    "                matches += 1\n",
    "            else:\n",
    "                matches += 0.9\n",
    "    return matches / (len(dict1) + len(dict2)) * 2"
   ]
  },
  {
   "cell_type": "code",
   "execution_count": 26,
   "metadata": {},
   "outputs": [],
   "source": [
    "def scrupulousness(dict1: dict) -> float:\n",
    "    count = 0\n",
    "    for key, value in dict1.items():\n",
    "        if value:\n",
    "            count += 1\n",
    "    return count / len(dict1)"
   ]
  },
  {
   "cell_type": "code",
   "execution_count": 42,
   "metadata": {},
   "outputs": [
    {
     "name": "stdout",
     "output_type": "stream",
     "text": [
      "\n",
      "\u001b[1mChristian Bale\u001b[0m\n",
      "DBpedia: movie titles = 40, scrupulousness = 0.85\n",
      "Wikipedia: movie titles = 40, scrupulousness = 0.68\n",
      "agreeableness = 0.76\n",
      "\n",
      "\u001b[1mMatthew McConaughey\u001b[0m\n",
      "DBpedia: movie titles = 36, scrupulousness = 0.92\n",
      "Wikipedia: movie titles = 39, scrupulousness = 0.82\n",
      "agreeableness = 0.83\n",
      "\n",
      "\u001b[1mEdward Norton\u001b[0m\n",
      "DBpedia: movie titles = 20, scrupulousness = 0.9\n",
      "Wikipedia: movie titles = 27, scrupulousness = 0.96\n",
      "agreeableness = 0.79\n"
     ]
    }
   ],
   "source": [
    "actors = ['Christian_Bale', 'Matthew_McConaughey', 'Edward_Norton']\n",
    "for actor in actors:\n",
    "    print(f\"\\n\\u001b[1m{actor.replace('_', ' ')}\\u001b[0m\")\n",
    "    dbpedia_movies, wiki_movies = get_dbpedia_and_wiki(actor)\n",
    "    print(f'DBpedia: movie titles = {len(dbpedia_movies)}, scrupulousness = {scrupulousness(dbpedia_movies):.2}')\n",
    "    print(f'Wikipedia: movie titles = {len(wiki_movies)}, scrupulousness = {scrupulousness(wiki_movies):.2}')\n",
    "    print(f'agreeableness = {agreeableness(dbpedia_movies, wiki_movies):.2}')                                           "
   ]
  },
  {
   "cell_type": "markdown",
   "metadata": {},
   "source": []
  }
 ],
 "metadata": {
  "kernelspec": {
   "display_name": "Python 3",
   "language": "python",
   "name": "python3"
  },
  "language_info": {
   "codemirror_mode": {
    "name": "ipython",
    "version": 3
   },
   "file_extension": ".py",
   "mimetype": "text/x-python",
   "name": "python",
   "nbconvert_exporter": "python",
   "pygments_lexer": "ipython3",
   "version": "3.7.3"
  }
 },
 "nbformat": 4,
 "nbformat_minor": 2
}
