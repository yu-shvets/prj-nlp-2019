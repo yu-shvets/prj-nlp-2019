{
 "cells": [
  {
   "cell_type": "markdown",
   "metadata": {},
   "source": [
    "### 5. Частота типів колокацій"
   ]
  },
  {
   "cell_type": "markdown",
   "metadata": {},
   "source": [
    "У якості додаткового завдання вирішив побудувати частотну таблицю усіх **типів** залежностей у корпусі."
   ]
  },
  {
   "cell_type": "code",
   "execution_count": 2,
   "metadata": {},
   "outputs": [],
   "source": [
    "import sys\n",
    "from collections import Counter\n",
    "import spacy\n",
    "\n",
    "nlp = spacy.load('en_core_web_lg')\n",
    "collocation_counter = Counter()\n",
    "collocation_distance = Counter()"
   ]
  },
  {
   "cell_type": "code",
   "execution_count": 3,
   "metadata": {},
   "outputs": [],
   "source": [
    "with open('blog2008.txt') as fo:\n",
    "    lines = fo.readlines()"
   ]
  },
  {
   "cell_type": "markdown",
   "metadata": {},
   "source": [
    "⚠️ The code snippet below may take up to a half an hour to complete ⚠️"
   ]
  },
  {
   "cell_type": "code",
   "execution_count": 4,
   "metadata": {
    "scrolled": true
   },
   "outputs": [
    {
     "name": "stdout",
     "output_type": "stream",
     "text": [
      "303993 from 303994"
     ]
    }
   ],
   "source": [
    "for i, line in enumerate(lines):\n",
    "    doc = nlp(line)\n",
    "    for token in doc:\n",
    "        key = f'{token.head.pos_}\\t{token.pos_}\\t{token.dep_}'\n",
    "        collocation_counter[key] += 1\n",
    "        collocation_distance[key] += token.i - token.head.i\n",
    "    sys.stdout.write(f'\\r{i} from {len(lines)}')\n",
    "    sys.stdout.flush()"
   ]
  },
  {
   "cell_type": "code",
   "execution_count": 5,
   "metadata": {
    "scrolled": true
   },
   "outputs": [],
   "source": [
    "with open('02_5_Collocations-Extra_Result.txt', 'w+') as fw:\n",
    "    for key, value in collocation_counter.items():\n",
    "        fw.write(f'{key}\\t{value}\\t{collocation_distance[key]}\\n')"
   ]
  },
  {
   "cell_type": "markdown",
   "metadata": {},
   "source": [
    "#### Результат"
   ]
  },
  {
   "cell_type": "markdown",
   "metadata": {},
   "source": [
    "1. Типи зв'язків і їх ймовірність між різними POS:"
   ]
  },
  {
   "cell_type": "markdown",
   "metadata": {},
   "source": [
    "<img src=\"02_5_Collocations-Extra_Result.png\">\n",
    "\n",
    "Легенда:\n",
    "\n",
    "`aux -1.5 31%`\n",
    "\n",
    "`aux` - тип зв'язку<br>\n",
    "`-1.5` - середня відстань між словами (<0 - залежне слово ліворуч, >0 - праворуч)<br>\n",
    "`31%` - відсоток серед усіх колокацій даної пари POS-POS"
   ]
  },
  {
   "cell_type": "markdown",
   "metadata": {},
   "source": [
    "2. Типи зв'язків і ймовірності POS, які їх утворюють:"
   ]
  },
  {
   "cell_type": "markdown",
   "metadata": {},
   "source": [
    "<img src=\"02_5_Collocations-Extra_Result_2.png\">"
   ]
  }
 ],
 "metadata": {
  "kernelspec": {
   "display_name": "Python 3",
   "language": "python",
   "name": "python3"
  },
  "language_info": {
   "codemirror_mode": {
    "name": "ipython",
    "version": 3
   },
   "file_extension": ".py",
   "mimetype": "text/x-python",
   "name": "python",
   "nbconvert_exporter": "python",
   "pygments_lexer": "ipython3",
   "version": "3.6.8"
  }
 },
 "nbformat": 4,
 "nbformat_minor": 2
}
