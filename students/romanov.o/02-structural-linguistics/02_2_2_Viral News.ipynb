{
 "cells": [
  {
   "cell_type": "markdown",
   "metadata": {},
   "source": [
    "### 2.2. Вірусні новини"
   ]
  },
  {
   "cell_type": "code",
   "execution_count": 1,
   "metadata": {},
   "outputs": [],
   "source": [
    "import spacy\n",
    "nlp = spacy.load('en_core_web_lg')"
   ]
  },
  {
   "cell_type": "code",
   "execution_count": 2,
   "metadata": {},
   "outputs": [],
   "source": [
    "# loads a simplified version of the original SentiWordNet_3.0\n",
    "import re\n",
    "import collections\n",
    "\n",
    "PosDict = collections.Counter()\n",
    "NegDict = collections.Counter()\n",
    "\n",
    "with open('SentiWordNet_3_Simplified_.txt') as fo:\n",
    "    lines = fo.readlines()\n",
    "    \n",
    "for line in lines:\n",
    "    fields = [field.strip() for field in re.split(r'\\t+', line)]\n",
    "    try: POS_word, pos_score, neg_score = fields\n",
    "    except: raise ValueError(f'Line formatted incorrectly: {line}\\n')\n",
    "    pos_score = float(pos_score)\n",
    "    neg_score = float(neg_score)\n",
    "    if pos_score: PosDict[POS_word] = pos_score\n",
    "    if neg_score: NegDict[POS_word] = neg_score"
   ]
  },
  {
   "cell_type": "markdown",
   "metadata": {},
   "source": [
    "#### Іменовані сутності"
   ]
  },
  {
   "cell_type": "code",
   "execution_count": 3,
   "metadata": {},
   "outputs": [],
   "source": [
    "def contains_NE(doc) -> bool:\n",
    "    \"checks the presence of named entities in doc\"\n",
    "    \n",
    "    has_NE = False\n",
    "    for ent in doc.ents:\n",
    "        # GPE are excluded as they appear in almost every title\n",
    "        if ent.label_ in ['MONEY','NORP','PERSON','PRODUCT','WORK_OF_ART','LAW']:\n",
    "            has_NE = True\n",
    "            break\n",
    "    \n",
    "    return has_NE"
   ]
  },
  {
   "cell_type": "markdown",
   "metadata": {},
   "source": [
    "#### Емоційне забарвлення"
   ]
  },
  {
   "cell_type": "code",
   "execution_count": 4,
   "metadata": {},
   "outputs": [],
   "source": [
    "def sentiment(doc) -> (float, float):\n",
    "    \"returns positive and negative scores for doc\"\n",
    "    \n",
    "    pos_score: int = 0\n",
    "    neg_score: int = 0\n",
    "\n",
    "    for token in doc:\n",
    "        if token.pos_ in ['ADJ', 'ADV', 'NOUN', 'VERB']:\n",
    "            POS_word = token.pos_+'_'+token.text.lower()\n",
    "            pos_score += PosDict[POS_word]\n",
    "            neg_score += NegDict[POS_word]\n",
    "    \n",
    "    return pos_score, neg_score"
   ]
  },
  {
   "cell_type": "markdown",
   "metadata": {},
   "source": [
    "#### Ступені порівняння"
   ]
  },
  {
   "cell_type": "code",
   "execution_count": 5,
   "metadata": {},
   "outputs": [],
   "source": [
    "def contains_superlative(doc) -> bool:\n",
    "    \"checks for comparative or superlative adjectives\"\n",
    "    \n",
    "    has_superlative = False\n",
    "    for token in doc:\n",
    "        if token.tag_ in ['JJR', 'JJS']:\n",
    "            has_superlative = True\n",
    "            break\n",
    "            \n",
    "    return has_superlative"
   ]
  },
  {
   "cell_type": "markdown",
   "metadata": {},
   "source": [
    "#### Розрахунок"
   ]
  },
  {
   "cell_type": "code",
   "execution_count": 6,
   "metadata": {},
   "outputs": [],
   "source": [
    "with open('examiner-headlines.txt') as fo:\n",
    "    titles = fo.readlines()\n",
    "\n",
    "NE_count: int = 0\n",
    "superlative_count: int = 0\n",
    "emotional_count: int = 0\n",
    "viral_count: int = 0\n",
    "\n",
    "most_positive_titles = []\n",
    "most_negative_titles = []\n",
    "most_viral_titles = []\n",
    "\n",
    "for title in titles:\n",
    "    doc = nlp(title)\n",
    "    \n",
    "    viral_score: int = 0\n",
    "    \n",
    "    # 1. named entities\n",
    "    if contains_NE(doc):\n",
    "        NE_count += 1\n",
    "        viral_score += 1\n",
    "    \n",
    "    # 2. sentiment\n",
    "    pos_score, neg_score = sentiment(doc)\n",
    "    if pos_score > 1.2 or neg_score > 1.2:\n",
    "        emotional_count += 1\n",
    "    if pos_score > 2: most_positive_titles.append(title)\n",
    "    if neg_score >=1.8 and neg_score < 2: most_negative_titles.append(title)\n",
    "    viral_score += pos_score + neg_score\n",
    "    \n",
    "    # 3. comparative or superlative\n",
    "    if contains_superlative(doc):\n",
    "        superlative_count += 1\n",
    "        viral_score += 0.5\n",
    "\n",
    "    # 4. is it viral?\n",
    "    if viral_score > 2:\n",
    "        viral_count += 1\n",
    "    if viral_score > 3.2:\n",
    "        most_viral_titles.append(title)"
   ]
  },
  {
   "cell_type": "markdown",
   "metadata": {},
   "source": [
    "#### Статистика"
   ]
  },
  {
   "cell_type": "code",
   "execution_count": 7,
   "metadata": {},
   "outputs": [
    {
     "name": "stdout",
     "output_type": "stream",
     "text": [
      "Viral titles: 399 (8.0%)\n",
      "Titles containing:\n",
      "- potentially viral NEs: 1939 (38.8%)\n",
      "- highly emotional words: 200 (4.0%)\n",
      "- comparative or superlative adjectives: 195 (3.9%)\n"
     ]
    }
   ],
   "source": [
    "print(f'Viral titles: {viral_count} ({viral_count/len(titles)*100:.1f}%)')\n",
    "print(f'Titles containing:')\n",
    "print(f'- potentially viral NEs: {NE_count} ({NE_count/len(titles)*100:.1f}%)')\n",
    "print(f'- highly emotional words: {emotional_count} ({emotional_count/len(titles)*100}%)')\n",
    "print(f'- comparative or superlative adjectives: {superlative_count} ({superlative_count/len(titles)*100}%)')"
   ]
  },
  {
   "cell_type": "markdown",
   "metadata": {},
   "source": [
    "#### ⚡️ Most viral titles:"
   ]
  },
  {
   "cell_type": "code",
   "execution_count": 8,
   "metadata": {},
   "outputs": [
    {
     "name": "stdout",
     "output_type": "stream",
     "text": [
      "∙ Tweety: Adorable hound mix pup is out of time at high-kill upstate shelter\n",
      "∙ Not just for breakfast! Fun ways to enjoy Barbara's gluten-free cereals\n",
      "∙ Best exercises for sexy, shapely, and lean legs\n",
      "∙ It's time for HBO to force Floyd Jr's hand: Either press him to fight or kick him to the curb (pg 2)\n",
      "∙ Historical indie Christian film 'Alone Yet Not Alone' in select theaters today\n",
      "∙ Jennifer Lopez and Pitbull attract lowest common denominator in 'Dance Again'\n",
      "∙ Democrats cannot seem to catch a break in good news for November\n",
      "∙ Black Ferguson men protect white business owner's store with AR-15s: Loyalty\n",
      "∙ von Kármán Lecture - CATASTROPHE and earth's evolution: when bad things happen to good planets\n",
      "∙ Hams: Shy but sweet Siamese beauty is running out of time at high-kill shelter\n",
      "∙ 10 ways to get 'lucky' in love on St. Paddys after infidelity\n",
      "∙ Approach life with mildness, gentleness of spirit, and humility\n",
      "∙ Commitment to health with natural beauty products; Sweet potato eye mask\n",
      "∙ Glenn Beck: Obama can 'get away with murder because he's likable and he's black'\n",
      "∙ Fowler: 2-year-old Bassett mix with the cutest face is out of time at SC shelter\n",
      "∙ Teen Mom: Final season 'For the Best' recap\n"
     ]
    }
   ],
   "source": [
    "for title in most_viral_titles:\n",
    "    print(f'∙ {title.strip()}')"
   ]
  },
  {
   "cell_type": "markdown",
   "metadata": {},
   "source": [
    "#### 🙂 Most positive titles:"
   ]
  },
  {
   "cell_type": "code",
   "execution_count": 9,
   "metadata": {},
   "outputs": [
    {
     "name": "stdout",
     "output_type": "stream",
     "text": [
      "+ Senior care workshops: Center for Elders' Independence offers free senior health series\n",
      "+ Best exercises for sexy, shapely, and lean legs\n",
      "+ The Beach Huts are a great way to enjoy our beautiful LI beaches and dine on quality local seafood\n",
      "+ Beautiful hair, Beautiful skin, Beautiful brains!\n",
      "+ Nothing Til Blood signs with Strike First Records, releases first music video\n",
      "+ Hams: Shy but sweet Siamese beauty is running out of time at high-kill shelter\n",
      "+ Approach life with mildness, gentleness of spirit, and humility\n",
      "+ Country Fried Rock gives you good music for a great cause\n",
      "+ Commitment to health with natural beauty products; Sweet potato eye mask\n",
      "+ The truth, the whole truth and nothing but the truth\n",
      "+ Teen Mom: Final season 'For the Best' recap\n"
     ]
    }
   ],
   "source": [
    "for title in most_positive_titles:\n",
    "    print(f'+ {title.strip()}')"
   ]
  },
  {
   "cell_type": "markdown",
   "metadata": {},
   "source": [
    "#### ☹️ Most negative titles:"
   ]
  },
  {
   "cell_type": "code",
   "execution_count": 10,
   "metadata": {},
   "outputs": [
    {
     "name": "stdout",
     "output_type": "stream",
     "text": [
      "- The loss of a dog's companion can cause mourning and depression\n",
      "- Illegal alien cop killer has extensive rap sheet, reports watchdog group\n",
      "- Gopher: Beautiful male pit, heartworm negative, sits on death row at GCACS\n",
      "- Historical indie Christian film 'Alone Yet Not Alone' in select theaters today\n",
      "- Dangerous Medicine: social media, bad advice and natural medicines\n",
      "- Hero dog saves 10-year-old dog buried alive during walk with owner\n",
      "- Philly dog owners: Protect your pups from parvo\n",
      "- Be aware of a plant that is most dangerous to pets like your sweet Chihuahua dog\n"
     ]
    }
   ],
   "source": [
    "for title in most_negative_titles:\n",
    "    print(f'- {title.strip()}')"
   ]
  }
 ],
 "metadata": {
  "kernelspec": {
   "display_name": "Python 3",
   "language": "python",
   "name": "python3"
  },
  "language_info": {
   "codemirror_mode": {
    "name": "ipython",
    "version": 3
   },
   "file_extension": ".py",
   "mimetype": "text/x-python",
   "name": "python",
   "nbconvert_exporter": "python",
   "pygments_lexer": "ipython3",
   "version": "3.6.8"
  }
 },
 "nbformat": 4,
 "nbformat_minor": 2
}
