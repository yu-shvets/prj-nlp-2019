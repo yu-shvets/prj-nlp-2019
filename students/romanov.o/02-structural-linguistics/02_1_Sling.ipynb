{
 "cells": [
  {
   "cell_type": "markdown",
   "metadata": {},
   "source": [
    "#### 1. Ланцюжок походження:"
   ]
  },
  {
   "cell_type": "markdown",
   "metadata": {},
   "source": [
    "- атиповий: (а + (тип + овий))\n",
    "- мореплавання: (море + (плавати + ння))\n",
    "- оподаткувати: (о + ((по + дати) + ок) + увати)\n",
    "- перевтілитися: (пере + ((в + (тіло) + ити) + ся))\n",
    "- схилившись: ((с + хилити) + вшись))\n",
    "- підсніжник: (під + (сніг) + жник)"
   ]
  },
  {
   "cell_type": "markdown",
   "metadata": {},
   "source": [
    "#### 2. SnowballStem для спільнокореневих слів"
   ]
  },
  {
   "cell_type": "markdown",
   "metadata": {},
   "source": [
    "1. truth, truthful, truthfulness, countertruth, untruthful, truthology\n",
    "-> truth, truth, truth, countertruth, untruth, trutholog\n",
    "\n",
    "2. flaw, flaws, flawed, flawless, flawlessness, flawlessly\n",
    "-> flaw, flaw, flaw, flawless, flawless, flawless\n",
    "\n",
    "3. лес, лесной, лесник, лесничий, лесничество, пролесье\n",
    "-> лес, лесн, лесник, леснич, лесничеств, пролес\n",
    "\n",
    "4. окно, окошко, подоконник, оконный, окнище\n",
    "-> окн, окошк, подоконник, окон, окнищ"
   ]
  },
  {
   "cell_type": "markdown",
   "metadata": {},
   "source": [
    "###### Спостереження:\n",
    "\n",
    "[http://snowballstem.org/demo.html]\n",
    "\n",
    "\n",
    "1. В англійській мові гарно обробляються дієслова, прикметники і прислівники.\n",
    "Прикметники з _-less_ та іменники з _counter-_ залишаються без змін, ймовірно, щоб врахувати протилежне значення таких слів.\n",
    "\n",
    "\n",
    "2. Для російської працює незадовільно.<br>\n",
    "Схоже, алгоритм просто прибрає закінчення слів."
   ]
  },
  {
   "cell_type": "markdown",
   "metadata": {},
   "source": [
    "#### 3. Частина мови виділеного слова і зв'язок до його батька"
   ]
  },
  {
   "cell_type": "markdown",
   "metadata": {},
   "source": [
    "1. We can {but} hope that everything will be fine.\n",
    ": `CONJ, cc(can, but)`\n",
    "\n",
    "2. It's sad {but} true.\n",
    ": `CONJ, cc(sad, but)`\n",
    "\n",
    "3. Jack brings nothing {but} trouble.\n",
    ": `ADP, prep(nothing, but)`\n",
    "\n",
    "4. {As} we were talking, I realised how to solve the issue.\n",
    ": `ADP, mark(talking, as)`\n",
    "\n",
    "5. This hot dog isn't {as} big as usual.\n",
    ": `ADV advmod(big, as)`\n",
    "\n",
    "6. This hot dog isn't as big {as} usual.\n",
    ": `ADP prep(big, as)`\n",
    "\n",
    "7. This hot dog isn't as big {as} I expected.\n",
    ": `ADP mark(expected, as)`\n",
    "\n",
    "8. I work {as} a teacher.\n",
    ": `ADP, prep(work, as)`\n",
    "\n",
    "9. Let's do it this {way}!\n",
    ": `NOUN, dobj(do, way)`\n",
    "\n",
    "10. This is {way} too much!\n",
    ": `ADV advmod(much, way)`\n",
    "\n",
    "11. The prices are going {down}.\n",
    ": `ADV, advmod(going, down)`\n",
    "\n",
    "12. Someone pushed him and he fell {down} the stairs.\n",
    ": `ADP, prep(fell, down)`\n",
    "\n",
    "13. I’ve been feeling rather {down} lately.\n",
    ": `ADV, advmod(feeling, down)`\n",
    "\n",
    "14. It's not easy to {down} a cup of coffee in one gulp.\n",
    ": `VERB, xcomp(is, down)`\n",
    "\n",
    "15. Bring a {down} jacket and a pair of gloves, and you'll be fine.\n",
    ": `ADJ , amod(jacket, down)`"
   ]
  },
  {
   "cell_type": "markdown",
   "metadata": {},
   "source": [
    "#### 4. Частина мови виділеного слова і зв'язок до його батька "
   ]
  },
  {
   "cell_type": "markdown",
   "metadata": {},
   "source": [
    "1. Рада міністрів Європейського союзу затвердила угоду про спрощений порядок видачі {віз} для України.\n",
    ": `NOUN, dobj(видачі, віз)`\n",
    "\n",
    "2. Батько Себастьяна {віз} на санях їх театральний гурт до Львова.\n",
    ": `VERB, root(ROOT, віз)`\n",
    "\n",
    "3. А ще дивний елемент інтер’єру – {віз} із продукцією одного з херсонських виробників.\n",
    ": `NOUN, appos(елемент, віз)`\n",
    "\n",
    "4. У цю мить {повз} Євгена пролетів останній вагон товарняка.\n",
    ": `ADP, prep(пролетів, повз)`\n",
    "\n",
    "5. Кліпнув очима і побачив малого песика, який саме пробігав {повз} у бік села.\n",
    ": `ADV, advmod(пробігав, повз)`\n",
    "\n",
    "6. Степанко перестав кричати, тільки ламкий стогін {повз} йому із грудей.\n",
    ": `VERB, ccomp(кричати, повз)`\n",
    "\n",
    "7. Часу не {гай} – декларацію подай!\n",
    ": `VERB, root(ROOT, гай)`\n",
    "\n",
    "8. І коляд заспівали, і {гай} врятували.\n",
    ": `NOUN, nsubj(врятували, гай)`\n",
    "\n",
    "9. {Гай}, чи ви забулися, братове?\n",
    ": `INTJ, intj(забулися, гай)`\n",
    "\n",
    "10. Ось присіла на {край} ліжка.\n",
    ": `NOUN, pobj(на, край)`\n",
    "\n",
    "11. Поставив ту кузню не {край} дороги, як було заведено, а на Красній горі, біля Прадуба.\n",
    ": `ADP, prep(постав, край)`\n",
    "\n",
    "12. Розповідаючи про передній {край} лінґвістики, фон Лібіх, як завжди, мислив широко і глобально.\n",
    ": `NOUN, pobj(про, край)`\n",
    "\n",
    "13. Не {край} мені серце.\n",
    ": `VERB, root(ROOT, край)`\n",
    "\n",
    "14. І {щойно} тоді додаємо до борщу смажену цибулю.\n",
    ": `PART, advmod(тоді, щойно)`\n",
    "\n",
    "15. Бо {щойно} я задрімав, віддавши тіло подушці з периною, як мене розбудив поштовх у бік.\n",
    ": `ADV, advmod(задрімав, щойно)`"
   ]
  },
  {
   "cell_type": "markdown",
   "metadata": {},
   "source": [
    "#### 5. Дерево залежностей та дерево складників"
   ]
  },
  {
   "cell_type": "markdown",
   "metadata": {},
   "source": [
    "<img src=\"02_1_5_Tree.png\">"
   ]
  },
  {
   "cell_type": "markdown",
   "metadata": {},
   "source": [
    "#### 6. Лексико-семантичні зв'язки"
   ]
  },
  {
   "cell_type": "markdown",
   "metadata": {},
   "source": [
    "<img src=\"02_1_6_WordNet.png\">"
   ]
  },
  {
   "cell_type": "code",
   "execution_count": null,
   "metadata": {},
   "outputs": [],
   "source": []
  }
 ],
 "metadata": {
  "kernelspec": {
   "display_name": "Python 3",
   "language": "python",
   "name": "python3"
  },
  "language_info": {
   "codemirror_mode": {
    "name": "ipython",
    "version": 3
   },
   "file_extension": ".py",
   "mimetype": "text/x-python",
   "name": "python",
   "nbconvert_exporter": "python",
   "pygments_lexer": "ipython3",
   "version": "3.7.2"
  }
 },
 "nbformat": 4,
 "nbformat_minor": 2
}
