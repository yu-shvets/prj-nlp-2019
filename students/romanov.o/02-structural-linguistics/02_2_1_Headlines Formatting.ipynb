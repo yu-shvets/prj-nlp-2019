{
 "cells": [
  {
   "cell_type": "markdown",
   "metadata": {},
   "source": [
    "### 2.1. Форматування"
   ]
  },
  {
   "cell_type": "code",
   "execution_count": 1,
   "metadata": {},
   "outputs": [],
   "source": [
    "import spacy\n",
    "nlp = spacy.load('en')"
   ]
  },
  {
   "cell_type": "code",
   "execution_count": 2,
   "metadata": {},
   "outputs": [],
   "source": [
    "def tokenize(title: str) -> (list, int):\n",
    "    \"Returns a list of tokens and a total no. of words\"\n",
    "    \n",
    "    start_pos: int = 0\n",
    "    words_count: int = 0\n",
    "    title_tokens = []\n",
    "    \n",
    "    doc = nlp(title)\n",
    "    for token in doc:\n",
    "        # count separate words\n",
    "        if token.pos_ != 'PUNCT' and \"'\" not in token.text:\n",
    "            words_count += 1\n",
    "        title_tokens.append((token.text, token.pos_, token.dep_, words_count, token.whitespace_))\n",
    "    \n",
    "    return title_tokens, words_count"
   ]
  },
  {
   "cell_type": "code",
   "execution_count": 3,
   "metadata": {},
   "outputs": [],
   "source": [
    "def capitalize(title: str) -> str:\n",
    "    \"Capitalizes a string according to the AP guidelines\"\n",
    "    \n",
    "    title_tokens, total_words = tokenize(title)\n",
    "    \n",
    "    capitalized_first_word: bool = False\n",
    "    capitalized_last_word: bool = False\n",
    "    s: str = ''\n",
    "    \n",
    "    for (text, pos, dep, word_no, space_after) in title_tokens:\n",
    "        to_be_capitilized: bool = False\n",
    "        \n",
    "        if not capitalized_first_word and word_no == 1:\n",
    "            to_be_capitilized = True\n",
    "            capitalized_first_word = True\n",
    "        \n",
    "        if not capitalized_last_word and word_no == total_words:\n",
    "            to_be_capitilized = True\n",
    "            capitalized_last_word = True\n",
    "        \n",
    "        if pos not in ['DET', 'CCONJ', 'ADP', 'PART', 'PUNCT', 'SYM', 'X'] \\\n",
    "        and \"'\" not in text:\n",
    "            to_be_capitilized = True\n",
    "        \n",
    "        if pos == 'ADP' and dep != 'prep':\n",
    "            to_be_capitilized = True\n",
    "            \n",
    "        # spaCy tags these words as determiners in all cases\n",
    "        if text in ['this', 'these']:\n",
    "            to_be_capitilized = True\n",
    "        \n",
    "        if to_be_capitilized:\n",
    "            text = text[0].upper() + text[1:]\n",
    "        \n",
    "        s += text + space_after\n",
    "    return s"
   ]
  },
  {
   "cell_type": "code",
   "execution_count": 4,
   "metadata": {},
   "outputs": [],
   "source": [
    "with open('examiner-headlines.txt') as fo:\n",
    "    titles = fo.readlines()"
   ]
  },
  {
   "cell_type": "code",
   "execution_count": 5,
   "metadata": {},
   "outputs": [],
   "source": [
    "no_of_corrected: int = 0\n",
    "with open('examiner-headlines_FORMATTED.txt', 'w+') as fw:\n",
    "    for title in titles: \n",
    "        capitalized_title = capitalize(title) \n",
    "        fw.write(capitalized_title)\n",
    "        if capitalized_title != title:\n",
    "            no_of_corrected += 1"
   ]
  },
  {
   "cell_type": "code",
   "execution_count": 6,
   "metadata": {
    "scrolled": true
   },
   "outputs": [
    {
     "name": "stdout",
     "output_type": "stream",
     "text": [
      "4213 out of 5000 titles have been corrected.\n"
     ]
    }
   ],
   "source": [
    "print(f'{no_of_corrected} out of {len(titles)} titles have been corrected.')"
   ]
  }
 ],
 "metadata": {
  "kernelspec": {
   "display_name": "Python 3",
   "language": "python",
   "name": "python3"
  },
  "language_info": {
   "codemirror_mode": {
    "name": "ipython",
    "version": 3
   },
   "file_extension": ".py",
   "mimetype": "text/x-python",
   "name": "python",
   "nbconvert_exporter": "python",
   "pygments_lexer": "ipython3",
   "version": "3.7.2"
  }
 },
 "nbformat": 4,
 "nbformat_minor": 2
}
