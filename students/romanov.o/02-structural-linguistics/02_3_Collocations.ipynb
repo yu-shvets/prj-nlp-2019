{
 "cells": [
  {
   "cell_type": "markdown",
   "metadata": {},
   "source": [
    "### 3. Колокації"
   ]
  },
  {
   "cell_type": "markdown",
   "metadata": {},
   "source": [
    "#### 3.1. Синоніми"
   ]
  },
  {
   "cell_type": "markdown",
   "metadata": {},
   "source": [
    "\"say\", \"tell\", \"speak\", \"claim\", \"communicate\""
   ]
  },
  {
   "cell_type": "markdown",
   "metadata": {},
   "source": [
    "- inform\n",
    "- notify\n",
    "- declare\n",
    "- announce\n",
    "- narrate"
   ]
  },
  {
   "cell_type": "markdown",
   "metadata": {},
   "source": [
    "#### 3.2. Пошук прислівників"
   ]
  },
  {
   "cell_type": "code",
   "execution_count": 1,
   "metadata": {},
   "outputs": [],
   "source": [
    "import sys\n",
    "from collections import Counter\n",
    "import spacy\n",
    "\n",
    "nlp = spacy.load('en_core_web_lg')"
   ]
  },
  {
   "cell_type": "code",
   "execution_count": 2,
   "metadata": {},
   "outputs": [],
   "source": [
    "synonyms = ['say', 'tell', 'speak', 'claim', 'communicate',\n",
    "                'inform', 'notify', 'declare', 'announce', 'narrate']\n",
    "\n",
    "adv_counters = {}\n",
    "for word in synonyms:\n",
    "    adv_counters[word] = Counter()"
   ]
  },
  {
   "cell_type": "code",
   "execution_count": 3,
   "metadata": {},
   "outputs": [],
   "source": [
    "def count_adverbs_ly(text: str):\n",
    "    'counts all adverbs ending with -ly for synonyms of \"say\" in text'\n",
    "    \n",
    "    doc = nlp(text)\n",
    "    for token in doc:\n",
    "        if token.pos_ == 'VERB' and token.lemma_ in synonyms:\n",
    "            adverbs = [child.lemma_ for child in token.children\\\n",
    "                       if child.pos_ == 'ADV' and child.text.endswith('ly')]\n",
    "            for word in adverbs:\n",
    "                adv_counters[token.lemma_][word] += 1"
   ]
  },
  {
   "cell_type": "code",
   "execution_count": 4,
   "metadata": {},
   "outputs": [],
   "source": [
    "with open('blog2008.txt') as fo:\n",
    "    lines = fo.readlines()"
   ]
  },
  {
   "cell_type": "markdown",
   "metadata": {},
   "source": [
    "⚠️ The code snippet below may take up to a half an hour to complete ⚠️"
   ]
  },
  {
   "cell_type": "code",
   "execution_count": 5,
   "metadata": {
    "scrolled": true
   },
   "outputs": [
    {
     "name": "stdout",
     "output_type": "stream",
     "text": [
      "303993 from 303994"
     ]
    }
   ],
   "source": [
    "for i, line in enumerate(lines):\n",
    "    count_adverbs_ly(line)\n",
    "    sys.stdout.write(f'\\r{i} from {len(lines)}')\n",
    "    sys.stdout.flush()"
   ]
  },
  {
   "cell_type": "markdown",
   "metadata": {},
   "source": [
    "#### Результат"
   ]
  },
  {
   "cell_type": "code",
   "execution_count": 6,
   "metadata": {},
   "outputs": [
    {
     "name": "stdout",
     "output_type": "stream",
     "text": [
      "\u001b[1msay\u001b[0m: [('recently', 76), ('actually', 75), ('repeatedly', 55), ('simply', 46), ('explicitly', 39), ('publicly', 36), ('basically', 35), ('really', 31), ('only', 25), ('previously', 22)]\n",
      "\n",
      "\u001b[1mtell\u001b[0m: [('recently', 26), ('reportedly', 14), ('privately', 12), ('finally', 10), ('basically', 9), ('repeatedly', 8), ('actually', 8), ('really', 8), ('only', 8), ('simply', 8)]\n",
      "\n",
      "\u001b[1mspeak\u001b[0m: [('directly', 33), ('publicly', 15), ('only', 12), ('fiercely', 12), ('recently', 8), ('generally', 8), ('openly', 8), ('politically', 7), ('loudly', 7), ('clearly', 7)]\n",
      "\n",
      "\u001b[1mclaim\u001b[0m: [('falsely', 80), ('previously', 9), ('repeatedly', 8), ('recently', 4), ('initially', 3), ('actually', 3), ('absurdly', 3), ('credibly', 3), ('publicly', 3), ('ludicrously', 3)]\n",
      "\n",
      "\u001b[1mcommunicate\u001b[0m: [('effectively', 3), ('directly', 3), ('freely', 1), ('really', 1), ('apparently', 1), ('loudly', 1), ('hopefully', 1), ('daily', 1), ('actually', 1), ('regularly', 1)]\n",
      "\n",
      "\u001b[1minform\u001b[0m: [('fully', 4), ('personally', 3), ('accurately', 2), ('actually', 2), ('snidely', 1), ('merely', 1), ('quietly', 1), ('factly', 1), ('truthfully', 1), ('recently', 1)]\n",
      "\n",
      "\u001b[1mnotify\u001b[0m: [('properly', 1)]\n",
      "\n",
      "\u001b[1mdeclare\u001b[0m: [('publicly', 13), ('falsely', 4), ('suddenly', 4), ('recently', 4), ('officially', 3), ('openly', 3), ('proudly', 3), ('triumphantly', 3), ('ominously', 2), ('famously', 2)]\n",
      "\n",
      "\u001b[1mannounce\u001b[0m: [('recently', 15), ('officially', 11), ('publicly', 8), ('early', 5), ('proudly', 4), ('openly', 3), ('previously', 3), ('shortly', 3), ('quickly', 3), ('newly', 3)]\n",
      "\n",
      "\u001b[1mnarrate\u001b[0m: []\n",
      "\n"
     ]
    }
   ],
   "source": [
    "for word in synonyms:\n",
    "    print(f'\\u001b[1m{word}\\u001b[0m: {adv_counters[word].most_common(10)}\\n')"
   ]
  }
 ],
 "metadata": {
  "kernelspec": {
   "display_name": "Python 3",
   "language": "python",
   "name": "python3"
  },
  "language_info": {
   "codemirror_mode": {
    "name": "ipython",
    "version": 3
   },
   "file_extension": ".py",
   "mimetype": "text/x-python",
   "name": "python",
   "nbconvert_exporter": "python",
   "pygments_lexer": "ipython3",
   "version": "3.6.8"
  }
 },
 "nbformat": 4,
 "nbformat_minor": 2
}
