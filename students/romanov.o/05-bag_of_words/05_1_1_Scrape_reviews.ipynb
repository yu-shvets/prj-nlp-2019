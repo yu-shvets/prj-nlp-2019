{
 "cells": [
  {
   "cell_type": "code",
   "execution_count": 1,
   "metadata": {},
   "outputs": [],
   "source": [
    "import json\n",
    "import requests\n",
    "from bs4 import BeautifulSoup\n",
    "from langdetect import detect"
   ]
  },
  {
   "cell_type": "code",
   "execution_count": 2,
   "metadata": {},
   "outputs": [],
   "source": [
    "base_url = 'https://rozetka.com.ua/ua/mobile-phones/c80003/' #mobile"
   ]
  },
  {
   "cell_type": "code",
   "execution_count": 3,
   "metadata": {},
   "outputs": [],
   "source": [
    "def download_html(link: str, page: int = 1):\n",
    "    response = requests.get(link+'page='+str(page))\n",
    "    return BeautifulSoup(response.text, 'html.parser')\n",
    "\n",
    "def get_number_of_pages(soup):\n",
    "    pages = soup.find_all('span', class_ = 'paginator-catalog-l-i-active')\n",
    "    if pages:\n",
    "        return int(pages[-1].text)\n",
    "    else:\n",
    "        return 1"
   ]
  },
  {
   "cell_type": "code",
   "execution_count": 4,
   "metadata": {},
   "outputs": [
    {
     "name": "stdout",
     "output_type": "stream",
     "text": [
      "Page 100 from 100"
     ]
    }
   ],
   "source": [
    "all_links = set()\n",
    "\n",
    "def find_links(url: str, page: int = 1):\n",
    "    global all_links\n",
    "    soup = download_html(url, page)\n",
    "    for t in soup.find_all('div', class_ = 'g-i-tile-i-title'):\n",
    "        all_links.add(t.a.get('href'))\n",
    "    return soup\n",
    "    \n",
    "soup = find_links(base_url)\n",
    "pages = get_number_of_pages(soup)\n",
    "for page in range(2, pages + 1):\n",
    "    print(f'\\rPage {page} from {pages}', end='')\n",
    "    find_links(base_url, page)"
   ]
  },
  {
   "cell_type": "code",
   "execution_count": 5,
   "metadata": {},
   "outputs": [],
   "source": [
    "with open('rozetka_mobile_index.txt', 'w+') as fw:\n",
    "    for l in all_links:\n",
    "        fw.write(l+'\\n')"
   ]
  },
  {
   "cell_type": "code",
   "execution_count": 6,
   "metadata": {},
   "outputs": [],
   "source": [
    "uk_reviews = []\n",
    "\n",
    "def find_reviews(url: str, page: int = 1):\n",
    "    \"find all reviews on a page\"\n",
    "    \n",
    "    global uk_reviews\n",
    "    \n",
    "    soup = download_html(url + 'comments/', page)\n",
    "    reviews = soup.find_all('div', {'itemprop': 'review'})\n",
    "    for r in reviews:\n",
    "        rating = r.find('span', class_ = 'g-rating-stars-i')\n",
    "        if rating:\n",
    "            rating = int(rating.get('content'))\n",
    "\n",
    "        comment = r.find('div', class_ = 'pp-review-text')\n",
    "        if comment:\n",
    "            comment = comment.text\\\n",
    "            .strip()\\\n",
    "            .replace('\\n\\n\\n', '\\n')\\\n",
    "            .replace('Переваги:', '+')\\\n",
    "            .replace('Недоліки:', '-')\n",
    "\n",
    "        if rating and len(comment) > 3:\n",
    "            try:\n",
    "                if detect(comment) == 'uk':\n",
    "                    uk_reviews.append({'Comment': comment, 'Rating': rating})\n",
    "            except: pass\n",
    "    return soup"
   ]
  },
  {
   "cell_type": "code",
   "execution_count": 7,
   "metadata": {},
   "outputs": [
    {
     "name": "stdout",
     "output_type": "stream",
     "text": [
      "Item 3011 / 3012, page 10 / 10, reviews: 6025"
     ]
    }
   ],
   "source": [
    "for i, link in enumerate(all_links):\n",
    "    print(f'\\rItem {i} / {len(all_links)}, page 1 / {pages}, reviews: {len(uk_reviews)}', end = '')\n",
    "    soup = find_reviews(link)\n",
    "    pages = get_number_of_pages(soup)\n",
    "    \n",
    "    for page in range(2, pages + 1):\n",
    "        print(f'\\rItem {i} / {len(all_links)}, page {page} / {pages}, reviews: {len(uk_reviews)}', end = '')\n",
    "        find_reviews(link, page)"
   ]
  },
  {
   "cell_type": "code",
   "execution_count": 8,
   "metadata": {},
   "outputs": [],
   "source": [
    "with open('rozetka_mobile_reviews.json', 'w+') as fw:\n",
    "    json.dump(uk_reviews, fw, ensure_ascii=False)"
   ]
  },
  {
   "cell_type": "code",
   "execution_count": null,
   "metadata": {},
   "outputs": [],
   "source": []
  }
 ],
 "metadata": {
  "kernelspec": {
   "display_name": "Python 3",
   "language": "python",
   "name": "python3"
  },
  "language_info": {
   "codemirror_mode": {
    "name": "ipython",
    "version": 3
   },
   "file_extension": ".py",
   "mimetype": "text/x-python",
   "name": "python",
   "nbconvert_exporter": "python",
   "pygments_lexer": "ipython3",
   "version": "3.7.3"
  }
 },
 "nbformat": 4,
 "nbformat_minor": 2
}
