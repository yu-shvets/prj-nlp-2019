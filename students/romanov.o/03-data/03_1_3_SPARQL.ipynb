{
 "cells": [
  {
   "cell_type": "markdown",
   "metadata": {},
   "source": [
    "### SPARQL"
   ]
  },
  {
   "cell_type": "markdown",
   "metadata": {},
   "source": [
    "A query to collect all relations for every individual person bord in my home town Rivne:"
   ]
  },
  {
   "cell_type": "markdown",
   "metadata": {},
   "source": [
    "```\n",
    "select ?person, ?property, ?value\n",
    " where {\n",
    "?person a dbo:Person .\n",
    "?person dbo:birthPlace dbr:Rivne .\n",
    "?person ?property ?value .\n",
    "}\n",
    "order by ?person```"
   ]
  },
  {
   "cell_type": "markdown",
   "metadata": {},
   "source": [
    "2. Description for individuals born in Rivne from dbpedia"
   ]
  },
  {
   "cell_type": "markdown",
   "metadata": {},
   "source": [
    "```\n",
    "describe ?person\n",
    "where {\n",
    "?person a dbo:Person ;\n",
    "        dbo:birthPlace dbr:Rivne .\n",
    "}```"
   ]
  },
  {
   "cell_type": "markdown",
   "metadata": {},
   "source": [
    "3. The query lists relations of individuals with other individuals:"
   ]
  },
  {
   "cell_type": "markdown",
   "metadata": {},
   "source": [
    "```\n",
    "select ?person_a ?relation ?person_b\n",
    "where {\n",
    "?person_a a dbo:Person .\n",
    "?person_b a dbo:Person .\n",
    "?person_a ?relation ?person_b .\n",
    "minus { ?person_a owl:sameAs [] }\n",
    "minus { ?person_a owl:differentFrom []}\n",
    "minus { ?person_a dbo:currentMember []}\n",
    "}```"
   ]
  },
  {
   "cell_type": "code",
   "execution_count": null,
   "metadata": {},
   "outputs": [],
   "source": []
  }
 ],
 "metadata": {
  "kernelspec": {
   "display_name": "Python 3",
   "language": "python",
   "name": "python3"
  },
  "language_info": {
   "codemirror_mode": {
    "name": "ipython",
    "version": 3
   },
   "file_extension": ".py",
   "mimetype": "text/x-python",
   "name": "python",
   "nbconvert_exporter": "python",
   "pygments_lexer": "ipython3",
   "version": "3.7.2"
  }
 },
 "nbformat": 4,
 "nbformat_minor": 2
}
