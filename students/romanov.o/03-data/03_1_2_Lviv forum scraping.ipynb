{
 "cells": [
  {
   "cell_type": "markdown",
   "metadata": {},
   "source": [
    "### [Lviv forum](http://forum.lvivport.com) scraping"
   ]
  },
  {
   "cell_type": "code",
   "execution_count": 1,
   "metadata": {},
   "outputs": [],
   "source": [
    "import requests\n",
    "from bs4 import BeautifulSoup "
   ]
  },
  {
   "cell_type": "code",
   "execution_count": 2,
   "metadata": {},
   "outputs": [],
   "source": [
    "base_url = 'http://forum.lvivport.com/'\n",
    "forum_url = 'forums/velodorizhka.92/'"
   ]
  },
  {
   "cell_type": "code",
   "execution_count": 3,
   "metadata": {},
   "outputs": [],
   "source": [
    "def get_threads(forum_url: str) -> dict:\n",
    "    \"returns a dictionary of all threads of a particular forum\"\n",
    "    \n",
    "    threads = {}\n",
    "    for page in range(1,1000):\n",
    "        response = requests.get(base_url+forum_url+'page-'+str(page))\n",
    "        soup = BeautifulSoup(response.text, 'html.parser')\n",
    "        for t in soup.find_all('a', {'class':'PreviewTooltip'}):\n",
    "            threads[t['href']] = t.text\n",
    "            # print(t.text,'\\t\\t',t['href']) #.text.strip()\n",
    "        if len(response.history) and response.history[0].status_code!=301:\n",
    "            break\n",
    "    return threads"
   ]
  },
  {
   "cell_type": "code",
   "execution_count": 4,
   "metadata": {},
   "outputs": [],
   "source": [
    "def get_messages(thread_url: str) -> []:\n",
    "    \"returns a list of all meessages of a particular thread\"\n",
    "    \n",
    "    messages = []\n",
    "    for page in range(1,1000):\n",
    "        response = requests.get(base_url+thread_url+'page-'+str(page))\n",
    "        \n",
    "        if len(response.history) and response.history[0].status_code!=301:\n",
    "            break\n",
    "        print('\\r', page, end='')\n",
    "        \n",
    "        soup = BeautifulSoup(response.text, 'html.parser')\n",
    "        for t in soup.find_all('article'):\n",
    "            # eliminate certain tags\n",
    "            for r in t.find_all(['script', 'div', 'span']):\n",
    "                r.extract()\n",
    "            messages.append(t.text.strip())\n",
    "        \n",
    "    \n",
    "    return messages"
   ]
  },
  {
   "cell_type": "code",
   "execution_count": 5,
   "metadata": {},
   "outputs": [],
   "source": [
    "threads = get_threads(forum_url)"
   ]
  },
  {
   "cell_type": "code",
   "execution_count": 6,
   "metadata": {
    "scrolled": false
   },
   "outputs": [
    {
     "name": "stdout",
     "output_type": "stream",
     "text": [
      "\n",
      "\u001b[1mВелосипед у місті\u001b[0m\n",
      " 27\n",
      "\u001b[1mПродам велосипед (з коментарями і історією)\u001b[0m\n",
      " 1\n",
      "\u001b[1mПродам велосипед\u001b[0m\n",
      " 1\n",
      "\u001b[1mНа велосипедах з дитиною через Карпати (і навколо світу)\u001b[0m\n",
      " 1\n",
      "\u001b[1mНе хочу машину! Пересідаю на ровер!\u001b[0m\n",
      " 9\n",
      "\u001b[1mШолом or not шолом?\u001b[0m\n",
      " 3\n",
      "\u001b[1mвибираємо велосипед\u001b[0m\n",
      " 11\n",
      "\u001b[1mВага велосипеда\u001b[0m\n",
      " 1\n",
      "\u001b[1mЛьвівські роверисти\u001b[0m\n",
      " 3\n",
      "\u001b[1mВеломагазини і веломайстерні Львова\u001b[0m\n",
      " 4\n",
      "\u001b[1mЩо воно таке? - Велосипеди марки Cyclone\u001b[0m\n",
      " 1\n",
      "\u001b[1mLviv Bike Expo Forum 2018\u001b[0m\n",
      " 1\n",
      "\u001b[1mВелосипедне кріплення на авто\u001b[0m\n",
      " 1\n",
      "\u001b[1mВсеукраїнський Велодень\u001b[0m\n",
      " 3\n",
      "\u001b[1mЕлектровел\u001b[0m\n",
      " 1\n",
      "\u001b[1mПодорож до Європи\u001b[0m\n",
      " 1\n",
      "\u001b[1mОфіційний Реєстр Викрадених Велосипедів\u001b[0m\n",
      " 1\n",
      "\u001b[1mРемонт велосипеда\u001b[0m\n",
      " 2\n",
      "\u001b[1mВелодоріжки\u001b[0m\n",
      " 2\n",
      "\u001b[1mКомпанія\u001b[0m\n",
      " 2\n",
      "\u001b[1mДе купити не дорогу велофару?\u001b[0m\n",
      " 2\n",
      "\u001b[1mВінницькі роверисти\u001b[0m\n",
      " 1\n",
      "\u001b[1mВкрали велосипед!\u001b[0m\n",
      " 1\n",
      "\u001b[1mПродам файні гріпси з замками\u001b[0m\n",
      " 1\n",
      "\u001b[1mЛісова велотраса на Пасічній\u001b[0m\n",
      " 1\n",
      "\u001b[1mПродам велосипед Bulls comp 4.5\u001b[0m\n",
      " 1\n",
      "\u001b[1mСвіт навиворіт\u001b[0m\n",
      " 1\n",
      "\u001b[1mВсі на веломарафон :)\u001b[0m\n",
      " 1\n",
      "\u001b[1mУ Львові відбудуться велосипедні змагання з крос-кантрі\u001b[0m\n",
      " 1\n",
      "\u001b[1mВикрадено велосипед ARDIC compas\u001b[0m\n",
      " 1\n",
      "\u001b[1mДопоможіть знайти викрадений велосипед\u001b[0m\n",
      " 1\n",
      "\u001b[1mЧи готові ви заробити на свому велосипеді трохи грошенят?\u001b[0m\n",
      " 1\n",
      "\u001b[1mРозкладний велосипед\u001b[0m\n",
      " 1\n",
      "\u001b[1mПродам велосипеди та запчастини для радянських велосипедів ХВЗ\u001b[0m\n",
      " 1\n",
      "\u001b[1mПрокат Велосипедів\u001b[0m\n",
      " 1\n",
      "\u001b[1mУ Львові презентували міську схему велодоріжок\u001b[0m\n",
      " 2\n",
      "\u001b[1mBMX Змагання 5 Листопада\u001b[0m\n",
      " 1\n",
      "\u001b[1mПерший Всельвівський Велопарад Дівчат!\u001b[0m\n",
      " 1\n",
      "\u001b[1mПродам два новых польских велосипеда Milly Mally\u001b[0m\n",
      " 1\n",
      "\u001b[1mВелоперегони Знесіння 2010\u001b[0m\n",
      " 1\n",
      "\u001b[1mПродам велосипед\u001b[0m\n",
      " 1\n",
      "\u001b[1mПродаю ровер\u001b[0m\n",
      " 2\n",
      "\u001b[1mвелосипедне місто\u001b[0m\n",
      " 10\n",
      "\u001b[1mпродам велосыпед\u001b[0m\n",
      " 1"
     ]
    }
   ],
   "source": [
    "for i, (url, title) in enumerate(threads.items()):\n",
    "    print(f'\\n\\033[1m{title}\\033[0m')\n",
    "    messages = get_messages(url)\n",
    "    with open(f'03_1_2_output/03_1_2_{i}.txt', 'w+') as fw:\n",
    "        fw.write(title+'\\n')\n",
    "        fw.write('=======\\n')\n",
    "        fw.write('\\n\\n'.join(messages))\n",
    "\n",
    "    "
   ]
  },
  {
   "cell_type": "code",
   "execution_count": null,
   "metadata": {},
   "outputs": [],
   "source": []
  }
 ],
 "metadata": {
  "kernelspec": {
   "display_name": "Python 3",
   "language": "python",
   "name": "python3"
  },
  "language_info": {
   "codemirror_mode": {
    "name": "ipython",
    "version": 3
   },
   "file_extension": ".py",
   "mimetype": "text/x-python",
   "name": "python",
   "nbconvert_exporter": "python",
   "pygments_lexer": "ipython3",
   "version": "3.7.2"
  }
 },
 "nbformat": 4,
 "nbformat_minor": 2
}
