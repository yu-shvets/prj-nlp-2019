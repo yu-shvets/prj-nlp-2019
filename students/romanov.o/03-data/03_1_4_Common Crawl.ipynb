{
 "cells": [
  {
   "cell_type": "markdown",
   "metadata": {},
   "source": [
    "### Common Crawl statistics"
   ]
  },
  {
   "cell_type": "markdown",
   "metadata": {},
   "source": [
    "##### Refrences\n",
    "* List of index files: https://commoncrawl.s3.amazonaws.com/crawl-data/CC-MAIN-2019-09/cc-index.paths.gz\n",
    "* Index: https://commoncrawl.s3.amazonaws.com/cc-index/collections/CC-MAIN-2019-09/indexes/cdx-00100.gz (0.8Gb)\n",
    "* WARC file: https://commoncrawl.s3.amazonaws.com/crawl-data/CC-MAIN-2019-09/segments/1550247482347.44/warc/CC-MAIN-20190217172628-20190217194628-00620.warc.gz (1.0Gb)\n",
    "* [The WARC Format 1.1](http://iipc.github.io/warc-specifications/specifications/warc-format/warc-1.1/)"
   ]
  },
  {
   "cell_type": "code",
   "execution_count": 1,
   "metadata": {},
   "outputs": [],
   "source": [
    "import gzip\n",
    "import re\n",
    "from collections import Counter\n",
    "import json"
   ]
  },
  {
   "cell_type": "code",
   "execution_count": 2,
   "metadata": {},
   "outputs": [],
   "source": [
    "re_host = re.compile(r'(?<=:\\/\\/)[^\\/]+')\n",
    "re_top = re.compile(r'\\w+\\s*\\.?$')\n",
    "re_charset = re.compile(r'((?<=charset=[\"'+r\"'])|(?<=charset=))[\\w\\d-]+\", re.IGNORECASE)\n",
    "re_notags = re.compile(r'<[^>]*>')"
   ]
  },
  {
   "cell_type": "code",
   "execution_count": 3,
   "metadata": {},
   "outputs": [],
   "source": [
    "hosts = Counter()\n",
    "tops = Counter()\n",
    "languages = Counter()\n",
    "\n",
    "warc_type = ''\n",
    "resp_type = ''\n",
    "encoding = 'utf-8'\n",
    "cont_length = 0\n",
    "\n",
    "\n",
    "gz = gzip.open('/Users/aromanov/Downloads/CC-MAIN-20190217172628-20190217194628-00620.warc.gz', 'r')\n",
    "\n",
    "b = gz.readline()\n",
    "l = b.decode(encoding)"
   ]
  },
  {
   "cell_type": "code",
   "execution_count": 4,
   "metadata": {},
   "outputs": [],
   "source": [
    "responses = 0\n",
    "total_length = 0\n",
    "\n",
    "while b:\n",
    "    if l.startswith('WARC/1.'):\n",
    "        warc_type = ''\n",
    "        resp_type = ''\n",
    "        encoding = 'utf-8'\n",
    "\n",
    "    elif l.startswith('WARC-Type:'):\n",
    "        warc_type = l.split(':')[1].strip()\n",
    "\n",
    "    if warc_type == 'response':\n",
    "        if l.startswith('Content-Length:'):\n",
    "            cont_length = int(l.split(':')[1].strip())\n",
    "            responses += 1\n",
    "            total_length += cont_length\n",
    "\n",
    "        elif l.startswith('WARC-Identified-Payload-Type:'):\n",
    "            resp_type = l.split(':')[1].strip()\n",
    "            gz.seek(cont_length + 2, 1)\n",
    "\n",
    "        elif l.startswith('WARC-Target-URI:'):\n",
    "            match = re_host.search(l)\n",
    "            if match:\n",
    "                host_url = match.group(0)\n",
    "                hosts[host_url] += 1\n",
    "                top_d = re_top.search(host_url).group(0)\n",
    "                tops[top_d] += 1\n",
    "\n",
    "        elif resp_type in ['text/html', 'application/xhtml+xml']:\n",
    "            # define charset of the response\n",
    "            match = re_charset.search(l)\n",
    "            if match:\n",
    "                encoding = match.group(0)\n",
    "\n",
    "    elif warc_type == 'metadata':\n",
    "        if l.startswith('languages-cld2:'):\n",
    "            j = json.loads(l[16:])\n",
    "            if 'languages' in j:\n",
    "                lang = j['languages'][0]['name']\n",
    "                languages[lang] += 1\n",
    "\n",
    "    b = gz.readline()\n",
    "    l = b.decode(encoding)"
   ]
  },
  {
   "cell_type": "code",
   "execution_count": 5,
   "metadata": {},
   "outputs": [
    {
     "name": "stdout",
     "output_type": "stream",
     "text": [
      "Total pages stored = 45025\n",
      "Average content length = 84311\n",
      "Top languages:  [('ENGLISH', 19341), ('RUSSIAN', 3803), ('GERMAN', 2539), ('Japanese', 2390), ('FRENCH', 2071), ('Chinese', 2006), ('SPANISH', 1839), ('ITALIAN', 1062), ('PORTUGUESE', 966), ('DUTCH', 746), ('POLISH', 728), ('CZECH', 465), ('ChineseT', 411), ('TURKISH', 379), ('INDONESIAN', 362), ('VIETNAMESE', 354), ('SWEDISH', 334), ('Korean', 322), ('PERSIAN', 291), ('ARABIC', 285)]\n",
      "Top-level domains:  [('com', 20679), ('ru', 2557), ('org', 2403), ('net', 1900), ('de', 1791), ('uk', 1087), ('jp', 955), ('it', 745), ('fr', 713), ('info', 637), ('pl', 628), ('nl', 606), ('br', 527), ('cz', 455), ('ua', 444), ('au', 443), ('cn', 427), ('es', 377), ('se', 316), ('eu', 313)]\n",
      "Top hosts:  [('stat.ripe.net', 12), ('www.tumblr.com', 12), ('alwafd.news', 11), ('www.galaxus.ch', 11), ('www.deviantart.com', 10), ('500px.com', 9), ('www.aljazeera.com', 9), ('www.urdupoint.com', 9), ('forums.ubi.com', 8), ('www.elperiodico.com', 8)]\n"
     ]
    }
   ],
   "source": [
    "print('Total pages stored =', responses)\n",
    "print('Average content length =', int(total_length/responses))\n",
    "print('Top languages: ', languages.most_common(20))\n",
    "print('Top-level domains: ', tops.most_common(20))\n",
    "print('Top hosts: ', hosts.most_common(10))"
   ]
  },
  {
   "cell_type": "code",
   "execution_count": null,
   "metadata": {},
   "outputs": [],
   "source": []
  }
 ],
 "metadata": {
  "kernelspec": {
   "display_name": "Python 3",
   "language": "python",
   "name": "python3"
  },
  "language_info": {
   "codemirror_mode": {
    "name": "ipython",
    "version": 3
   },
   "file_extension": ".py",
   "mimetype": "text/x-python",
   "name": "python",
   "nbconvert_exporter": "python",
   "pygments_lexer": "ipython3",
   "version": "3.7.3"
  }
 },
 "nbformat": 4,
 "nbformat_minor": 2
}
