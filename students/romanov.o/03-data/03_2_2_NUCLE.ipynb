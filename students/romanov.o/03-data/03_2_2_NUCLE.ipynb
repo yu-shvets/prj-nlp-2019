{
 "cells": [
  {
   "cell_type": "markdown",
   "metadata": {},
   "source": [
    "### NUCLE Error Corpus"
   ]
  },
  {
   "cell_type": "code",
   "execution_count": 1,
   "metadata": {},
   "outputs": [],
   "source": [
    "import re\n",
    "from collections import Counter"
   ]
  },
  {
   "cell_type": "code",
   "execution_count": 2,
   "metadata": {},
   "outputs": [],
   "source": [
    "with open('official-2014.combined-withalt.m2') as fr:\n",
    "    lines = fr.readlines()"
   ]
  },
  {
   "cell_type": "code",
   "execution_count": 3,
   "metadata": {},
   "outputs": [],
   "source": [
    "corr_type_re = re.compile(r'(?<=\\|\\|\\|).+?(?=\\|\\|\\|)')\n",
    "\n",
    "max_annotators = 5\n",
    "\n",
    "def zero_matrix():\n",
    "    return [[0.0000001 for x in range(max_annotators)] for y in range(max_annotators)]\n",
    "\n",
    "def print_matrix(matrix, sign=''):\n",
    "    print('\\n'.join(['\\t'.join([str(y)+sign for y in x]) for x in matrix]))"
   ]
  },
  {
   "cell_type": "code",
   "execution_count": 4,
   "metadata": {},
   "outputs": [],
   "source": [
    "def compute_stat(correction_type=None):\n",
    "    \n",
    "    agreed_annotations = zero_matrix()\n",
    "    combined_annotations = zero_matrix()\n",
    "    sentence_total_annotations:int = 0\n",
    "    sentence_annotations = []\n",
    "    \n",
    "    def calculate_stat_for_sentence():\n",
    "        annotators_counter = Counter()\n",
    "        # calculate number of identical annotations\n",
    "        for a in sentence_annotations:\n",
    "            annotators_counter[a[0]] += 1\n",
    "            for b in sentence_annotations:\n",
    "                if a[1] == b[1]: # annotations are identical\n",
    "                    agreed_annotations[a[0]][b[0]] += 1\n",
    "\n",
    "        # calculate average combined no of annotations\n",
    "        for a_id, a_annotations in annotators_counter.items():\n",
    "            for b_id, b_annotations in annotators_counter.items():\n",
    "                combined_annotations[a_id][b_id] += (a_annotations + b_annotations)/2\n",
    "    \n",
    "    for l in lines:\n",
    "        if l.startswith('S'):\n",
    "            # calculate statistics for the previous sentence\n",
    "            calculate_stat_for_sentence()\n",
    "            sentence_annotations.clear()\n",
    "\n",
    "        elif l.startswith('A'):\n",
    "            annotator = int(l[-2:-1])\n",
    "            annotation:str = l[2:-5]\n",
    "            corr_type = corr_type_re.search(l).group(0)\n",
    "            if not correction_type or correction_type == corr_type:\n",
    "                sentence_annotations.append((annotator, annotation))\n",
    "            # print(f'Annotation: \"{annotation}\" by {annotator}')\n",
    "\n",
    "    # calculate statistics for the last sentence\n",
    "    calculate_stat_for_sentence()\n",
    "    \n",
    "    combined_percentage = [[int(agreed_annotations[a][b]/combined_annotations[a][b]*100) for a in range(max_annotators)] for b in range(max_annotators)]\n",
    "    \n",
    "    numerator = 0\n",
    "    denominator = 0\n",
    "    for a in range(max_annotators - 1):\n",
    "        for b in range(a + 1, max_annotators):\n",
    "            numerator += combined_percentage[a][b] * combined_annotations[a][b]\n",
    "            denominator += combined_annotations[a][b]\n",
    "\n",
    "    return numerator / denominator"
   ]
  },
  {
   "cell_type": "code",
   "execution_count": 5,
   "metadata": {},
   "outputs": [],
   "source": [
    "# https://github.com/andabi/deep-text-corrector/tree/master/data/conll14st-test-data\n",
    "corrections = {\n",
    "    'Vt':\t     'Verb tense',\n",
    "    'Vm':\t     'Verb modal',\n",
    "    'V0':\t     'Missing verb',\n",
    "    'Vform':\t     'Verb form',\n",
    "    'SVA':\t     'Subject-verb-agreement',\n",
    "    'ArtOrDet':     'Article or Determiner',\n",
    "    'Nn':\t     'Noun number',\n",
    "    'Npos':\t     'Noun possesive',\n",
    "    'Pform':\t     'Pronoun form',\n",
    "    'Pref':\t     'Pronoun reference',\n",
    "    'Prep':         'Preposition',\n",
    "    'Wci':\t     'Wrong collocation/idiom',\n",
    "    'Wa':\t     'Acronyms',\n",
    "    'Wform':\t     'Word form',\n",
    "    'Wtone':\t     'Tone',\n",
    "    'Srun':\t     'Runons, comma splice',\n",
    "    'Smod':\t     'Dangling modifier',\n",
    "    'Spar':\t     'Parallelism',\n",
    "    'Sfrag':\t     'Fragment',\n",
    "    'Ssub':\t     'Subordinate clause',\n",
    "    'WOinc':\t     'Incorrect sentence form',\n",
    "    'WOadv':\t     'Adverb/adjective position',\n",
    "    'Trans':\t     'Link word/phrases',\n",
    "    'Mec':\t     'Punctuation, capitalization, spelling, typos',\n",
    "    'Rloc-':\t     'Local redundancy',\n",
    "    'Cit':\t     'Citation',\n",
    "    'Others':\t     'Other errors',\n",
    "    'Um':\t     'Unclear meaning (cannot be corrected)'\n",
    "}"
   ]
  },
  {
   "cell_type": "markdown",
   "metadata": {},
   "source": [
    "#### General inter-annotator agreement"
   ]
  },
  {
   "cell_type": "code",
   "execution_count": 6,
   "metadata": {},
   "outputs": [
    {
     "name": "stdout",
     "output_type": "stream",
     "text": [
      "Weighted average of inter-annotator agreement: 35.1%\n"
     ]
    }
   ],
   "source": [
    "print(f'Weighted average of inter-annotator agreement: {compute_stat():.3}%')"
   ]
  },
  {
   "cell_type": "markdown",
   "metadata": {},
   "source": [
    "#### Specific inter-annotator agreement"
   ]
  },
  {
   "cell_type": "code",
   "execution_count": 7,
   "metadata": {},
   "outputs": [
    {
     "name": "stdout",
     "output_type": "stream",
     "text": [
      "Verb tense:\t76.46%\n",
      "Verb modal:\t58.58%\n",
      "Missing verb:\t85.29%\n",
      "Verb form:\t77.21%\n",
      "Subject-verb-agreement:\t84.3%\n",
      "Article or Determiner:\t62.74%\n",
      "Noun number:\t79.98%\n",
      "Noun possesive:\t78.39%\n",
      "Pronoun form:\t87.59%\n",
      "Pronoun reference:\t67.99%\n",
      "Preposition:\t70.96%\n",
      "Wrong collocation/idiom:\t47.31%\n",
      "Acronyms:\t100.0%\n",
      "Word form:\t72.72%\n",
      "Tone:\t83.33%\n",
      "Runons, comma splice:\t78.09%\n",
      "Dangling modifier:\t100.0%\n",
      "Parallelism:\t100.0%\n",
      "Fragment:\t100.0%\n",
      "Subordinate clause:\t76.33%\n",
      "Incorrect sentence form:\t77.8%\n",
      "Adverb/adjective position:\t88.89%\n",
      "Link word/phrases:\t60.26%\n",
      "Punctuation, capitalization, spelling, typos:\t67.71%\n",
      "Local redundancy:\t66.96%\n",
      "Citation:\t100.0%\n",
      "Other errors:\t67.37%\n",
      "Unclear meaning (cannot be corrected):\t63.03%\n"
     ]
    }
   ],
   "source": [
    "for i, corr_type in enumerate(corrections):\n",
    "    print(f'{corrections[corr_type]}:\\t{compute_stat(corr_type):.4}%')"
   ]
  }
 ],
 "metadata": {
  "kernelspec": {
   "display_name": "Python 3",
   "language": "python",
   "name": "python3"
  },
  "language_info": {
   "codemirror_mode": {
    "name": "ipython",
    "version": 3
   },
   "file_extension": ".py",
   "mimetype": "text/x-python",
   "name": "python",
   "nbconvert_exporter": "python",
   "pygments_lexer": "ipython3",
   "version": "3.7.2"
  }
 },
 "nbformat": 4,
 "nbformat_minor": 2
}
