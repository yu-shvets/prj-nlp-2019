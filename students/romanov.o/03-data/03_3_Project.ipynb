{
 "cells": [
  {
   "cell_type": "markdown",
   "metadata": {},
   "source": [
    "## Project: Collocation suggestions"
   ]
  },
  {
   "cell_type": "markdown",
   "metadata": {},
   "source": [
    "#### 1. Initial data collection"
   ]
  },
  {
   "cell_type": "markdown",
   "metadata": {},
   "source": [
    "I've started with collection of positive data.<br/>\n",
    "By now I have downloaded **3.4m** articles for the period 2000-2018 from:\n",
    "- Financial Times\n",
    "- The Economist\n",
    "- The New York Times\n",
    "- The Wall Street \n",
    "\n",
    "Typically I begin with `robots.txt` looking for sitemap xml link.\n",
    "My crawler scans, filters and then downloads links from the sitemap xml file.\n",
    "\n",
    "Most sites protect their content with paywalls. Bypassing paywalls requires several tricks like specific http-request header, clearing cookies, etc."
   ]
  },
  {
   "cell_type": "markdown",
   "metadata": {},
   "source": [
    "I store article data in PostgreSQL:"
   ]
  },
  {
   "cell_type": "markdown",
   "metadata": {},
   "source": [
    "```\n",
    "select source.name, count(a.id)\n",
    "from article_url as a\n",
    "join object as status on a.load_status_id = status.id\n",
    "join object as source on a.source_id = source.id\n",
    "where status.name = 'Completed'\n",
    "group by source.name\n",
    "```"
   ]
  },
  {
   "cell_type": "markdown",
   "metadata": {},
   "source": [
    "<table>\n",
    "<tr><th>Source</th><th>Articles</th></tr>\n",
    "<tr><td>Financial Times</td><td>682702</td></tr>\n",
    "<tr><td>The Economist</td><td>142180</td></tr>\n",
    "<tr><td>The New York Times</td><td>1766631</td></tr>\n",
    "<tr><td>The Wall Street Journal</td><td>844685</td></tr></table>"
   ]
  },
  {
   "cell_type": "markdown",
   "metadata": {},
   "source": [
    "Scraped text is stored in the file system in gz-files.\n",
    "Current size of the gziped texts is **28.4Gb**."
   ]
  },
  {
   "cell_type": "markdown",
   "metadata": {},
   "source": [
    "#### 2. Crowdsourcing"
   ]
  },
  {
   "cell_type": "markdown",
   "metadata": {},
   "source": [
    "Since positive data (good English) is in abundance, I would be most interested in collecting some negative data (examples of typical wrong collocation). The ideal case would be to receive some students' essays checked and annotated by language professionals. It seems Lang-8 Learner Corpora might be a good substitution to the real process."
   ]
  },
  {
   "cell_type": "code",
   "execution_count": null,
   "metadata": {},
   "outputs": [],
   "source": []
  }
 ],
 "metadata": {
  "kernelspec": {
   "display_name": "Python 3",
   "language": "python",
   "name": "python3"
  },
  "language_info": {
   "codemirror_mode": {
    "name": "ipython",
    "version": 3
   },
   "file_extension": ".py",
   "mimetype": "text/x-python",
   "name": "python",
   "nbconvert_exporter": "python",
   "pygments_lexer": "ipython3",
   "version": "3.7.2"
  }
 },
 "nbformat": 4,
 "nbformat_minor": 2
}
