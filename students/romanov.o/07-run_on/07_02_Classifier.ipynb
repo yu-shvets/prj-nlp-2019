{
 "cells": [
  {
   "cell_type": "code",
   "execution_count": 1,
   "metadata": {},
   "outputs": [],
   "source": [
    "import gzip\n",
    "import json\n",
    "from collections import Counter\n",
    "from sklearn.feature_extraction import DictVectorizer\n",
    "from sklearn.linear_model import LogisticRegression\n",
    "from sklearn.metrics import classification_report\n",
    "import pickle"
   ]
  },
  {
   "cell_type": "code",
   "execution_count": 2,
   "metadata": {},
   "outputs": [],
   "source": [
    "with open('run-on-test.json') as fr:\n",
    "    test = json.load(fr)"
   ]
  },
  {
   "cell_type": "code",
   "execution_count": 3,
   "metadata": {},
   "outputs": [],
   "source": [
    "y_test = [w[1] for s in test for w in s]\n",
    "x_test = [w[0] for s in test for w in s]"
   ]
  },
  {
   "cell_type": "markdown",
   "metadata": {},
   "source": [
    "#### Baseline classifier - bigrams only :)"
   ]
  },
  {
   "cell_type": "code",
   "execution_count": 4,
   "metadata": {},
   "outputs": [],
   "source": [
    "bigrams = Counter()\n",
    "with gzip.open('bigrams_v2.txt.gz') as fr:\n",
    "    for line in fr.readlines():\n",
    "        first, second, count = line.decode().strip().split('\\t')\n",
    "        bigrams[(first, second)] = int(count)"
   ]
  },
  {
   "cell_type": "code",
   "execution_count": 5,
   "metadata": {},
   "outputs": [],
   "source": [
    "y_predicted = []\n",
    "for s in test:\n",
    "    for i in range(len(s)-1):\n",
    "        first = s[i][0].lower()\n",
    "        second = s[i+1][0].lower()\n",
    "        if first.isalpha() \\\n",
    "        and second.isalpha():\n",
    "            y_predicted.append( not bigrams[(first, second)] )\n",
    "        else:\n",
    "            y_predicted.append(False)\n",
    "    y_predicted.append(False)"
   ]
  },
  {
   "cell_type": "code",
   "execution_count": 6,
   "metadata": {},
   "outputs": [
    {
     "name": "stdout",
     "output_type": "stream",
     "text": [
      "              precision    recall  f1-score   support\n",
      "\n",
      "       False       0.97      0.94      0.96      4542\n",
      "        True       0.12      0.25      0.17       155\n",
      "\n",
      "   micro avg       0.92      0.92      0.92      4697\n",
      "   macro avg       0.55      0.60      0.56      4697\n",
      "weighted avg       0.95      0.92      0.93      4697\n",
      "\n"
     ]
    }
   ],
   "source": [
    "print(classification_report(y_test, y_predicted))"
   ]
  },
  {
   "cell_type": "markdown",
   "metadata": {},
   "source": [
    "#### Training"
   ]
  },
  {
   "cell_type": "code",
   "execution_count": 7,
   "metadata": {},
   "outputs": [],
   "source": [
    "with gzip.open('run-on-train-sm.json.gz', 'rt') as fr:\n",
    "    train = json.load(fr)"
   ]
  },
  {
   "cell_type": "code",
   "execution_count": 8,
   "metadata": {},
   "outputs": [],
   "source": [
    "x_train = [w[0] for s in train for w in s]\n",
    "y_train = [w[1] for s in train for w in s]"
   ]
  },
  {
   "cell_type": "code",
   "execution_count": 14,
   "metadata": {},
   "outputs": [],
   "source": [
    "def get_features(tokens):\n",
    "    features_list = []\n",
    "    for i, token in enumerate(tokens):\n",
    "        features = {}\n",
    "        for j in range(-4, 5):\n",
    "            if 0 <= i+j < len(tokens):\n",
    "                features[str(j)+'w'] = tokens[i+j].lower()\n",
    "                features[str(j)+'t'] = tokens[i+j].istitle()\n",
    "        if 0 <= i < len(tokens)-1:\n",
    "            features['bg'] = bigrams[(features['0w'], features['1w'])] > 0\n",
    "        \n",
    "        features_list.append(features)\n",
    "        \n",
    "    return features_list"
   ]
  },
  {
   "cell_type": "code",
   "execution_count": 15,
   "metadata": {},
   "outputs": [],
   "source": [
    "v = DictVectorizer()\n",
    "train_features = get_features(x_train)\n",
    "v_train = v.fit_transform(train_features)"
   ]
  },
  {
   "cell_type": "code",
   "execution_count": 16,
   "metadata": {},
   "outputs": [],
   "source": [
    "clf = LogisticRegression(random_state=0, max_iter=100, solver='liblinear').fit(v_train, y_train)"
   ]
  },
  {
   "cell_type": "markdown",
   "metadata": {},
   "source": [
    "#### Test"
   ]
  },
  {
   "cell_type": "code",
   "execution_count": 17,
   "metadata": {},
   "outputs": [],
   "source": [
    "test_features = get_features(x_test)\n",
    "v_test = v.transform(test_features)\n",
    "y_predicted = clf.predict(v_test)"
   ]
  },
  {
   "cell_type": "code",
   "execution_count": 18,
   "metadata": {},
   "outputs": [
    {
     "name": "stdout",
     "output_type": "stream",
     "text": [
      "              precision    recall  f1-score   support\n",
      "\n",
      "       False       0.99      0.99      0.99      4542\n",
      "        True       0.74      0.59      0.65       155\n",
      "\n",
      "   micro avg       0.98      0.98      0.98      4697\n",
      "   macro avg       0.86      0.79      0.82      4697\n",
      "weighted avg       0.98      0.98      0.98      4697\n",
      "\n"
     ]
    }
   ],
   "source": [
    "print (classification_report(y_test, y_predicted))"
   ]
  },
  {
   "cell_type": "code",
   "execution_count": null,
   "metadata": {},
   "outputs": [],
   "source": []
  }
 ],
 "metadata": {
  "kernelspec": {
   "display_name": "Python 3",
   "language": "python",
   "name": "python3"
  },
  "language_info": {
   "codemirror_mode": {
    "name": "ipython",
    "version": 3
   },
   "file_extension": ".py",
   "mimetype": "text/x-python",
   "name": "python",
   "nbconvert_exporter": "python",
   "pygments_lexer": "ipython3",
   "version": "3.7.3"
  }
 },
 "nbformat": 4,
 "nbformat_minor": 2
}
