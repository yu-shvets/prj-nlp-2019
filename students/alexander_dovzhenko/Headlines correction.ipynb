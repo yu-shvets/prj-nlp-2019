{
 "cells": [
  {
   "cell_type": "code",
   "execution_count": 13,
   "metadata": {
    "scrolled": true
   },
   "outputs": [],
   "source": [
    "#!python -m spacy download en_core_web_md"
   ]
  },
  {
   "cell_type": "code",
   "execution_count": 1,
   "metadata": {},
   "outputs": [],
   "source": [
    "from nltk.corpus import sentiwordnet as swn\n",
    "import spacy\n",
    "import re\n",
    "\n",
    "nlp = spacy.load('en_core_web_md')"
   ]
  },
  {
   "cell_type": "markdown",
   "metadata": {},
   "source": [
    "Read, preprocess and tokenize headlines"
   ]
  },
  {
   "cell_type": "code",
   "execution_count": 3,
   "metadata": {},
   "outputs": [],
   "source": [
    "NON_BREAKING_HYPHEN = u'\\u2011'\n",
    "\n",
    "def replace_hyphens(headline_str):\n",
    "    headline_ch_list = list(headline_str)\n",
    "    for m in re.finditer(r'[a-zA-Z]-[a-zA-Z]', headline_str):\n",
    "        headline_ch_list[m.start() + 1] = NON_BREAKING_HYPHEN\n",
    "\n",
    "    return \"\".join(headline_ch_list)"
   ]
  },
  {
   "cell_type": "code",
   "execution_count": 4,
   "metadata": {},
   "outputs": [],
   "source": [
    "with open('examiner-headlines.txt') as f:\n",
    "    headlines_strs = f.readlines()\n",
    "\n",
    "headlines_strs = [replace_hyphens(headline_str) for headline_str in headlines_strs]\n",
    "tokenized_headlines = [nlp(headline_str) for headline_str in headlines_strs]"
   ]
  },
  {
   "cell_type": "code",
   "execution_count": 44,
   "metadata": {},
   "outputs": [],
   "source": [
    "def to_upper(text, pos = 0):\n",
    "    items = list(text)\n",
    "    items[pos] = items[pos].upper()\n",
    "    return ''.join(items)\n",
    "def to_lower(text, pos = 0):\n",
    "    items = list(text)\n",
    "    items[pos] = items[pos].lower()\n",
    "    return ''.join(items)\n",
    "\n",
    "assert to_upper('kyiv') == 'Kyiv'\n",
    "assert to_upper('kyiv', 2) == 'kyIv'\n",
    "assert to_lower('Kyiv') == 'kyiv'\n",
    "assert to_lower('KyIv', 2) == 'Kyiv'"
   ]
  },
  {
   "cell_type": "code",
   "execution_count": 58,
   "metadata": {},
   "outputs": [],
   "source": [
    "def hyphen_upper(text):\n",
    "    text_parts = text.split(NON_BREAKING_HYPHEN)\n",
    "    for i, text_part in enumerate(text_parts):\n",
    "        text_parts[i] = to_upper(text_part)\n",
    "    return NON_BREAKING_HYPHEN.join(text_parts)\n",
    "\n",
    "assert hyphen_upper(u'a\\u2011a') == 'A‑A'\n",
    "assert hyphen_upper(u'ab\\u2011ab\\u2011ab') == 'Ab‑Ab‑Ab'"
   ]
  },
  {
   "cell_type": "code",
   "execution_count": 31,
   "metadata": {},
   "outputs": [],
   "source": [
    "def should_ignore(token):\n",
    "    if '\\'' in token.text:\n",
    "        return True\n",
    "    if not token.text[1:].islower():\n",
    "        return True\n",
    "    if not token.text.isalpha():\n",
    "        return True\n",
    "\n",
    "    return False\n",
    "\n",
    "assert should_ignore(nlp('CQG'))\n",
    "assert should_ignore(nlp('SimCorp'))\n",
    "assert should_ignore(nlp('2go'))\n",
    "assert should_ignore(nlp('n\\'t'))\n",
    "assert not should_ignore(nlp('word'))\n",
    "assert not should_ignore(nlp('Word'))"
   ]
  },
  {
   "cell_type": "code",
   "execution_count": 91,
   "metadata": {},
   "outputs": [
    {
     "name": "stdout",
     "output_type": "stream",
     "text": [
      "Do As You Want \n",
      "How to Use a Macbook as a Table \n",
      "As Ww \n",
      "As Ww ? \n",
      "How To U‑S Macbook \n"
     ]
    }
   ],
   "source": [
    "def correct_headline(sentence_doc):\n",
    "    corrected_str = ''\n",
    "\n",
    "    last_check_pos = len(sentence_doc) - 1\n",
    "    if sentence_doc[last_check_pos].pos_ == 'PUNCT':\n",
    "        last_check_pos -= 1\n",
    "    \n",
    "    for token in sentence_doc:\n",
    "        token_text = token.text\n",
    "        if token.pos_ in ['NOUN', 'PRON', 'VERB', 'ADJ', 'ADV', 'ADP']:\n",
    "            token_text = to_upper(token_text)\n",
    "        if token.pos_ in ['DET', 'CONJ', 'PART', 'INTJ']:\n",
    "            token_text = to_lower(token_text)\n",
    "        if token.pos_ == 'ADP' and token.dep_ == 'prep':\n",
    "            token_text = to_lower(token_text)\n",
    "\n",
    "        if token.i == 0 or token.i == last_check_pos:\n",
    "            token_text = to_upper(token_text)\n",
    "\n",
    "        if NON_BREAKING_HYPHEN in token_text:\n",
    "            token_text = hyphen_upper(token_text)\n",
    "\n",
    "        corrected_str += token_text + ' '\n",
    "    return corrected_str\n",
    "\n",
    "\n",
    "print(correct_headline(nlp('Do as you want')))\n",
    "print(correct_headline(nlp('How to use a Macbook as a table')))\n",
    "\n",
    "print(correct_headline(nlp('as ww')))\n",
    "print(correct_headline(nlp('as ww?')))\n",
    "\n",
    "print(correct_headline(nlp(u'How to u\\u2011s Macbook')))"
   ]
  },
  {
   "cell_type": "code",
   "execution_count": null,
   "metadata": {},
   "outputs": [],
   "source": []
  },
  {
   "cell_type": "code",
   "execution_count": 88,
   "metadata": {},
   "outputs": [],
   "source": [
    "def has_change(text, to_upper):\n",
    "    if to_upper:\n",
    "        return list(text)[0].islower()\n",
    "    else:\n",
    "        return list(text)[0].isupper()\n",
    "\n",
    "assert has_change('text', True)\n",
    "assert has_change('Text', False)"
   ]
  },
  {
   "cell_type": "code",
   "execution_count": 95,
   "metadata": {},
   "outputs": [],
   "source": [
    "res = []\n",
    "for headline in tokenized_headlines:\n",
    "    res += [correct_headline(headline)]"
   ]
  },
  {
   "cell_type": "code",
   "execution_count": 97,
   "metadata": {},
   "outputs": [],
   "source": [
    "with open('corrected_headlines.txt', 'w') as f:\n",
    "    for line in res:\n",
    "        f.write(line)"
   ]
  },
  {
   "cell_type": "code",
   "execution_count": null,
   "metadata": {},
   "outputs": [],
   "source": []
  }
 ],
 "metadata": {
  "kernelspec": {
   "display_name": "Python 3",
   "language": "python",
   "name": "python3"
  },
  "language_info": {
   "codemirror_mode": {
    "name": "ipython",
    "version": 3
   },
   "file_extension": ".py",
   "mimetype": "text/x-python",
   "name": "python",
   "nbconvert_exporter": "python",
   "pygments_lexer": "ipython3",
   "version": "3.7.1"
  }
 },
 "nbformat": 4,
 "nbformat_minor": 2
}
