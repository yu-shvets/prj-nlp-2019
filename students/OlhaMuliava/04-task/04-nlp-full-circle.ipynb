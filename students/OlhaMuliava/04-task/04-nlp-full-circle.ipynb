{
 "cells": [
  {
   "cell_type": "markdown",
   "metadata": {},
   "source": [
    "### Aкторка Emma Stone і фільми, в яких вона знімалась\n",
    "\n",
    "- https://en.wikipedia.org/wiki/Emma_Stone"
   ]
  },
  {
   "cell_type": "markdown",
   "metadata": {},
   "source": [
    "## Data from DBpedia"
   ]
  },
  {
   "cell_type": "code",
   "execution_count": 121,
   "metadata": {},
   "outputs": [
    {
     "data": {
      "text/html": [
       "<div>\n",
       "<style scoped>\n",
       "    .dataframe tbody tr th:only-of-type {\n",
       "        vertical-align: middle;\n",
       "    }\n",
       "\n",
       "    .dataframe tbody tr th {\n",
       "        vertical-align: top;\n",
       "    }\n",
       "\n",
       "    .dataframe thead th {\n",
       "        text-align: right;\n",
       "    }\n",
       "</style>\n",
       "<table border=\"1\" class=\"dataframe\">\n",
       "  <thead>\n",
       "    <tr style=\"text-align: right;\">\n",
       "      <th></th>\n",
       "      <th>movie</th>\n",
       "      <th>year</th>\n",
       "    </tr>\n",
       "  </thead>\n",
       "  <tbody>\n",
       "    <tr>\n",
       "      <th>0</th>\n",
       "      <td>The House Bunny</td>\n",
       "      <td>2008</td>\n",
       "    </tr>\n",
       "    <tr>\n",
       "      <th>1</th>\n",
       "      <td>Easy A</td>\n",
       "      <td></td>\n",
       "    </tr>\n",
       "    <tr>\n",
       "      <th>2</th>\n",
       "      <td>Paper Man</td>\n",
       "      <td>2009</td>\n",
       "    </tr>\n",
       "    <tr>\n",
       "      <th>3</th>\n",
       "      <td>Aloha</td>\n",
       "      <td></td>\n",
       "    </tr>\n",
       "    <tr>\n",
       "      <th>4</th>\n",
       "      <td>The Amazing Spider-Man</td>\n",
       "      <td>2012</td>\n",
       "    </tr>\n",
       "    <tr>\n",
       "      <th>5</th>\n",
       "      <td>La La Land</td>\n",
       "      <td></td>\n",
       "    </tr>\n",
       "    <tr>\n",
       "      <th>6</th>\n",
       "      <td>Gangster Squad</td>\n",
       "      <td></td>\n",
       "    </tr>\n",
       "    <tr>\n",
       "      <th>7</th>\n",
       "      <td>Battle of the Sexes</td>\n",
       "      <td></td>\n",
       "    </tr>\n",
       "    <tr>\n",
       "      <th>8</th>\n",
       "      <td>Crazy, Stupid, Love</td>\n",
       "      <td></td>\n",
       "    </tr>\n",
       "    <tr>\n",
       "      <th>9</th>\n",
       "      <td>Marmaduke</td>\n",
       "      <td></td>\n",
       "    </tr>\n",
       "    <tr>\n",
       "      <th>10</th>\n",
       "      <td>The Croods</td>\n",
       "      <td></td>\n",
       "    </tr>\n",
       "    <tr>\n",
       "      <th>11</th>\n",
       "      <td>Irrational Man</td>\n",
       "      <td></td>\n",
       "    </tr>\n",
       "    <tr>\n",
       "      <th>12</th>\n",
       "      <td>Magic in the Moonlight</td>\n",
       "      <td></td>\n",
       "    </tr>\n",
       "    <tr>\n",
       "      <th>13</th>\n",
       "      <td>Ghosts of Girlfriends Past</td>\n",
       "      <td></td>\n",
       "    </tr>\n",
       "    <tr>\n",
       "      <th>14</th>\n",
       "      <td>Movie 43</td>\n",
       "      <td></td>\n",
       "    </tr>\n",
       "  </tbody>\n",
       "</table>\n",
       "</div>"
      ],
      "text/plain": [
       "                         movie  year\n",
       "0              The House Bunny  2008\n",
       "1                       Easy A      \n",
       "2                   Paper Man   2009\n",
       "3                       Aloha       \n",
       "4      The Amazing Spider-Man   2012\n",
       "5                  La La Land       \n",
       "6               Gangster Squad      \n",
       "7         Battle of the Sexes       \n",
       "8          Crazy, Stupid, Love      \n",
       "9                   Marmaduke       \n",
       "10                  The Croods      \n",
       "11             Irrational Man       \n",
       "12      Magic in the Moonlight      \n",
       "13  Ghosts of Girlfriends Past      \n",
       "14                    Movie 43      "
      ]
     },
     "execution_count": 121,
     "metadata": {},
     "output_type": "execute_result"
    }
   ],
   "source": [
    "import pandas as pd\n",
    "from SPARQLWrapper import SPARQLWrapper, JSON\n",
    "import re\n",
    "import spacy\n",
    "import nltk\n",
    "from nltk.corpus import stopwords\n",
    "stopwords = set(stopwords.words('english'))\n",
    "\n",
    "sparql = SPARQLWrapper(\"http://dbpedia.org/sparql\")\n",
    "sparql.setQuery(\"\"\"\n",
    "    PREFIX dbo: <http://dbpedia.org/ontology/>\n",
    "    SELECT ?film ?released\n",
    "    WHERE {\n",
    "    ?film rdf:type dbo:Film .\n",
    "    ?film dbo:starring dbr:Emma_Stone .\n",
    "    OPTIONAL{?film dbo:releaseDate ?released .}\n",
    "    }\n",
    "\"\"\")\n",
    "sparql.setReturnFormat(JSON)\n",
    "results = sparql.query().convert()\n",
    "\n",
    "result_list = []\n",
    "for result in results[\"results\"][\"bindings\"]:\n",
    "\n",
    "    res = result.get(\"film\").get(\"value\")\n",
    "    \n",
    "    date = None\n",
    "    if result.get(\"released\"):\n",
    "        date = result.get(\"released\").get(\"value\")\n",
    "    \n",
    "    cut_str = res.split('/')[-1]\n",
    "    cut_str = cut_str.replace('_', ' ')\n",
    "    \n",
    "    movie_name = cut_str.split('(')[0]\n",
    "    if re.search('\\(\\d{4}', cut_str):\n",
    "        movie_year = re.search('\\(\\d{4}', cut_str).group(0)[1:]\n",
    "    elif date:\n",
    "        movie_year = date.split('-')[0]\n",
    "    else:\n",
    "        movie_year = ''\n",
    "         \n",
    "    result_list.append((movie_name, movie_year))\n",
    "               \n",
    "    \n",
    "df = pd.DataFrame(result_list, columns=['movie', 'year'])\n",
    "# df.loc[:, 'movie'] = pd.Series(df['raw'].map(lambda x: x.split('/')[-1]))\n",
    "\n",
    "df"
   ]
  },
  {
   "cell_type": "markdown",
   "metadata": {},
   "source": [
    "## Data from Wikipedia API"
   ]
  },
  {
   "cell_type": "code",
   "execution_count": 64,
   "metadata": {
    "scrolled": true
   },
   "outputs": [
    {
     "data": {
      "text/plain": [
       "Emily Jean \"Emma\" Stone (born November 6, 1988) is an American actress. The recipient of numerous accolades, including an Oscar, a BAFTA Award, and a Golden Globe Award, she was the highest-paid actress in the world in 2017. Stone has appeared in Forbes Celebrity 100 in 2013 and 2017, and was featured by Time as one of the 100 most influential people in the world.\n",
       "Born and raised in Scottsdale, Arizona, Stone began acting as a child, in a theater production"
      ]
     },
     "execution_count": 64,
     "metadata": {},
     "output_type": "execute_result"
    }
   ],
   "source": [
    "import wikipedia\n",
    "wikipedia.set_lang(\"en\")\n",
    "emma_page = wikipedia.page(\"Emma_Stone\")\n",
    "\n",
    "# Get content before the \"See also\" section\n",
    "emma_content = emma_page.content.split('== See also ==')[0]\n",
    "\n",
    "nlp = spacy.load(\"en\") #, disable=['parser', 'textcat'])\n",
    "tokens = nlp(emma_content)\n",
    "tokens[:100]"
   ]
  },
  {
   "cell_type": "code",
   "execution_count": 56,
   "metadata": {},
   "outputs": [
    {
     "data": {
      "text/plain": [
       "'Friends'"
      ]
     },
     "execution_count": 56,
     "metadata": {},
     "output_type": "execute_result"
    }
   ],
   "source": [
    "re_movie = re.compile('.*(movie|film|comedy|drama|role|musical) ([A-Z][a-z]+).*')\n",
    "re_movie.search('A brief appearance in the sex comedy Friends with Benefits (2011) reunited her with Gluck.').group(2)"
   ]
  },
  {
   "cell_type": "code",
   "execution_count": 63,
   "metadata": {
    "scrolled": false
   },
   "outputs": [
    {
     "data": {
      "text/html": [
       "<div>\n",
       "<style scoped>\n",
       "    .dataframe tbody tr th:only-of-type {\n",
       "        vertical-align: middle;\n",
       "    }\n",
       "\n",
       "    .dataframe tbody tr th {\n",
       "        vertical-align: top;\n",
       "    }\n",
       "\n",
       "    .dataframe thead th {\n",
       "        text-align: right;\n",
       "    }\n",
       "</style>\n",
       "<table border=\"1\" class=\"dataframe\">\n",
       "  <thead>\n",
       "    <tr style=\"text-align: right;\">\n",
       "      <th></th>\n",
       "      <th>movie</th>\n",
       "      <th>year</th>\n",
       "    </tr>\n",
       "  </thead>\n",
       "  <tbody>\n",
       "    <tr>\n",
       "      <th>0</th>\n",
       "      <td>Easy A</td>\n",
       "      <td>2010</td>\n",
       "    </tr>\n",
       "    <tr>\n",
       "      <th>1</th>\n",
       "      <td>The Amazing Spider-Man</td>\n",
       "      <td>2012</td>\n",
       "    </tr>\n",
       "    <tr>\n",
       "      <th>2</th>\n",
       "      <td>Birdman</td>\n",
       "      <td>2014</td>\n",
       "    </tr>\n",
       "    <tr>\n",
       "      <th>3</th>\n",
       "      <td>Cabaret</td>\n",
       "      <td>2014</td>\n",
       "    </tr>\n",
       "    <tr>\n",
       "      <th>4</th>\n",
       "      <td>La La Land</td>\n",
       "      <td>2016</td>\n",
       "    </tr>\n",
       "    <tr>\n",
       "      <th>5</th>\n",
       "      <td>The Favourite</td>\n",
       "      <td>2017</td>\n",
       "    </tr>\n",
       "    <tr>\n",
       "      <th>6</th>\n",
       "      <td>Heroes</td>\n",
       "      <td>2007</td>\n",
       "    </tr>\n",
       "    <tr>\n",
       "      <th>7</th>\n",
       "      <td>Superbad</td>\n",
       "      <td>2007</td>\n",
       "    </tr>\n",
       "    <tr>\n",
       "      <th>8</th>\n",
       "      <td>Saturday</td>\n",
       "      <td>2010</td>\n",
       "    </tr>\n",
       "    <tr>\n",
       "      <th>9</th>\n",
       "      <td>Friends with Benefits</td>\n",
       "      <td>2011</td>\n",
       "    </tr>\n",
       "    <tr>\n",
       "      <th>10</th>\n",
       "      <td>Crazy</td>\n",
       "      <td>2011</td>\n",
       "    </tr>\n",
       "    <tr>\n",
       "      <th>11</th>\n",
       "      <td>Birdman</td>\n",
       "      <td>2014</td>\n",
       "    </tr>\n",
       "    <tr>\n",
       "      <th>12</th>\n",
       "      <td>Battle</td>\n",
       "      <td>2017</td>\n",
       "    </tr>\n",
       "    <tr>\n",
       "      <th>13</th>\n",
       "      <td>Love</td>\n",
       "      <td>2015</td>\n",
       "    </tr>\n",
       "  </tbody>\n",
       "</table>\n",
       "</div>"
      ],
      "text/plain": [
       "                     movie  year\n",
       "0                  Easy A   2010\n",
       "1   The Amazing Spider-Man  2012\n",
       "2                 Birdman   2014\n",
       "3                 Cabaret   2014\n",
       "4              La La Land   2016\n",
       "5           The Favourite   2017\n",
       "6                  Heroes   2007\n",
       "7                Superbad   2007\n",
       "8                Saturday   2010\n",
       "9   Friends with Benefits   2011\n",
       "10                   Crazy  2011\n",
       "11                 Birdman  2014\n",
       "12                 Battle   2017\n",
       "13                   Love   2015"
      ]
     },
     "execution_count": 63,
     "metadata": {},
     "output_type": "execute_result"
    }
   ],
   "source": [
    "# tokens.ents\n",
    "movie_year = []\n",
    "for sent in tokens.sents:\n",
    "    \n",
    "    sent_start = sent[0].idx\n",
    "    \n",
    "    re_movie = re.compile('.*(movie|film|comedy|drama|role|musical) ([A-Z][a-z]*).*')\n",
    "    re_year = re.compile('\\d{4}')\n",
    "    year = ''\n",
    "    start_pos = 0\n",
    "    \n",
    "    if re_movie.match(sent.string):\n",
    "#         print(sent.string)\n",
    "        \n",
    "        if re_movie.search(sent.string).group(2):\n",
    "            ent_pos, _ = re_movie.search(sent.string).span(2)\n",
    "#             print(ent_pos)\n",
    "        \n",
    "        if sent.ents:\n",
    "            for ent in sent.ents:\n",
    "                for token in ent:\n",
    "#                     print(token.text, token.idx)\n",
    "#                     print(ent_pos - sent_start)\n",
    "                    if ent_pos == token.idx - sent_start:\n",
    "                        entity = ent\n",
    "                \n",
    "        if re_year.search(sent.string):\n",
    "            year = re_year.search(sent.string).group(0)\n",
    "            \n",
    "        if entity and year:\n",
    "            if not entity.string in [ent for ent, _ in movie_year]: # first mention\n",
    "                movie_year.append([entity.string, year])\n",
    "            \n",
    "        \n",
    "df_wiki =  pd.DataFrame(movie_year, columns=['movie', 'year'])\n",
    "df_wiki\n",
    "# print([ent for ent, _ in movie_year])"
   ]
  },
  {
   "cell_type": "code",
   "execution_count": 110,
   "metadata": {},
   "outputs": [
    {
     "name": "stdout",
     "output_type": "stream",
     "text": [
      "Reference:\n",
      " The House Bunny Easy A Paper Man  Aloha  The Amazing Spider-Man  La La Land  Gangster Squad Battle of the Sexes  Crazy, Stupid, Love Marmaduke  The Croods Irrational Man  Magic in the Moonlight Ghosts of Girlfriends Past Movie 43\n",
      "Hypothesis:\n",
      " Easy A  The Amazing Spider-Man Birdman  Cabaret  La La Land  The Favourite  Heroes  Superbad  Saturday  Friends with Benefits  Crazy Birdman Battle  Love \n"
     ]
    }
   ],
   "source": [
    "# Join all movie names\n",
    "reference = ' '.join(df['movie'].tolist())\n",
    "hypothesis = ' '.join(df_wiki['movie'].tolist())\n",
    "print('Reference:\\n', reference)\n",
    "print('Hypothesis:\\n', hypothesis)"
   ]
  },
  {
   "cell_type": "code",
   "execution_count": 70,
   "metadata": {},
   "outputs": [
    {
     "data": {
      "text/plain": [
       "'BLEU4: 0.6643548861507491'"
      ]
     },
     "execution_count": 70,
     "metadata": {},
     "output_type": "execute_result"
    }
   ],
   "source": [
    "BLEUscore = nltk.translate.bleu_score.sentence_bleu(reference, hypothesis, weights=(0.25, 0.25, 0.25, 0.25))\n",
    "f'BLEU4: {BLEUscore}'"
   ]
  },
  {
   "cell_type": "code",
   "execution_count": null,
   "metadata": {},
   "outputs": [],
   "source": [
    "# https://github.com/cocodataset/cocoapi\n",
    "# https://stackoverflow.com/questions/49311195/how-to-install-coco-pythonapi-in-python3"
   ]
  },
  {
   "cell_type": "code",
   "execution_count": 103,
   "metadata": {},
   "outputs": [],
   "source": [
    "# https://pypi.org/project/textmetrics/\n",
    "# https://github.com/mbforbes/textmetrics/\n",
    "# from textmetrics.main import meteor\n",
    "# meteor('olya', 'galya')"
   ]
  },
  {
   "cell_type": "markdown",
   "metadata": {},
   "source": [
    "##### Rouge = overlapping_ngrams_count / all_ngrams_count"
   ]
  },
  {
   "cell_type": "code",
   "execution_count": 183,
   "metadata": {},
   "outputs": [
    {
     "data": {
      "text/html": [
       "<div>\n",
       "<style scoped>\n",
       "    .dataframe tbody tr th:only-of-type {\n",
       "        vertical-align: middle;\n",
       "    }\n",
       "\n",
       "    .dataframe tbody tr th {\n",
       "        vertical-align: top;\n",
       "    }\n",
       "\n",
       "    .dataframe thead th {\n",
       "        text-align: right;\n",
       "    }\n",
       "</style>\n",
       "<table border=\"1\" class=\"dataframe\">\n",
       "  <thead>\n",
       "    <tr style=\"text-align: right;\">\n",
       "      <th></th>\n",
       "      <th>rouge_n</th>\n",
       "    </tr>\n",
       "  </thead>\n",
       "  <tbody>\n",
       "    <tr>\n",
       "      <th>1</th>\n",
       "      <td>0.304348</td>\n",
       "    </tr>\n",
       "    <tr>\n",
       "      <th>2</th>\n",
       "      <td>0.235294</td>\n",
       "    </tr>\n",
       "    <tr>\n",
       "      <th>3</th>\n",
       "      <td>0.177215</td>\n",
       "    </tr>\n",
       "    <tr>\n",
       "      <th>4</th>\n",
       "      <td>0.130841</td>\n",
       "    </tr>\n",
       "  </tbody>\n",
       "</table>\n",
       "</div>"
      ],
      "text/plain": [
       "    rouge_n\n",
       "1  0.304348\n",
       "2  0.235294\n",
       "3  0.177215\n",
       "4  0.130841"
      ]
     },
     "execution_count": 183,
     "metadata": {},
     "output_type": "execute_result"
    }
   ],
   "source": [
    "from nltk import ngrams\n",
    "\n",
    "def rouge(reference, hypothesis, ngrams_count):\n",
    "    \n",
    "    def get_ngrams(line, n=1):\n",
    "        ngrams_list = []\n",
    "        for n in range(1, n + 1):\n",
    "            for gram in ngrams(line.split(), n):\n",
    "                if not ' '.join(gram).lower() in stopwords:\n",
    "                    ngrams_list.append(' '.join(gram))\n",
    "        return set(ngrams_list)\n",
    "    \n",
    "    ref_ngrams = get_ngrams(reference, n=ngrams_count)\n",
    "    hypo_ngrams = get_ngrams(hypothesis, n=ngrams_count)\n",
    "    \n",
    "    overlapping_count = 0\n",
    "    for r_gram in ref_ngrams:\n",
    "        for h_gram in hypo_ngrams:\n",
    "            if r_gram == h_gram:\n",
    "                overlapping_count += 1\n",
    "    \n",
    "    all_ngrams_count = round((len(ref_ngrams) + len(hypo_ngrams))/2)\n",
    "    \n",
    "#     print(overlapping_count)\n",
    "#     print(len(hypo_ngrams))\n",
    "#     print(len(ref_ngrams))\n",
    "#     print(all_ngrams_count)\n",
    "    \n",
    "    return overlapping_count/(all_ngrams_count + 1)\n",
    "\n",
    "rouge1 = rouge(reference, hypothesis, ngrams_count=1)\n",
    "rouge2 = rouge(reference, hypothesis, ngrams_count=2)\n",
    "rouge3 = rouge(reference, hypothesis, ngrams_count=3)\n",
    "rouge4 = rouge(reference, hypothesis, ngrams_count=4)\n",
    "pd.DataFrame([rouge1, rouge2, rouge3, rouge4], columns = ['rouge_n'], index=[1,2,3,4])"
   ]
  },
  {
   "cell_type": "markdown",
   "metadata": {},
   "source": [
    "## Висновки:\n",
    "Після того як дані отримано з двох джерел, назви фільмів з'єднала в рядки. Відповдні рядки з двох джерел порівнювала за допомогою метрик. Побудувала дві метрики для оцінки отриманих даних: BLEU i ROUNGE.<br>\n",
    "1. BLEU з кількістю взятих n-grams = 4 p з вагами відповідних n-grams (0.25, 0.25, 0.25, 0.25).<br>\n",
    "Результат = 0.664<br>\n",
    "2. ROUNGE з кількістю n-grams 1, 2, 3, 4.<br>\n",
    "Зрозуміло, що кількість перекриття n-grams для метрики rouge1 (де враховується тільки unigram) найбільша по відношенню до загальної кількості.<br>\n",
    "\n",
    "#### Для проекту\n",
    "Мій проект полягає у написанні узагальнення для документа. Візьму датасет вже з розміченими даними у вигляді узагальнень.\n",
    "Метрики:\n",
    "1. BLEU4\n",
    "2. Використаю ROUNGE, але трохи модифікувану, по-перше, використаю не слова, а леми слів і поставлю ваги юніграм, біграм, триграм, чотири-грам.\n",
    "3. METEOR метрика<br>\n",
    "Вона враховує повне співпадіння слів, стеми, синоніми (за WordNet, ConceptNet наприклад)."
   ]
  },
  {
   "cell_type": "code",
   "execution_count": null,
   "metadata": {},
   "outputs": [],
   "source": []
  }
 ],
 "metadata": {
  "kernelspec": {
   "display_name": "Python 3",
   "language": "python",
   "name": "python3"
  },
  "language_info": {
   "codemirror_mode": {
    "name": "ipython",
    "version": 3
   },
   "file_extension": ".py",
   "mimetype": "text/x-python",
   "name": "python",
   "nbconvert_exporter": "python",
   "pygments_lexer": "ipython3",
   "version": "3.6.4"
  }
 },
 "nbformat": 4,
 "nbformat_minor": 2
}
