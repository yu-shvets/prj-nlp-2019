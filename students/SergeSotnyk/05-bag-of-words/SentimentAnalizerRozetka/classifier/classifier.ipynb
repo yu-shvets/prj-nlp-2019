{
 "cells": [
  {
   "cell_type": "code",
   "execution_count": 1,
   "metadata": {
    "pycharm": {
     "is_executing": false,
     "name": "#%%import utils\n"
    }
   },
   "outputs": [],
   "source": [
    "import pandas as pd\n",
    "import numpy as np\n",
    "from typing import List"
   ]
  },
  {
   "cell_type": "markdown",
   "metadata": {
    "pycharm": {}
   },
   "source": [
    "# Download CSV files"
   ]
  },
  {
   "cell_type": "code",
   "execution_count": 2,
   "metadata": {
    "pycharm": {
     "is_executing": false
    }
   },
   "outputs": [],
   "source": [
    "df_learn = pd.read_csv('rozetka_learn.csv')\n",
    "df_test = pd.read_csv('rozetka_test.csv')"
   ]
  },
  {
   "cell_type": "markdown",
   "metadata": {
    "pycharm": {}
   },
   "source": [
    "# Look on the data"
   ]
  },
  {
   "cell_type": "code",
   "execution_count": 3,
   "metadata": {
    "pycharm": {}
   },
   "outputs": [
    {
     "name": "stdout",
     "output_type": "stream",
     "text": [
      "Learn set shape: (3800, 5)\n",
      "Test set shape: (1629, 5)\n"
     ]
    }
   ],
   "source": [
    "print(f\"Learn set shape: {df_learn.shape}\")\n",
    "print(f\"Test set shape: {df_test.shape}\")"
   ]
  },
  {
   "cell_type": "code",
   "execution_count": 4,
   "metadata": {
    "pycharm": {}
   },
   "outputs": [
    {
     "data": {
      "text/html": [
       "<div>\n",
       "<style scoped>\n",
       "    .dataframe tbody tr th:only-of-type {\n",
       "        vertical-align: middle;\n",
       "    }\n",
       "\n",
       "    .dataframe tbody tr th {\n",
       "        vertical-align: top;\n",
       "    }\n",
       "\n",
       "    .dataframe thead th {\n",
       "        text-align: right;\n",
       "    }\n",
       "</style>\n",
       "<table border=\"1\" class=\"dataframe\">\n",
       "  <thead>\n",
       "    <tr style=\"text-align: right;\">\n",
       "      <th></th>\n",
       "      <th>goods_code</th>\n",
       "      <th>stars</th>\n",
       "      <th>review</th>\n",
       "      <th>author</th>\n",
       "      <th>permalink</th>\n",
       "    </tr>\n",
       "  </thead>\n",
       "  <tbody>\n",
       "    <tr>\n",
       "      <th>0</th>\n",
       "      <td>13252316</td>\n",
       "      <td>1</td>\n",
       "      <td>Шановні! Де обіцяна знижка 5% при оплаті карто...</td>\n",
       "      <td>Андрей Дмитриев</td>\n",
       "      <td>#tab=comments;id=34200034</td>\n",
       "    </tr>\n",
       "    <tr>\n",
       "      <th>1</th>\n",
       "      <td>61270053</td>\n",
       "      <td>5</td>\n",
       "      <td>Дизайн зайде не кожному, но є аналог Xiaomi Re...</td>\n",
       "      <td>Виталий Александрович</td>\n",
       "      <td>#tab=comments;id=35938497</td>\n",
       "    </tr>\n",
       "    <tr>\n",
       "      <th>2</th>\n",
       "      <td>45499672</td>\n",
       "      <td>5</td>\n",
       "      <td>колір тільки синій чи чорний теж є?</td>\n",
       "      <td>Арт Лаз</td>\n",
       "      <td>#tab=comments;id=30229184</td>\n",
       "    </tr>\n",
       "    <tr>\n",
       "      <th>3</th>\n",
       "      <td>48116526</td>\n",
       "      <td>4</td>\n",
       "      <td>Швидкий та зручний телефон, має презентабельни...</td>\n",
       "      <td>Дима Лисунов</td>\n",
       "      <td>#tab=comments;id=36726816</td>\n",
       "    </tr>\n",
       "    <tr>\n",
       "      <th>4</th>\n",
       "      <td>55379058</td>\n",
       "      <td>5</td>\n",
       "      <td>Купувався мамі на подарунок. Дуже задоволена. ...</td>\n",
       "      <td>Микола</td>\n",
       "      <td>#tab=comments;id=38966133</td>\n",
       "    </tr>\n",
       "  </tbody>\n",
       "</table>\n",
       "</div>"
      ],
      "text/plain": [
       "   goods_code  stars                                             review  \\\n",
       "0    13252316      1  Шановні! Де обіцяна знижка 5% при оплаті карто...   \n",
       "1    61270053      5  Дизайн зайде не кожному, но є аналог Xiaomi Re...   \n",
       "2    45499672      5                колір тільки синій чи чорний теж є?   \n",
       "3    48116526      4  Швидкий та зручний телефон, має презентабельни...   \n",
       "4    55379058      5  Купувався мамі на подарунок. Дуже задоволена. ...   \n",
       "\n",
       "                  author                  permalink  \n",
       "0        Андрей Дмитриев  #tab=comments;id=34200034  \n",
       "1  Виталий Александрович  #tab=comments;id=35938497  \n",
       "2                Арт Лаз  #tab=comments;id=30229184  \n",
       "3           Дима Лисунов  #tab=comments;id=36726816  \n",
       "4                 Микола  #tab=comments;id=38966133  "
      ]
     },
     "execution_count": 4,
     "metadata": {},
     "output_type": "execute_result"
    }
   ],
   "source": [
    "df_learn.head()"
   ]
  },
  {
   "cell_type": "code",
   "execution_count": 5,
   "metadata": {
    "pycharm": {}
   },
   "outputs": [
    {
     "data": {
      "text/html": [
       "<div>\n",
       "<style scoped>\n",
       "    .dataframe tbody tr th:only-of-type {\n",
       "        vertical-align: middle;\n",
       "    }\n",
       "\n",
       "    .dataframe tbody tr th {\n",
       "        vertical-align: top;\n",
       "    }\n",
       "\n",
       "    .dataframe thead th {\n",
       "        text-align: right;\n",
       "    }\n",
       "</style>\n",
       "<table border=\"1\" class=\"dataframe\">\n",
       "  <thead>\n",
       "    <tr style=\"text-align: right;\">\n",
       "      <th></th>\n",
       "      <th>goods_code</th>\n",
       "      <th>review</th>\n",
       "      <th>author</th>\n",
       "      <th>permalink</th>\n",
       "    </tr>\n",
       "    <tr>\n",
       "      <th>stars</th>\n",
       "      <th></th>\n",
       "      <th></th>\n",
       "      <th></th>\n",
       "      <th></th>\n",
       "    </tr>\n",
       "  </thead>\n",
       "  <tbody>\n",
       "    <tr>\n",
       "      <th>1</th>\n",
       "      <td>173</td>\n",
       "      <td>173</td>\n",
       "      <td>173</td>\n",
       "      <td>173</td>\n",
       "    </tr>\n",
       "    <tr>\n",
       "      <th>2</th>\n",
       "      <td>122</td>\n",
       "      <td>122</td>\n",
       "      <td>122</td>\n",
       "      <td>122</td>\n",
       "    </tr>\n",
       "    <tr>\n",
       "      <th>3</th>\n",
       "      <td>222</td>\n",
       "      <td>222</td>\n",
       "      <td>222</td>\n",
       "      <td>222</td>\n",
       "    </tr>\n",
       "    <tr>\n",
       "      <th>4</th>\n",
       "      <td>746</td>\n",
       "      <td>746</td>\n",
       "      <td>746</td>\n",
       "      <td>746</td>\n",
       "    </tr>\n",
       "    <tr>\n",
       "      <th>5</th>\n",
       "      <td>2537</td>\n",
       "      <td>2537</td>\n",
       "      <td>2537</td>\n",
       "      <td>2537</td>\n",
       "    </tr>\n",
       "  </tbody>\n",
       "</table>\n",
       "</div>"
      ],
      "text/plain": [
       "       goods_code  review  author  permalink\n",
       "stars                                       \n",
       "1             173     173     173        173\n",
       "2             122     122     122        122\n",
       "3             222     222     222        222\n",
       "4             746     746     746        746\n",
       "5            2537    2537    2537       2537"
      ]
     },
     "execution_count": 5,
     "metadata": {},
     "output_type": "execute_result"
    }
   ],
   "source": [
    "df_learn.groupby('stars').count()"
   ]
  },
  {
   "cell_type": "code",
   "execution_count": 6,
   "metadata": {
    "pycharm": {}
   },
   "outputs": [
    {
     "data": {
      "text/html": [
       "<div>\n",
       "<style scoped>\n",
       "    .dataframe tbody tr th:only-of-type {\n",
       "        vertical-align: middle;\n",
       "    }\n",
       "\n",
       "    .dataframe tbody tr th {\n",
       "        vertical-align: top;\n",
       "    }\n",
       "\n",
       "    .dataframe thead th {\n",
       "        text-align: right;\n",
       "    }\n",
       "</style>\n",
       "<table border=\"1\" class=\"dataframe\">\n",
       "  <thead>\n",
       "    <tr style=\"text-align: right;\">\n",
       "      <th></th>\n",
       "      <th>goods_code</th>\n",
       "      <th>review</th>\n",
       "      <th>author</th>\n",
       "      <th>permalink</th>\n",
       "    </tr>\n",
       "    <tr>\n",
       "      <th>stars</th>\n",
       "      <th></th>\n",
       "      <th></th>\n",
       "      <th></th>\n",
       "      <th></th>\n",
       "    </tr>\n",
       "  </thead>\n",
       "  <tbody>\n",
       "    <tr>\n",
       "      <th>1</th>\n",
       "      <td>93</td>\n",
       "      <td>93</td>\n",
       "      <td>93</td>\n",
       "      <td>93</td>\n",
       "    </tr>\n",
       "    <tr>\n",
       "      <th>2</th>\n",
       "      <td>59</td>\n",
       "      <td>59</td>\n",
       "      <td>59</td>\n",
       "      <td>59</td>\n",
       "    </tr>\n",
       "    <tr>\n",
       "      <th>3</th>\n",
       "      <td>101</td>\n",
       "      <td>101</td>\n",
       "      <td>101</td>\n",
       "      <td>101</td>\n",
       "    </tr>\n",
       "    <tr>\n",
       "      <th>4</th>\n",
       "      <td>316</td>\n",
       "      <td>316</td>\n",
       "      <td>316</td>\n",
       "      <td>316</td>\n",
       "    </tr>\n",
       "    <tr>\n",
       "      <th>5</th>\n",
       "      <td>1060</td>\n",
       "      <td>1060</td>\n",
       "      <td>1060</td>\n",
       "      <td>1060</td>\n",
       "    </tr>\n",
       "  </tbody>\n",
       "</table>\n",
       "</div>"
      ],
      "text/plain": [
       "       goods_code  review  author  permalink\n",
       "stars                                       \n",
       "1              93      93      93         93\n",
       "2              59      59      59         59\n",
       "3             101     101     101        101\n",
       "4             316     316     316        316\n",
       "5            1060    1060    1060       1060"
      ]
     },
     "execution_count": 6,
     "metadata": {},
     "output_type": "execute_result"
    }
   ],
   "source": [
    "df_test.groupby('stars').count()"
   ]
  },
  {
   "cell_type": "markdown",
   "metadata": {
    "pycharm": {}
   },
   "source": [
    "# Sentiment analizer - baseline"
   ]
  },
  {
   "cell_type": "code",
   "execution_count": 7,
   "metadata": {
    "pycharm": {}
   },
   "outputs": [
    {
     "name": "stdout",
     "output_type": "stream",
     "text": [
      "['neg', 'neg', 'ind', 'ind', 'pos']\n",
      "[False, False, True, True, False]\n"
     ]
    }
   ],
   "source": [
    "def stars_to_sentiment(stars):\n",
    "    res = []\n",
    "    for s in stars:\n",
    "        if s<3:\n",
    "            res.append('neg')\n",
    "        elif s<5:\n",
    "            res.append('ind') # indifferent\n",
    "        else:\n",
    "            res.append('pos')\n",
    "    return res\n",
    "\n",
    "def find_classes(label: str, sentiments: List[str])->List[bool]:\n",
    "    return [s==label for s in sentiments]\n",
    "\n",
    "print(stars_to_sentiment([1,2,3,4,5]))\n",
    "print(find_classes('ind', stars_to_sentiment([1,2,3,4,5])))"
   ]
  },
  {
   "cell_type": "code",
   "execution_count": 8,
   "metadata": {
    "pycharm": {}
   },
   "outputs": [],
   "source": [
    "X_learn = df_learn['review'].values\n",
    "X_test = df_test['review'].values\n",
    "y_learn = stars_to_sentiment(df_learn['stars'].values)\n",
    "y_test = stars_to_sentiment(df_test['stars'].values)"
   ]
  },
  {
   "cell_type": "code",
   "execution_count": 16,
   "metadata": {
    "pycharm": {}
   },
   "outputs": [],
   "source": [
    "from sklearn.feature_extraction.text import TfidfVectorizer, CountVectorizer\n",
    "from sklearn.naive_bayes import BernoulliNB, MultinomialNB\n",
    "from sklearn.linear_model import SGDClassifier"
   ]
  },
  {
   "cell_type": "code",
   "execution_count": 17,
   "metadata": {
    "pycharm": {}
   },
   "outputs": [
    {
     "name": "stdout",
     "output_type": "stream",
     "text": [
      "такий\n",
      "['твоя', 'ледве', 'те', 'менше', 'можна', 'міг', 'сама', 'кілька', 'яких', 'одинадцять']\n"
     ]
    }
   ],
   "source": [
    "# pip install git+https://github.com/kmike/pymorphy2.git pymorphy2-dicts-uk\n",
    "import pymorphy2\n",
    "from tone.sw import UK_STOP_WORDS\n",
    "morph = pymorphy2.MorphAnalyzer(lang='uk')\n",
    "norm = morph.parse('таку')[0].normal_form\n",
    "print(norm)\n",
    "\n",
    "print(list(UK_STOP_WORDS)[:10])\n",
    "\n"
   ]
  },
  {
   "cell_type": "code",
   "execution_count": 18,
   "metadata": {
    "pycharm": {}
   },
   "outputs": [],
   "source": [
    "from nltk import word_tokenize\n",
    "\n",
    "def tokenize_lemmatize_filter(text: str, trace: False)->List[str]:\n",
    "    if trace:\n",
    "        print(text)\n",
    "    tokens = word_tokenize(text)\n",
    "    if trace:\n",
    "        print(tokens)\n",
    "    #tokens = [t for t in tokens if t.lower() not in UK_STOP_WORDS]\n",
    "    #tokens = [t for t in tokens if t.isalpha()]\n",
    "    if trace:\n",
    "        print(tokens)\n",
    "    result = [morph.parse(t)[0].normal_form for t in tokens]\n",
    "    if trace:\n",
    "        print(result)\n",
    "    return result"
   ]
  },
  {
   "cell_type": "code",
   "execution_count": 19,
   "metadata": {
    "pycharm": {}
   },
   "outputs": [
    {
     "name": "stdout",
     "output_type": "stream",
     "text": [
      "Шановні! Де обіцяна знижка 5% при оплаті картою МастерКард? Раніше була а тепер зникла. Перевірте будь ласка - коли додаєш товар у кошик і обираєш \"Акція! Знижка 5% при оплаті карткою Mastercard через Masterpass!\" то ціна не змінюється.\n",
      "['Шановні', '!', 'Де', 'обіцяна', 'знижка', '5', '%', 'при', 'оплаті', 'картою', 'МастерКард', '?', 'Раніше', 'була', 'а', 'тепер', 'зникла', '.', 'Перевірте', 'будь', 'ласка', '-', 'коли', 'додаєш', 'товар', 'у', 'кошик', 'і', 'обираєш', '``', 'Акція', '!', 'Знижка', '5', '%', 'при', 'оплаті', 'карткою', 'Mastercard', 'через', 'Masterpass', '!', \"''\", 'то', 'ціна', 'не', 'змінюється', '.']\n",
      "['Шановні', '!', 'Де', 'обіцяна', 'знижка', '5', '%', 'при', 'оплаті', 'картою', 'МастерКард', '?', 'Раніше', 'була', 'а', 'тепер', 'зникла', '.', 'Перевірте', 'будь', 'ласка', '-', 'коли', 'додаєш', 'товар', 'у', 'кошик', 'і', 'обираєш', '``', 'Акція', '!', 'Знижка', '5', '%', 'при', 'оплаті', 'карткою', 'Mastercard', 'через', 'Masterpass', '!', \"''\", 'то', 'ціна', 'не', 'змінюється', '.']\n",
      "['шановний', '!', 'де', 'обіцяний', 'знижка', '5', '%', 'перти', 'оплата', 'карта', 'мастеркард', '?', 'раніший', 'булий', 'а', 'тепер', 'зниклий', '.', 'перевірити', 'бути', 'ласка', '-', 'коли', 'додавати', 'товар', 'у', 'кошик', 'і', 'обирати', '``', 'акція', '!', 'знижка', '5', '%', 'перти', 'оплата', 'картка', 'mastercard', 'через', 'masterpass', '!', \"''\", 'то', 'ціна', 'не', 'змінюватися', '.']\n"
     ]
    },
    {
     "data": {
      "text/plain": [
       "['шановний',\n",
       " '!',\n",
       " 'де',\n",
       " 'обіцяний',\n",
       " 'знижка',\n",
       " '5',\n",
       " '%',\n",
       " 'перти',\n",
       " 'оплата',\n",
       " 'карта',\n",
       " 'мастеркард',\n",
       " '?',\n",
       " 'раніший',\n",
       " 'булий',\n",
       " 'а',\n",
       " 'тепер',\n",
       " 'зниклий',\n",
       " '.',\n",
       " 'перевірити',\n",
       " 'бути',\n",
       " 'ласка',\n",
       " '-',\n",
       " 'коли',\n",
       " 'додавати',\n",
       " 'товар',\n",
       " 'у',\n",
       " 'кошик',\n",
       " 'і',\n",
       " 'обирати',\n",
       " '``',\n",
       " 'акція',\n",
       " '!',\n",
       " 'знижка',\n",
       " '5',\n",
       " '%',\n",
       " 'перти',\n",
       " 'оплата',\n",
       " 'картка',\n",
       " 'mastercard',\n",
       " 'через',\n",
       " 'masterpass',\n",
       " '!',\n",
       " \"''\",\n",
       " 'то',\n",
       " 'ціна',\n",
       " 'не',\n",
       " 'змінюватися',\n",
       " '.']"
      ]
     },
     "execution_count": 19,
     "metadata": {},
     "output_type": "execute_result"
    }
   ],
   "source": [
    "tokenize_lemmatize_filter(X_learn[0], trace=True)"
   ]
  },
  {
   "cell_type": "code",
   "execution_count": 23,
   "metadata": {
    "pycharm": {}
   },
   "outputs": [],
   "source": [
    "def show_most_freq_terms(features, vocab):\n",
    "    # https://medium.com/@cristhianboujon/how-to-list-the-most-common-words-from-text-corpus-using-scikit-learn-dad4d0cab41d\n",
    "    sum_words = features.sum(axis=0)\n",
    "    words_freq = [(word, sum_words[0, idx]) for word, idx in vocab.items()]\n",
    "    words_freq = sorted(words_freq, key = lambda x: x[1], reverse=True)\n",
    "    print(words_freq[:100])\n",
    "\n",
    "def classifier_nb_tfidf(X_learn, y_learn, X_test, y_test, \n",
    "                        trace = False):\n",
    "    def tokenizer(text):\n",
    "        return tokenize_lemmatize_filter(text, trace=False)\n",
    "    featurizer = CountVectorizer(\n",
    "        tokenizer=tokenizer,\n",
    "        min_df = 10, max_df = 0.1\n",
    "                    ) \n",
    "    features_learn = featurizer.fit_transform(X_learn)\n",
    "    if trace:\n",
    "        show_most_freq_terms(features_learn, featurizer.vocabulary_)\n",
    "    features_test = featurizer.transform(X_test)\n",
    "    if trace:\n",
    "        print(f\"Dictionary size = {len(featurizer.vocabulary_)}\")\n",
    "        #print(sorted([(v, k) for k, v in featurizer.vocabulary_.items()], reverse=True)[:100])\n",
    "    clf = BernoulliNB() # SGDClassifier()\n",
    "    clf.fit(features_learn, y_learn)\n",
    "    y_predicted = clf.predict(features_test)\n",
    "    return y_predicted"
   ]
  },
  {
   "cell_type": "code",
   "execution_count": 24,
   "metadata": {
    "pycharm": {}
   },
   "outputs": [],
   "source": [
    "from sklearn import metrics\n",
    "from scipy import stats\n",
    "\n",
    "def show_metrics_one_label(label: str, y_pred: List[bool], y_test: List[bool]):\n",
    "    print(f'Metrics for {label}:')\n",
    "    # print(y_pred[:20])\n",
    "    # print(y_test[:20])\n",
    "    print(f\"  Accuracy:  {metrics.accuracy_score(y_test, y_pred)}\")\n",
    "    print(f\"  Precision: {metrics.precision_score(y_test, y_pred)}\")\n",
    "    print(f\"  Recall:    {metrics.recall_score(y_test, y_pred)}\")\n",
    "    f1 = metrics.f1_score(y_test, y_pred)\n",
    "    print(f\"  F1:        {f1}\")\n",
    "    return f1\n",
    "\n",
    "def harmonic_mean_f1(y_pred: List[str], y_test: List[str])->float:\n",
    "    f1 = metrics.f1_score(y_test, y_pred)\n",
    "    hmean_f1 = stats.hmean(f1)\n",
    "    \n",
    "def show_metrics(y_pred: List[str], y_test: List[str]):\n",
    "    f1s = []\n",
    "    for label in ['neg', 'ind', 'pos']:\n",
    "        f1s.append(show_metrics_one_label(label, find_classes(label, y_pred), find_classes(label, y_test)))\n",
    "    print(f\"Mean F1 = {np.mean(f1s)}\")\n",
    "\n"
   ]
  },
  {
   "cell_type": "code",
   "execution_count": 25,
   "metadata": {
    "pycharm": {}
   },
   "outputs": [
    {
     "name": "stdout",
     "output_type": "stream",
     "text": [
      "[('смартфон', 492), (':', 476), (\"''\", 471), ('то', 463), ('...', 449), ('ще', 421), ('без', 414), ('від', 412), ('просто', 404), ('йога', 399), ('``', 393), ('можна', 391), ('проблема', 383), ('той', 381), ('якщо', 380), ('після', 372), ('один', 371), ('том', 367), ('через', 360), ('час', 357), ('2', 357), ('розетка', 355), ('чудовий', 339), ('швидко', 335), ('супер', 327), ('звук', 325), ('тримати', 321), ('коли', 315), ('даний', 315), ('користування', 314), ('скло', 313), ('якість', 312), ('мати', 311), ('немає', 309), ('модель', 306), ('добре', 301), ('навіть', 297), ('тільки', 296), ('інший', 294), ('два', 291), ('доставка', 290), ('мій', 288), ('рекомендувати', 287), ('фото', 283), ('раз', 283), ('прийти', 276), ('рука', 270), ('робот', 264), ('швидкий', 261), ('тиждень', 260), ('гріш', 256), ('про', 255), ('перший', 255), ('тут', 249), ('також', 244), ('гарний', 241), ('чохол', 235), ('дніти', 235), ('купувати', 234), ('дно', 232), ('дякувати', 230), ('%', 228), ('більше', 228), ('сказати', 224), ('отримати', 224), ('гра', 223), ('подарунок', 218), ('інтернет', 218), ('відео', 216), ('вистачати', 216), ('бо', 215), ('ви', 211), ('багато', 209), ('колір', 208), ('динамік', 208), ('5', 206), ('хто', 206), ('програма', 206), ('3', 205), ('могти', 197), ('апарат', 194), ('зарядка', 194), ('поки', 192), ('новий', 192), (\"пам'ять\", 191), ('замовити', 187), ('захисний', 185), ('досить', 183), ('версія', 183), ('кращий', 180), ('хотіти', 180), ('вона', 179), ('може', 178), ('великий', 177), ('ж', 177), ('недолік', 177), ('робити', 177), ('майже', 176), ('сподобатися', 175), ('хоча', 174)]\n",
      "Dictionary size = 1552\n",
      "Metrics for neg:\n",
      "  Accuracy:  0.8974831184775937\n",
      "  Precision: 0.43478260869565216\n",
      "  Recall:    0.32894736842105265\n",
      "  F1:        0.37453183520599254\n",
      "Metrics for ind:\n",
      "  Accuracy:  0.7157765500306936\n",
      "  Precision: 0.4172661870503597\n",
      "  Recall:    0.27817745803357313\n",
      "  F1:        0.3338129496402878\n",
      "Metrics for pos:\n",
      "  Accuracy:  0.6881522406384285\n",
      "  Precision: 0.7233009708737864\n",
      "  Recall:    0.8433962264150944\n",
      "  F1:        0.7787456445993032\n",
      "Mean F1 = 0.49569680981519443\n"
     ]
    }
   ],
   "source": [
    "predictions = classifier_nb_tfidf(X_learn, y_learn, X_test, y_test, trace=True)\n",
    "show_metrics(list(predictions), list(y_test))\n"
   ]
  },
  {
   "cell_type": "markdown",
   "metadata": {
    "pycharm": {}
   },
   "source": [
    "Я трохи погрався із параметрами, серед яких:\n",
    "\n",
    "* Чи відфільтровувати стоп-слова\n",
    "* Чи відфільтровувати токени з \"небуквами\"\n",
    "* Параметри min_df та max_df в CountVectorizer\n",
    "\n",
    "Найкраще значення гармонічного середнього F1 одержано при таких параметрах:\n",
    "\n",
    "Не відфільтровуємо стоп-слова та пропускаємо всі типи токенів\n",
    "\n",
    "min_df = 10, max_df = 0.15\n",
    "\n",
    "Mean F1 = 0.49569680981519443"
   ]
  }
 ],
 "metadata": {
  "kernelspec": {
   "display_name": "nlp",
   "language": "python",
   "name": "nlp"
  },
  "language_info": {
   "codemirror_mode": {
    "name": "ipython",
    "version": 3
   },
   "file_extension": ".py",
   "mimetype": "text/x-python",
   "name": "python",
   "nbconvert_exporter": "python",
   "pygments_lexer": "ipython3",
   "version": "3.6.8"
  }
 },
 "nbformat": 4,
 "nbformat_minor": 1
}
