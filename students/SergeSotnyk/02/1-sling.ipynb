{
 "cells": [
  {
   "cell_type": "markdown",
   "metadata": {},
   "source": [
    "# Structural linguistics\n",
    "\n",
    "Check the current venv and installed packages:"
   ]
  },
  {
   "cell_type": "code",
   "execution_count": 1,
   "metadata": {},
   "outputs": [
    {
     "name": "stdout",
     "output_type": "stream",
     "text": [
      "['C:\\\\Users\\\\ssotn\\\\Anaconda3\\\\envs\\\\nlp\\\\python36.zip', 'C:\\\\Users\\\\ssotn\\\\Anaconda3\\\\envs\\\\nlp\\\\DLLs', 'C:\\\\Users\\\\ssotn\\\\Anaconda3\\\\envs\\\\nlp\\\\lib', 'C:\\\\Users\\\\ssotn\\\\Anaconda3\\\\envs\\\\nlp', '', 'C:\\\\Users\\\\ssotn\\\\AppData\\\\Roaming\\\\Python\\\\Python36\\\\site-packages', 'C:\\\\Users\\\\ssotn\\\\Anaconda3\\\\envs\\\\nlp\\\\lib\\\\site-packages', 'C:\\\\Users\\\\ssotn\\\\Anaconda3\\\\envs\\\\nlp\\\\lib\\\\site-packages\\\\IPython\\\\extensions', 'C:\\\\Users\\\\ssotn\\\\.ipython']\n"
     ]
    }
   ],
   "source": [
    "import sys\n",
    "print(sys.path)"
   ]
  },
  {
   "cell_type": "code",
   "execution_count": 2,
   "metadata": {},
   "outputs": [],
   "source": [
    "import nltk\n",
    "import spacy\n",
    "#!python -m spacy download en_core_web_sm\n",
    "\n",
    "nlp_en = spacy.load('en_core_web_lg')"
   ]
  },
  {
   "cell_type": "markdown",
   "metadata": {},
   "source": [
    "#### 1. Побудуйте ланцюжок походження слів за зразком:\n",
    "\n",
    "```\n",
    "оженитися: (о + (женити + ся))\n",
    "```\n",
    "\n",
    "1. атиповий - а + (тип + овий)\n",
    "2. мореплавання - море + (плав + ання)\n",
    "3. оподаткувати - о + ((подат + кува) + ти)\n",
    "4. перевтілитися - ((пере + (в + тіл)) + ити) + ся\n",
    "5. схилившись - (((с + хил) + ив) + ши) + сь\n",
    "6. підсніжник - (під + сніж) + ник"
   ]
  },
  {
   "cell_type": "markdown",
   "metadata": {},
   "source": [
    "#### 2. Перевірте роботу [SnowballStem](http://snowballstem.org/) для спільнокореневих слів. Напишіть ваші спостереження.\n",
    "\n",
    "1. truth, truthful, truthfulness, countertruth, untruthful, truthology\n",
    "2. flaw, flaws, flawed, flawless, flawlessness, flawlessly, \n",
    "3. лес, лесной, лесник, лесничий, лесничество, пролесье\n",
    "4. окно, окошко, подоконник, оконный, окнище"
   ]
  },
  {
   "cell_type": "code",
   "execution_count": 3,
   "metadata": {},
   "outputs": [
    {
     "name": "stdout",
     "output_type": "stream",
     "text": [
      "arabic danish dutch english finnish french german hungarian italian norwegian porter portuguese romanian russian spanish swedish\n"
     ]
    }
   ],
   "source": [
    "from nltk.stem.snowball import SnowballStemmer\n",
    "print(\" \".join(SnowballStemmer.languages))"
   ]
  },
  {
   "cell_type": "code",
   "execution_count": 4,
   "metadata": {},
   "outputs": [],
   "source": [
    "stemmer_en = SnowballStemmer('english')\n",
    "stemmer_ru = SnowballStemmer('russian')"
   ]
  },
  {
   "cell_type": "code",
   "execution_count": 5,
   "metadata": {},
   "outputs": [
    {
     "name": "stdout",
     "output_type": "stream",
     "text": [
      "Group truth:<EnglishStemmer>\n",
      "  truth -> truth\n",
      "  truthful -> truth\n",
      "  truthfulness -> truth\n",
      "  countertruth -> countertruth\n",
      "  untruthful -> untruth\n",
      "  truthology -> trutholog\n",
      "Group flaw:<EnglishStemmer>\n",
      "  flaw -> flaw\n",
      "  flaws -> flaw\n",
      "  flawed -> flaw\n",
      "  flawless -> flawless\n",
      "  flawlessness -> flawless\n",
      "  flawlessly -> flawless\n",
      "Group лес:<RussianStemmer>\n",
      "  лес -> лес\n",
      "  лесной -> лесн\n",
      "  лесник -> лесник\n",
      "  лесничий -> леснич\n",
      "  лесничество -> лесничеств\n",
      "  пролесье -> пролес\n",
      "Group окно:<RussianStemmer>\n",
      "  окно -> окн\n",
      "  окошко -> окошк\n",
      "  подоконник -> подоконник\n",
      "  оконный -> окон\n",
      "  окнище -> окнищ\n"
     ]
    }
   ],
   "source": [
    "words = [\n",
    "    (stemmer_en, ['truth', 'truthful', 'truthfulness', 'countertruth', 'untruthful', 'truthology']),\n",
    "    (stemmer_en, ['flaw', 'flaws', 'flawed', 'flawless', 'flawlessness', 'flawlessly']),\n",
    "    (stemmer_ru, ['лес', 'лесной', 'лесник', 'лесничий', 'лесничество', 'пролесье']),\n",
    "    (stemmer_ru, ['окно', 'окошко', 'подоконник', 'оконный', 'окнище']),\n",
    "]\n",
    "\n",
    "for stemmer, group in words:\n",
    "    print(f\"Group {group[0]}:{str(stemmer.stemmer)}\")\n",
    "    for w in group:\n",
    "        print(f\"  {w} -> {stemmer.stem(w)}\")"
   ]
  },
  {
   "cell_type": "markdown",
   "metadata": {},
   "source": [
    "Як і очікувалося, стем, який вертає стемер, часто не є валідним словом людської мови (особливо для російської). Також, погано опрацьовується заміна букв в середені слів.\n",
    "При цьому всьому, стемери досить просто робити для нових мов (або портувати на інші мови програмування), вони потребують малих ресурсів пам'яті. Також, до них можна додавати свої правила, щоб обробити найбільш поширені винятки. То ж їх можна досить успішно використовувати, коли нема повноцінного морфологічного движка."
   ]
  },
  {
   "cell_type": "markdown",
   "metadata": {},
   "source": [
    "#### 3. Визначте частину мови виділеного слова і зв'язок до його батька (за зразком):\n",
    "\n",
    "```\n",
    "{I} like turtles.: pronoun, nsubj(like, I)  \n",
    "I {like} turtles.: verb, root(ROOT, like)  \n",
    "I like {turtles}.: noun, dobj(like, turtles)\n",
    "```\n",
    "\n",
    "1. We can {but} hope that everything will be fine.\n",
    "2. It's sad {but} true.\n",
    "3. Jack brings nothing {but} trouble.\n",
    "4. {As} we were talking, I realised how to solve the issue.\n",
    "5. This hot dog isn't {as} big as usual.\n",
    "6. This hot dog isn't as big {as} usual.\n",
    "7. This hot dog isn't as big {as} I expected.\n",
    "8. I work {as} a teacher.\n",
    "9. Let's do it this {way}!\n",
    "10. This is {way} too much!\n",
    "11. The prices are going {down}.\n",
    "12. Someone pushed him and he fell {down} the stairs.\n",
    "13. I’ve been feeling rather {down} lately.\n",
    "14. It's not easy to {down} a cup of coffee in one gulp.\n",
    "15. Bring a {down} jacket and a pair of gloves, and you'll be fine."
   ]
  },
  {
   "cell_type": "code",
   "execution_count": 6,
   "metadata": {},
   "outputs": [
    {
     "name": "stdout",
     "output_type": "stream",
     "text": [
      "[('We can but hope that everything will be fine.', 7, 'We can {but} hope that everything will be fine.'), (\"It's sad but true.\", 9, \"It's sad {but} true.\")]\n"
     ]
    }
   ],
   "source": [
    "sents = [\n",
    "    \"We can {but} hope that everything will be fine.\",\n",
    "    \"It's sad {but} true.\",\n",
    "    \"Jack brings nothing {but} trouble.\",\n",
    "    \"{As} we were talking, I realised how to solve the issue.\",\n",
    "    \"This hot dog isn't {as} big as usual.\",\n",
    "    \"This hot dog isn't as big {as} usual.\",\n",
    "    \"This hot dog isn't as big {as} I expected.\",\n",
    "    \"I work {as} a teacher.\",\n",
    "    \"Let's do it this {way}!\",\n",
    "    \"This is {way} too much!\",\n",
    "    \"The prices are going {down}.\",\n",
    "    \"Someone pushed him and he fell {down} the stairs.\",\n",
    "    \"I’ve been feeling rather {down} lately.\",\n",
    "    \"It's not easy to {down} a cup of coffee in one gulp.\",\n",
    "    \"Bring a {down} jacket and a pair of gloves, and you'll be fine.\",\n",
    "]\n",
    "\n",
    "examples = [(s.replace('}', '').replace('{', ''), s.find('{'), s)  \n",
    "            for s in sents]\n",
    "\n",
    "print(examples[:2])"
   ]
  },
  {
   "cell_type": "code",
   "execution_count": 7,
   "metadata": {},
   "outputs": [
    {
     "name": "stdout",
     "output_type": "stream",
     "text": [
      "1. We can {but} hope that everything will be fine.: CCONJ, cc(can, but)\n",
      "2. It's sad {but} true.: CCONJ, cc(sad, but)\n",
      "3. Jack brings nothing {but} trouble.: ADP, prep(nothing, but)\n",
      "4. {As} we were talking, I realised how to solve the issue.: ADP, mark(talking, As)\n",
      "5. This hot dog isn't {as} big as usual.: ADV, advmod(big, as)\n",
      "6. This hot dog isn't as big {as} usual.: ADP, prep(big, as)\n",
      "7. This hot dog isn't as big {as} I expected.: ADP, mark(expected, as)\n",
      "8. I work {as} a teacher.: ADP, prep(work, as)\n",
      "9. Let's do it this {way}!: NOUN, npadvmod(do, way)\n",
      "10. This is {way} too much!: ADV, advmod(much, way)\n",
      "11. The prices are going {down}.: PART, prt(going, down)\n",
      "12. Someone pushed him and he fell {down} the stairs.: ADP, prep(fell, down)\n",
      "13. I’ve been feeling rather {down} lately.: ADV, advmod(feeling, down)\n",
      "14. It's not easy to {down} a cup of coffee in one gulp.: VERB, xcomp('s, down)\n",
      "15. Bring a {down} jacket and a pair of gloves, and you'll be fine.: ADJ, amod(jacket, down)\n"
     ]
    }
   ],
   "source": [
    "for i, (sent, w_pos, original) in enumerate(examples):\n",
    "    doc = nlp_en(sent)\n",
    "    for word in doc:\n",
    "        if word.idx != w_pos: \n",
    "            continue\n",
    "        \n",
    "        print(f\"{i+1}. {original}: {word.pos_}, {word.dep_}({word.head.text}, {word})\")\n",
    "        break"
   ]
  },
  {
   "cell_type": "markdown",
   "metadata": {},
   "source": [
    "#### 4. Визначте частину мови виділеного слова і зв'язок до його батька (за зразком):\n",
    "\n",
    "```\n",
    "{Я} люблю черепашок.: займенник, nsubj(люблю, Я)  \n",
    "Я {люблю} черепашок.: дієслово, root(ROOT, люблю)  \n",
    "Я люблю {черепашок}.: іменник, dobj(люблю, черепашок)  \n",
    "```\n",
    "\n",
    "1. Рада міністрів Європейського союзу затвердила угоду про спрощений порядок видачі {віз} для України.: іменник, DOBJ(видачі, віз)\n",
    "2. Батько Себастьяна {віз} на санях їх театральний гурт до Львова.: дієслово, ROOT(root, віз)\n",
    "3. А ще дивний елемент інтер’єру – {віз} із продукцією одного з херсонських виробників.: іменник, APPOS(елемент, віз)\n",
    "4. У цю мить {повз} Євгена пролетів останній вагон товарняка.: прийменник, PREP(пролетів, повз)\n",
    "5. Кліпнув очима і побачив малого песика, який саме пробігав {повз} у бік села.: прислівник, ADVMOD(пробігав, повз)\n",
    "6. Степанко перестав кричати, тільки ламкий стогін {повз} йому із грудей.: дієслово, CCOMP(кричати, повз)\n",
    "7. Часу не {гай} – декларацію подай!: дієслово, ROOT(root, гай)\n",
    "8. І коляд заспівали, і {гай} врятували.: іменник, DOBJ(врятували, гай)\n",
    "9. {Гай}, чи ви забулися, братове?: вигук, INTJ(забулися, Гай)\n",
    "10. Ось присіла на {край} ліжка.: іменник, POSS(ліжка, край)\n",
    "11. Поставив ту кузню не {край} дороги, як було заведено, а на Красній горі, біля Прадуба.: прийменник, PREP(поставив, край)\n",
    "12. Розповідаючи про передній {край} лінґвістики, фон Лібіх, як завжди, мислив широко і глобально.: іменник, POBJ(про, край)\n",
    "13. Не {край} мені серце.: дієслово, root(ROOT, край)\n",
    "14. І {щойно} тоді додаємо до борщу смажену цибулю.: частка, ADVMOD(тоді, щойно)\n",
    "15. Бо {щойно} я задрімав, віддавши тіло подушці з периною, як мене розбудив поштовх у бік.: прислівник, ADVMOD(задрімав, щойно)"
   ]
  },
  {
   "cell_type": "markdown",
   "metadata": {},
   "source": [
    "#### 5. Виберіть одне речення зі списку та побудуйте для нього дерево залежностей та дерево складників:\n",
    "\n",
    "(Можна намалювати дерева в графічному редакторі або на папері і докріпити картинку до домашнього завдання. Назви складників, частин мови та залежностей можна не писати. Головне - це структура.)\n",
    "\n",
    "1. Пригадую, уже згодом, коли я відбував свій термін у таборі № 36 у Кучино Пермської області, я отримав від Михасі листівку з жартівливим описом того, як Київ готується до святкування свого 1500-ліття.\n",
    "2. 6C приземляється на плече, перекочуючись, пролітає метрів п’ятдесят і витягується на снігу за кілька кроків від забризканої палаючими уламками посадкової смуги.\n",
    "3. Дівчина стояла там, де й була, і намагалася привести до ладу скуйовджене волосся, вкрай розлючена тим, що це побачили водії, які чекали на переїзді."
   ]
  },
  {
   "cell_type": "code",
   "execution_count": 8,
   "metadata": {},
   "outputs": [
    {
     "data": {
      "text/plain": [
       "24103"
      ]
     },
     "execution_count": 8,
     "metadata": {},
     "output_type": "execute_result"
    }
   ],
   "source": [
    "from spacy import displacy\n",
    "\n",
    "tokens = [\n",
    "        ('Пригадую', ''), # root\n",
    "        ('уже', 'згодом,'),\n",
    "        ('згодом,', 'отримав'),\n",
    "        ('коли', 'відбував'),\n",
    "        ('я', 'відбував'),\n",
    "        ('відбував', 'отримав'),\n",
    "        ('свій', 'термін'),\n",
    "        ('термін', 'відбував'),\n",
    "        ('у', 'таборі'),\n",
    "        ('таборі', 'відбував'),\n",
    "        ('№', '36'),\n",
    "        ('36', 'відбував'),\n",
    "        ('_у', 'області,'),\n",
    "        ('Кучино', 'Пермської'),\n",
    "        ('Пермської', 'області,'),\n",
    "        ('області,', 'відбував'),\n",
    "        ('_я', 'отримав'),\n",
    "        ('отримав', 'Пригадую'),\n",
    "        ('від', 'Михасі'),\n",
    "        ('Михасі', 'отримав'),\n",
    "        ('листівку', 'отримав'),\n",
    "        ('з', 'описом'),\n",
    "        ('жартівливим', 'описом'),\n",
    "        ('описом', 'листівку'),\n",
    "        ('того,', 'описом'),\n",
    "        ('як', 'готується'),\n",
    "        ('Київ', 'готується'),\n",
    "        ('готується', 'того,'),\n",
    "        ('до', 'святкування'),\n",
    "        ('святкування', 'готується'),\n",
    "        ('свого', '1500-ліття.'),\n",
    "        ('1500-ліття.', 'святкування'),\n",
    "]\n",
    "\n",
    "idx = dict({t[0]:i for i, t in enumerate(tokens)})\n",
    "# print(idx['до'])\n",
    "\n",
    "ex = [{\n",
    "    'words':[\n",
    "    ],\n",
    "    'arcs': [        \n",
    "    ]\n",
    "}]\n",
    "\n",
    "arcs = ex[0]['arcs']\n",
    "words = ex[0]['words']\n",
    "for i, t in enumerate(tokens):\n",
    "    words.append({\n",
    "        'text':t[0].replace('_',''),\n",
    "        'tag':'ROOT' if t[1]=='' else ''\n",
    "    })\n",
    "    to = t[1]\n",
    "    if to!='':\n",
    "        to_idx = idx[to]\n",
    "        arcs.append({'start':i, 'end':to_idx, 'label':'', 'dir':'left'})        \n",
    "\n",
    "svg = displacy.render(ex, style='dep', manual=True, options={'compact':False})\n",
    "open('sentence.svg', 'w', encoding='utf-8').write(svg)"
   ]
  },
  {
   "cell_type": "markdown",
   "metadata": {},
   "source": [
    "Dependency tree stored in file **[sentence.svg](sentence.svg)**\n",
    "![sentence.svg](sentence.svg)"
   ]
  },
  {
   "cell_type": "markdown",
   "metadata": {},
   "source": [
    "#### 6. Виберіть одне cлово зі списку та побудуйте лексико-семантичні зв'язки до трьох різних значень цього слова. Фактично, потрібно побудувати WordNet-подібні вузли. Значення слів можна перевірити у [СУМі](http://sum.in.ua/) та [Словниках України](http://lcorp.ulif.org.ua/dictua/).\n",
    "\n",
    "Слова на вибір: вік, стіна, добро, серце, центр, куля, міст, ланцюг, бік, дух."
   ]
  },
  {
   "cell_type": "markdown",
   "metadata": {},
   "source": [
    "Міст\n",
    "```\n",
    "1. Споруда для переїзду або переходу через річку, залізницю, автомагістраль, яр і т.ін.\n",
    "гіпероніми: споруда\n",
    "сестри: перехід, шляхопровід, перелаз\n",
    "гіпоніми: автомобільний міст, мотузковий міст, залізничний міст\n",
    "мероніми: проліт, опора, покриття\n",
    "\n",
    "2. Положення тіла з вигнутою догори грудною кліткою і з упором на долоні й п'яти.\n",
    "гіпероніми: поза\n",
    "сестри: шпагат, стійка\n",
    "гіпоніми: борцівський міст, гімнастичний міст\n",
    "мероніми: \n",
    "\n",
    "3. Частина шасі автомашини, трактора.\n",
    "гіпероніми: автомобіль\n",
    "сестри: рама, двигун, кузов\n",
    "гіпоніми: розрізний міст, нерозрізний міст\n",
    "мероніми: вісь, колесо, діференціал\n",
    "```"
   ]
  },
  {
   "cell_type": "code",
   "execution_count": null,
   "metadata": {},
   "outputs": [],
   "source": []
  }
 ],
 "metadata": {
  "kernelspec": {
   "display_name": "Python 3",
   "language": "python",
   "name": "python3"
  },
  "language_info": {
   "codemirror_mode": {
    "name": "ipython",
    "version": 3
   },
   "file_extension": ".py",
   "mimetype": "text/x-python",
   "name": "python",
   "nbconvert_exporter": "python",
   "pygments_lexer": "ipython3",
   "version": "3.6.8"
  }
 },
 "nbformat": 4,
 "nbformat_minor": 2
}
